{
 "cells": [
  {
   "cell_type": "markdown",
   "metadata": {},
   "source": [
    "# Práctica: Redes Bayesianas Multinomiales"
   ]
  },
  {
   "cell_type": "markdown",
   "metadata": {},
   "source": [
    "### *Master in Data Science - Machine Learning II*\n",
    "\n",
    "### *Santander Meteorology Group*"
   ]
  },
  {
   "cell_type": "markdown",
   "metadata": {},
   "source": [
    "## 1 Introducción a la práctica"
   ]
  },
  {
   "cell_type": "markdown",
   "metadata": {},
   "source": [
    "La presente práctica esta concebida como una primera aproximación a los fundamentos de la Redes Bayesianas. Utilizaremos los datos de una encuesta sobre utilización de medios de transporte. La práctica se centra en la modelización de variables discretas mediante una *Red Bayesiana Multinomial*.\n",
    "\n",
    "Este tipo de red se construye con variables aleatorias discretas, es decir, que cada variable tiene un número finito de posibles estados. Asimismo, se considera que la probabilidad condicional de cada variable dados sus padres es multinomial, y por lo tanto, ésta viene dada por la tabla de probabilidades correspondientes a las diferentes combinaciones de estados entre las variables implicadas.\n",
    "\n",
    "La práctica ilustra los pasos a seguir en entorno R para:\n",
    "\n",
    "  1. Construir un grafo acíclico dirigido (DAG, de las siglas en inglés de directed acyclic graph)\n",
    "  2. Definición de la función de probabilidad conjunta (FPC)\n",
    "  3. Definición de los parámetros del modelo (*aprendizaje paramétrico*)\n",
    "  4. Obtener nueva información a partir de una evidencia dada (*inferencia*)\n",
    "  5. Aprendizaje automático del grafo de una red bayesiana a partir de los datos (*aprendizaje estructural*)\n",
    "  6. Representación gráfica del modelo\n"
   ]
  },
  {
   "cell_type": "markdown",
   "metadata": {},
   "source": [
    "### 1.1 Dataset de ejemplo: 'survey'"
   ]
  },
  {
   "cell_type": "markdown",
   "metadata": {},
   "source": [
    "A partir de los datos de campo recogidos por la encuesta, se investigará la selección de medios de transporte por distintos perfiles de usuarios, y particularmente a la preferencia de tren o coche. Este tipo de análisis se utilizan con frecuencia en la planificación de infraestructuras. Para cada individuo encuestado, se han recopilado datos referenctes a 6 variables discretas. Las abreviaturas de dichas variables se muestran entre paréntesis, y se utilizarán a lo largo de la práctica para referirse a los nodos de la red creada. Tanto las abreviaturas como los nombres de las variables preservan la nomenclatura original del dataset en inglés.\n",
    "\n",
    "  * Edad (`A`): Edad del encuestado, agrupado en los siguientes estados: joven (`young`, < 30 años), adulto (`adult`, 30 < edad <= 60) y anciano (`old`, edad > 60).\n",
    "  * Sexo (`S`): Sexo del encuestado, con sus dos posibles estado: masculino (`M`) y femenino (`F`).\n",
    "  * Educación (`E`): Nivel más alto de educación alcanzado. Hasta educación secundaria (`high`) o título universitario (`uni`).\n",
    "  * Ocupación (`O`): Considera dos estados: trabajador por cuenta ajena (`emp`) o autónomo (`self`).\n",
    "  * Residencia (`R`): El tamaño de la población de residencia del individuo. Estados posibles: `big` y `small`.\n",
    "  * Transporte (`T`): El medio de transporte más utilizado por el encuestado para acudir al trabajo, diferenciando 3 posibles estados: `car`, `train` y `other`."
   ]
  },
  {
   "cell_type": "markdown",
   "metadata": {},
   "source": [
    "### 1.2 Paquetes de R necesarios"
   ]
  },
  {
   "cell_type": "markdown",
   "metadata": {},
   "source": [
    "Se utilizará el paquete de R `bnlearn` (**b**ayesian **n**etwork **lear**ning), disponible a través del CRAN. Por tanto, su instalación es directa si no lo tenemos previamente instalado:\n",
    "\n",
    "```r\n",
    "if (!require(bnlearn)) install.packages(\"bnlearn\")\n",
    "```\n",
    "\n",
    "Además, se necesitan dependencias adicionales para la parte relacionada con la inferencia:\n",
    "\n",
    "```r\n",
    "# Paquete RBGL (disponible en bioconductor)\n",
    "if (!require(RBGL)) {\n",
    "      source(\"http://bioconductor.org/biocLite.R\")\n",
    "      biocLite(\"RBGL\")\n",
    "}\n",
    "# Paquete gRain\n",
    "if (!require(gRain)) install.packages(\"gRain\")\n",
    "```\n",
    "\n",
    "y para la parte de visualización de grafos:\n",
    "\n",
    "```r\n",
    "if (!require(Rgraphviz)) {\n",
    "    source(\"http://bioconductor.org/biocLite.R\")\n",
    "    biocLite(\"Rgraphviz\")\n",
    "}\n",
    "```"
   ]
  },
  {
   "cell_type": "code",
   "execution_count": 1,
   "metadata": {},
   "outputs": [
    {
     "name": "stderr",
     "output_type": "stream",
     "text": [
      "\n",
      "Attaching package: ‘bnlearn’\n",
      "\n",
      "The following object is masked from ‘package:stats’:\n",
      "\n",
      "    sigma\n",
      "\n",
      "Loading required package: graph\n",
      "Loading required package: BiocGenerics\n",
      "Loading required package: parallel\n",
      "\n",
      "Attaching package: ‘BiocGenerics’\n",
      "\n",
      "The following objects are masked from ‘package:parallel’:\n",
      "\n",
      "    clusterApply, clusterApplyLB, clusterCall, clusterEvalQ,\n",
      "    clusterExport, clusterMap, parApply, parCapply, parLapply,\n",
      "    parLapplyLB, parRapply, parSapply, parSapplyLB\n",
      "\n",
      "The following object is masked from ‘package:bnlearn’:\n",
      "\n",
      "    score\n",
      "\n",
      "The following objects are masked from ‘package:stats’:\n",
      "\n",
      "    IQR, mad, sd, var, xtabs\n",
      "\n",
      "The following objects are masked from ‘package:base’:\n",
      "\n",
      "    anyDuplicated, append, as.data.frame, cbind, colMeans, colnames,\n",
      "    colSums, do.call, duplicated, eval, evalq, Filter, Find, get, grep,\n",
      "    grepl, intersect, is.unsorted, lapply, lengths, Map, mapply, match,\n",
      "    mget, order, paste, pmax, pmax.int, pmin, pmin.int, Position, rank,\n",
      "    rbind, Reduce, rowMeans, rownames, rowSums, sapply, setdiff, sort,\n",
      "    table, tapply, union, unique, unsplit, which, which.max, which.min\n",
      "\n",
      "\n",
      "Attaching package: ‘graph’\n",
      "\n",
      "The following objects are masked from ‘package:bnlearn’:\n",
      "\n",
      "    degree, nodes, nodes<-\n",
      "\n",
      "Loading required package: gRbase\n",
      "\n",
      "Attaching package: ‘gRbase’\n",
      "\n",
      "The following objects are masked from ‘package:bnlearn’:\n",
      "\n",
      "    ancestors, children, parents\n",
      "\n",
      "Loading required package: grid\n"
     ]
    }
   ],
   "source": [
    "library('bnlearn')\n",
    "library(RBGL)\n",
    "library(gRain)\n",
    "library(Rgraphviz)"
   ]
  },
  {
   "cell_type": "markdown",
   "metadata": {},
   "source": [
    "## 2 Construcción de la red Bayesiana"
   ]
  },
  {
   "cell_type": "markdown",
   "metadata": {},
   "source": [
    "### 2.1 Dibujar la estructura de la red"
   ]
  },
  {
   "cell_type": "markdown",
   "metadata": {},
   "source": [
    "Para crear un grafo que contenga un nodo por cada variable considerada en la encuesta utilizamos la función `empty.graph`:"
   ]
  },
  {
   "cell_type": "code",
   "execution_count": 2,
   "metadata": {},
   "outputs": [],
   "source": [
    "dag <- empty.graph(nodes = c(\"A\", \"S\", \"E\", \"O\", \"R\", \"T\"))"
   ]
  },
  {
   "cell_type": "markdown",
   "metadata": {},
   "source": [
    "Nombramos a nuestro grafo vacío `dag`, que es un acrónimo de *directed acyclic graph*, o gráfico acíclico dirigido, en referencia a las principales propiedades de este tipo de grafos, y que ya sen visto durante las sesiones teórico-prácticas.\n",
    "\n",
    "Esta es la información contenida en el grafo, que es un objeto de la clase `bn`:"
   ]
  },
  {
   "cell_type": "code",
   "execution_count": 3,
   "metadata": {},
   "outputs": [
    {
     "data": {
      "text/html": [
       "'bn'"
      ],
      "text/latex": [
       "'bn'"
      ],
      "text/markdown": [
       "'bn'"
      ],
      "text/plain": [
       "[1] \"bn\""
      ]
     },
     "metadata": {},
     "output_type": "display_data"
    },
    {
     "name": "stdout",
     "output_type": "stream",
     "text": [
      "\n",
      "  Random/Generated Bayesian network\n",
      "\n",
      "  model:\n",
      "   [A][S][E][O][R][T] \n",
      "  nodes:                                 6 \n",
      "  arcs:                                  0 \n",
      "    undirected arcs:                     0 \n",
      "    directed arcs:                       0 \n",
      "  average markov blanket size:           0.00 \n",
      "  average neighbourhood size:            0.00 \n",
      "  average branching factor:              0.00 \n",
      "\n",
      "  generation algorithm:                  Empty \n",
      "\n"
     ]
    },
    {
     "data": {
      "image/png": "[encoded data removed]",
      "text/plain": [
       "plot without title"
      ]
     },
     "metadata": {},
     "output_type": "display_data"
    }
   ],
   "source": [
    "class(dag)\n",
    "print(dag)\n",
    "plot(dag)"
   ]
  },
  {
   "cell_type": "markdown",
   "metadata": {},
   "source": [
    "En [secciones posteriores](#draw.dag) veremos como hacer representaciones gráficas más detalladas, pero de momento basta con aplicar el método `plot` para ir viendo la estructura básica de la red. Una vez creados los nodos, comenzamos a añadir los arcos que definen las dependencias directas entre las diferentes variables. "
   ]
  },
  {
   "cell_type": "markdown",
   "metadata": {},
   "source": [
    "La edad y el sexo son indicadores demográficos y no reciben influencia de ninguna otra variable, ya que son características intrínsecas del individuo. Por lo tanto, ninguno de los arcos del grafo apuntan hacia ellas. Por otra parte, ambas variables (sexo y edad) si tienen una influencia directa sobre el nivel de educación, ya que el número de estudiantes universitarios ha aumentado en las últimas décadas, y por lo tanto personas más jóvenes tienen más probabilidad de tener un título universitario que otras más mayores."
   ]
  },
  {
   "cell_type": "code",
   "execution_count": 4,
   "metadata": {},
   "outputs": [],
   "source": [
    "dag <- set.arc(dag, from = \"A\", to = \"E\")"
   ]
  },
  {
   "cell_type": "markdown",
   "metadata": {},
   "source": [
    "Del mismo modo, el sexo tiene influencia sobre la educación, ya que las estadísticas demuestran que en la actualidad hay un mayor número de mujeres que de hombres completando estudios universitarios."
   ]
  },
  {
   "cell_type": "code",
   "execution_count": 5,
   "metadata": {},
   "outputs": [],
   "source": [
    "dag <- set.arc(dag, from = \"S\", to = \"E\")"
   ]
  },
  {
   "cell_type": "markdown",
   "metadata": {},
   "source": [
    "Tras añadir dos arcos, este es el aspecto que va tomando el grafo:"
   ]
  },
  {
   "cell_type": "code",
   "execution_count": 6,
   "metadata": {},
   "outputs": [
    {
     "data": {
      "image/png": "[encoded data removed]",
      "text/plain": [
       "plot without title"
      ]
     },
     "metadata": {},
     "output_type": "display_data"
    }
   ],
   "source": [
    "plot(dag)"
   ]
  },
  {
   "cell_type": "markdown",
   "metadata": {},
   "source": [
    "El nivel de educación tiene una fuerte influencia en la ocupación del individuo, así como en su lugar de residencia:"
   ]
  },
  {
   "cell_type": "code",
   "execution_count": 7,
   "metadata": {},
   "outputs": [],
   "source": [
    "dag <- set.arc(dag, from = \"E\", to = \"O\")\n",
    "dag <- set.arc(dag, from = \"E\", to = \"R\")"
   ]
  },
  {
   "cell_type": "markdown",
   "metadata": {},
   "source": [
    "Finalmente, los medios de transporte preferidos por el individuo están directamente influidos por su lugar de residencia y su ocupación. En cuanto al primer factor, la distancia al lugar de trabajo desde la residencia influye directamente en la opción de transporte. Por otra parte, algunos trabajos requieren viajes periódicos de larga distancia, mientras que otros requieren trayectos más frecuentes sobre cortas distancias."
   ]
  },
  {
   "cell_type": "code",
   "execution_count": 8,
   "metadata": {},
   "outputs": [],
   "source": [
    "dag <- set.arc(dag, from = \"R\", to = \"T\")\n",
    "dag <- set.arc(dag, from = \"O\", to = \"T\")"
   ]
  },
  {
   "cell_type": "markdown",
   "metadata": {},
   "source": [
    "Finalmente, asi queda definido el grafo:"
   ]
  },
  {
   "cell_type": "code",
   "execution_count": 9,
   "metadata": {},
   "outputs": [
    {
     "data": {
      "text/plain": [
       "\n",
       "  Random/Generated Bayesian network\n",
       "\n",
       "  model:\n",
       "   [A][S][E|A:S][O|E][R|E][T|O:R] \n",
       "  nodes:                                 6 \n",
       "  arcs:                                  6 \n",
       "    undirected arcs:                     0 \n",
       "    directed arcs:                       6 \n",
       "  average markov blanket size:           2.67 \n",
       "  average neighbourhood size:            2.00 \n",
       "  average branching factor:              1.00 \n",
       "\n",
       "  generation algorithm:                  Empty \n"
      ]
     },
     "metadata": {},
     "output_type": "display_data"
    }
   ],
   "source": [
    "dag"
   ]
  },
  {
   "cell_type": "code",
   "execution_count": 10,
   "metadata": {},
   "outputs": [
    {
     "data": {
      "image/png": "[encoded data removed]",
      "text/plain": [
       "plot without title"
      ]
     },
     "metadata": {},
     "output_type": "display_data"
    }
   ],
   "source": [
    "plot(dag)"
   ]
  },
  {
   "cell_type": "markdown",
   "metadata": {},
   "source": [
    "Esta es la definición simbólica del grafo:"
   ]
  },
  {
   "cell_type": "code",
   "execution_count": 11,
   "metadata": {},
   "outputs": [
    {
     "data": {
      "text/html": [
       "'[A][S][E|A:S][O|E][R|E][T|O:R]'"
      ],
      "text/latex": [
       "'{[}A{]}{[}S{]}{[}E\\textbar{}A:S{]}{[}O\\textbar{}E{]}{[}R\\textbar{}E{]}{[}T\\textbar{}O:R{]}'"
      ],
      "text/markdown": [
       "'[A][S][E|A:S][O|E][R|E][T|O:R]'"
      ],
      "text/plain": [
       "[1] \"[A][S][E|A:S][O|E][R|E][T|O:R]\""
      ]
     },
     "metadata": {},
     "output_type": "display_data"
    }
   ],
   "source": [
    "modelstring(dag)"
   ]
  },
  {
   "cell_type": "markdown",
   "metadata": {},
   "source": [
    "De este modo, las dependencias de cada variable quedan definidas por una barra vertical (`|`) y separadas por dos puntos `:`. Por ejemplo, `[E|A:S]` significa que `A --> E` (_edad influye sobre empleo_) y `S --> E` (_sexo influye sobre empleo_). Esta notación se asemeja a un producto de probabilidades condicionales, del tipo $P(E|A,S)$. Esto equivale a la expresión de la factorización de la distribución global hecha por nuestra red (Eq. 1):\n",
    "\n",
    "$$P(A,S,E,O,R,T) = P(A)P(S)P(E|A,S)P(O|E)P(R|E)P(T|O,R)$$\n",
    "\n",
    "Otras funciones útiles para explorar objetos de la clase `bn` son por ejemplo `nodes`y `arcs`:"
   ]
  },
  {
   "cell_type": "code",
   "execution_count": 12,
   "metadata": {},
   "outputs": [
    {
     "data": {
      "text/html": [
       "<ol class=list-inline>\n",
       "\t<li>'A'</li>\n",
       "\t<li>'S'</li>\n",
       "\t<li>'E'</li>\n",
       "\t<li>'O'</li>\n",
       "\t<li>'R'</li>\n",
       "\t<li>'T'</li>\n",
       "</ol>\n"
      ],
      "text/latex": [
       "\\begin{enumerate*}\n",
       "\\item 'A'\n",
       "\\item 'S'\n",
       "\\item 'E'\n",
       "\\item 'O'\n",
       "\\item 'R'\n",
       "\\item 'T'\n",
       "\\end{enumerate*}\n"
      ],
      "text/markdown": [
       "1. 'A'\n",
       "2. 'S'\n",
       "3. 'E'\n",
       "4. 'O'\n",
       "5. 'R'\n",
       "6. 'T'\n",
       "\n",
       "\n"
      ],
      "text/plain": [
       "[1] \"A\" \"S\" \"E\" \"O\" \"R\" \"T\""
      ]
     },
     "metadata": {},
     "output_type": "display_data"
    }
   ],
   "source": [
    "nodes(dag)"
   ]
  },
  {
   "cell_type": "code",
   "execution_count": 13,
   "metadata": {},
   "outputs": [
    {
     "data": {
      "text/html": [
       "<table>\n",
       "<thead><tr><th scope=col>from</th><th scope=col>to</th></tr></thead>\n",
       "<tbody>\n",
       "\t<tr><td>A</td><td>E</td></tr>\n",
       "\t<tr><td>S</td><td>E</td></tr>\n",
       "\t<tr><td>E</td><td>O</td></tr>\n",
       "\t<tr><td>E</td><td>R</td></tr>\n",
       "\t<tr><td>R</td><td>T</td></tr>\n",
       "\t<tr><td>O</td><td>T</td></tr>\n",
       "</tbody>\n",
       "</table>\n"
      ],
      "text/latex": [
       "\\begin{tabular}{ll}\n",
       " from & to\\\\\n",
       "\\hline\n",
       "\t A & E\\\\\n",
       "\t S & E\\\\\n",
       "\t E & O\\\\\n",
       "\t E & R\\\\\n",
       "\t R & T\\\\\n",
       "\t O & T\\\\\n",
       "\\end{tabular}\n"
      ],
      "text/markdown": [
       "\n",
       "from | to | \n",
       "|---|---|---|---|---|---|\n",
       "| A | E | \n",
       "| S | E | \n",
       "| E | O | \n",
       "| E | R | \n",
       "| R | T | \n",
       "| O | T | \n",
       "\n",
       "\n"
      ],
      "text/plain": [
       "     from to\n",
       "[1,] A    E \n",
       "[2,] S    E \n",
       "[3,] E    O \n",
       "[4,] E    R \n",
       "[5,] R    T \n",
       "[6,] O    T "
      ]
     },
     "metadata": {},
     "output_type": "display_data"
    }
   ],
   "source": [
    "arcs(dag)"
   ]
  },
  {
   "cell_type": "markdown",
   "metadata": {},
   "source": [
    "#### 2.1.1 Forma alternativa para dibujar el DAG de forma más directa"
   ]
  },
  {
   "cell_type": "markdown",
   "metadata": {},
   "source": [
    "La función `arcs` es especialmente interesante ya que nos permite añadir arcos de manera más rápida. En este caso, se podrían definir las relaciones mediante una matriz de dos columnas similar a la devuelta por `arcs`:"
   ]
  },
  {
   "cell_type": "code",
   "execution_count": 14,
   "metadata": {},
   "outputs": [],
   "source": [
    "dag2 <- empty.graph(nodes = c(\"A\", \"S\", \"E\", \"O\", \"R\", \"T\"))"
   ]
  },
  {
   "cell_type": "code",
   "execution_count": 15,
   "metadata": {},
   "outputs": [],
   "source": [
    "arc.set <- matrix(c(\"A\", \"E\",\n",
    "                    \"S\", \"E\",\n",
    "                    \"E\", \"R\",\n",
    "                    \"E\", \"O\",\n",
    "                    \"O\", \"T\",\n",
    "                    \"R\", \"T\"),\n",
    "                  byrow = TRUE, ncol = 2,\n",
    "                  dimnames = list(NULL, c(\"from\", \"to\")))"
   ]
  },
  {
   "cell_type": "code",
   "execution_count": 16,
   "metadata": {},
   "outputs": [],
   "source": [
    "arcs(dag2) <- arc.set"
   ]
  },
  {
   "cell_type": "markdown",
   "metadata": {},
   "source": [
    "El grafo resultante es idéntico al que se generó anteriormente:"
   ]
  },
  {
   "cell_type": "code",
   "execution_count": 17,
   "metadata": {},
   "outputs": [
    {
     "data": {
      "text/html": [
       "TRUE"
      ],
      "text/latex": [
       "TRUE"
      ],
      "text/markdown": [
       "TRUE"
      ],
      "text/plain": [
       "[1] TRUE"
      ]
     },
     "metadata": {},
     "output_type": "display_data"
    }
   ],
   "source": [
    "all.equal(dag, dag2)"
   ]
  },
  {
   "cell_type": "markdown",
   "metadata": {},
   "source": [
    "Ambas formas de definir el grafo garantizan que éste sea acíclico, ya que si se intenta introducir un ciclo en el mismo se producirá un error. Por ejemplo, si intentamos crear una relación directa entre `T` y `E`, lo que daría lugar a un ciclo, se produce un error:"
   ]
  },
  {
   "cell_type": "code",
   "execution_count": 18,
   "metadata": {},
   "outputs": [],
   "source": [
    "try(set.arc(dag, from = \"T\", to = \"E\"))"
   ]
  },
  {
   "cell_type": "markdown",
   "metadata": {},
   "source": [
    "```\n",
    "## Error in arc.operations(x = x, from = from, to = to, op = \"set\", check.cycles = check.cycles,  : \n",
    "##   the resulting graph contains cycles.\n",
    "```"
   ]
  },
  {
   "cell_type": "markdown",
   "metadata": {},
   "source": [
    "### 2.2 Representacion probabilística de la red Bayesiana"
   ]
  },
  {
   "cell_type": "markdown",
   "metadata": {},
   "source": [
    "#### 2.2.1 Definición de los estados de las variables"
   ]
  },
  {
   "cell_type": "markdown",
   "metadata": {},
   "source": [
    "Una vez representadas las interacciones entre variables mediante el grafo, es necesario especificar una distribución de probabilidad conjunta sobre todas las variables para obtener el modelo bayesiano de los datos de la encuesta. Todas ellas, como se dijo al principio, son variable discretas y definidas para una serie de estados ordenados (categorías, o `levels` en R), que se definen a continuación:"
   ]
  },
  {
   "cell_type": "code",
   "execution_count": 21,
   "metadata": {},
   "outputs": [],
   "source": [
    "estados.A <- c(\"young\", \"adult\", \"old\")\n",
    "estados.S <- c(\"M\", \"F\")\n",
    "estados.E <- c(\"high\", \"uni\")\n",
    "estados.O <- c(\"emp\",\"self\")\n",
    "estados.R <- c(\"small\",\"big\")\n",
    "estados.T <- c(\"car\",\"train\",\"other\")"
   ]
  },
  {
   "cell_type": "markdown",
   "metadata": {},
   "source": [
    "En este caso, la distribución de probabilidad conjunta viene dada por una [distribución multinomial](https://en.wikipedia.org/wiki/Multinomial_distribution) (ver `help(\"dmultinom\")` para [más detalles](https://stat.ethz.ch/R-manual/R-patched/library/stats/html/Multinom.html)), asignando una probabilidad a cada una de las combinaciones de los posibles estados de las variables de la encuesta. Es lo que denominamos la *distribución global*.\n",
    "\n",
    "El problema, como se ha visto anteriormente, surge del hecho de que usar la distribución global directamente es difícil (cuando no completamente inviable), debido al gran número de parámetros a la que puede dar lugar. En este caso particular, considerar la distribución global daría lugar a $3 * 2 * 2 * 2 * 2 * 3 - 1$ parámetros, es decir 143 probabilidades correspondientes a todas las posibles combinaciones de los niveles de todas las variables. En su lugar, hemos utilizado un  modelo mucho más parsimonioso a partir del grafo, descartando muchas relaciones entre variables que sabemos *a priori* que no tienen sentido (p. ej. la relación entre la edad `A` y el sexo `S` del encuestado). Las variables que no se encuentran unidas por ningún arco se dice que son *condicionalmente independientes*. Por lo tanto, la factorización representada por la ecuación 1.1. es un submodelo de la distribución global que contiene muchos menos parámetros."
   ]
  },
  {
   "cell_type": "markdown",
   "metadata": {},
   "source": [
    "#### 2.2.2 Definición de probabilidades"
   ]
  },
  {
   "cell_type": "markdown",
   "metadata": {},
   "source": [
    "Dado que las probabilidades condicionales pueden ser unidimensionales o venir en forma de tablas de varias dimensiones dependiendo del número de padres de cada nodo, utilizaremos para crear dichas probabilidades la función `array`, que permite utilizar una interfaz común en todos los casos. Nótese no obstante que para probabilidades unidimensionales (variables sin padres) o para tablas de dos dimensiones (variables con un padre) puede utilizarse alternativamente la función `matrix`. A continuación veremos ejemplos."
   ]
  },
  {
   "cell_type": "markdown",
   "metadata": {},
   "source": [
    "En la encuesta, la Edad y el Sexo vienen dadas por probabilidades unidimensionales, ya que son variables que no tienen *padres* en el grafo. "
   ]
  },
  {
   "cell_type": "code",
   "execution_count": 24,
   "metadata": {},
   "outputs": [
    {
     "name": "stdout",
     "output_type": "stream",
     "text": [
      "A\n",
      "young adult   old \n",
      "  0.3   0.5   0.2 \n"
     ]
    }
   ],
   "source": [
    "A.prob <- array(c(.3, .5, .2), dim = 3, dimnames = list(A = estados.A))\n",
    "print(A.prob)"
   ]
  },
  {
   "cell_type": "code",
   "execution_count": 25,
   "metadata": {},
   "outputs": [
    {
     "name": "stdout",
     "output_type": "stream",
     "text": [
      "S\n",
      "  M   F \n",
      "0.6 0.4 \n"
     ]
    }
   ],
   "source": [
    "S.prob <- array(c(.6, .4), dim = 2, dimnames = list(S = estados.S))\n",
    "print(S.prob)"
   ]
  },
  {
   "cell_type": "markdown",
   "metadata": {},
   "source": [
    "Ocupación y residencia, al depender de Educación, se representan mediante una tabla de probabilidades condicionadas de dos dimensiones. Cada columna en este caso representa cada uno de los niveles del padre, y mantiene la distribución de la variable condicionada cada nivel particular, por lo que las probabilidades de \n",
    "cada columna siempre suman 1:"
   ]
  },
  {
   "cell_type": "code",
   "execution_count": 26,
   "metadata": {},
   "outputs": [
    {
     "name": "stdout",
     "output_type": "stream",
     "text": [
      "      E\n",
      "O      high  uni\n",
      "  emp  0.96 0.92\n",
      "  self 0.04 0.08\n"
     ]
    }
   ],
   "source": [
    "O.prob <- array(c(.96,.04,.92,.08), dim = c(2,2), \n",
    "                  dimnames = list(O = estados.O, E = estados.E))\n",
    "print(O.prob)"
   ]
  },
  {
   "cell_type": "code",
   "execution_count": 27,
   "metadata": {},
   "outputs": [
    {
     "name": "stdout",
     "output_type": "stream",
     "text": [
      "       E\n",
      "R       high uni\n",
      "  small 0.25 0.2\n",
      "  big   0.75 0.8\n"
     ]
    }
   ],
   "source": [
    "R.prob <- array(c(.25,.75,.2,.8), dim = c(2,2), \n",
    "                  dimnames = list(R = estados.R, E = estados.E))\n",
    "print(R.prob)"
   ]
  },
  {
   "cell_type": "markdown",
   "metadata": {},
   "source": [
    "Por último, Educación y Transporte se modelizan en forma de tablas 3-dimensionales, dado que tienen 2 padres cada una. Cada columna corresponde en este caso a una combinación de los niveles de los padres y contienen la probabilidad de la variable condicionada a esa combinación particular:"
   ]
  },
  {
   "cell_type": "code",
   "execution_count": 28,
   "metadata": {},
   "outputs": [
    {
     "name": "stdout",
     "output_type": "stream",
     "text": [
      ", , S = M\n",
      "\n",
      "      A\n",
      "E      young adult  old\n",
      "  high  0.75  0.72 0.88\n",
      "  uni   0.25  0.28 0.12\n",
      "\n",
      ", , S = F\n",
      "\n",
      "      A\n",
      "E      young adult old\n",
      "  high  0.64   0.7 0.9\n",
      "  uni   0.36   0.3 0.1\n",
      "\n"
     ]
    }
   ],
   "source": [
    "# Tabla de probabilidades condicionales para el nodo Educacion\n",
    "E.prob <- array(c(.75, .25, .72, .28, .88, .12, .64, .36, .70, .30, .90, .10),\n",
    "                dim = c(2, 3, 2),\n",
    "                dimnames = list(E = estados.E,\n",
    "                                A = estados.A,\n",
    "                                S = estados.S))\n",
    "print(E.prob)"
   ]
  },
  {
   "cell_type": "code",
   "execution_count": 29,
   "metadata": {},
   "outputs": [
    {
     "name": "stdout",
     "output_type": "stream",
     "text": [
      ", , R = small\n",
      "\n",
      "       O\n",
      "T        emp self\n",
      "  car   0.48 0.56\n",
      "  train 0.42 0.36\n",
      "  other 0.10 0.08\n",
      "\n",
      ", , R = big\n",
      "\n",
      "       O\n",
      "T        emp self\n",
      "  car   0.58 0.70\n",
      "  train 0.24 0.21\n",
      "  other 0.18 0.09\n",
      "\n"
     ]
    }
   ],
   "source": [
    "# Tabla de probabilidades condicionales para el nodo Transporte\n",
    "T.prob <- array(c(.48, .42, .1, .56, .36, .08, .58, .24, .18, .7, .21, .09),\n",
    "                dim = c(3,2,2),\n",
    "                dimnames = list(T = estados.T, \n",
    "                                O = estados.O,\n",
    "                                R = estados.R))\n",
    "print(T.prob)"
   ]
  },
  {
   "cell_type": "markdown",
   "metadata": {},
   "source": [
    "Una vez definidos el grafo y la distribución de las probabilidades locales de cada variable, se combinan para crear la red bayesiana propiamente dicha. Para ello, se almacenan las diferentes tablas de probabilidades condicionadas en una lista (`named list` en R), en la que cada elemento lleva el nombre la variable correspondiente (la llamamos `cpt`, de _conditional probability tables_):"
   ]
  },
  {
   "cell_type": "code",
   "execution_count": 30,
   "metadata": {},
   "outputs": [
    {
     "name": "stdout",
     "output_type": "stream",
     "text": [
      "List of 6\n",
      " $ A: num [1:3(1d)] 0.3 0.5 0.2\n",
      "  ..- attr(*, \"dimnames\")=List of 1\n",
      "  .. ..$ A: chr [1:3] \"young\" \"adult\" \"old\"\n",
      " $ S: num [1:2(1d)] 0.6 0.4\n",
      "  ..- attr(*, \"dimnames\")=List of 1\n",
      "  .. ..$ S: chr [1:2] \"M\" \"F\"\n",
      " $ E: num [1:2, 1:3, 1:2] 0.75 0.25 0.72 0.28 0.88 0.12 0.64 0.36 0.7 0.3 ...\n",
      "  ..- attr(*, \"dimnames\")=List of 3\n",
      "  .. ..$ E: chr [1:2] \"high\" \"uni\"\n",
      "  .. ..$ A: chr [1:3] \"young\" \"adult\" \"old\"\n",
      "  .. ..$ S: chr [1:2] \"M\" \"F\"\n",
      " $ O: num [1:2, 1:2] 0.96 0.04 0.92 0.08\n",
      "  ..- attr(*, \"dimnames\")=List of 2\n",
      "  .. ..$ O: chr [1:2] \"emp\" \"self\"\n",
      "  .. ..$ E: chr [1:2] \"high\" \"uni\"\n",
      " $ R: num [1:2, 1:2] 0.25 0.75 0.2 0.8\n",
      "  ..- attr(*, \"dimnames\")=List of 2\n",
      "  .. ..$ R: chr [1:2] \"small\" \"big\"\n",
      "  .. ..$ E: chr [1:2] \"high\" \"uni\"\n",
      " $ T: num [1:3, 1:2, 1:2] 0.48 0.42 0.1 0.56 0.36 0.08 0.58 0.24 0.18 0.7 ...\n",
      "  ..- attr(*, \"dimnames\")=List of 3\n",
      "  .. ..$ T: chr [1:3] \"car\" \"train\" \"other\"\n",
      "  .. ..$ O: chr [1:2] \"emp\" \"self\"\n",
      "  .. ..$ R: chr [1:2] \"small\" \"big\"\n"
     ]
    }
   ],
   "source": [
    "cpt <- list(A = A.prob, S = S.prob, E = E.prob, O = O.prob, R = R.prob, T = T.prob)\n",
    "str(cpt)"
   ]
  },
  {
   "cell_type": "markdown",
   "metadata": {},
   "source": [
    "Y se crea la red bayesiana con la función `custom.fit`:"
   ]
  },
  {
   "cell_type": "code",
   "execution_count": 31,
   "metadata": {},
   "outputs": [],
   "source": [
    "bn <- custom.fit(dag, cpt)"
   ]
  },
  {
   "cell_type": "markdown",
   "metadata": {},
   "source": [
    "El objeto `bn` es la red bayesiana completa (grafo + tablas de probabilidad asociadas a cada nodo)."
   ]
  },
  {
   "cell_type": "code",
   "execution_count": 32,
   "metadata": {},
   "outputs": [
    {
     "data": {
      "text/html": [
       "<ol class=list-inline>\n",
       "\t<li>'bn.fit'</li>\n",
       "\t<li>'bn.fit.dnet'</li>\n",
       "</ol>\n"
      ],
      "text/latex": [
       "\\begin{enumerate*}\n",
       "\\item 'bn.fit'\n",
       "\\item 'bn.fit.dnet'\n",
       "\\end{enumerate*}\n"
      ],
      "text/markdown": [
       "1. 'bn.fit'\n",
       "2. 'bn.fit.dnet'\n",
       "\n",
       "\n"
      ],
      "text/plain": [
       "[1] \"bn.fit\"      \"bn.fit.dnet\""
      ]
     },
     "metadata": {},
     "output_type": "display_data"
    }
   ],
   "source": [
    "class(bn)"
   ]
  },
  {
   "cell_type": "code",
   "execution_count": 34,
   "metadata": {},
   "outputs": [
    {
     "data": {
      "text/plain": [
       ", , S = M\n",
       "\n",
       "      A\n",
       "E      young adult  old\n",
       "  high  0.75  0.72 0.88\n",
       "  uni   0.25  0.28 0.12\n",
       "\n",
       ", , S = F\n",
       "\n",
       "      A\n",
       "E      young adult  old\n",
       "  high  0.64  0.70 0.90\n",
       "  uni   0.36  0.30 0.10\n"
      ]
     },
     "metadata": {},
     "output_type": "display_data"
    }
   ],
   "source": [
    "bn$E$prob"
   ]
  },
  {
   "cell_type": "markdown",
   "metadata": {},
   "source": [
    "## 3 Inferencia"
   ]
  },
  {
   "cell_type": "markdown",
   "metadata": {},
   "source": [
    "La utilidad de la red probabilística radica en último término hallar de forma eficiente la probabilidad de cualquier nodo (o conjunto de nodos), dada una cierta información (*evidencia*). Este proceso se denomina *inferencia* o razonamiento probabilístico. Una red bayesiana puede utilizarse para hacer inferencia bien a través de su DAG, o través del conjunto de distribuciones locales definido. Básicamente, el tipo de cuestiones que podemos plantearle a nuestra red bayesiana, como si de un sistema experto se tratara, son tres tipos:\n",
    "\n",
    "  1. Las probabilidades de que ocurra un evento bajo unas circunstancias específicas, es decir, _consultas de probabilidad condicionada_\n",
    "  2. Validar la asociación entre dos variables una vez que la influencia de una tercera es descartada, es decir, _consultas de independencia condicional_\n",
    "  3. Identificar el estado más probable de una o más variables, lo cual lleva a la _explicación más probable_."
   ]
  },
  {
   "cell_type": "code",
   "execution_count": 37,
   "metadata": {},
   "outputs": [
    {
     "data": {
      "image/png": "[encoded data removed]",
      "text/plain": [
       "plot without title"
      ]
     },
     "metadata": {},
     "output_type": "display_data"
    }
   ],
   "source": [
    "#::GMG::Recordamos el DAG que tenemos entre manos :)\n",
    "plot(dag)"
   ]
  },
  {
   "cell_type": "markdown",
   "metadata": {},
   "source": [
    "### 3.1 Inferencia a partir de la estructura del DAG: _d-separación_"
   ]
  },
  {
   "cell_type": "markdown",
   "metadata": {},
   "source": [
    "Podemos estudiar la asociación entre variables con la información contenida en nuestro grafo, almacenado en el objeto `dag`, mediante una consulta de probabilidad condicionada. Esto es posible mediante un análisis entre las conexiones del DAG, para comprobar si existe alguna conexión entre ellas, bien sea directa o indirecta, dependiendo de si la relación entre las dos variables está mediada por uno o más arcos respectivamente. Si no existe dicha conexión entre las variables en el grafo, hablamos de separación dirigida, o _d-separación_. Los detalles de la d-separación ya se han visto anteriormente. En esta práctica, basta con recordar que la separación gráfica de dos variables ($\\perp_{G}$) implica independencia probabilística ($\\perp_{P}$) en la red bayesiana. Si todas las trayectorias entre $X$ e $Y$ se encuentran bloqueadas, se dice que $X$ e $Y$ son (condicionalmente) independientes dada una tercera variable $Z$, lo que representamos como $X \\perp_{G} Y | Z$. Lo contrario no es necesariamente cierto: no todas las relaciones de independencia condicional se encuentran reflejadas en el grafo.\n",
    "\n",
    "Podemos investigar la d-separación entre variables de un grafo con la función `dsep`:"
   ]
  },
  {
   "cell_type": "code",
   "execution_count": 35,
   "metadata": {},
   "outputs": [
    {
     "data": {
      "text/html": [
       "FALSE"
      ],
      "text/latex": [
       "FALSE"
      ],
      "text/markdown": [
       "FALSE"
      ],
      "text/plain": [
       "[1] FALSE"
      ]
     },
     "metadata": {},
     "output_type": "display_data"
    }
   ],
   "source": [
    "dsep(dag, x = \"S\", y = \"R\")"
   ]
  },
  {
   "cell_type": "code",
   "execution_count": 36,
   "metadata": {},
   "outputs": [
    {
     "data": {
      "text/html": [
       "FALSE"
      ],
      "text/latex": [
       "FALSE"
      ],
      "text/markdown": [
       "FALSE"
      ],
      "text/plain": [
       "[1] FALSE"
      ]
     },
     "metadata": {},
     "output_type": "display_data"
    }
   ],
   "source": [
    "dsep(dag, x = \"O\", y = \"R\")"
   ]
  },
  {
   "cell_type": "markdown",
   "metadata": {},
   "source": [
    "En los anteriores ejemplos las variables introducidas no son independientes. Esto podemos verlo en el grafo, donde el sexo (`S`) y el lugar de residencia (`R`) están conectados a través de educación (`E`). Del mismo modo, la ocupación (`O`) y el lugar de residencia están relacionadas a través de la educación (`E`)."
   ]
  },
  {
   "cell_type": "markdown",
   "metadata": {},
   "source": [
    "De hecho, podemos comprobar que hay una conexión entre `S` y `R` el el DAG:"
   ]
  },
  {
   "cell_type": "code",
   "execution_count": 38,
   "metadata": {},
   "outputs": [
    {
     "data": {
      "text/html": [
       "TRUE"
      ],
      "text/latex": [
       "TRUE"
      ],
      "text/markdown": [
       "TRUE"
      ],
      "text/plain": [
       "[1] TRUE"
      ]
     },
     "metadata": {},
     "output_type": "display_data"
    }
   ],
   "source": [
    "bnlearn::path(dag, from = \"S\", to = \"R\")"
   ]
  },
  {
   "cell_type": "markdown",
   "metadata": {},
   "source": [
    "pero si condicionamos a la educación, la conexión queda bloqueada y `S` y `R` son ahora independientes:"
   ]
  },
  {
   "cell_type": "code",
   "execution_count": 39,
   "metadata": {},
   "outputs": [
    {
     "data": {
      "text/html": [
       "TRUE"
      ],
      "text/latex": [
       "TRUE"
      ],
      "text/markdown": [
       "TRUE"
      ],
      "text/plain": [
       "[1] TRUE"
      ]
     },
     "metadata": {},
     "output_type": "display_data"
    }
   ],
   "source": [
    "dsep(dag, x = \"S\", y = \"R\", z = \"E\")"
   ]
  },
  {
   "cell_type": "markdown",
   "metadata": {},
   "source": [
    "Lo mismo aplica a la relación entre `O` y `R`. Ambas dependen de `E`, y por lo tanto ambas se vuelven independientes cuando condicionamos sobre `E`:"
   ]
  },
  {
   "cell_type": "code",
   "execution_count": 40,
   "metadata": {},
   "outputs": [
    {
     "data": {
      "text/html": [
       "TRUE"
      ],
      "text/latex": [
       "TRUE"
      ],
      "text/markdown": [
       "TRUE"
      ],
      "text/plain": [
       "[1] TRUE"
      ]
     },
     "metadata": {},
     "output_type": "display_data"
    }
   ],
   "source": [
    "dsep(dag, \"O\", \"R\", \"E\")"
   ]
  },
  {
   "cell_type": "markdown",
   "metadata": {},
   "source": [
    "Por el contrario, condicionar sobre un nodo particular puede también hacer que otros nodos marginalmente independientes pasen a ser dependientes. Por ejemplo, "
   ]
  },
  {
   "cell_type": "code",
   "execution_count": 41,
   "metadata": {},
   "outputs": [
    {
     "data": {
      "text/html": [
       "TRUE"
      ],
      "text/latex": [
       "TRUE"
      ],
      "text/markdown": [
       "TRUE"
      ],
      "text/plain": [
       "[1] TRUE"
      ]
     },
     "metadata": {},
     "output_type": "display_data"
    }
   ],
   "source": [
    "dsep(dag, x = \"A\", y = \"S\")"
   ]
  },
  {
   "cell_type": "code",
   "execution_count": 42,
   "metadata": {},
   "outputs": [
    {
     "data": {
      "text/html": [
       "FALSE"
      ],
      "text/latex": [
       "FALSE"
      ],
      "text/markdown": [
       "FALSE"
      ],
      "text/plain": [
       "[1] FALSE"
      ]
     },
     "metadata": {},
     "output_type": "display_data"
    }
   ],
   "source": [
    "dsep(dag, x = \"A\", y = \"S\", z = \"E\")"
   ]
  },
  {
   "cell_type": "markdown",
   "metadata": {},
   "source": [
    "Efectivamente, si queremos hacer inferencia sobre el nodo `A` en este caso, necesitaremos además información sobre los nodos `S` y `E`. Este subconjunto de nodos constituye el _Markov blanket_ de `A`, siendo el resto de los nodos del grafo redundantes para hacer inferencia sobre `A`:"
   ]
  },
  {
   "cell_type": "code",
   "execution_count": 43,
   "metadata": {},
   "outputs": [
    {
     "data": {
      "text/html": [
       "<ol class=list-inline>\n",
       "\t<li>'S'</li>\n",
       "\t<li>'E'</li>\n",
       "</ol>\n"
      ],
      "text/latex": [
       "\\begin{enumerate*}\n",
       "\\item 'S'\n",
       "\\item 'E'\n",
       "\\end{enumerate*}\n"
      ],
      "text/markdown": [
       "1. 'S'\n",
       "2. 'E'\n",
       "\n",
       "\n"
      ],
      "text/plain": [
       "[1] \"S\" \"E\""
      ]
     },
     "metadata": {},
     "output_type": "display_data"
    }
   ],
   "source": [
    "bnlearn::mb(dag, \"A\")"
   ]
  },
  {
   "cell_type": "markdown",
   "metadata": {},
   "source": [
    "Sabemos a partir del grafo que el estado de `E` esta influenciado por los estados de `A` y `S`, que son sus padres."
   ]
  },
  {
   "cell_type": "code",
   "execution_count": 44,
   "metadata": {},
   "outputs": [
    {
     "data": {
      "text/html": [
       "<ol class=list-inline>\n",
       "\t<li>'A'</li>\n",
       "\t<li>'S'</li>\n",
       "</ol>\n"
      ],
      "text/latex": [
       "\\begin{enumerate*}\n",
       "\\item 'A'\n",
       "\\item 'S'\n",
       "\\end{enumerate*}\n"
      ],
      "text/markdown": [
       "1. 'A'\n",
       "2. 'S'\n",
       "\n",
       "\n"
      ],
      "text/plain": [
       "[1] \"A\" \"S\""
      ]
     },
     "metadata": {},
     "output_type": "display_data"
    }
   ],
   "source": [
    "bnlearn::parents(dag, \"E\")"
   ]
  },
  {
   "cell_type": "markdown",
   "metadata": {},
   "source": [
    "A su vez, `A` y `S` pasan a ser dependientes dado `E`. De forma equivalente, `E` depende de la distribución conjunta de `A` y `S`, $P(\\mathrm{\\texttt{E|A,s}})$; por tanto, de acuerdo con el Teorema de Bayes, tenemos:\n",
    "\n",
    "$$\n",
    "\\begin{aligned}\n",
    "P(\\mathrm{\\texttt{E|A,S}}) = \\frac{P(\\mathrm{\\texttt{A,S,E}})}{P(\\mathrm{\\texttt{A,S}})} = \\frac{P(\\mathrm{\\texttt{A,S|E}})P(\\mathrm{\\texttt{E}})}{P(\\mathrm{\\texttt{A}})P(\\mathrm{\\texttt{S}})} \\alpha P(\\mathrm{\\texttt{A,S|E}})\n",
    "\\end{aligned}\n",
    "$$\n",
    "\n",
    ", y por lo tanto cuando `E` es conocida, no podemos descomponer la probabilidad conjunta de `A` y `S` en una parte que dependa sólo de `A` y otra de `S`. No obstante, $P(\\mathrm{\\texttt{A,S}}) = P(\\mathrm{\\texttt{A|S}})P(\\mathrm{\\texttt{S}}) = P(\\mathrm{\\texttt{A}})P(\\mathrm{\\texttt{S}})$: tal y como se ha visto en el ejemplo anterior, `A` y `S` están d-separadas cuando no se condiciona a `E`.\n",
    "\n",
    "\n",
    "Estos tres ejemplos de relaciones condicionadas entre variables recogen las tres configuraciones básicas de tres nodos y dos arcos. Se conocen como _conexiones fundamentales_ y son los bloques sobre los que se fundamentan las propiedades gráficas y probabilísticas de las redes bayesianas. Puedes repasar las diapositivas de la parte teórica, pero simplemente para fijar conceptos, estas son las tres conexiones fundamentales:\n",
    "\n",
    "  * Conexiones en serie (cascada): del tipo: `S -> E -> R`, como en el primer ejemplo\n",
    "  * Conexiones divergentes (padre en común): del tipo: `R <- E -> O`, como en el segundo ejemplo\n",
    "  * Conexiones convergentes (v-estructuras): del tipo `A -> E <- S`, como en el tercer ejemplo. Forman las llamadas _estructuras en V_"
   ]
  },
  {
   "cell_type": "markdown",
   "metadata": {},
   "source": [
    "### Ejercicio"
   ]
  },
  {
   "cell_type": "markdown",
   "metadata": {},
   "source": [
    "A continuación, basándote en el concepto de d-separación y utilizando únicamente la información representada en el grafo, intenta responder a las siguientes preguntas:\n",
    "\n",
    "1. Evaluar la dependencia entre edad y sexo ¿son independientes?"
   ]
  },
  {
   "cell_type": "code",
   "execution_count": 45,
   "metadata": {},
   "outputs": [
    {
     "data": {
      "text/html": [
       "TRUE"
      ],
      "text/latex": [
       "TRUE"
      ],
      "text/markdown": [
       "TRUE"
      ],
      "text/plain": [
       "[1] TRUE"
      ]
     },
     "metadata": {},
     "output_type": "display_data"
    }
   ],
   "source": [
    "dsep(dag, x = \"A\", y = \"S\")"
   ]
  },
  {
   "cell_type": "markdown",
   "metadata": {},
   "source": [
    "2. Ahora evalúa lo mismo conocido el nivel educativo ¿como es ahora su relación?"
   ]
  },
  {
   "cell_type": "code",
   "execution_count": 46,
   "metadata": {},
   "outputs": [
    {
     "data": {
      "text/html": [
       "FALSE"
      ],
      "text/latex": [
       "FALSE"
      ],
      "text/markdown": [
       "FALSE"
      ],
      "text/plain": [
       "[1] FALSE"
      ]
     },
     "metadata": {},
     "output_type": "display_data"
    }
   ],
   "source": [
    "dsep(dag, x = \"A\", y = \"S\", z = \"E\")"
   ]
  },
  {
   "cell_type": "markdown",
   "metadata": {},
   "source": [
    "3. A continuación evalúa la dependencia entre ambas variables pero conociendo sólo el medio de transporte elegido."
   ]
  },
  {
   "cell_type": "code",
   "execution_count": 47,
   "metadata": {},
   "outputs": [
    {
     "data": {
      "text/html": [
       "FALSE"
      ],
      "text/latex": [
       "FALSE"
      ],
      "text/markdown": [
       "FALSE"
      ],
      "text/plain": [
       "[1] FALSE"
      ]
     },
     "metadata": {},
     "output_type": "display_data"
    }
   ],
   "source": [
    "dsep(dag, x = \"A\", y = \"S\", z = \"T\")"
   ]
  },
  {
   "cell_type": "markdown",
   "metadata": {},
   "source": [
    "4. A continuación evalúa de nuevo la dependencia entre ambas variables pero conociendo sólo el lugar de residencia."
   ]
  },
  {
   "cell_type": "code",
   "execution_count": 48,
   "metadata": {},
   "outputs": [
    {
     "data": {
      "text/html": [
       "FALSE"
      ],
      "text/latex": [
       "FALSE"
      ],
      "text/markdown": [
       "FALSE"
      ],
      "text/plain": [
       "[1] FALSE"
      ]
     },
     "metadata": {},
     "output_type": "display_data"
    }
   ],
   "source": [
    "dsep(dag, x = \"A\", y = \"S\", z = \"R\")"
   ]
  },
  {
   "cell_type": "code",
   "execution_count": 49,
   "metadata": {},
   "outputs": [
    {
     "data": {
      "text/html": [
       "<ol class=list-inline>\n",
       "\t<li>'S'</li>\n",
       "\t<li>'E'</li>\n",
       "</ol>\n"
      ],
      "text/latex": [
       "\\begin{enumerate*}\n",
       "\\item 'S'\n",
       "\\item 'E'\n",
       "\\end{enumerate*}\n"
      ],
      "text/markdown": [
       "1. 'S'\n",
       "2. 'E'\n",
       "\n",
       "\n"
      ],
      "text/plain": [
       "[1] \"S\" \"E\""
      ]
     },
     "metadata": {},
     "output_type": "display_data"
    }
   ],
   "source": [
    "#::GMG::Uno se puede preguntar cual es el markov blanket de A\n",
    "mb(x = dag, node = \"A\")"
   ]
  },
  {
   "cell_type": "markdown",
   "metadata": {},
   "source": [
    "### 3.2 Inferencia a partir de las tablas de probabilidades condicionales"
   ]
  },
  {
   "cell_type": "markdown",
   "metadata": {},
   "source": [
    "Consultas a nuestro \"sistema experto\" un poco más complejas requieren la utilización de las tablas de probabilidades condicionales contenidas en nuestra red bayesiana. En este contexto, las variables utilizadas como condiciones en nuestro sistema constituyen las nuevas _evidencias_ que nosotros introducimos, y a partir de las cuales se re-calculan las probabilidades de los eventos sobre los que nos interesa obtener información.\n",
    "\n",
    "Hay dos tipos de inferencia: _exacta_ y _aproximada_. La primera nos proporciona valores más precisos, y resulta computacionalmente mucho más barata de calcular que la estimada, que se basa en generar multitud de datos aleatorios mediante un test de permutación de Monte-Carlo. "
   ]
  },
  {
   "cell_type": "markdown",
   "metadata": {},
   "source": [
    "#### 3.2.1 Inferencia exacta"
   ]
  },
  {
   "cell_type": "markdown",
   "metadata": {},
   "source": [
    "La inferencia exacta está implementada en el paquete `gRain` (**gRa**phical **in**ference), que transforma la red bayesiana en un árbol que acelera los cálculos de la probabilidades condicionadas (algoritmo *junction tree*, o *árbol de cliques*, que se ha visto durante anteriores sesiones).\n",
    "\n",
    "Recordemos que el árbol de cliques se construía a partir de la _moralización_ del DAG. El grafo _moral_ es de tipo no dirigido (conocido como red de Markov), que se construye a partir del DAG a través de dos pasos:\n",
    "\n",
    "1. Conectando los nodos no adyacentes de cada _v-estructura_ con un arco no dirigido (vértice).\n",
    "2. Ignorando la dirección del resto del arcos del DAG, y por tanto sustituyéndolos por vértices.\n",
    "\n",
    "A la transformación (1) se la denomina _moralización_, porque \"casa\" a padres no-adyacentes que comparten un hijo. La función `moral` realiza la moralización de un DAG de forma directa:"
   ]
  },
  {
   "cell_type": "code",
   "execution_count": 50,
   "metadata": {},
   "outputs": [],
   "source": [
    "mdag <- moral(dag)"
   ]
  },
  {
   "cell_type": "code",
   "execution_count": 52,
   "metadata": {},
   "outputs": [
    {
     "data": {
      "image/png": "[encoded data removed]",
      "text/plain": [
       "Plot with title “Moral Graph”"
      ]
     },
     "metadata": {},
     "output_type": "display_data"
    }
   ],
   "source": [
    "par(mfrow = c(1,2))\n",
    "plot(dag, main = \"DAG\")\n",
    "plot(mdag, main = \"Moral Graph\")"
   ]
  },
  {
   "cell_type": "markdown",
   "metadata": {},
   "source": [
    "Como se vió en la parte teórica, este paso es primordial para la generación del árbol de cliques, necesario para realizar la inferencia exacta. Sin embargo, no es necesario realizar todo el proceso de moralización y generación de cliques. La construcción de dicho árbol es inmediata a partir del objeto `bn` usando la función `compile` sobre un objeto de tipo `grain` implementado en la librería `gRain`:"
   ]
  },
  {
   "cell_type": "code",
   "execution_count": 53,
   "metadata": {},
   "outputs": [],
   "source": [
    "# https://www.rdocumentation.org/packages/gRain/versions/1.3-0\n",
    "# https://cran.r-project.org/web/packages/gRain/index.html\n",
    "# http://www.bnlearn.com/documentation/man/gRain.html\n",
    "# http://www.bnlearn.com/examples/pkg-gRain/\n",
    "#library(gRain)\n",
    "junction <- compile(as.grain(bn))"
   ]
  },
  {
   "cell_type": "code",
   "execution_count": 54,
   "metadata": {},
   "outputs": [
    {
     "data": {
      "text/html": [
       "<ol class=list-inline>\n",
       "\t<li>'CPTgrain'</li>\n",
       "\t<li>'grain'</li>\n",
       "</ol>\n"
      ],
      "text/latex": [
       "\\begin{enumerate*}\n",
       "\\item 'CPTgrain'\n",
       "\\item 'grain'\n",
       "\\end{enumerate*}\n"
      ],
      "text/markdown": [
       "1. 'CPTgrain'\n",
       "2. 'grain'\n",
       "\n",
       "\n"
      ],
      "text/plain": [
       "[1] \"CPTgrain\" \"grain\"   "
      ]
     },
     "metadata": {},
     "output_type": "display_data"
    }
   ],
   "source": [
    "class(junction)"
   ]
  },
  {
   "cell_type": "markdown",
   "metadata": {},
   "source": [
    "Una vez creado el árbol (`as.grain`), y las tablas de probabilidad calculadas (`compile`), podemos introducir la nueva evidencia. Las distribuciones locales en cada nodo se actualizan en base a la nueva información introducida, que se propaga a lo largo del árbol. La consulta es realizada a través de la función `querygrain`, que calcula la distribución en los nodos que nos interesan del objeto `junction`.\n",
    "\n",
    "Por ejemplo, podríamos estar interesados en las actitudes del público femenino respecto al uso del tren o el coche en comparación con la muestra completa de todos los encuestados:"
   ]
  },
  {
   "cell_type": "code",
   "execution_count": 56,
   "metadata": {},
   "outputs": [
    {
     "name": "stdout",
     "output_type": "stream",
     "text": [
      "T\n",
      "      car     train     other \n",
      "0.5618340 0.2808573 0.1573088 \n"
     ]
    }
   ],
   "source": [
    "# Esta es la probabilidad marginal de T:\n",
    "# https://www.rdocumentation.org/packages/gRain/versions/1.3-0/topics/querygrain\n",
    "print(querygrain(junction, nodes = \"T\")$T)"
   ]
  },
  {
   "cell_type": "code",
   "execution_count": 57,
   "metadata": {},
   "outputs": [],
   "source": [
    "# Introducimos la nueva evidencia\n",
    "# https://www.rdocumentation.org/packages/gRain/versions/1.3-0/topics/grain-evidence\n",
    "jsex <- setEvidence(junction, nodes = \"S\", states = \"F\")"
   ]
  },
  {
   "cell_type": "code",
   "execution_count": 58,
   "metadata": {},
   "outputs": [
    {
     "data": {
      "text/html": [
       "<ol class=list-inline>\n",
       "\t<li>'CPTgrain'</li>\n",
       "\t<li>'grain'</li>\n",
       "</ol>\n"
      ],
      "text/latex": [
       "\\begin{enumerate*}\n",
       "\\item 'CPTgrain'\n",
       "\\item 'grain'\n",
       "\\end{enumerate*}\n"
      ],
      "text/markdown": [
       "1. 'CPTgrain'\n",
       "2. 'grain'\n",
       "\n",
       "\n"
      ],
      "text/plain": [
       "[1] \"CPTgrain\" \"grain\"   "
      ]
     },
     "metadata": {},
     "output_type": "display_data"
    }
   ],
   "source": [
    "class(jsex)"
   ]
  },
  {
   "cell_type": "code",
   "execution_count": 59,
   "metadata": {},
   "outputs": [
    {
     "name": "stdout",
     "output_type": "stream",
     "text": [
      "  nodes is.hard.evidence hard.state\n",
      "1     S             TRUE          F\n"
     ]
    }
   ],
   "source": [
    "print(jsex$evidence)"
   ]
  },
  {
   "cell_type": "code",
   "execution_count": 61,
   "metadata": {},
   "outputs": [
    {
     "name": "stdout",
     "output_type": "stream",
     "text": [
      "T\n",
      "      car     train     other \n",
      "0.5620577 0.2806144 0.1573280 \n"
     ]
    }
   ],
   "source": [
    "# Nueva probabilidad marginal dada la evidencia\n",
    "print(querygrain(jsex, nodes = \"T\")$T)"
   ]
  },
  {
   "cell_type": "markdown",
   "metadata": {},
   "source": [
    "Según esto, parece que no hay diferencias significativas en las probabilidades derivadas del objeto `junction` antes y después de la llamada a `setEvidence`. Lo primero puede representarse como $P(\\mathrm{\\texttt{T}})$, mientras que tras introducir la evidencia hemos calculado $P(\\mathrm{\\texttt{T | S = F}})$. Esto sugiere que las mujeres tienen una preferencia similar hacia el coche o el tren que el total de los encuestados considerados globalmente."
   ]
  },
  {
   "cell_type": "code",
   "execution_count": 63,
   "metadata": {},
   "outputs": [
    {
     "name": "stdout",
     "output_type": "stream",
     "text": [
      "  nodes is.hard.evidence hard.state\n",
      "1     S             TRUE          M\n",
      "T\n",
      "      car     train     other \n",
      "0.5616848 0.2810192 0.1572960 \n"
     ]
    }
   ],
   "source": [
    "#::GMG::Me pregunto si pasa lo mismo con M ...\n",
    "#       tampoco parecen diferencias significativas\n",
    "jsex <- setEvidence(junction, nodes = \"S\", states = \"M\")\n",
    "print(jsex$evidence)\n",
    "print(querygrain(jsex, nodes = \"T\")$T)"
   ]
  },
  {
   "cell_type": "markdown",
   "metadata": {},
   "source": [
    "Otro problema interesante puede ser cómo vivir en una ciudad pequeña puede afectar el uso del tren o del coche, esto es, $P(\\mathrm{\\texttt{T | R = small}})$. "
   ]
  },
  {
   "cell_type": "code",
   "execution_count": 64,
   "metadata": {},
   "outputs": [
    {
     "name": "stdout",
     "output_type": "stream",
     "text": [
      "  nodes is.hard.evidence hard.state\n",
      "1     R             TRUE      small\n",
      "T\n",
      "       car      train      other \n",
      "0.48388675 0.41708494 0.09902831 \n"
     ]
    }
   ],
   "source": [
    "jres <- setEvidence(object = junction, nodes = \"R\", states = \"small\")\n",
    "print(jres$evidence)\n",
    "print(querygrain(jres, nodes = \"T\")$T)"
   ]
  },
  {
   "cell_type": "markdown",
   "metadata": {},
   "source": [
    "Ahora la probabilidad asociada con otros medios de transporte (`other`) cae de 0.157 a 0.099 mientras que la probabilidad asociada a `train` se incrementa de 0.281 a 0.417. En conjunto, las probabilidad combinada de `car` y `train` sube de 0.843 (del total de la muestra) a 0.901 (para las personas que viven en ciudades pequeñas). Por lo tanto, puede concluirse que en ciudades pequeñas el medio de transporte preferido es el coche, aunque aumenta la preferencia por el tren."
   ]
  },
  {
   "cell_type": "markdown",
   "metadata": {},
   "source": [
    "También podemos utilizar las consultas de probabilidades condicionadas para evaluar la _independencia condicional_, tal y como hicimos en la sección anterior usando el grafo y el comando `dsep`. Volvamos a considerar la relación entre `S` y `T`, esta vez condicionada a la evidencia de que `E = \"high\"`. La probabilidad conjunta de `S` y `T` dado que el nivel de educación sea `high`, representado por la expresión $P(\\mathrm{\\texttt{S,T | E = high}})$, se calcula nuevamente usando `setEvidence` y `querygrain` del siguiente modo:"
   ]
  },
  {
   "cell_type": "code",
   "execution_count": 65,
   "metadata": {},
   "outputs": [],
   "source": [
    "jedu <- setEvidence(junction, nodes = \"E\", states = \"high\")"
   ]
  },
  {
   "cell_type": "code",
   "execution_count": 66,
   "metadata": {},
   "outputs": [
    {
     "name": "stdout",
     "output_type": "stream",
     "text": [
      "   T\n",
      "S         car     train      other\n",
      "  M 0.3426644 0.1736599 0.09623271\n",
      "  F 0.2167356 0.1098401 0.06086729\n",
      "attr(,\"class\")\n",
      "[1] \"parray\" \"array\" \n"
     ]
    }
   ],
   "source": [
    "SxT.cpt <- querygrain(jedu, nodes = c(\"S\", \"T\"), type = \"joint\")\n",
    "print(SxT.cpt)"
   ]
  },
  {
   "cell_type": "code",
   "execution_count": 67,
   "metadata": {},
   "outputs": [
    {
     "data": {
      "text/html": [
       "TRUE"
      ],
      "text/latex": [
       "TRUE"
      ],
      "text/markdown": [
       "TRUE"
      ],
      "text/plain": [
       "[1] TRUE"
      ]
     },
     "metadata": {},
     "output_type": "display_data"
    }
   ],
   "source": [
    "dsep(dag, \"S\", \"T\", \"E\")"
   ]
  },
  {
   "cell_type": "markdown",
   "metadata": {},
   "source": [
    "Por tanto, el argumento `type` define cual de las posibles distribuciones asociadas a cada nodo es devuelta en la consulta. El valor por defecto es `marginal`, que devuelve las probabilidades marginales:"
   ]
  },
  {
   "cell_type": "code",
   "execution_count": 68,
   "metadata": {},
   "outputs": [
    {
     "name": "stdout",
     "output_type": "stream",
     "text": [
      "$S\n",
      "S\n",
      "       M        F \n",
      "0.612557 0.387443 \n",
      "\n",
      "$T\n",
      "T\n",
      "   car  train  other \n",
      "0.5594 0.2835 0.1571 \n",
      "\n"
     ]
    }
   ],
   "source": [
    "print(querygrain(jedu, nodes = c(\"S\", \"T\"), type = \"marginal\"))"
   ]
  },
  {
   "cell_type": "markdown",
   "metadata": {},
   "source": [
    "Usando `type = joint` obtenemos, como se ha visto, la probabilidad conjunta. Por último, podemos obtener las probabilidades condicionales. En este caso, `querygrain` devuelve la distribución del primer nodo en `nodes` condicionada al resto de nodos en `nodes` (y por supuesto a la evidencia previamente presentada mediante `setEvidence`):"
   ]
  },
  {
   "cell_type": "code",
   "execution_count": 69,
   "metadata": {},
   "outputs": [
    {
     "name": "stdout",
     "output_type": "stream",
     "text": [
      "       S\n",
      "T              M        F\n",
      "  car   0.612557 0.387443\n",
      "  train 0.612557 0.387443\n",
      "  other 0.612557 0.387443\n"
     ]
    }
   ],
   "source": [
    "print(querygrain(jedu, c(\"S\", \"T\"), type = \"conditional\"))"
   ]
  },
  {
   "cell_type": "markdown",
   "metadata": {},
   "source": [
    "En este caso la suma de columnas suma 1, porque se calculan condicionadas al valor de `T` en cada caso."
   ]
  },
  {
   "cell_type": "markdown",
   "metadata": {},
   "source": [
    "<!--\n",
    "# ********************************************************************************\n",
    "# __Ejercicio__\n",
    "# \n",
    "# \n",
    "# ev1 <- setEvidence(junction, nodes = c(\"S\", \"E\", \"T\"), states = c(\"M\", \"high\", \"car\"))\n",
    "# querygrain(ev1, nodes = c(\"S\", \"T\"), type = \"conditional\")\n",
    "# \n",
    "# \n",
    "# 1. Comprueba las probabilidades condicionales dado que `S = M` y `E = high` para cada posible estado de `T`\n",
    "# 2. Ahora realiza la misma prueba que anteriormente, pero sabiendo que `S = F`\n",
    "# 3. ¿Qué conclusión podemos extraer a la luz de las probabilidades obtenidas en cada uno de los casos?\n",
    "# \n",
    "# # 1\n",
    "# jsex.edu <- setEvidence(junction, nodes = c(\"S\", \"E\"), states = c(\"M\", \"high\"))\n",
    "# querygrain(jsex.edu, nodes = c(\"E\",\"S\",\"T\"), type = \"conditional\")\n",
    "# \n",
    "# # 2\n",
    "# jsex.edu2 <- setEvidence(junction, nodes = c(\"S\", \"E\"), states = c(\"F\", \"high\"))\n",
    "# querygrain(jsex.edu2, nodes = c(\"E\",\"S\",\"T\"), type = \"conditional\")\n",
    "# \n",
    "# # 3\n",
    "# Se puede inferir por tanto que `S`es independiente de `T`condicional a `E`\n",
    "-->"
   ]
  },
  {
   "cell_type": "markdown",
   "metadata": {},
   "source": [
    "### 3.3 Inferencia aproximada"
   ]
  },
  {
   "cell_type": "markdown",
   "metadata": {},
   "source": [
    "El uso de simulaciones de Monte-Carlo constituye una aproximación alternativa al problema de la inferencia, basada en generar observaciones aleatorias a partir de la red bayesiana. Estas observaciones son a su vez utilizadas para estimar las probabilidades condicionales que nos interesen de forma aproximada. \n",
    "\n",
    "Este método es caro desde el punto de vista computacional, pero a cambio permite introducir especificaciones de la evidencia más complejas y puede ser preferible en redes complejas. En redes discretas, un método sencillo ampliamente utilizado es el de _rejection sampling_.\n",
    "\n",
    "De acuerdo con este método, se generan observaciones aleatorias independientes a partir de la red bayesiana. Después, se contabiliza el número de dichas observaciones que coinciden con la evidencia dada por la que estamos condicionando y cuántas observaciones también coinciden con el evento cuya probabilidad queremos estimar; la probabilidad condicional estimada es el ratio entre ésta y aquella."
   ]
  },
  {
   "cell_type": "markdown",
   "metadata": {},
   "source": [
    "En `bnlearn`, esta aproximación está implementada a través de las funciones `cpquery` y `cpdist`. `cpquery` devuelve la probabilidad de un evento determinado dada cierta evidencia. Volviendo al primer ejemplo utilizado para ilustrar la inferencia exacta, podemos calcular la primera casilla de la tabla de probabilidades del siguiente modo:"
   ]
  },
  {
   "cell_type": "code",
   "execution_count": 70,
   "metadata": {},
   "outputs": [],
   "source": [
    "set.seed(1)"
   ]
  },
  {
   "cell_type": "code",
   "execution_count": 71,
   "metadata": {},
   "outputs": [
    {
     "name": "stdout",
     "output_type": "stream",
     "text": [
      "[1] 0.3514745\n"
     ]
    }
   ],
   "source": [
    "print(cpquery(bn, event = (S == \"M\") & (T == \"car\"), evidence = (E == \"high\")))"
   ]
  },
  {
   "cell_type": "markdown",
   "metadata": {},
   "source": [
    "Como puede comprobarse, en este caso la probabilidad estimada difiere ligeramente de la que obtuvimos mediante inferencia exacta (0.3427) calculada con `querygrain`, que era $P(\\mathrm{\\texttt{S = m, T = car | E = high}}) = 0.3427$."
   ]
  },
  {
   "cell_type": "markdown",
   "metadata": {},
   "source": [
    "La probabilidad estimada es cercana a su valor verdadero. Esta precisión puede aumentarse aumentando el número de observaciones aleatorias que se genera (argumento `n`, valor por defecto = 5000). Sin embargo, incrementar la precisión tiene su coste: La consulta requiere más tiempo de cálculo, y su precisión podría seguir siendo baja si la evidencia dada tienen una baja probabilidad. Por ejemplo, generamos un millón de observaciones aleatorias para comprobar que ahora nos acercamos más al valor verdadero:"
   ]
  },
  {
   "cell_type": "code",
   "execution_count": 72,
   "metadata": {},
   "outputs": [
    {
     "name": "stdout",
     "output_type": "stream",
     "text": [
      "[1] 0.3421707\n"
     ]
    }
   ],
   "source": [
    "set.seed(1)\n",
    "print(cpquery(bn, event = (S == \"M\") & (T == \"car\"), evidence = (E == \"high\"), n = 1e06))"
   ]
  },
  {
   "cell_type": "markdown",
   "metadata": {},
   "source": [
    "Una aproximación mejor es el pesado de verosimilitudes (_likelihood weighting_). Este método se basa en en generar observaciones aleatorias de tal modo que todas ellas coinciden con la evidencia dada, y asigna pesos a cada una de ellas de forma apropiada para calcular las probabilidades condicionales al realizar la consulta. Se puede aplicar este método con el argumento `method = \"lw\"` desde la función `cpquery`:"
   ]
  },
  {
   "cell_type": "code",
   "execution_count": 73,
   "metadata": {},
   "outputs": [
    {
     "name": "stdout",
     "output_type": "stream",
     "text": [
      "[1] 0.3390615\n"
     ]
    }
   ],
   "source": [
    "set.seed(2)\n",
    "print(cpquery(bn, event = (S == \"M\") & (T == \"car\"), \n",
    "        evidence = list(E = \"high\"), method = \"lw\"))"
   ]
  },
  {
   "cell_type": "markdown",
   "metadata": {},
   "source": [
    "En este caso, la probabilidad estimada (0.3390) se aproxima bastante a la calculada anteriormente de forma exacta (0.3427) sin necesidad de realizar $10^{6}$ simulaciones."
   ]
  },
  {
   "cell_type": "markdown",
   "metadata": {},
   "source": [
    "Como ejemplo de una consulta algo más complicada, podemos intentar calcular la probabilidad de que un hombre viaje en coche dado que su nivel educativo sea universitario o bien que sea un adulto, independientemente de su nivel educativo:\n",
    "\n",
    "\n",
    "$$\n",
    "\\begin{aligned}\n",
    "P(\\mathrm{\\texttt{S = M, T = car | \\{A = young,E = uni\\}}} \\cup \\mathrm{\\texttt{\\{A = adult\\}}})\n",
    "\\end{aligned}\n",
    "$$\n",
    "\n",
    "\n",
    ", que se especificaría mediante `cpquery` del siguiente modo:"
   ]
  },
  {
   "cell_type": "code",
   "execution_count": 74,
   "metadata": {},
   "outputs": [
    {
     "name": "stdout",
     "output_type": "stream",
     "text": [
      "[1] 0.335729\n"
     ]
    }
   ],
   "source": [
    "set.seed(1)\n",
    "print(cpquery(bn, event = (S == \"M\") & (T == \"car\"),\n",
    "        evidence = ((A == \"young\") & (E == \"uni\")) | (A == \"adult\")))"
   ]
  },
  {
   "cell_type": "markdown",
   "metadata": {},
   "source": [
    "La implementación del método `lw` no es lo suficientemente flexible como para calcular evidencias compuestas como esta; esta limitación existe también para las funciones que realizan la inferencia exacta en el paquete `gRain`. "
   ]
  },
  {
   "cell_type": "markdown",
   "metadata": {},
   "source": [
    "La función `cpdist`, con una sintaxis similar a `cpquery`, devuelve un `data.frame` que contienen las observaciones aleatorias para las variables en `nodes` generadas que coinciden con los criterios de la evidencia (`evidence`) dada:"
   ]
  },
  {
   "cell_type": "code",
   "execution_count": 75,
   "metadata": {},
   "outputs": [
    {
     "data": {
      "text/html": [
       "<table>\n",
       "<thead><tr><th scope=col>S</th><th scope=col>T</th></tr></thead>\n",
       "<tbody>\n",
       "\t<tr><td>M    </td><td>train</td></tr>\n",
       "\t<tr><td>M    </td><td>train</td></tr>\n",
       "\t<tr><td>M    </td><td>train</td></tr>\n",
       "\t<tr><td>F    </td><td>train</td></tr>\n",
       "\t<tr><td>M    </td><td>car  </td></tr>\n",
       "\t<tr><td>M    </td><td>other</td></tr>\n",
       "</tbody>\n",
       "</table>\n"
      ],
      "text/latex": [
       "\\begin{tabular}{r|ll}\n",
       " S & T\\\\\n",
       "\\hline\n",
       "\t M     & train\\\\\n",
       "\t M     & train\\\\\n",
       "\t M     & train\\\\\n",
       "\t F     & train\\\\\n",
       "\t M     & car  \\\\\n",
       "\t M     & other\\\\\n",
       "\\end{tabular}\n"
      ],
      "text/markdown": [
       "\n",
       "S | T | \n",
       "|---|---|---|---|---|---|\n",
       "| M     | train | \n",
       "| M     | train | \n",
       "| M     | train | \n",
       "| F     | train | \n",
       "| M     | car   | \n",
       "| M     | other | \n",
       "\n",
       "\n"
      ],
      "text/plain": [
       "  S T    \n",
       "1 M train\n",
       "2 M train\n",
       "3 M train\n",
       "4 F train\n",
       "5 M car  \n",
       "6 M other"
      ]
     },
     "metadata": {},
     "output_type": "display_data"
    }
   ],
   "source": [
    "SxT <- cpdist(bn, nodes = c(\"S\", \"T\"), evidence = (E == \"high\"))\n",
    "head(SxT)"
   ]
  },
  {
   "cell_type": "markdown",
   "metadata": {},
   "source": [
    "Estas observaciones devueltas por `cpdist` pueden ser utilizadas para otros tipos de inferencia, dando lugar a un método muy versátil. Por ejemplo, podemos calcular la tabla de probabilid conjunta de `S` y `T` dado el nivel `E = \"high\"` y compararla con la que calculamos utilizando `querygrain` en el ejemplo anterior de inferencia exacta. Para ello, usamos `table` para generar la tabla de contingencia `SxT` y `prop.table` para convertir el conteo en probabilidades, como hemos visto anteriormente en la sección de aprendizaje paramétrico:"
   ]
  },
  {
   "cell_type": "code",
   "execution_count": 76,
   "metadata": {},
   "outputs": [
    {
     "data": {
      "text/plain": [
       "   T\n",
       "S          car      train      other\n",
       "  M 0.33234421 0.16994875 0.10871325\n",
       "  F 0.21364985 0.11329916 0.06204478"
      ]
     },
     "metadata": {},
     "output_type": "display_data"
    }
   ],
   "source": [
    "prop.table(table(SxT))"
   ]
  },
  {
   "cell_type": "markdown",
   "metadata": {},
   "source": [
    "Como vimos anteriormente, en el grupo con `E=\"high\"`, la combinación más frecuente de sexo y medio de transporte es coche y varón."
   ]
  },
  {
   "cell_type": "markdown",
   "metadata": {},
   "source": [
    "## 4 Representación gráfica avanzada"
   ]
  },
  {
   "cell_type": "markdown",
   "metadata": {},
   "source": [
    "Una de las grandes ventajas de las redes Bayesianas consiste en poder estudiarlas de forma visual a partir de su representación gráfica. A continuación se muestran algunas de las herramientas disponibles en R para la representación gráfica de redes bayesianas."
   ]
  },
  {
   "cell_type": "markdown",
   "metadata": {},
   "source": [
    "### 4.1 Dibujar un DAG"
   ]
  },
  {
   "cell_type": "markdown",
   "metadata": {},
   "source": [
    "`bnlearn` se basa en las herramientas disponibles en el paquete `Rgraphviz` para dibujar estructuras gráficas, a través de la función `graphviz.plot`. De hecho, la llamada a esta función con todos los argumentos por defecto da lugar a los gráficos que hemos visto anteriormente usando directamente `plot`.\n",
    "\n",
    "Una operación típica es resaltar un nodo(s) en particular. Por ejemplo, si queremos significar una conectividad de tipo convergente ([recuerda aquí](#dag.struc)) en nuestro grafo, podemos hacerlo del siguiente modo: Primero, vamos a definir el color gris para todos los nodos del DAG:"
   ]
  },
  {
   "cell_type": "code",
   "execution_count": 77,
   "metadata": {},
   "outputs": [],
   "source": [
    "hlight <- list(nodes = nodes(dag), arcs = arcs(dag), col = \"grey\", textCol = \"grey\")"
   ]
  },
  {
   "cell_type": "markdown",
   "metadata": {},
   "source": [
    "A continuación, le pasamos esta lista de especificaciones a la función `graphviz.plot` a través de su argumento `highlight`:"
   ]
  },
  {
   "cell_type": "code",
   "execution_count": 78,
   "metadata": {},
   "outputs": [
    {
     "data": {
      "text/html": [
       "'graphNEL'"
      ],
      "text/latex": [
       "'graphNEL'"
      ],
      "text/markdown": [
       "'graphNEL'"
      ],
      "text/plain": [
       "[1] \"graphNEL\"\n",
       "attr(,\"package\")\n",
       "[1] \"graph\""
      ]
     },
     "metadata": {},
     "output_type": "display_data"
    },
    {
     "data": {
      "image/png": "[encoded data removed]",
      "text/plain": [
       "plot without title"
      ]
     },
     "metadata": {},
     "output_type": "display_data"
    }
   ],
   "source": [
    "pp <- graphviz.plot(dag, highlight = hlight)\n",
    "class(pp)"
   ]
  },
  {
   "cell_type": "markdown",
   "metadata": {},
   "source": [
    "El aspecto de los arcos se puede modificar utilizando `edgeRenderInfo`, y una lista cuyos elementos son los elementos gráficos que se desea modificar:"
   ]
  },
  {
   "cell_type": "code",
   "execution_count": 79,
   "metadata": {},
   "outputs": [],
   "source": [
    "edgeRenderInfo(pp) <- list(col = c(\"A~E\" = \"black\", \"S~E\" = \"black\"), # color\n",
    "                           lwd = c(\"A~E\" = 2.5, \"S~E\" = 2.5)) # grosor"
   ]
  },
  {
   "cell_type": "markdown",
   "metadata": {},
   "source": [
    "Del mismo modo, manipulamos el aspecto de los nodos con `nodeRenderInfo`:"
   ]
  },
  {
   "cell_type": "code",
   "execution_count": 80,
   "metadata": {},
   "outputs": [],
   "source": [
    "nodeRenderInfo(pp) <- list(col = c(\"S\" = \"black\", \"E\" = \"black\", \"A\" = \"black\"),\n",
    "                           textCol = c(\"S\" = \"black\", \"E\" = \"black\", \"A\" = \"black\"),\n",
    "                           fill = c(\"E\" = \"grey\"))"
   ]
  },
  {
   "cell_type": "markdown",
   "metadata": {},
   "source": [
    "Una vez introducidas todas las modificaciones, se pinta el grafo con `renderGraph`:"
   ]
  },
  {
   "cell_type": "code",
   "execution_count": 81,
   "metadata": {},
   "outputs": [
    {
     "data": {
      "image/png": "[encoded data removed]",
      "text/plain": [
       "plot without title"
      ]
     },
     "metadata": {},
     "output_type": "display_data"
    }
   ],
   "source": [
    "renderGraph(pp)"
   ]
  },
  {
   "cell_type": "markdown",
   "metadata": {},
   "source": [
    "Otro ejemplo de personalizacion consiste en resaltar las v-estructuras del grafo:"
   ]
  },
  {
   "cell_type": "code",
   "execution_count": 82,
   "metadata": {},
   "outputs": [
    {
     "data": {
      "image/png": "[encoded data removed]",
      "text/plain": [
       "plot without title"
      ]
     },
     "metadata": {},
     "output_type": "display_data"
    }
   ],
   "source": [
    "hl <- list(arcs = vstructs(dag, arcs = TRUE), lwd = 4, col = \"red\")\n",
    "graphviz.plot(dag, highlight = hl)"
   ]
  },
  {
   "cell_type": "markdown",
   "metadata": {},
   "source": [
    "Existen además otras posibles configuraciones para representar los DAG. Estas son las alternativas que ofrece la función `graphviz.plot`, y que se encuentran documentadas en la viñeta del paquete `Rgraphviz`:"
   ]
  },
  {
   "cell_type": "code",
   "execution_count": 83,
   "metadata": {},
   "outputs": [
    {
     "data": {
      "image/png": "[encoded data removed]",
      "text/plain": [
       "plot without title"
      ]
     },
     "metadata": {},
     "output_type": "display_data"
    }
   ],
   "source": [
    "# Valor por defecto (layout = \"dot\"):\n",
    "# graphviz.plot(dag, highlight = hl, layout = \"dot\")\n",
    "par(mfrow = c(2,2))\n",
    "for (i in c(\"neato\", \"twopi\", \"circo\", \"fdp\")) {\n",
    "      graphviz.plot(dag, highlight = hl, layout = i, main = toupper(i))\n",
    "}"
   ]
  },
  {
   "cell_type": "markdown",
   "metadata": {},
   "source": [
    "### 4.2 Gráficos de distribución de probabilidades condicionales"
   ]
  },
  {
   "cell_type": "markdown",
   "metadata": {},
   "source": [
    "Se trata de gráficos de gran utilidad en el análisis y exploración del modelo. Las funciones implementadas en `bnlearn` se basan en las herramientas del potente paquete `lattice` para visualización de datos multivariantes."
   ]
  },
  {
   "cell_type": "code",
   "execution_count": 84,
   "metadata": {},
   "outputs": [
    {
     "data": {
      "image/png": "[encoded data removed]",
      "text/plain": [
       "plot without title"
      ]
     },
     "metadata": {},
     "output_type": "display_data"
    },
    {
     "data": {
      "image/png": "[encoded data removed]",
      "text/plain": [
       "plot without title"
      ]
     },
     "metadata": {},
     "output_type": "display_data"
    }
   ],
   "source": [
    "# Barras\n",
    "bn.fit.barchart(bn$T, main = \"Travel\", xlab = \"Pr(T | R,O)\", ylab = \"estado de T\")\n",
    "# Puntos\n",
    "bn.fit.dotplot(bn$T, main = \"Travel\", xlab = \"Pr(T | R,O)\", ylab = \"estado de T\")"
   ]
  },
  {
   "cell_type": "markdown",
   "metadata": {},
   "source": [
    "## 5 Ejemplo: Clasificador Bayesiano Ingenuo"
   ]
  },
  {
   "cell_type": "markdown",
   "metadata": {},
   "source": [
    "Definimos la tabla de datos:"
   ]
  },
  {
   "cell_type": "code",
   "execution_count": 85,
   "metadata": {},
   "outputs": [],
   "source": [
    "variables.Names <- c(\"Outlook\",\"Temperature\",\"Humidity\",\"Windy\",\"Play Golf\")\n",
    "sample.Number <- c(1:14)\n",
    "data.table <- array(c(\"Rainy\",\"Rainy\",\"Overcast\",\"Sunny\",\"Sunny\",\"Sunny\",\"Overcast\",\"Rainy\",\"Rainy\",\"Sunny\",\"Rainy\",\"Overcast\",\"Overcast\",\"Sunny\",\n",
    "                      \"Hot\",\"Hot\",\"Hot\",\"Mild\",\"Cool\",\"Cool\",\"Cool\",\"Mild\",\"Cool\",\"Mild\",\"Mild\",\"Mild\",\"Hot\",\"Mild\",\n",
    "                      \"High\",\"High\",\"High\",\"High\",\"Normal\",\"Normal\",\"Normal\",\"High\",\"Normal\",\"Normal\",\"Normal\",\"High\",\"Normal\",\"High\",\n",
    "                      \"False\",\"True\",\"False\",\"False\",\"False\",\"True\",\"True\",\"False\",\"False\",\"False\",\"True\",\"True\",\"False\",\"True\",\n",
    "                      \"No\",\"No\",\"Yes\",\"Yes\",\"Yes\",\"No\",\"Yes\",\"No\",\"Yes\",\"Yes\",\"Yes\",\"Yes\",\"Yes\",\"No\"),\n",
    "                    dim = c(14,5),\n",
    "                    dimnames = list(event = sample.Number, variable = variables.Names))\n",
    "estados.O <- c(\"Rainy\",\"Overcast\",\"Sunny\")\n",
    "estados.T <- c(\"Hot\",\"Mild\",\"Cool\")\n",
    "estados.H <- c(\"Normal\",\"High\")\n",
    "estados.W <- c(\"True\",\"False\")\n",
    "estados.G <- c(\"Yes\",\"No\")"
   ]
  },
  {
   "cell_type": "markdown",
   "metadata": {},
   "source": [
    "Definimos el grafo:"
   ]
  },
  {
   "cell_type": "code",
   "execution_count": 86,
   "metadata": {},
   "outputs": [
    {
     "data": {
      "text/html": [
       "'[G][O|G][T|G][H|G][W|G]'"
      ],
      "text/latex": [
       "'{[}G{]}{[}O\\textbar{}G{]}{[}T\\textbar{}G{]}{[}H\\textbar{}G{]}{[}W\\textbar{}G{]}'"
      ],
      "text/markdown": [
       "'[G][O|G][T|G][H|G][W|G]'"
      ],
      "text/plain": [
       "[1] \"[G][O|G][T|G][H|G][W|G]\""
      ]
     },
     "metadata": {},
     "output_type": "display_data"
    }
   ],
   "source": [
    "dag <- empty.graph(nodes = c(\"O\", \"T\", \"H\", \"W\", \"G\"))\n",
    "dag <- set.arc(dag, from = \"G\", to = \"O\")\n",
    "dag <- set.arc(dag, from = \"G\", to = \"T\")\n",
    "dag <- set.arc(dag, from = \"G\", to = \"H\")\n",
    "dag <- set.arc(dag, from = \"G\", to = \"W\")\n",
    "modelstring(dag)"
   ]
  },
  {
   "cell_type": "markdown",
   "metadata": {},
   "source": [
    "Representamos el grafo:"
   ]
  },
  {
   "cell_type": "code",
   "execution_count": 87,
   "metadata": {},
   "outputs": [
    {
     "data": {
      "image/png": "[encoded data removed]",
      "text/plain": [
       "plot without title"
      ]
     },
     "metadata": {},
     "output_type": "display_data"
    }
   ],
   "source": [
    "plot(dag)"
   ]
  },
  {
   "cell_type": "markdown",
   "metadata": {},
   "source": [
    "Definimos las tablas de probabilidad:"
   ]
  },
  {
   "cell_type": "code",
   "execution_count": 88,
   "metadata": {},
   "outputs": [],
   "source": [
    "G.prob <- array(c(length(which(data.table[,\"Play Golf\"] == \"Yes\")), \n",
    "                  length(which(data.table[,\"Play Golf\"] == \"No\")))/length(data.table[,\"Play Golf\"]), \n",
    "                dim = 2, \n",
    "                dimnames = list(G = estados.G))\n",
    "O.prob <- array(data = 0, \n",
    "                dim = c(length(estados.O),length(estados.G)), \n",
    "                dimnames = list(O = estados.O, G = estados.G))\n",
    "T.prob <- array(data = 0, \n",
    "                dim = c(length(estados.T),length(estados.G)), \n",
    "                dimnames = list(T = estados.T, G = estados.G))\n",
    "H.prob <- array(data = 0, \n",
    "                dim = c(length(estados.H),length(estados.G)), \n",
    "                dimnames = list(H = estados.H, G = estados.G))\n",
    "W.prob <- array(data = 0, \n",
    "                dim = c(length(estados.W),length(estados.G)), \n",
    "                dimnames = list(W = estados.W, G = estados.G))"
   ]
  },
  {
   "cell_type": "code",
   "execution_count": 89,
   "metadata": {},
   "outputs": [],
   "source": [
    "for (g in 1:length(estados.G)){\n",
    "  for (o in 1:length(estados.O)){\n",
    "    O.prob[o,g] <- length(which(data.table[,\"Play Golf\"] == estados.G[g] & \n",
    "                                data.table[,\"Outlook\"] == estados.O[o]))/length(which(data.table[,\"Play Golf\"] == estados.G[g]))\n",
    "  }\n",
    "  for (t in 1:length(estados.T)){\n",
    "    T.prob[t,g] <- length(which(data.table[,\"Play Golf\"] == estados.G[g] & \n",
    "                                data.table[,\"Temperature\"] == estados.T[t]))/length(which(data.table[,\"Play Golf\"] == estados.G[g]))\n",
    "  }\n",
    "  for (h in 1:length(estados.H)){\n",
    "    H.prob[h,g] <- length(which(data.table[,\"Play Golf\"] == estados.G[g] & \n",
    "                                data.table[,\"Humidity\"] == estados.H[h]))/length(which(data.table[,\"Play Golf\"] == estados.G[g]))\n",
    "  }\n",
    "  for (w in 1:length(estados.W)){\n",
    "    W.prob[w,g] <- length(which(data.table[,\"Play Golf\"] == estados.G[g] & \n",
    "                                data.table[,\"Windy\"] == estados.W[w]))/length(which(data.table[,\"Play Golf\"] == estados.G[g]))\n",
    "  }\n",
    "}"
   ]
  },
  {
   "cell_type": "markdown",
   "metadata": {},
   "source": [
    "Con el grafo y la tabla de probabilidades podemos definir la Red Bayesiana:"
   ]
  },
  {
   "cell_type": "code",
   "execution_count": 90,
   "metadata": {},
   "outputs": [],
   "source": [
    "cpt <- list(G = G.prob, O = O.prob, T = T.prob, H = H.prob, W = W.prob)\n",
    "bn <- custom.fit(dag, cpt)"
   ]
  },
  {
   "cell_type": "markdown",
   "metadata": {},
   "source": [
    "¿Se podría jugar al Golf hoy? "
   ]
  },
  {
   "cell_type": "code",
   "execution_count": 91,
   "metadata": {},
   "outputs": [],
   "source": [
    "#library(gRain)\n",
    "junction <- compile(as.grain(bn))"
   ]
  },
  {
   "cell_type": "markdown",
   "metadata": {},
   "source": [
    "Considerando la inferencia exacta:"
   ]
  },
  {
   "cell_type": "code",
   "execution_count": 92,
   "metadata": {},
   "outputs": [
    {
     "name": "stdout",
     "output_type": "stream",
     "text": [
      "G\n",
      "Yes  No \n",
      "  1   0 \n"
     ]
    }
   ],
   "source": [
    "jsex <- setEvidence(junction, nodes = c(\"O\",\"T\",\"H\",\"W\"), states = c(\"Overcast\",\"Cool\",\"Normal\",\"True\"))\n",
    "print(querygrain(jsex, nodes = \"G\")$G)"
   ]
  },
  {
   "cell_type": "markdown",
   "metadata": {},
   "source": [
    "Considerando la inferencia aproximada:"
   ]
  },
  {
   "cell_type": "code",
   "execution_count": 93,
   "metadata": {},
   "outputs": [
    {
     "data": {
      "text/html": [
       "1"
      ],
      "text/latex": [
       "1"
      ],
      "text/markdown": [
       "1"
      ],
      "text/plain": [
       "[1] 1"
      ]
     },
     "metadata": {},
     "output_type": "display_data"
    }
   ],
   "source": [
    "set.seed(1)\n",
    "cpquery(bn, event = (G == \"Yes\"),\n",
    "        evidence = ((O == \"Overcast\") & (T == \"Cool\") & (H == \"Normal\") & (W == \"True\")))"
   ]
  },
  {
   "cell_type": "markdown",
   "metadata": {},
   "source": [
    "##  6 Referencias"
   ]
  },
  {
   "cell_type": "markdown",
   "metadata": {},
   "source": [
    "* Gutiérrez, J.M., Cano, R., Cofiño, A.S., Sordo, C., 2004. Redes probabilísticas y neuronales en las ciencias atmosféricas. Centro de Publicaciones, Ministerio de Medio Ambiente, Madrid, Spain.\n",
    "\n",
    "* Scutari, M., Denis, J.-B., 2014. Bayesian networks: with examples in R.\n",
    "\n",
    "* Scutari, M., 2014. Bayesian Network Constraint-Based Structure Learning Algorithms: Parallel and Optimised Implementations in the bnlearn R Package. http://arxiv.org/abs/1406.7648\n",
    "\n",
    "* r-bayesian-networks. http://www.r-bayesian-networks.org/ (Last accessed 18 Nov 2017)\n",
    "\n",
    "* Nagarajan, R., Scutari, M. and Lèbre, S. 2013. Bayesian networks in R: with applications in systems biology, Use R! Springer, New York."
   ]
  },
  {
   "cell_type": "markdown",
   "metadata": {},
   "source": [
    "## 7 Session info"
   ]
  },
  {
   "cell_type": "code",
   "execution_count": 94,
   "metadata": {},
   "outputs": [
    {
     "name": "stdout",
     "output_type": "stream",
     "text": [
      "R version 3.4.4 (2018-03-15)\n",
      "Platform: x86_64-pc-linux-gnu (64-bit)\n",
      "Running under: Ubuntu 18.04.1 LTS\n",
      "\n",
      "Matrix products: default\n",
      "BLAS: /usr/lib/x86_64-linux-gnu/blas/libblas.so.3.7.1\n",
      "LAPACK: /usr/lib/x86_64-linux-gnu/lapack/liblapack.so.3.7.1\n",
      "\n",
      "locale:\n",
      " [1] LC_CTYPE=en_US.UTF-8       LC_NUMERIC=C              \n",
      " [3] LC_TIME=en_US.UTF-8        LC_COLLATE=en_US.UTF-8    \n",
      " [5] LC_MONETARY=en_US.UTF-8    LC_MESSAGES=en_US.UTF-8   \n",
      " [7] LC_PAPER=en_US.UTF-8       LC_NAME=C                 \n",
      " [9] LC_ADDRESS=C               LC_TELEPHONE=C            \n",
      "[11] LC_MEASUREMENT=en_US.UTF-8 LC_IDENTIFICATION=C       \n",
      "\n",
      "attached base packages:\n",
      "[1] grid      parallel  stats     graphics  grDevices utils     datasets \n",
      "[8] methods   base     \n",
      "\n",
      "other attached packages:\n",
      "[1] Rgraphviz_2.22.0    gRain_1.3-0         gRbase_1.8-3.4     \n",
      "[4] RBGL_1.54.0         graph_1.56.0        BiocGenerics_0.24.0\n",
      "[7] bnlearn_4.4.1      \n",
      "\n",
      "loaded via a namespace (and not attached):\n",
      " [1] igraph_1.2.2         Rcpp_1.0.0           magrittr_1.5        \n",
      " [4] uuid_0.1-2           lattice_0.20-35      stringr_1.3.1       \n",
      " [7] tools_3.4.4          functional_0.6       htmltools_0.3.6     \n",
      "[10] digest_0.6.18        crayon_1.3.4         Matrix_1.2-14       \n",
      "[13] IRdisplay_0.6        repr_0.15.0          base64enc_0.1-3     \n",
      "[16] IRkernel_0.8.12.9000 evaluate_0.11        pbdZMQ_0.3-3        \n",
      "[19] stringi_1.2.4        compiler_3.4.4       stats4_3.4.4        \n",
      "[22] jsonlite_1.6         pkgconfig_2.0.2     \n"
     ]
    }
   ],
   "source": [
    "print(sessionInfo())"
   ]
  },
  {
   "cell_type": "markdown",
   "metadata": {},
   "source": [
    "## ::GMG:: Mis notas de clase"
   ]
  },
  {
   "cell_type": "code",
   "execution_count": 2,
   "metadata": {},
   "outputs": [],
   "source": [
    "dag <- empty.graph(nodes = c(\"Play\", \"O\", \"T\", \"H\", \"W\"))"
   ]
  },
  {
   "cell_type": "code",
   "execution_count": 3,
   "metadata": {},
   "outputs": [
    {
     "data": {
      "image/png": "[encoded data removed]",
      "text/plain": [
       "plot without title"
      ]
     },
     "metadata": {},
     "output_type": "display_data"
    }
   ],
   "source": [
    "dag <- set.arc(dag, from = \"Play\", to = \"O\") \n",
    "dag <- set.arc(dag, from = \"Play\", to = \"T\") \n",
    "dag <- set.arc(dag, from = \"Play\", to = \"H\") \n",
    "dag <- set.arc(dag, from = \"Play\", to = \"W\") \n",
    "plot (dag)"
   ]
  },
  {
   "cell_type": "code",
   "execution_count": 5,
   "metadata": {},
   "outputs": [
    {
     "data": {
      "text/html": [
       "'[Play][O|Play][T|Play][H|Play][W|Play]'"
      ],
      "text/latex": [
       "'{[}Play{]}{[}O\\textbar{}Play{]}{[}T\\textbar{}Play{]}{[}H\\textbar{}Play{]}{[}W\\textbar{}Play{]}'"
      ],
      "text/markdown": [
       "'[Play][O|Play][T|Play][H|Play][W|Play]'"
      ],
      "text/plain": [
       "[1] \"[Play][O|Play][T|Play][H|Play][W|Play]\""
      ]
     },
     "metadata": {},
     "output_type": "display_data"
    }
   ],
   "source": [
    "#::GMG::Factorización\n",
    "modelstring(dag)"
   ]
  },
  {
   "cell_type": "code",
   "execution_count": 6,
   "metadata": {},
   "outputs": [],
   "source": [
    "estados.Play <- c(\"Yes\", \"No\")\n",
    "estados.O <- c(\"Rainy\", \"Overcast\", \"Sunny\")\n",
    "estados.T <- c(\"Hot\", \"Mild\", \"Cold\")\n",
    "estados.H <- c(\"High\",\"Normal\")\n",
    "estados.W <- c(\"False\",\"True\")"
   ]
  },
  {
   "cell_type": "code",
   "execution_count": 11,
   "metadata": {},
   "outputs": [],
   "source": [
    "tennis <- read.csv('data/tennis.csv')"
   ]
  },
  {
   "cell_type": "code",
   "execution_count": 12,
   "metadata": {},
   "outputs": [
    {
     "name": "stdout",
     "output_type": "stream",
     "text": [
      "'data.frame':\t14 obs. of  5 variables:\n",
      " $ outlook : Factor w/ 3 levels \"overcast\",\"rainy\",..: 3 3 1 2 2 2 1 3 3 2 ...\n",
      " $ temp    : Factor w/ 3 levels \"cool\",\"hot\",\"mild\": 2 2 2 3 1 1 1 3 1 3 ...\n",
      " $ humidity: Factor w/ 2 levels \"high\",\"normal\": 1 1 1 1 2 2 2 1 2 2 ...\n",
      " $ windy   : Factor w/ 2 levels \"false\",\"true\": 1 2 1 1 1 2 2 1 1 1 ...\n",
      " $ play    : Factor w/ 2 levels \"no\",\"yes\": 1 1 2 2 2 1 2 1 2 2 ...\n"
     ]
    }
   ],
   "source": [
    "str(tennis)"
   ]
  },
  {
   "cell_type": "code",
   "execution_count": 16,
   "metadata": {},
   "outputs": [
    {
     "data": {
      "text/plain": [
       "          \n",
       "           no yes\n",
       "  overcast  0   4\n",
       "  rainy     2   3\n",
       "  sunny     3   2"
      ]
     },
     "metadata": {},
     "output_type": "display_data"
    }
   ],
   "source": [
    "# https://stackoverflow.com/questions/27969616/add-column-sum-to-table\n",
    "O_prob <- table(tennis$outlook, tennis$play)\n",
    "O_prob"
   ]
  },
  {
   "cell_type": "code",
   "execution_count": 17,
   "metadata": {},
   "outputs": [],
   "source": [
    "O_prob <- rbind(O_prob, Total = colSums(O_prob))"
   ]
  },
  {
   "cell_type": "code",
   "execution_count": 18,
   "metadata": {},
   "outputs": [
    {
     "data": {
      "text/html": [
       "<table>\n",
       "<thead><tr><th></th><th scope=col>no</th><th scope=col>yes</th></tr></thead>\n",
       "<tbody>\n",
       "\t<tr><th scope=row>overcast</th><td>0</td><td>4</td></tr>\n",
       "\t<tr><th scope=row>rainy</th><td>2</td><td>3</td></tr>\n",
       "\t<tr><th scope=row>sunny</th><td>3</td><td>2</td></tr>\n",
       "\t<tr><th scope=row>Total</th><td>5</td><td>9</td></tr>\n",
       "</tbody>\n",
       "</table>\n"
      ],
      "text/latex": [
       "\\begin{tabular}{r|ll}\n",
       "  & no & yes\\\\\n",
       "\\hline\n",
       "\tovercast & 0 & 4\\\\\n",
       "\trainy & 2 & 3\\\\\n",
       "\tsunny & 3 & 2\\\\\n",
       "\tTotal & 5 & 9\\\\\n",
       "\\end{tabular}\n"
      ],
      "text/markdown": [
       "\n",
       "| <!--/--> | no | yes | \n",
       "|---|---|---|---|\n",
       "| overcast | 0 | 4 | \n",
       "| rainy | 2 | 3 | \n",
       "| sunny | 3 | 2 | \n",
       "| Total | 5 | 9 | \n",
       "\n",
       "\n"
      ],
      "text/plain": [
       "         no yes\n",
       "overcast 0  4  \n",
       "rainy    2  3  \n",
       "sunny    3  2  \n",
       "Total    5  9  "
      ]
     },
     "metadata": {},
     "output_type": "display_data"
    }
   ],
   "source": [
    "O_prob"
   ]
  },
  {
   "cell_type": "code",
   "execution_count": null,
   "metadata": {},
   "outputs": [],
   "source": []
  },
  {
   "cell_type": "code",
   "execution_count": null,
   "metadata": {},
   "outputs": [],
   "source": [
    "#::GMG::todos los hijos tienen un padre\n",
    "# nrows es el de las variables hijas\n",
    "# ncols es el número de estados de play\n",
    "# https://www.geeksforgeeks.org/naive-bayes-classifiers/\n"
   ]
  }
 ],
 "metadata": {
  "kernelspec": {
   "display_name": "R",
   "language": "R",
   "name": "ir"
  },
  "language_info": {
   "codemirror_mode": "r",
   "file_extension": ".r",
   "mimetype": "text/x-r-source",
   "name": "R",
   "pygments_lexer": "r",
   "version": "3.4.4"
  }
 },
 "nbformat": 4,
 "nbformat_minor": 2
}
