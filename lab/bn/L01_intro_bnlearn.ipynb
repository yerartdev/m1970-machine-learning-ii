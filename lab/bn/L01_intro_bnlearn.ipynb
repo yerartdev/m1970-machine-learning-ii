{
 "cells": [
  {
   "cell_type": "markdown",
   "metadata": {},
   "source": [
    "# Redes Bayesianas Discretas: Introducción a Bnlearn\n",
    "\n",
    "Master in Data Science - Machine Learning II\n",
    "\n",
    "Santander Meteorology Group,\n",
    "\n",
    "Profesor: Mikel N. Legasa (legasam@unican.es)\n",
    "\n",
    "6 Mar 2018"
   ]
  },
  {
   "cell_type": "markdown",
   "metadata": {},
   "source": [
    "La presente práctica esta concebida como una primera aproximación a los fundamentos de las redes bayesianas, encargándonos simplemente de la modelización de variables discretas mediante una red bayesiana siguiendo el esquema:\n",
    "\n",
    "  - [Introducción](#1-Introducción)\n",
    "  - [Construcción de la red bayesiana](#2-Construcción-de-la-Red-Bayesiana), tanto su estructura (Construcción del DAG) y sus parámetros (Construcción de las tablas de probabilidad condicionada)\n",
    "  - Obtención de información cualitativa a partir del grafo (Consultas al grafo).\n",
    "\n",
    "Con la idea de familiarizarnos con la librería bnlearn y sus estructuras y funciones."
   ]
  },
  {
   "cell_type": "markdown",
   "metadata": {},
   "source": [
    "## 1 Introducción"
   ]
  },
  {
   "cell_type": "markdown",
   "metadata": {},
   "source": [
    "### 1.1 Dataset de ejemplo: ‘survey’"
   ]
  },
  {
   "cell_type": "markdown",
   "metadata": {},
   "source": [
    "Utilizaremos los datos de una encuesta sobre utilización de medios de transporte, donde cada variable tiene un número finito de posibles estados. A partir de los datos de campo recogidos por la encuesta, se investigará la selección de medios de transporte por distintos perfiles de usuarios, y particularmente la preferencia de tren o coche. Este tipo de análisis se utiliza con frecuencia en la planificación de infraestructuras. Para cada individuo encuestado, se han recopilado datos referentes a 6 variables discretas. Las abreviaturas de dichas variables se muestran entre paréntesis (original del dataset en inglés), y se utilizarán a lo largo de la práctica para referirse a los nodos de la red creada.\n",
    "\n",
    "  - Edad (A): Edad del encuestado: joven (young, < 30 años), adulto (adult, 30 < edad <= 60) y anciano (old, edad > 60).\n",
    "  - Sexo (S): Sexo del encuestado: masculino (M) y femenino (F).\n",
    "  - Educación (E): Nivel más alto de educación alcanzado: Hasta educación secundaria (high) o título universitario (uni).\n",
    "  - Ocupación (O): trabajador por cuenta ajena (emp) o autónomo (self).\n",
    "  - Residencia (R): Tamaño de la población de residencia del individuo: big y small.\n",
    "  - Transporte (T): Medio de transporte más utilizado por el encuestado para acudir al trabajo: car, train y other."
   ]
  },
  {
   "cell_type": "markdown",
   "metadata": {},
   "source": [
    "### 1.2 Paquetes de R necesarios"
   ]
  },
  {
   "cell_type": "markdown",
   "metadata": {},
   "source": [
    "Se utilizará el paquete de R bnlearn (bayesian network learning), disponible a través de CRAN:\n",
    "\n",
    "```r\n",
    "install.packages(\"bnlearn\")\n",
    "```\n",
    "\n",
    "Además, se necesitan dependencias adicionales que no están en CRAN, sinó en Bioconductor:\n",
    "\n",
    "```r\n",
    "# (bioconductor)\n",
    "source(\"http://bioconductor.org/biocLite.R\")\n",
    "\n",
    "# Para la inferencia\n",
    "biocLite(\"RBGL\")\n",
    "# Para la parte de visualización de grafos:\n",
    "biocLite(\"Rgraphviz\")\n",
    "# Para manejo de grafos:\n",
    "# Paquete gRain\n",
    "install.packages(\"gRain\")\n",
    "```"
   ]
  },
  {
   "cell_type": "code",
   "execution_count": 1,
   "metadata": {},
   "outputs": [
    {
     "name": "stderr",
     "output_type": "stream",
     "text": [
      "\n",
      "Attaching package: ‘bnlearn’\n",
      "\n",
      "The following object is masked from ‘package:stats’:\n",
      "\n",
      "    sigma\n",
      "\n"
     ]
    }
   ],
   "source": [
    "#::GMG::Yo ya instalé esos paquetes en la sesión lab de introducción\n",
    "#       Ahora cargo la biblioteca que necesito\n",
    "library('bnlearn')"
   ]
  },
  {
   "cell_type": "markdown",
   "metadata": {},
   "source": [
    "## 2 Construcción de la Red Bayesiana"
   ]
  },
  {
   "cell_type": "markdown",
   "metadata": {},
   "source": [
    "### 2.1 Construcción del DAG"
   ]
  },
  {
   "cell_type": "markdown",
   "metadata": {},
   "source": [
    "Para estos datos trataremos de [construir manualmente un grafo](http://www.bnlearn.com/examples/dag/) que verifique $⊥_G ⇒ ⊥_P$, tratando de definir las dependencias e independencias que consideremos intuitivamente que se dan entre las variables, con el objetivo final de modelizar los datos, i.e. de aproximar la Distribución de Probabilidad Conjunta de los datos $P$.\n",
    "\n",
    "Para crear un grafo que contenga un nodo por cada variable considerada en la encuesta utilizamos la función [`empty.graph()`](http://www.bnlearn.com/documentation/man/graphgen.html), que pertenece a *bnlearn* e inicializa un grafo vacío como clase bn:"
   ]
  },
  {
   "cell_type": "code",
   "execution_count": 2,
   "metadata": {},
   "outputs": [
    {
     "data": {
      "text/html": [
       "'bn'"
      ],
      "text/latex": [
       "'bn'"
      ],
      "text/markdown": [
       "'bn'"
      ],
      "text/plain": [
       "[1] \"bn\""
      ]
     },
     "metadata": {},
     "output_type": "display_data"
    }
   ],
   "source": [
    "#::GMG::Creo de forma \"experta\" (custom) el dag de survey\n",
    "# http://www.bnlearn.com/examples/dag/\n",
    "#::nota::el orden de los nodos es relevante en la visualización\n",
    "#        ya que aparecen en el orden en que aparecen en el dataset\n",
    "# A\t\tR\tE\tO\tS\tT\n",
    "dag <- empty.graph(nodes = c(\"A\", \"R\", \"E\", \"O\", \"S\", \"T\"))\n",
    "class(dag)"
   ]
  },
  {
   "cell_type": "markdown",
   "metadata": {},
   "source": [
    "Nombramos a nuestro grafo vacío `dag` (*directed acyclic graph*). Esta es la información contenida en el grafo:"
   ]
  },
  {
   "cell_type": "code",
   "execution_count": 3,
   "metadata": {},
   "outputs": [
    {
     "name": "stdout",
     "output_type": "stream",
     "text": [
      "\n",
      "  Random/Generated Bayesian network\n",
      "\n",
      "  model:\n",
      "   [A][R][E][O][S][T] \n",
      "  nodes:                                 6 \n",
      "  arcs:                                  0 \n",
      "    undirected arcs:                     0 \n",
      "    directed arcs:                       0 \n",
      "  average markov blanket size:           0.00 \n",
      "  average neighbourhood size:            0.00 \n",
      "  average branching factor:              0.00 \n",
      "\n",
      "  generation algorithm:                  Empty \n",
      "\n"
     ]
    }
   ],
   "source": [
    "print(dag)"
   ]
  },
  {
   "cell_type": "markdown",
   "metadata": {},
   "source": [
    "Este objeto se organiza como una lista, de manera que podemos acceder a sus elementos mediante `dag$learning`, etc…"
   ]
  },
  {
   "cell_type": "code",
   "execution_count": 4,
   "metadata": {},
   "outputs": [
    {
     "data": {
      "text/html": [
       "<dl>\n",
       "\t<dt>$whitelist</dt>\n",
       "\t\t<dd>NULL</dd>\n",
       "\t<dt>$blacklist</dt>\n",
       "\t\t<dd>NULL</dd>\n",
       "\t<dt>$test</dt>\n",
       "\t\t<dd>'none'</dd>\n",
       "\t<dt>$ntests</dt>\n",
       "\t\t<dd>0</dd>\n",
       "\t<dt>$algo</dt>\n",
       "\t\t<dd>'empty'</dd>\n",
       "\t<dt>$args</dt>\n",
       "\t\t<dd><ol>\n",
       "</ol>\n",
       "</dd>\n",
       "</dl>\n"
      ],
      "text/latex": [
       "\\begin{description}\n",
       "\\item[\\$whitelist] NULL\n",
       "\\item[\\$blacklist] NULL\n",
       "\\item[\\$test] 'none'\n",
       "\\item[\\$ntests] 0\n",
       "\\item[\\$algo] 'empty'\n",
       "\\item[\\$args] \\begin{enumerate}\n",
       "\\end{enumerate}\n",
       "\n",
       "\\end{description}\n"
      ],
      "text/markdown": [
       "$whitelist\n",
       ":   NULL\n",
       "$blacklist\n",
       ":   NULL\n",
       "$test\n",
       ":   'none'\n",
       "$ntests\n",
       ":   0\n",
       "$algo\n",
       ":   'empty'\n",
       "$args\n",
       ":   \n",
       "\n",
       "\n",
       "\n",
       "\n"
      ],
      "text/plain": [
       "$whitelist\n",
       "NULL\n",
       "\n",
       "$blacklist\n",
       "NULL\n",
       "\n",
       "$test\n",
       "[1] \"none\"\n",
       "\n",
       "$ntests\n",
       "[1] 0\n",
       "\n",
       "$algo\n",
       "[1] \"empty\"\n",
       "\n",
       "$args\n",
       "list()\n"
      ]
     },
     "metadata": {},
     "output_type": "display_data"
    }
   ],
   "source": [
    "#::GMG::Pruebo esa estructura (me puede ser útil en el futuro)\n",
    "# http://www.bnlearn.com/documentation/man/bn.fit.class.html\n",
    "dag$learning"
   ]
  },
  {
   "cell_type": "code",
   "execution_count": 5,
   "metadata": {},
   "outputs": [
    {
     "data": {
      "text/html": [
       "<dl>\n",
       "\t<dt>$A</dt>\n",
       "\t\t<dd><dl>\n",
       "\t<dt>$mb</dt>\n",
       "\t\t<dd></dd>\n",
       "\t<dt>$nbr</dt>\n",
       "\t\t<dd></dd>\n",
       "\t<dt>$parents</dt>\n",
       "\t\t<dd></dd>\n",
       "\t<dt>$children</dt>\n",
       "\t\t<dd></dd>\n",
       "</dl>\n",
       "</dd>\n",
       "\t<dt>$R</dt>\n",
       "\t\t<dd><dl>\n",
       "\t<dt>$mb</dt>\n",
       "\t\t<dd></dd>\n",
       "\t<dt>$nbr</dt>\n",
       "\t\t<dd></dd>\n",
       "\t<dt>$parents</dt>\n",
       "\t\t<dd></dd>\n",
       "\t<dt>$children</dt>\n",
       "\t\t<dd></dd>\n",
       "</dl>\n",
       "</dd>\n",
       "\t<dt>$E</dt>\n",
       "\t\t<dd><dl>\n",
       "\t<dt>$mb</dt>\n",
       "\t\t<dd></dd>\n",
       "\t<dt>$nbr</dt>\n",
       "\t\t<dd></dd>\n",
       "\t<dt>$parents</dt>\n",
       "\t\t<dd></dd>\n",
       "\t<dt>$children</dt>\n",
       "\t\t<dd></dd>\n",
       "</dl>\n",
       "</dd>\n",
       "\t<dt>$O</dt>\n",
       "\t\t<dd><dl>\n",
       "\t<dt>$mb</dt>\n",
       "\t\t<dd></dd>\n",
       "\t<dt>$nbr</dt>\n",
       "\t\t<dd></dd>\n",
       "\t<dt>$parents</dt>\n",
       "\t\t<dd></dd>\n",
       "\t<dt>$children</dt>\n",
       "\t\t<dd></dd>\n",
       "</dl>\n",
       "</dd>\n",
       "\t<dt>$S</dt>\n",
       "\t\t<dd><dl>\n",
       "\t<dt>$mb</dt>\n",
       "\t\t<dd></dd>\n",
       "\t<dt>$nbr</dt>\n",
       "\t\t<dd></dd>\n",
       "\t<dt>$parents</dt>\n",
       "\t\t<dd></dd>\n",
       "\t<dt>$children</dt>\n",
       "\t\t<dd></dd>\n",
       "</dl>\n",
       "</dd>\n",
       "\t<dt>$T</dt>\n",
       "\t\t<dd><dl>\n",
       "\t<dt>$mb</dt>\n",
       "\t\t<dd></dd>\n",
       "\t<dt>$nbr</dt>\n",
       "\t\t<dd></dd>\n",
       "\t<dt>$parents</dt>\n",
       "\t\t<dd></dd>\n",
       "\t<dt>$children</dt>\n",
       "\t\t<dd></dd>\n",
       "</dl>\n",
       "</dd>\n",
       "</dl>\n"
      ],
      "text/latex": [
       "\\begin{description}\n",
       "\\item[\\$A] \\begin{description}\n",
       "\\item[\\$mb] \n",
       "\\item[\\$nbr] \n",
       "\\item[\\$parents] \n",
       "\\item[\\$children] \n",
       "\\end{description}\n",
       "\n",
       "\\item[\\$R] \\begin{description}\n",
       "\\item[\\$mb] \n",
       "\\item[\\$nbr] \n",
       "\\item[\\$parents] \n",
       "\\item[\\$children] \n",
       "\\end{description}\n",
       "\n",
       "\\item[\\$E] \\begin{description}\n",
       "\\item[\\$mb] \n",
       "\\item[\\$nbr] \n",
       "\\item[\\$parents] \n",
       "\\item[\\$children] \n",
       "\\end{description}\n",
       "\n",
       "\\item[\\$O] \\begin{description}\n",
       "\\item[\\$mb] \n",
       "\\item[\\$nbr] \n",
       "\\item[\\$parents] \n",
       "\\item[\\$children] \n",
       "\\end{description}\n",
       "\n",
       "\\item[\\$S] \\begin{description}\n",
       "\\item[\\$mb] \n",
       "\\item[\\$nbr] \n",
       "\\item[\\$parents] \n",
       "\\item[\\$children] \n",
       "\\end{description}\n",
       "\n",
       "\\item[\\$T] \\begin{description}\n",
       "\\item[\\$mb] \n",
       "\\item[\\$nbr] \n",
       "\\item[\\$parents] \n",
       "\\item[\\$children] \n",
       "\\end{description}\n",
       "\n",
       "\\end{description}\n"
      ],
      "text/markdown": [
       "$A\n",
       ":   $mb\n",
       ":   \n",
       "$nbr\n",
       ":   \n",
       "$parents\n",
       ":   \n",
       "$children\n",
       ":   \n",
       "\n",
       "\n",
       "\n",
       "$R\n",
       ":   $mb\n",
       ":   \n",
       "$nbr\n",
       ":   \n",
       "$parents\n",
       ":   \n",
       "$children\n",
       ":   \n",
       "\n",
       "\n",
       "\n",
       "$E\n",
       ":   $mb\n",
       ":   \n",
       "$nbr\n",
       ":   \n",
       "$parents\n",
       ":   \n",
       "$children\n",
       ":   \n",
       "\n",
       "\n",
       "\n",
       "$O\n",
       ":   $mb\n",
       ":   \n",
       "$nbr\n",
       ":   \n",
       "$parents\n",
       ":   \n",
       "$children\n",
       ":   \n",
       "\n",
       "\n",
       "\n",
       "$S\n",
       ":   $mb\n",
       ":   \n",
       "$nbr\n",
       ":   \n",
       "$parents\n",
       ":   \n",
       "$children\n",
       ":   \n",
       "\n",
       "\n",
       "\n",
       "$T\n",
       ":   $mb\n",
       ":   \n",
       "$nbr\n",
       ":   \n",
       "$parents\n",
       ":   \n",
       "$children\n",
       ":   \n",
       "\n",
       "\n",
       "\n",
       "\n",
       "\n"
      ],
      "text/plain": [
       "$A\n",
       "$A$mb\n",
       "character(0)\n",
       "\n",
       "$A$nbr\n",
       "character(0)\n",
       "\n",
       "$A$parents\n",
       "character(0)\n",
       "\n",
       "$A$children\n",
       "character(0)\n",
       "\n",
       "\n",
       "$R\n",
       "$R$mb\n",
       "character(0)\n",
       "\n",
       "$R$nbr\n",
       "character(0)\n",
       "\n",
       "$R$parents\n",
       "character(0)\n",
       "\n",
       "$R$children\n",
       "character(0)\n",
       "\n",
       "\n",
       "$E\n",
       "$E$mb\n",
       "character(0)\n",
       "\n",
       "$E$nbr\n",
       "character(0)\n",
       "\n",
       "$E$parents\n",
       "character(0)\n",
       "\n",
       "$E$children\n",
       "character(0)\n",
       "\n",
       "\n",
       "$O\n",
       "$O$mb\n",
       "character(0)\n",
       "\n",
       "$O$nbr\n",
       "character(0)\n",
       "\n",
       "$O$parents\n",
       "character(0)\n",
       "\n",
       "$O$children\n",
       "character(0)\n",
       "\n",
       "\n",
       "$S\n",
       "$S$mb\n",
       "character(0)\n",
       "\n",
       "$S$nbr\n",
       "character(0)\n",
       "\n",
       "$S$parents\n",
       "character(0)\n",
       "\n",
       "$S$children\n",
       "character(0)\n",
       "\n",
       "\n",
       "$T\n",
       "$T$mb\n",
       "character(0)\n",
       "\n",
       "$T$nbr\n",
       "character(0)\n",
       "\n",
       "$T$parents\n",
       "character(0)\n",
       "\n",
       "$T$children\n",
       "character(0)\n",
       "\n"
      ]
     },
     "metadata": {},
     "output_type": "display_data"
    }
   ],
   "source": [
    "#::GMG::Cada nodo contiene el nombre, markov blanket,\n",
    "#       neighborhood, parents y children\n",
    "dag$nodes"
   ]
  },
  {
   "cell_type": "code",
   "execution_count": 6,
   "metadata": {},
   "outputs": [
    {
     "data": {
      "text/html": [
       "<table>\n",
       "<thead><tr><th scope=col>from</th><th scope=col>to</th></tr></thead>\n",
       "<tbody>\n",
       "</tbody>\n",
       "</table>\n"
      ],
      "text/latex": [
       "\\begin{tabular}{ll}\n",
       " from & to\\\\\n",
       "\\hline\n",
       "\\end{tabular}\n"
      ],
      "text/markdown": [
       "\n",
       "from | to | \n",
       "||\n",
       "\n",
       "\n"
      ],
      "text/plain": [
       "     from to"
      ]
     },
     "metadata": {},
     "output_type": "display_data"
    }
   ],
   "source": [
    "#::GMG::De momento no hay definido ningún arco \n",
    "dag$arcs"
   ]
  },
  {
   "cell_type": "markdown",
   "metadata": {},
   "source": [
    "En secciones posteriores veremos como hacer representaciones gráficas más detalladas, pero de momento basta con aplicar `plot()` para ir viendo la estructura básica de la red. Una vez creados los nodos, comenzamos a añadir los arcos que definen las dependencias directas entre las diferentes variables y que parezcan razonables.\n",
    "\n",
    "La *edad* y el *sexo* son indicadores demográficos y no reciben influencia de ninguna otra variable, ya que son características intrínsecas del individuo. Por lo tanto, *ninguno de los arcos del grafo apuntan hacia ellas*.\n",
    "\n",
    "Por otra parte, parece razonable que ambas variables (sexo y edad) *tengan una influencia directa sobre el nivel de educación*, ya que el número de estudiantes universitarios ha aumentado en las últimas décadas, y por lo tanto personas más jóvenes tienen más probabilidad de tener un título universitario que otras más mayores:"
   ]
  },
  {
   "cell_type": "code",
   "execution_count": 7,
   "metadata": {},
   "outputs": [],
   "source": [
    "#::GMG::establecer un arco significa que NO hay independencia (a priori)\n",
    "dag <- set.arc(dag, from = \"A\", to = \"E\")"
   ]
  },
  {
   "cell_type": "markdown",
   "metadata": {},
   "source": [
    "Del mismo modo, el sexo tiene influencia sobre la educación, ya que las estadísticas demuestran que en la actualidad hay un mayor número de mujeres que de hombres completando estudios universitarios:"
   ]
  },
  {
   "cell_type": "code",
   "execution_count": 8,
   "metadata": {},
   "outputs": [],
   "source": [
    "dag <- set.arc(dag, from = \"S\", to = \"E\")"
   ]
  },
  {
   "cell_type": "code",
   "execution_count": 9,
   "metadata": {},
   "outputs": [
    {
     "data": {
      "text/html": [
       "<table>\n",
       "<thead><tr><th scope=col>from</th><th scope=col>to</th></tr></thead>\n",
       "<tbody>\n",
       "\t<tr><td>A</td><td>E</td></tr>\n",
       "\t<tr><td>S</td><td>E</td></tr>\n",
       "</tbody>\n",
       "</table>\n"
      ],
      "text/latex": [
       "\\begin{tabular}{ll}\n",
       " from & to\\\\\n",
       "\\hline\n",
       "\t A & E\\\\\n",
       "\t S & E\\\\\n",
       "\\end{tabular}\n"
      ],
      "text/markdown": [
       "\n",
       "from | to | \n",
       "|---|---|\n",
       "| A | E | \n",
       "| S | E | \n",
       "\n",
       "\n"
      ],
      "text/plain": [
       "     from to\n",
       "[1,] A    E \n",
       "[2,] S    E "
      ]
     },
     "metadata": {},
     "output_type": "display_data"
    }
   ],
   "source": [
    "#::GMG::Ya tengo los primeros arcos dirigidos en el grafo\n",
    "dag$arcs"
   ]
  },
  {
   "cell_type": "code",
   "execution_count": 10,
   "metadata": {},
   "outputs": [
    {
     "data": {
      "text/html": [
       "<dl>\n",
       "\t<dt>$mb</dt>\n",
       "\t\t<dd><ol class=list-inline>\n",
       "\t<li>'E'</li>\n",
       "\t<li>'S'</li>\n",
       "</ol>\n",
       "</dd>\n",
       "\t<dt>$nbr</dt>\n",
       "\t\t<dd>'E'</dd>\n",
       "\t<dt>$parents</dt>\n",
       "\t\t<dd></dd>\n",
       "\t<dt>$children</dt>\n",
       "\t\t<dd>'E'</dd>\n",
       "</dl>\n"
      ],
      "text/latex": [
       "\\begin{description}\n",
       "\\item[\\$mb] \\begin{enumerate*}\n",
       "\\item 'E'\n",
       "\\item 'S'\n",
       "\\end{enumerate*}\n",
       "\n",
       "\\item[\\$nbr] 'E'\n",
       "\\item[\\$parents] \n",
       "\\item[\\$children] 'E'\n",
       "\\end{description}\n"
      ],
      "text/markdown": [
       "$mb\n",
       ":   1. 'E'\n",
       "2. 'S'\n",
       "\n",
       "\n",
       "\n",
       "$nbr\n",
       ":   'E'\n",
       "$parents\n",
       ":   \n",
       "$children\n",
       ":   'E'\n",
       "\n",
       "\n"
      ],
      "text/plain": [
       "$mb\n",
       "[1] \"E\" \"S\"\n",
       "\n",
       "$nbr\n",
       "[1] \"E\"\n",
       "\n",
       "$parents\n",
       "character(0)\n",
       "\n",
       "$children\n",
       "[1] \"E\"\n"
      ]
     },
     "metadata": {},
     "output_type": "display_data"
    }
   ],
   "source": [
    "#::GMG::Los nodos implicados tienen padres e hijos\n",
    "dag$nodes$A"
   ]
  },
  {
   "cell_type": "code",
   "execution_count": 11,
   "metadata": {},
   "outputs": [
    {
     "data": {
      "text/html": [
       "<dl>\n",
       "\t<dt>$mb</dt>\n",
       "\t\t<dd><ol class=list-inline>\n",
       "\t<li>'A'</li>\n",
       "\t<li>'S'</li>\n",
       "</ol>\n",
       "</dd>\n",
       "\t<dt>$nbr</dt>\n",
       "\t\t<dd><ol class=list-inline>\n",
       "\t<li>'A'</li>\n",
       "\t<li>'S'</li>\n",
       "</ol>\n",
       "</dd>\n",
       "\t<dt>$parents</dt>\n",
       "\t\t<dd><ol class=list-inline>\n",
       "\t<li>'A'</li>\n",
       "\t<li>'S'</li>\n",
       "</ol>\n",
       "</dd>\n",
       "\t<dt>$children</dt>\n",
       "\t\t<dd></dd>\n",
       "</dl>\n"
      ],
      "text/latex": [
       "\\begin{description}\n",
       "\\item[\\$mb] \\begin{enumerate*}\n",
       "\\item 'A'\n",
       "\\item 'S'\n",
       "\\end{enumerate*}\n",
       "\n",
       "\\item[\\$nbr] \\begin{enumerate*}\n",
       "\\item 'A'\n",
       "\\item 'S'\n",
       "\\end{enumerate*}\n",
       "\n",
       "\\item[\\$parents] \\begin{enumerate*}\n",
       "\\item 'A'\n",
       "\\item 'S'\n",
       "\\end{enumerate*}\n",
       "\n",
       "\\item[\\$children] \n",
       "\\end{description}\n"
      ],
      "text/markdown": [
       "$mb\n",
       ":   1. 'A'\n",
       "2. 'S'\n",
       "\n",
       "\n",
       "\n",
       "$nbr\n",
       ":   1. 'A'\n",
       "2. 'S'\n",
       "\n",
       "\n",
       "\n",
       "$parents\n",
       ":   1. 'A'\n",
       "2. 'S'\n",
       "\n",
       "\n",
       "\n",
       "$children\n",
       ":   \n",
       "\n",
       "\n"
      ],
      "text/plain": [
       "$mb\n",
       "[1] \"A\" \"S\"\n",
       "\n",
       "$nbr\n",
       "[1] \"A\" \"S\"\n",
       "\n",
       "$parents\n",
       "[1] \"A\" \"S\"\n",
       "\n",
       "$children\n",
       "character(0)\n"
      ]
     },
     "metadata": {},
     "output_type": "display_data"
    }
   ],
   "source": [
    "dag$nodes$E"
   ]
  },
  {
   "cell_type": "markdown",
   "metadata": {},
   "source": [
    "Tras añadir dos arcos, este es el aspecto que va tomando el grafo:"
   ]
  },
  {
   "cell_type": "code",
   "execution_count": 12,
   "metadata": {},
   "outputs": [
    {
     "data": {
      "image/png": "[encoded data removed]",
      "text/plain": [
       "plot without title"
      ]
     },
     "metadata": {},
     "output_type": "display_data"
    }
   ],
   "source": [
    "plot(dag)"
   ]
  },
  {
   "cell_type": "code",
   "execution_count": 7,
   "metadata": {},
   "outputs": [
    {
     "name": "stdout",
     "output_type": "stream",
     "text": [
      "\n",
      "  Random/Generated Bayesian network\n",
      "\n",
      "  model:\n",
      "   [A][R][O][S][T][E|A:S] \n",
      "  nodes:                                 6 \n",
      "  arcs:                                  2 \n",
      "    undirected arcs:                     0 \n",
      "    directed arcs:                       2 \n",
      "  average markov blanket size:           1.00 \n",
      "  average neighbourhood size:            0.67 \n",
      "  average branching factor:              0.33 \n",
      "\n",
      "  generation algorithm:                  Empty \n",
      "\n"
     ]
    }
   ],
   "source": [
    "# la presencia de unidrected arcs es debida a que cuando se aprende el grafo\n",
    "# ciertas relaciones no tienen por qué estar dirigidas y el que modela define\n",
    "# la dirección según su conocimiento a priori del dominio del problema\n",
    "# ::nota::esa conexión, da igual cuál sea la dirección, es equivalente\n",
    "# (en factorización)\n",
    "print(dag)"
   ]
  },
  {
   "cell_type": "code",
   "execution_count": 8,
   "metadata": {},
   "outputs": [],
   "source": [
    "dag <- set.arc(dag, from = \"E\", to = \"O\") "
   ]
  },
  {
   "cell_type": "code",
   "execution_count": 9,
   "metadata": {},
   "outputs": [],
   "source": [
    "dag <- set.arc(dag, from = \"E\", to = \"R\")"
   ]
  },
  {
   "cell_type": "code",
   "execution_count": 10,
   "metadata": {},
   "outputs": [],
   "source": [
    "dag <- set.arc(dag, from = \"R\", to = \"T\")"
   ]
  },
  {
   "cell_type": "code",
   "execution_count": 11,
   "metadata": {},
   "outputs": [],
   "source": [
    "dag <- set.arc(dag, from = \"O\", to = \"T\")"
   ]
  },
  {
   "cell_type": "code",
   "execution_count": 12,
   "metadata": {},
   "outputs": [
    {
     "data": {
      "image/png": "[encoded data removed]",
      "text/plain": [
       "plot without title"
      ]
     },
     "metadata": {},
     "output_type": "display_data"
    }
   ],
   "source": [
    "plot(dag)"
   ]
  },
  {
   "cell_type": "code",
   "execution_count": 13,
   "metadata": {},
   "outputs": [
    {
     "data": {
      "text/html": [
       "'[A][S][E|A:S][R|E][O|E][T|R:O]'"
      ],
      "text/latex": [
       "'{[}A{]}{[}S{]}{[}E\\textbar{}A:S{]}{[}R\\textbar{}E{]}{[}O\\textbar{}E{]}{[}T\\textbar{}R:O{]}'"
      ],
      "text/markdown": [
       "'[A][S][E|A:S][R|E][O|E][T|R:O]'"
      ],
      "text/plain": [
       "[1] \"[A][S][E|A:S][R|E][O|E][T|R:O]\""
      ]
     },
     "metadata": {},
     "output_type": "display_data"
    }
   ],
   "source": [
    "# factorización de la probabilidad conjunta\n",
    "modelstring(dag)"
   ]
  },
  {
   "cell_type": "code",
   "execution_count": 16,
   "metadata": {},
   "outputs": [
    {
     "data": {
      "text/html": [
       "<ol class=list-inline>\n",
       "\t<li>'A'</li>\n",
       "\t<li>'S'</li>\n",
       "\t<li>'E'</li>\n",
       "\t<li>'O'</li>\n",
       "\t<li>'R'</li>\n",
       "\t<li>'T'</li>\n",
       "</ol>\n"
      ],
      "text/latex": [
       "\\begin{enumerate*}\n",
       "\\item 'A'\n",
       "\\item 'S'\n",
       "\\item 'E'\n",
       "\\item 'O'\n",
       "\\item 'R'\n",
       "\\item 'T'\n",
       "\\end{enumerate*}\n"
      ],
      "text/markdown": [
       "1. 'A'\n",
       "2. 'S'\n",
       "3. 'E'\n",
       "4. 'O'\n",
       "5. 'R'\n",
       "6. 'T'\n",
       "\n",
       "\n"
      ],
      "text/plain": [
       "[1] \"A\" \"S\" \"E\" \"O\" \"R\" \"T\""
      ]
     },
     "metadata": {},
     "output_type": "display_data"
    }
   ],
   "source": [
    "#estructura del grafo\n",
    "nodes(dag)"
   ]
  },
  {
   "cell_type": "code",
   "execution_count": 17,
   "metadata": {},
   "outputs": [
    {
     "data": {
      "text/html": [
       "<table>\n",
       "<thead><tr><th scope=col>from</th><th scope=col>to</th></tr></thead>\n",
       "<tbody>\n",
       "\t<tr><td>A</td><td>E</td></tr>\n",
       "\t<tr><td>S</td><td>E</td></tr>\n",
       "\t<tr><td>E</td><td>O</td></tr>\n",
       "\t<tr><td>E</td><td>R</td></tr>\n",
       "\t<tr><td>R</td><td>T</td></tr>\n",
       "\t<tr><td>O</td><td>T</td></tr>\n",
       "</tbody>\n",
       "</table>\n"
      ],
      "text/latex": [
       "\\begin{tabular}{ll}\n",
       " from & to\\\\\n",
       "\\hline\n",
       "\t A & E\\\\\n",
       "\t S & E\\\\\n",
       "\t E & O\\\\\n",
       "\t E & R\\\\\n",
       "\t R & T\\\\\n",
       "\t O & T\\\\\n",
       "\\end{tabular}\n"
      ],
      "text/markdown": [
       "\n",
       "from | to | \n",
       "|---|---|---|---|---|---|\n",
       "| A | E | \n",
       "| S | E | \n",
       "| E | O | \n",
       "| E | R | \n",
       "| R | T | \n",
       "| O | T | \n",
       "\n",
       "\n"
      ],
      "text/plain": [
       "     from to\n",
       "[1,] A    E \n",
       "[2,] S    E \n",
       "[3,] E    O \n",
       "[4,] E    R \n",
       "[5,] R    T \n",
       "[6,] O    T "
      ]
     },
     "metadata": {},
     "output_type": "display_data"
    }
   ],
   "source": [
    "arcs(dag)"
   ]
  },
  {
   "cell_type": "code",
   "execution_count": 21,
   "metadata": {},
   "outputs": [
    {
     "data": {
      "text/html": [
       "<table>\n",
       "<thead><tr><th scope=col>from</th><th scope=col>to</th></tr></thead>\n",
       "<tbody>\n",
       "\t<tr><td>A</td><td>E</td></tr>\n",
       "\t<tr><td>S</td><td>E</td></tr>\n",
       "\t<tr><td>E</td><td>O</td></tr>\n",
       "\t<tr><td>E</td><td>R</td></tr>\n",
       "\t<tr><td>R</td><td>T</td></tr>\n",
       "\t<tr><td>O</td><td>T</td></tr>\n",
       "</tbody>\n",
       "</table>\n"
      ],
      "text/latex": [
       "\\begin{tabular}{ll}\n",
       " from & to\\\\\n",
       "\\hline\n",
       "\t A & E\\\\\n",
       "\t S & E\\\\\n",
       "\t E & O\\\\\n",
       "\t E & R\\\\\n",
       "\t R & T\\\\\n",
       "\t O & T\\\\\n",
       "\\end{tabular}\n"
      ],
      "text/markdown": [
       "\n",
       "from | to | \n",
       "|---|---|---|---|---|---|\n",
       "| A | E | \n",
       "| S | E | \n",
       "| E | O | \n",
       "| E | R | \n",
       "| R | T | \n",
       "| O | T | \n",
       "\n",
       "\n"
      ],
      "text/plain": [
       "     from to\n",
       "[1,] A    E \n",
       "[2,] S    E \n",
       "[3,] E    O \n",
       "[4,] E    R \n",
       "[5,] R    T \n",
       "[6,] O    T "
      ]
     },
     "metadata": {},
     "output_type": "display_data"
    }
   ],
   "source": [
    "# toda modificación de los grafos hay que hacerlas con las funciones de bnlearn\n",
    "# no tocando directamente las estructuras\n",
    "dag$arcs"
   ]
  },
  {
   "cell_type": "code",
   "execution_count": 22,
   "metadata": {},
   "outputs": [],
   "source": [
    "# estado de los nodos y la tabla de probabilidad\n",
    "estados.A <- c(\"young\", \"adult\", \"old\")\n",
    "estados.S <- c(\"M\", \"F\")\n",
    "estados.E <- c(\"high\", \"uni\")\n",
    "estados.O <- c(\"emp\",\"self\")\n",
    "estados.R <- c(\"small\",\"big\")\n",
    "estados.T <- c(\"car\",\"train\",\"other\")"
   ]
  },
  {
   "cell_type": "code",
   "execution_count": 24,
   "metadata": {},
   "outputs": [
    {
     "data": {
      "text/html": [
       "<ol class=list-inline>\n",
       "\t<li>'young'</li>\n",
       "\t<li>'adult'</li>\n",
       "\t<li>'old'</li>\n",
       "</ol>\n"
      ],
      "text/latex": [
       "\\begin{enumerate*}\n",
       "\\item 'young'\n",
       "\\item 'adult'\n",
       "\\item 'old'\n",
       "\\end{enumerate*}\n"
      ],
      "text/markdown": [
       "1. 'young'\n",
       "2. 'adult'\n",
       "3. 'old'\n",
       "\n",
       "\n"
      ],
      "text/plain": [
       "[1] \"young\" \"adult\" \"old\"  "
      ]
     },
     "metadata": {},
     "output_type": "display_data"
    }
   ],
   "source": [
    "estados.A"
   ]
  },
  {
   "cell_type": "code",
   "execution_count": 27,
   "metadata": {},
   "outputs": [],
   "source": [
    "A.prob <- array(data = c(.3, .5, .2), dim = 3, dimnames = list(A = estados.A))"
   ]
  },
  {
   "cell_type": "code",
   "execution_count": null,
   "metadata": {},
   "outputs": [],
   "source": [
    "A.prob"
   ]
  },
  {
   "cell_type": "code",
   "execution_count": 33,
   "metadata": {},
   "outputs": [],
   "source": [
    "S.prob <- array(c(.6, .4), dim = 2, dimnames = list(S = estados.S))"
   ]
  },
  {
   "cell_type": "code",
   "execution_count": null,
   "metadata": {},
   "outputs": [],
   "source": [
    "S.prob"
   ]
  },
  {
   "cell_type": "code",
   "execution_count": 28,
   "metadata": {},
   "outputs": [],
   "source": [
    "O.prob <- array(c(.96,.04,.92,.08), dim = c(2,2), dimnames = list(O = estados.O, E = estados.E))"
   ]
  },
  {
   "cell_type": "code",
   "execution_count": null,
   "metadata": {},
   "outputs": [],
   "source": [
    "O.prob"
   ]
  },
  {
   "cell_type": "code",
   "execution_count": 29,
   "metadata": {},
   "outputs": [],
   "source": [
    "R.prob <- array(c(.25,.75,.2,.8), dim = c(2,2), \n",
    "                  dimnames = list(R = estados.R, E = estados.E))"
   ]
  },
  {
   "cell_type": "code",
   "execution_count": null,
   "metadata": {},
   "outputs": [],
   "source": [
    "R.prob"
   ]
  },
  {
   "cell_type": "code",
   "execution_count": 30,
   "metadata": {},
   "outputs": [],
   "source": [
    "E.prob <- array(c(.75, .25, .72, .28, .88, .12, .64, .36, .70, .30, .90, .10),\n",
    "                dim = c(2, 3, 2),\n",
    "                dimnames = list(E = estados.E,\n",
    "                                A = estados.A,\n",
    "                                S = estados.S))"
   ]
  },
  {
   "cell_type": "code",
   "execution_count": null,
   "metadata": {},
   "outputs": [],
   "source": [
    "E.prob (1,,)"
   ]
  },
  {
   "cell_type": "code",
   "execution_count": 31,
   "metadata": {},
   "outputs": [],
   "source": [
    "T.prob <- array(c(.48, .42, .1, .56, .36, .08, .58, .24, .18, .7, .21, .09),\n",
    "                dim = c(3,2,2),\n",
    "                dimnames = list(T = estados.T, \n",
    "                                O = estados.O,\n",
    "                                R = estados.R))"
   ]
  },
  {
   "cell_type": "code",
   "execution_count": null,
   "metadata": {},
   "outputs": [],
   "source": [
    "T.prob"
   ]
  },
  {
   "cell_type": "code",
   "execution_count": 35,
   "metadata": {},
   "outputs": [],
   "source": [
    "cpt <- list(A = A.prob, S = S.prob, E = E.prob, O = O.prob, R = R.prob, T = T.prob)"
   ]
  },
  {
   "cell_type": "code",
   "execution_count": 36,
   "metadata": {},
   "outputs": [],
   "source": [
    "bn <- custom.fit(x = dag, dist = cpt)"
   ]
  },
  {
   "cell_type": "code",
   "execution_count": 37,
   "metadata": {},
   "outputs": [
    {
     "data": {
      "text/html": [
       "<ol class=list-inline>\n",
       "\t<li>'bn.fit'</li>\n",
       "\t<li>'bn.fit.dnet'</li>\n",
       "</ol>\n"
      ],
      "text/latex": [
       "\\begin{enumerate*}\n",
       "\\item 'bn.fit'\n",
       "\\item 'bn.fit.dnet'\n",
       "\\end{enumerate*}\n"
      ],
      "text/markdown": [
       "1. 'bn.fit'\n",
       "2. 'bn.fit.dnet'\n",
       "\n",
       "\n"
      ],
      "text/plain": [
       "[1] \"bn.fit\"      \"bn.fit.dnet\""
      ]
     },
     "metadata": {},
     "output_type": "display_data"
    }
   ],
   "source": [
    "# http://www.bnlearn.com/documentation/man/bn.class.html\n",
    "# http://www.bnlearn.com/documentation/man/bn.fit.class.html\n",
    "class(bn)"
   ]
  },
  {
   "cell_type": "code",
   "execution_count": 26,
   "metadata": {},
   "outputs": [],
   "source": [
    "# consultas al grafo (no de inferencia)\n",
    "# x -> y -> z => P(x)p(y/x)p(z/y); x <- y -> z => P(y) p(x/y) P(z/y)\n",
    "# d-separation => independence becasuse it's an I-graph \n",
    "# en el ejercicio "
   ]
  },
  {
   "cell_type": "code",
   "execution_count": 38,
   "metadata": {},
   "outputs": [
    {
     "data": {
      "text/html": [
       "<ol class=list-inline>\n",
       "\t<li>'E'</li>\n",
       "\t<li>'T'</li>\n",
       "</ol>\n"
      ],
      "text/latex": [
       "\\begin{enumerate*}\n",
       "\\item 'E'\n",
       "\\item 'T'\n",
       "\\end{enumerate*}\n"
      ],
      "text/markdown": [
       "1. 'E'\n",
       "2. 'T'\n",
       "\n",
       "\n"
      ],
      "text/plain": [
       "[1] \"E\" \"T\""
      ]
     },
     "metadata": {},
     "output_type": "display_data"
    }
   ],
   "source": [
    "nbr(dag, \"O\")"
   ]
  },
  {
   "cell_type": "code",
   "execution_count": 39,
   "metadata": {},
   "outputs": [
    {
     "data": {
      "text/html": [
       "<ol class=list-inline>\n",
       "\t<li>'E'</li>\n",
       "\t<li>'R'</li>\n",
       "\t<li>'T'</li>\n",
       "</ol>\n"
      ],
      "text/latex": [
       "\\begin{enumerate*}\n",
       "\\item 'E'\n",
       "\\item 'R'\n",
       "\\item 'T'\n",
       "\\end{enumerate*}\n"
      ],
      "text/markdown": [
       "1. 'E'\n",
       "2. 'R'\n",
       "3. 'T'\n",
       "\n",
       "\n"
      ],
      "text/plain": [
       "[1] \"E\" \"R\" \"T\""
      ]
     },
     "metadata": {},
     "output_type": "display_data"
    }
   ],
   "source": [
    "mb(dag, \"O\")"
   ]
  },
  {
   "cell_type": "code",
   "execution_count": 43,
   "metadata": {},
   "outputs": [],
   "source": [
    "#ejercicio 2: añadir un arco de A a T\n",
    "dag <- set.arc(dag,from = 'A', to = 'T')"
   ]
  },
  {
   "cell_type": "code",
   "execution_count": 44,
   "metadata": {},
   "outputs": [
    {
     "data": {
      "text/html": [
       "<ol class=list-inline>\n",
       "\t<li>'A'</li>\n",
       "\t<li>'E'</li>\n",
       "\t<li>'R'</li>\n",
       "\t<li>'T'</li>\n",
       "</ol>\n"
      ],
      "text/latex": [
       "\\begin{enumerate*}\n",
       "\\item 'A'\n",
       "\\item 'E'\n",
       "\\item 'R'\n",
       "\\item 'T'\n",
       "\\end{enumerate*}\n"
      ],
      "text/markdown": [
       "1. 'A'\n",
       "2. 'E'\n",
       "3. 'R'\n",
       "4. 'T'\n",
       "\n",
       "\n"
      ],
      "text/plain": [
       "[1] \"A\" \"E\" \"R\" \"T\""
      ]
     },
     "metadata": {},
     "output_type": "display_data"
    }
   ],
   "source": [
    "mb(dag, \"O\")"
   ]
  },
  {
   "cell_type": "code",
   "execution_count": 45,
   "metadata": {},
   "outputs": [
    {
     "data": {
      "image/png": "[encoded data removed]",
      "text/plain": [
       "plot without title"
      ]
     },
     "metadata": {},
     "output_type": "display_data"
    }
   ],
   "source": [
    "plot(dag)"
   ]
  },
  {
   "cell_type": "code",
   "execution_count": null,
   "metadata": {},
   "outputs": [],
   "source": [
    "# ¿se ha creado una nueva independencia?\n",
    "# dsep (A, O) dado E; dsep(A, O) dado E,T (E=e, T = t); al añadir A -> T NO se cumple los dsep\n",
    "#::nota:: iq -> nota <- dif => iq not dsep | nota"
   ]
  },
  {
   "cell_type": "code",
   "execution_count": 46,
   "metadata": {},
   "outputs": [
    {
     "data": {
      "text/html": [
       "FALSE"
      ],
      "text/latex": [
       "FALSE"
      ],
      "text/markdown": [
       "FALSE"
      ],
      "text/plain": [
       "[1] FALSE"
      ]
     },
     "metadata": {},
     "output_type": "display_data"
    }
   ],
   "source": [
    "dsep(bn = dag, x = 'A' , y = 'O', z = c('E', 'T'))"
   ]
  },
  {
   "cell_type": "code",
   "execution_count": 47,
   "metadata": {},
   "outputs": [],
   "source": [
    "dag <- drop.arc(dag,from = 'A', to = 'T')"
   ]
  },
  {
   "cell_type": "code",
   "execution_count": 48,
   "metadata": {},
   "outputs": [
    {
     "data": {
      "text/html": [
       "TRUE"
      ],
      "text/latex": [
       "TRUE"
      ],
      "text/markdown": [
       "TRUE"
      ],
      "text/plain": [
       "[1] TRUE"
      ]
     },
     "metadata": {},
     "output_type": "display_data"
    }
   ],
   "source": [
    "dsep(bn = dag, x = 'A' , y = 'O', z = c('E', 'T'))"
   ]
  },
  {
   "cell_type": "code",
   "execution_count": null,
   "metadata": {},
   "outputs": [],
   "source": [
    "# en el apartado 3 hay que poner la factorización nueva com p(A/T) como factor\n",
    "# Z ind U NO\n",
    "# Z dependiente U no es seguro\n",
    "# T ind U NO\n",
    "# T ind U|R SI\n",
    "# Z ind U |T SI\n",
    "# Z ind U | T, E SI\n",
    "# Z ind U | X NO\n",
    "# ...\n",
    "# K ind T SI v-structura y no evidenciado (R)\n",
    "# K ind Z SI\n"
   ]
  }
 ],
 "metadata": {
  "kernelspec": {
   "display_name": "R",
   "language": "R",
   "name": "ir"
  },
  "language_info": {
   "codemirror_mode": "r",
   "file_extension": ".r",
   "mimetype": "text/x-r-source",
   "name": "R",
   "pygments_lexer": "r",
   "version": "3.4.4"
  }
 },
 "nbformat": 4,
 "nbformat_minor": 2
}
