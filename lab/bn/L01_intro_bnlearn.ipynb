{
 "cells": [
  {
   "cell_type": "markdown",
   "metadata": {},
   "source": [
    "# Redes Bayesianas Discretas: Introducción a Bnlearn\n",
    "\n",
    "Master in Data Science - Machine Learning II\n",
    "\n",
    "Santander Meteorology Group,\n",
    "\n",
    "Profesor: Mikel N. Legasa (legasam@unican.es)\n",
    "\n",
    "6 Mar 2018"
   ]
  },
  {
   "cell_type": "markdown",
   "metadata": {},
   "source": [
    "La presente práctica esta concebida como una primera aproximación a los fundamentos de las redes bayesianas, encargándonos simplemente de la modelización de variables discretas mediante una red bayesiana siguiendo el esquema:\n",
    "\n",
    "  - [Introducción](#1-Introducción)\n",
    "  - [Construcción de la red bayesiana](#2-Construcción-de-la-Red-Bayesiana), tanto su estructura (Construcción del DAG) y sus parámetros (Construcción de las tablas de probabilidad condicionada)\n",
    "  - Obtención de información cualitativa a partir del grafo (Consultas al grafo).\n",
    "\n",
    "Con la idea de familiarizarnos con la librería bnlearn y sus estructuras y funciones."
   ]
  },
  {
   "cell_type": "markdown",
   "metadata": {},
   "source": [
    "## 1 Introducción"
   ]
  },
  {
   "cell_type": "markdown",
   "metadata": {},
   "source": [
    "### 1.1 Dataset de ejemplo: ‘survey’"
   ]
  },
  {
   "cell_type": "markdown",
   "metadata": {},
   "source": [
    "Utilizaremos los datos de una encuesta sobre utilización de medios de transporte, donde cada variable tiene un número finito de posibles estados. A partir de los datos de campo recogidos por la encuesta, se investigará la selección de medios de transporte por distintos perfiles de usuarios, y particularmente la preferencia de tren o coche. Este tipo de análisis se utiliza con frecuencia en la planificación de infraestructuras. Para cada individuo encuestado, se han recopilado datos referentes a 6 variables discretas. Las abreviaturas de dichas variables se muestran entre paréntesis (original del dataset en inglés), y se utilizarán a lo largo de la práctica para referirse a los nodos de la red creada.\n",
    "\n",
    "  - Edad (A): Edad del encuestado: joven (young, < 30 años), adulto (adult, 30 < edad <= 60) y anciano (old, edad > 60).\n",
    "  - Sexo (S): Sexo del encuestado: masculino (M) y femenino (F).\n",
    "  - Educación (E): Nivel más alto de educación alcanzado: Hasta educación secundaria (high) o título universitario (uni).\n",
    "  - Ocupación (O): trabajador por cuenta ajena (emp) o autónomo (self).\n",
    "  - Residencia (R): Tamaño de la población de residencia del individuo: big y small.\n",
    "  - Transporte (T): Medio de transporte más utilizado por el encuestado para acudir al trabajo: car, train y other."
   ]
  },
  {
   "cell_type": "markdown",
   "metadata": {},
   "source": [
    "### 1.2 Paquetes de R necesarios"
   ]
  },
  {
   "cell_type": "markdown",
   "metadata": {},
   "source": [
    "Se utilizará el paquete de R bnlearn (bayesian network learning), disponible a través de CRAN:\n",
    "\n",
    "```r\n",
    "install.packages(\"bnlearn\")\n",
    "```\n",
    "\n",
    "Además, se necesitan dependencias adicionales que no están en CRAN, sinó en Bioconductor:\n",
    "\n",
    "```r\n",
    "# (bioconductor)\n",
    "source(\"http://bioconductor.org/biocLite.R\")\n",
    "\n",
    "# Para la inferencia\n",
    "biocLite(\"RBGL\")\n",
    "# Para la parte de visualización de grafos:\n",
    "biocLite(\"Rgraphviz\")\n",
    "# Para manejo de grafos:\n",
    "# Paquete gRain\n",
    "install.packages(\"gRain\")\n",
    "```"
   ]
  },
  {
   "cell_type": "code",
   "execution_count": 1,
   "metadata": {},
   "outputs": [
    {
     "name": "stderr",
     "output_type": "stream",
     "text": [
      "\n",
      "Attaching package: ‘bnlearn’\n",
      "\n",
      "The following object is masked from ‘package:stats’:\n",
      "\n",
      "    sigma\n",
      "\n"
     ]
    }
   ],
   "source": [
    "#::GMG::Yo ya instalé esos paquetes en la sesión lab de introducción\n",
    "#       Ahora cargo la biblioteca que necesito\n",
    "library('bnlearn')"
   ]
  },
  {
   "cell_type": "markdown",
   "metadata": {},
   "source": [
    "## 2 Construcción de la Red Bayesiana"
   ]
  },
  {
   "cell_type": "markdown",
   "metadata": {},
   "source": [
    "### 2.1 Construcción del DAG"
   ]
  },
  {
   "cell_type": "markdown",
   "metadata": {},
   "source": [
    "Para estos datos trataremos de [construir manualmente un grafo](http://www.bnlearn.com/examples/dag/) que verifique $⊥_G ⇒ ⊥_P$, tratando de definir las dependencias e independencias que consideremos intuitivamente que se dan entre las variables, con el objetivo final de modelizar los datos, i.e. de aproximar la Distribución de Probabilidad Conjunta de los datos $P$.\n",
    "\n",
    "Para crear un grafo que contenga un nodo por cada variable considerada en la encuesta utilizamos la función [`empty.graph()`](http://www.bnlearn.com/documentation/man/graphgen.html), que pertenece a *bnlearn* e inicializa un grafo vacío como clase bn:"
   ]
  },
  {
   "cell_type": "code",
   "execution_count": 2,
   "metadata": {},
   "outputs": [
    {
     "data": {
      "text/html": [
       "'bn'"
      ],
      "text/latex": [
       "'bn'"
      ],
      "text/markdown": [
       "'bn'"
      ],
      "text/plain": [
       "[1] \"bn\""
      ]
     },
     "metadata": {},
     "output_type": "display_data"
    }
   ],
   "source": [
    "#::GMG::Creo de forma \"experta\" (custom) el dag de survey\n",
    "# http://www.bnlearn.com/examples/dag/\n",
    "#::nota::el orden de los nodos es relevante en la visualización\n",
    "#        ya que aparecen en el orden en que aparecen en el dataset\n",
    "# A\t\tR\tE\tO\tS\tT\n",
    "#::nota::aquí no vamos a usar para nada el dataset ... vamos a seguir\n",
    "#        la vía que nos han indicado como \"sistema experto\"\n",
    "dag <- empty.graph(nodes = c(\"A\", \"R\", \"E\", \"O\", \"S\", \"T\"))\n",
    "class(dag)"
   ]
  },
  {
   "cell_type": "markdown",
   "metadata": {},
   "source": [
    "Nombramos a nuestro grafo vacío `dag` (*directed acyclic graph*). Esta es la información contenida en el grafo:"
   ]
  },
  {
   "cell_type": "code",
   "execution_count": 3,
   "metadata": {},
   "outputs": [
    {
     "name": "stdout",
     "output_type": "stream",
     "text": [
      "\n",
      "  Random/Generated Bayesian network\n",
      "\n",
      "  model:\n",
      "   [A][R][E][O][S][T] \n",
      "  nodes:                                 6 \n",
      "  arcs:                                  0 \n",
      "    undirected arcs:                     0 \n",
      "    directed arcs:                       0 \n",
      "  average markov blanket size:           0.00 \n",
      "  average neighbourhood size:            0.00 \n",
      "  average branching factor:              0.00 \n",
      "\n",
      "  generation algorithm:                  Empty \n",
      "\n"
     ]
    }
   ],
   "source": [
    "print(dag)"
   ]
  },
  {
   "cell_type": "markdown",
   "metadata": {},
   "source": [
    "Este objeto se organiza como una lista, de manera que podemos acceder a sus elementos mediante `dag$learning`, etc…"
   ]
  },
  {
   "cell_type": "code",
   "execution_count": 4,
   "metadata": {},
   "outputs": [
    {
     "data": {
      "text/html": [
       "<dl>\n",
       "\t<dt>$whitelist</dt>\n",
       "\t\t<dd>NULL</dd>\n",
       "\t<dt>$blacklist</dt>\n",
       "\t\t<dd>NULL</dd>\n",
       "\t<dt>$test</dt>\n",
       "\t\t<dd>'none'</dd>\n",
       "\t<dt>$ntests</dt>\n",
       "\t\t<dd>0</dd>\n",
       "\t<dt>$algo</dt>\n",
       "\t\t<dd>'empty'</dd>\n",
       "\t<dt>$args</dt>\n",
       "\t\t<dd><ol>\n",
       "</ol>\n",
       "</dd>\n",
       "</dl>\n"
      ],
      "text/latex": [
       "\\begin{description}\n",
       "\\item[\\$whitelist] NULL\n",
       "\\item[\\$blacklist] NULL\n",
       "\\item[\\$test] 'none'\n",
       "\\item[\\$ntests] 0\n",
       "\\item[\\$algo] 'empty'\n",
       "\\item[\\$args] \\begin{enumerate}\n",
       "\\end{enumerate}\n",
       "\n",
       "\\end{description}\n"
      ],
      "text/markdown": [
       "$whitelist\n",
       ":   NULL\n",
       "$blacklist\n",
       ":   NULL\n",
       "$test\n",
       ":   'none'\n",
       "$ntests\n",
       ":   0\n",
       "$algo\n",
       ":   'empty'\n",
       "$args\n",
       ":   \n",
       "\n",
       "\n",
       "\n",
       "\n"
      ],
      "text/plain": [
       "$whitelist\n",
       "NULL\n",
       "\n",
       "$blacklist\n",
       "NULL\n",
       "\n",
       "$test\n",
       "[1] \"none\"\n",
       "\n",
       "$ntests\n",
       "[1] 0\n",
       "\n",
       "$algo\n",
       "[1] \"empty\"\n",
       "\n",
       "$args\n",
       "list()\n"
      ]
     },
     "metadata": {},
     "output_type": "display_data"
    }
   ],
   "source": [
    "#::GMG::Pruebo esa estructura (me puede ser útil en el futuro)\n",
    "# http://www.bnlearn.com/documentation/man/bn.fit.class.html\n",
    "dag$learning"
   ]
  },
  {
   "cell_type": "code",
   "execution_count": 5,
   "metadata": {},
   "outputs": [
    {
     "data": {
      "text/html": [
       "<dl>\n",
       "\t<dt>$A</dt>\n",
       "\t\t<dd><dl>\n",
       "\t<dt>$mb</dt>\n",
       "\t\t<dd></dd>\n",
       "\t<dt>$nbr</dt>\n",
       "\t\t<dd></dd>\n",
       "\t<dt>$parents</dt>\n",
       "\t\t<dd></dd>\n",
       "\t<dt>$children</dt>\n",
       "\t\t<dd></dd>\n",
       "</dl>\n",
       "</dd>\n",
       "\t<dt>$R</dt>\n",
       "\t\t<dd><dl>\n",
       "\t<dt>$mb</dt>\n",
       "\t\t<dd></dd>\n",
       "\t<dt>$nbr</dt>\n",
       "\t\t<dd></dd>\n",
       "\t<dt>$parents</dt>\n",
       "\t\t<dd></dd>\n",
       "\t<dt>$children</dt>\n",
       "\t\t<dd></dd>\n",
       "</dl>\n",
       "</dd>\n",
       "\t<dt>$E</dt>\n",
       "\t\t<dd><dl>\n",
       "\t<dt>$mb</dt>\n",
       "\t\t<dd></dd>\n",
       "\t<dt>$nbr</dt>\n",
       "\t\t<dd></dd>\n",
       "\t<dt>$parents</dt>\n",
       "\t\t<dd></dd>\n",
       "\t<dt>$children</dt>\n",
       "\t\t<dd></dd>\n",
       "</dl>\n",
       "</dd>\n",
       "\t<dt>$O</dt>\n",
       "\t\t<dd><dl>\n",
       "\t<dt>$mb</dt>\n",
       "\t\t<dd></dd>\n",
       "\t<dt>$nbr</dt>\n",
       "\t\t<dd></dd>\n",
       "\t<dt>$parents</dt>\n",
       "\t\t<dd></dd>\n",
       "\t<dt>$children</dt>\n",
       "\t\t<dd></dd>\n",
       "</dl>\n",
       "</dd>\n",
       "\t<dt>$S</dt>\n",
       "\t\t<dd><dl>\n",
       "\t<dt>$mb</dt>\n",
       "\t\t<dd></dd>\n",
       "\t<dt>$nbr</dt>\n",
       "\t\t<dd></dd>\n",
       "\t<dt>$parents</dt>\n",
       "\t\t<dd></dd>\n",
       "\t<dt>$children</dt>\n",
       "\t\t<dd></dd>\n",
       "</dl>\n",
       "</dd>\n",
       "\t<dt>$T</dt>\n",
       "\t\t<dd><dl>\n",
       "\t<dt>$mb</dt>\n",
       "\t\t<dd></dd>\n",
       "\t<dt>$nbr</dt>\n",
       "\t\t<dd></dd>\n",
       "\t<dt>$parents</dt>\n",
       "\t\t<dd></dd>\n",
       "\t<dt>$children</dt>\n",
       "\t\t<dd></dd>\n",
       "</dl>\n",
       "</dd>\n",
       "</dl>\n"
      ],
      "text/latex": [
       "\\begin{description}\n",
       "\\item[\\$A] \\begin{description}\n",
       "\\item[\\$mb] \n",
       "\\item[\\$nbr] \n",
       "\\item[\\$parents] \n",
       "\\item[\\$children] \n",
       "\\end{description}\n",
       "\n",
       "\\item[\\$R] \\begin{description}\n",
       "\\item[\\$mb] \n",
       "\\item[\\$nbr] \n",
       "\\item[\\$parents] \n",
       "\\item[\\$children] \n",
       "\\end{description}\n",
       "\n",
       "\\item[\\$E] \\begin{description}\n",
       "\\item[\\$mb] \n",
       "\\item[\\$nbr] \n",
       "\\item[\\$parents] \n",
       "\\item[\\$children] \n",
       "\\end{description}\n",
       "\n",
       "\\item[\\$O] \\begin{description}\n",
       "\\item[\\$mb] \n",
       "\\item[\\$nbr] \n",
       "\\item[\\$parents] \n",
       "\\item[\\$children] \n",
       "\\end{description}\n",
       "\n",
       "\\item[\\$S] \\begin{description}\n",
       "\\item[\\$mb] \n",
       "\\item[\\$nbr] \n",
       "\\item[\\$parents] \n",
       "\\item[\\$children] \n",
       "\\end{description}\n",
       "\n",
       "\\item[\\$T] \\begin{description}\n",
       "\\item[\\$mb] \n",
       "\\item[\\$nbr] \n",
       "\\item[\\$parents] \n",
       "\\item[\\$children] \n",
       "\\end{description}\n",
       "\n",
       "\\end{description}\n"
      ],
      "text/markdown": [
       "$A\n",
       ":   $mb\n",
       ":   \n",
       "$nbr\n",
       ":   \n",
       "$parents\n",
       ":   \n",
       "$children\n",
       ":   \n",
       "\n",
       "\n",
       "\n",
       "$R\n",
       ":   $mb\n",
       ":   \n",
       "$nbr\n",
       ":   \n",
       "$parents\n",
       ":   \n",
       "$children\n",
       ":   \n",
       "\n",
       "\n",
       "\n",
       "$E\n",
       ":   $mb\n",
       ":   \n",
       "$nbr\n",
       ":   \n",
       "$parents\n",
       ":   \n",
       "$children\n",
       ":   \n",
       "\n",
       "\n",
       "\n",
       "$O\n",
       ":   $mb\n",
       ":   \n",
       "$nbr\n",
       ":   \n",
       "$parents\n",
       ":   \n",
       "$children\n",
       ":   \n",
       "\n",
       "\n",
       "\n",
       "$S\n",
       ":   $mb\n",
       ":   \n",
       "$nbr\n",
       ":   \n",
       "$parents\n",
       ":   \n",
       "$children\n",
       ":   \n",
       "\n",
       "\n",
       "\n",
       "$T\n",
       ":   $mb\n",
       ":   \n",
       "$nbr\n",
       ":   \n",
       "$parents\n",
       ":   \n",
       "$children\n",
       ":   \n",
       "\n",
       "\n",
       "\n",
       "\n",
       "\n"
      ],
      "text/plain": [
       "$A\n",
       "$A$mb\n",
       "character(0)\n",
       "\n",
       "$A$nbr\n",
       "character(0)\n",
       "\n",
       "$A$parents\n",
       "character(0)\n",
       "\n",
       "$A$children\n",
       "character(0)\n",
       "\n",
       "\n",
       "$R\n",
       "$R$mb\n",
       "character(0)\n",
       "\n",
       "$R$nbr\n",
       "character(0)\n",
       "\n",
       "$R$parents\n",
       "character(0)\n",
       "\n",
       "$R$children\n",
       "character(0)\n",
       "\n",
       "\n",
       "$E\n",
       "$E$mb\n",
       "character(0)\n",
       "\n",
       "$E$nbr\n",
       "character(0)\n",
       "\n",
       "$E$parents\n",
       "character(0)\n",
       "\n",
       "$E$children\n",
       "character(0)\n",
       "\n",
       "\n",
       "$O\n",
       "$O$mb\n",
       "character(0)\n",
       "\n",
       "$O$nbr\n",
       "character(0)\n",
       "\n",
       "$O$parents\n",
       "character(0)\n",
       "\n",
       "$O$children\n",
       "character(0)\n",
       "\n",
       "\n",
       "$S\n",
       "$S$mb\n",
       "character(0)\n",
       "\n",
       "$S$nbr\n",
       "character(0)\n",
       "\n",
       "$S$parents\n",
       "character(0)\n",
       "\n",
       "$S$children\n",
       "character(0)\n",
       "\n",
       "\n",
       "$T\n",
       "$T$mb\n",
       "character(0)\n",
       "\n",
       "$T$nbr\n",
       "character(0)\n",
       "\n",
       "$T$parents\n",
       "character(0)\n",
       "\n",
       "$T$children\n",
       "character(0)\n",
       "\n"
      ]
     },
     "metadata": {},
     "output_type": "display_data"
    }
   ],
   "source": [
    "#::GMG::Cada nodo contiene el nombre, markov blanket,\n",
    "#       neighborhood, parents y children\n",
    "dag$nodes"
   ]
  },
  {
   "cell_type": "code",
   "execution_count": 6,
   "metadata": {},
   "outputs": [
    {
     "data": {
      "text/html": [
       "<table>\n",
       "<thead><tr><th scope=col>from</th><th scope=col>to</th></tr></thead>\n",
       "<tbody>\n",
       "</tbody>\n",
       "</table>\n"
      ],
      "text/latex": [
       "\\begin{tabular}{ll}\n",
       " from & to\\\\\n",
       "\\hline\n",
       "\\end{tabular}\n"
      ],
      "text/markdown": [
       "\n",
       "from | to | \n",
       "||\n",
       "\n",
       "\n"
      ],
      "text/plain": [
       "     from to"
      ]
     },
     "metadata": {},
     "output_type": "display_data"
    }
   ],
   "source": [
    "#::GMG::De momento no hay definido ningún arco \n",
    "dag$arcs"
   ]
  },
  {
   "cell_type": "markdown",
   "metadata": {},
   "source": [
    "En secciones posteriores veremos como hacer representaciones gráficas más detalladas, pero de momento basta con aplicar `plot()` para ir viendo la estructura básica de la red. Una vez creados los nodos, comenzamos a añadir los arcos que definen las dependencias directas entre las diferentes variables y que parezcan razonables.\n",
    "\n",
    "La *edad* y el *sexo* son indicadores demográficos y no reciben influencia de ninguna otra variable, ya que son características intrínsecas del individuo. Por lo tanto, *ninguno de los arcos del grafo apuntan hacia ellas*.\n",
    "\n",
    "Por otra parte, parece razonable que ambas variables (sexo y edad) *tengan una influencia directa sobre el nivel de educación*, ya que el número de estudiantes universitarios ha aumentado en las últimas décadas, y por lo tanto personas más jóvenes tienen más probabilidad de tener un título universitario que otras más mayores:"
   ]
  },
  {
   "cell_type": "code",
   "execution_count": 7,
   "metadata": {},
   "outputs": [],
   "source": [
    "#::GMG::establecer un arco significa que NO hay independencia (a priori)\n",
    "dag <- set.arc(dag, from = \"A\", to = \"E\")"
   ]
  },
  {
   "cell_type": "markdown",
   "metadata": {},
   "source": [
    "Del mismo modo, el sexo tiene influencia sobre la educación, ya que las estadísticas demuestran que en la actualidad hay un mayor número de mujeres que de hombres completando estudios universitarios:"
   ]
  },
  {
   "cell_type": "code",
   "execution_count": 8,
   "metadata": {},
   "outputs": [],
   "source": [
    "dag <- set.arc(dag, from = \"S\", to = \"E\")"
   ]
  },
  {
   "cell_type": "code",
   "execution_count": 9,
   "metadata": {},
   "outputs": [
    {
     "data": {
      "text/html": [
       "<table>\n",
       "<thead><tr><th scope=col>from</th><th scope=col>to</th></tr></thead>\n",
       "<tbody>\n",
       "\t<tr><td>A</td><td>E</td></tr>\n",
       "\t<tr><td>S</td><td>E</td></tr>\n",
       "</tbody>\n",
       "</table>\n"
      ],
      "text/latex": [
       "\\begin{tabular}{ll}\n",
       " from & to\\\\\n",
       "\\hline\n",
       "\t A & E\\\\\n",
       "\t S & E\\\\\n",
       "\\end{tabular}\n"
      ],
      "text/markdown": [
       "\n",
       "from | to | \n",
       "|---|---|\n",
       "| A | E | \n",
       "| S | E | \n",
       "\n",
       "\n"
      ],
      "text/plain": [
       "     from to\n",
       "[1,] A    E \n",
       "[2,] S    E "
      ]
     },
     "metadata": {},
     "output_type": "display_data"
    }
   ],
   "source": [
    "#::GMG::Ya tengo los primeros arcos dirigidos en el grafo\n",
    "dag$arcs"
   ]
  },
  {
   "cell_type": "code",
   "execution_count": 10,
   "metadata": {},
   "outputs": [
    {
     "data": {
      "text/html": [
       "<dl>\n",
       "\t<dt>$mb</dt>\n",
       "\t\t<dd><ol class=list-inline>\n",
       "\t<li>'E'</li>\n",
       "\t<li>'S'</li>\n",
       "</ol>\n",
       "</dd>\n",
       "\t<dt>$nbr</dt>\n",
       "\t\t<dd>'E'</dd>\n",
       "\t<dt>$parents</dt>\n",
       "\t\t<dd></dd>\n",
       "\t<dt>$children</dt>\n",
       "\t\t<dd>'E'</dd>\n",
       "</dl>\n"
      ],
      "text/latex": [
       "\\begin{description}\n",
       "\\item[\\$mb] \\begin{enumerate*}\n",
       "\\item 'E'\n",
       "\\item 'S'\n",
       "\\end{enumerate*}\n",
       "\n",
       "\\item[\\$nbr] 'E'\n",
       "\\item[\\$parents] \n",
       "\\item[\\$children] 'E'\n",
       "\\end{description}\n"
      ],
      "text/markdown": [
       "$mb\n",
       ":   1. 'E'\n",
       "2. 'S'\n",
       "\n",
       "\n",
       "\n",
       "$nbr\n",
       ":   'E'\n",
       "$parents\n",
       ":   \n",
       "$children\n",
       ":   'E'\n",
       "\n",
       "\n"
      ],
      "text/plain": [
       "$mb\n",
       "[1] \"E\" \"S\"\n",
       "\n",
       "$nbr\n",
       "[1] \"E\"\n",
       "\n",
       "$parents\n",
       "character(0)\n",
       "\n",
       "$children\n",
       "[1] \"E\"\n"
      ]
     },
     "metadata": {},
     "output_type": "display_data"
    }
   ],
   "source": [
    "#::GMG::Los nodos implicados tienen padres e hijos\n",
    "dag$nodes$A"
   ]
  },
  {
   "cell_type": "code",
   "execution_count": 11,
   "metadata": {},
   "outputs": [
    {
     "data": {
      "text/html": [
       "<dl>\n",
       "\t<dt>$mb</dt>\n",
       "\t\t<dd><ol class=list-inline>\n",
       "\t<li>'A'</li>\n",
       "\t<li>'S'</li>\n",
       "</ol>\n",
       "</dd>\n",
       "\t<dt>$nbr</dt>\n",
       "\t\t<dd><ol class=list-inline>\n",
       "\t<li>'A'</li>\n",
       "\t<li>'S'</li>\n",
       "</ol>\n",
       "</dd>\n",
       "\t<dt>$parents</dt>\n",
       "\t\t<dd><ol class=list-inline>\n",
       "\t<li>'A'</li>\n",
       "\t<li>'S'</li>\n",
       "</ol>\n",
       "</dd>\n",
       "\t<dt>$children</dt>\n",
       "\t\t<dd></dd>\n",
       "</dl>\n"
      ],
      "text/latex": [
       "\\begin{description}\n",
       "\\item[\\$mb] \\begin{enumerate*}\n",
       "\\item 'A'\n",
       "\\item 'S'\n",
       "\\end{enumerate*}\n",
       "\n",
       "\\item[\\$nbr] \\begin{enumerate*}\n",
       "\\item 'A'\n",
       "\\item 'S'\n",
       "\\end{enumerate*}\n",
       "\n",
       "\\item[\\$parents] \\begin{enumerate*}\n",
       "\\item 'A'\n",
       "\\item 'S'\n",
       "\\end{enumerate*}\n",
       "\n",
       "\\item[\\$children] \n",
       "\\end{description}\n"
      ],
      "text/markdown": [
       "$mb\n",
       ":   1. 'A'\n",
       "2. 'S'\n",
       "\n",
       "\n",
       "\n",
       "$nbr\n",
       ":   1. 'A'\n",
       "2. 'S'\n",
       "\n",
       "\n",
       "\n",
       "$parents\n",
       ":   1. 'A'\n",
       "2. 'S'\n",
       "\n",
       "\n",
       "\n",
       "$children\n",
       ":   \n",
       "\n",
       "\n"
      ],
      "text/plain": [
       "$mb\n",
       "[1] \"A\" \"S\"\n",
       "\n",
       "$nbr\n",
       "[1] \"A\" \"S\"\n",
       "\n",
       "$parents\n",
       "[1] \"A\" \"S\"\n",
       "\n",
       "$children\n",
       "character(0)\n"
      ]
     },
     "metadata": {},
     "output_type": "display_data"
    }
   ],
   "source": [
    "dag$nodes$E"
   ]
  },
  {
   "cell_type": "markdown",
   "metadata": {},
   "source": [
    "Tras añadir dos arcos, este es el aspecto que va tomando el grafo:"
   ]
  },
  {
   "cell_type": "code",
   "execution_count": 12,
   "metadata": {},
   "outputs": [
    {
     "data": {
      "image/png": "[encoded data removed]",
      "text/plain": [
       "plot without title"
      ]
     },
     "metadata": {},
     "output_type": "display_data"
    }
   ],
   "source": [
    "plot(dag)"
   ]
  },
  {
   "cell_type": "markdown",
   "metadata": {},
   "source": [
    "El nivel de educación tiene una fuerte influencia en la ocupación del individuo, así como en su lugar de residencia:"
   ]
  },
  {
   "cell_type": "code",
   "execution_count": 13,
   "metadata": {},
   "outputs": [],
   "source": [
    "dag <- set.arc(dag, from = \"E\", to = \"O\") \n",
    "dag <- set.arc(dag, from = \"E\", to = \"R\")"
   ]
  },
  {
   "cell_type": "markdown",
   "metadata": {},
   "source": [
    "Finalmente, los medios de transporte preferidos por el individuo están directamente influidos por su lugar de residencia y su ocupación. En cuanto al primer factor, la distancia al lugar de trabajo desde la residencia influye directamente en la opción de transporte. Por otra parte, algunos trabajos requieren viajes periódicos de larga distancia, mientras que otros requieren trayectos más frecuentes sobre cortas distancias."
   ]
  },
  {
   "cell_type": "code",
   "execution_count": 14,
   "metadata": {},
   "outputs": [],
   "source": [
    "dag <- set.arc(dag, from = \"R\", to = \"T\")\n",
    "dag <- set.arc(dag, from = \"O\", to = \"T\")"
   ]
  },
  {
   "cell_type": "markdown",
   "metadata": {},
   "source": [
    "Finalmente, queda definido el grafo como:"
   ]
  },
  {
   "cell_type": "code",
   "execution_count": 15,
   "metadata": {},
   "outputs": [
    {
     "data": {
      "image/png": "[encoded data removed]",
      "text/plain": [
       "plot without title"
      ]
     },
     "metadata": {},
     "output_type": "display_data"
    }
   ],
   "source": [
    "plot(dag)"
   ]
  },
  {
   "cell_type": "code",
   "execution_count": 16,
   "metadata": {},
   "outputs": [
    {
     "data": {
      "text/html": [
       "<table>\n",
       "<thead><tr><th scope=col>from</th><th scope=col>to</th></tr></thead>\n",
       "<tbody>\n",
       "\t<tr><td>A</td><td>E</td></tr>\n",
       "\t<tr><td>S</td><td>E</td></tr>\n",
       "\t<tr><td>E</td><td>O</td></tr>\n",
       "\t<tr><td>E</td><td>R</td></tr>\n",
       "\t<tr><td>R</td><td>T</td></tr>\n",
       "\t<tr><td>O</td><td>T</td></tr>\n",
       "</tbody>\n",
       "</table>\n"
      ],
      "text/latex": [
       "\\begin{tabular}{ll}\n",
       " from & to\\\\\n",
       "\\hline\n",
       "\t A & E\\\\\n",
       "\t S & E\\\\\n",
       "\t E & O\\\\\n",
       "\t E & R\\\\\n",
       "\t R & T\\\\\n",
       "\t O & T\\\\\n",
       "\\end{tabular}\n"
      ],
      "text/markdown": [
       "\n",
       "from | to | \n",
       "|---|---|---|---|---|---|\n",
       "| A | E | \n",
       "| S | E | \n",
       "| E | O | \n",
       "| E | R | \n",
       "| R | T | \n",
       "| O | T | \n",
       "\n",
       "\n"
      ],
      "text/plain": [
       "     from to\n",
       "[1,] A    E \n",
       "[2,] S    E \n",
       "[3,] E    O \n",
       "[4,] E    R \n",
       "[5,] R    T \n",
       "[6,] O    T "
      ]
     },
     "metadata": {},
     "output_type": "display_data"
    }
   ],
   "source": [
    "#::GMG::Hemos definido los arcos\n",
    "dag$arcs"
   ]
  },
  {
   "cell_type": "code",
   "execution_count": 17,
   "metadata": {},
   "outputs": [
    {
     "data": {
      "text/html": [
       "<dl>\n",
       "\t<dt>$A</dt>\n",
       "\t\t<dd><dl>\n",
       "\t<dt>$mb</dt>\n",
       "\t\t<dd><ol class=list-inline>\n",
       "\t<li>'E'</li>\n",
       "\t<li>'S'</li>\n",
       "</ol>\n",
       "</dd>\n",
       "\t<dt>$nbr</dt>\n",
       "\t\t<dd>'E'</dd>\n",
       "\t<dt>$parents</dt>\n",
       "\t\t<dd></dd>\n",
       "\t<dt>$children</dt>\n",
       "\t\t<dd>'E'</dd>\n",
       "</dl>\n",
       "</dd>\n",
       "\t<dt>$R</dt>\n",
       "\t\t<dd><dl>\n",
       "\t<dt>$mb</dt>\n",
       "\t\t<dd><ol class=list-inline>\n",
       "\t<li>'E'</li>\n",
       "\t<li>'O'</li>\n",
       "\t<li>'T'</li>\n",
       "</ol>\n",
       "</dd>\n",
       "\t<dt>$nbr</dt>\n",
       "\t\t<dd><ol class=list-inline>\n",
       "\t<li>'E'</li>\n",
       "\t<li>'T'</li>\n",
       "</ol>\n",
       "</dd>\n",
       "\t<dt>$parents</dt>\n",
       "\t\t<dd>'E'</dd>\n",
       "\t<dt>$children</dt>\n",
       "\t\t<dd>'T'</dd>\n",
       "</dl>\n",
       "</dd>\n",
       "\t<dt>$E</dt>\n",
       "\t\t<dd><dl>\n",
       "\t<dt>$mb</dt>\n",
       "\t\t<dd><ol class=list-inline>\n",
       "\t<li>'A'</li>\n",
       "\t<li>'R'</li>\n",
       "\t<li>'O'</li>\n",
       "\t<li>'S'</li>\n",
       "</ol>\n",
       "</dd>\n",
       "\t<dt>$nbr</dt>\n",
       "\t\t<dd><ol class=list-inline>\n",
       "\t<li>'A'</li>\n",
       "\t<li>'R'</li>\n",
       "\t<li>'O'</li>\n",
       "\t<li>'S'</li>\n",
       "</ol>\n",
       "</dd>\n",
       "\t<dt>$parents</dt>\n",
       "\t\t<dd><ol class=list-inline>\n",
       "\t<li>'A'</li>\n",
       "\t<li>'S'</li>\n",
       "</ol>\n",
       "</dd>\n",
       "\t<dt>$children</dt>\n",
       "\t\t<dd><ol class=list-inline>\n",
       "\t<li>'R'</li>\n",
       "\t<li>'O'</li>\n",
       "</ol>\n",
       "</dd>\n",
       "</dl>\n",
       "</dd>\n",
       "\t<dt>$O</dt>\n",
       "\t\t<dd><dl>\n",
       "\t<dt>$mb</dt>\n",
       "\t\t<dd><ol class=list-inline>\n",
       "\t<li>'R'</li>\n",
       "\t<li>'E'</li>\n",
       "\t<li>'T'</li>\n",
       "</ol>\n",
       "</dd>\n",
       "\t<dt>$nbr</dt>\n",
       "\t\t<dd><ol class=list-inline>\n",
       "\t<li>'E'</li>\n",
       "\t<li>'T'</li>\n",
       "</ol>\n",
       "</dd>\n",
       "\t<dt>$parents</dt>\n",
       "\t\t<dd>'E'</dd>\n",
       "\t<dt>$children</dt>\n",
       "\t\t<dd>'T'</dd>\n",
       "</dl>\n",
       "</dd>\n",
       "\t<dt>$S</dt>\n",
       "\t\t<dd><dl>\n",
       "\t<dt>$mb</dt>\n",
       "\t\t<dd><ol class=list-inline>\n",
       "\t<li>'A'</li>\n",
       "\t<li>'E'</li>\n",
       "</ol>\n",
       "</dd>\n",
       "\t<dt>$nbr</dt>\n",
       "\t\t<dd>'E'</dd>\n",
       "\t<dt>$parents</dt>\n",
       "\t\t<dd></dd>\n",
       "\t<dt>$children</dt>\n",
       "\t\t<dd>'E'</dd>\n",
       "</dl>\n",
       "</dd>\n",
       "\t<dt>$T</dt>\n",
       "\t\t<dd><dl>\n",
       "\t<dt>$mb</dt>\n",
       "\t\t<dd><ol class=list-inline>\n",
       "\t<li>'R'</li>\n",
       "\t<li>'O'</li>\n",
       "</ol>\n",
       "</dd>\n",
       "\t<dt>$nbr</dt>\n",
       "\t\t<dd><ol class=list-inline>\n",
       "\t<li>'R'</li>\n",
       "\t<li>'O'</li>\n",
       "</ol>\n",
       "</dd>\n",
       "\t<dt>$parents</dt>\n",
       "\t\t<dd><ol class=list-inline>\n",
       "\t<li>'R'</li>\n",
       "\t<li>'O'</li>\n",
       "</ol>\n",
       "</dd>\n",
       "\t<dt>$children</dt>\n",
       "\t\t<dd></dd>\n",
       "</dl>\n",
       "</dd>\n",
       "</dl>\n"
      ],
      "text/latex": [
       "\\begin{description}\n",
       "\\item[\\$A] \\begin{description}\n",
       "\\item[\\$mb] \\begin{enumerate*}\n",
       "\\item 'E'\n",
       "\\item 'S'\n",
       "\\end{enumerate*}\n",
       "\n",
       "\\item[\\$nbr] 'E'\n",
       "\\item[\\$parents] \n",
       "\\item[\\$children] 'E'\n",
       "\\end{description}\n",
       "\n",
       "\\item[\\$R] \\begin{description}\n",
       "\\item[\\$mb] \\begin{enumerate*}\n",
       "\\item 'E'\n",
       "\\item 'O'\n",
       "\\item 'T'\n",
       "\\end{enumerate*}\n",
       "\n",
       "\\item[\\$nbr] \\begin{enumerate*}\n",
       "\\item 'E'\n",
       "\\item 'T'\n",
       "\\end{enumerate*}\n",
       "\n",
       "\\item[\\$parents] 'E'\n",
       "\\item[\\$children] 'T'\n",
       "\\end{description}\n",
       "\n",
       "\\item[\\$E] \\begin{description}\n",
       "\\item[\\$mb] \\begin{enumerate*}\n",
       "\\item 'A'\n",
       "\\item 'R'\n",
       "\\item 'O'\n",
       "\\item 'S'\n",
       "\\end{enumerate*}\n",
       "\n",
       "\\item[\\$nbr] \\begin{enumerate*}\n",
       "\\item 'A'\n",
       "\\item 'R'\n",
       "\\item 'O'\n",
       "\\item 'S'\n",
       "\\end{enumerate*}\n",
       "\n",
       "\\item[\\$parents] \\begin{enumerate*}\n",
       "\\item 'A'\n",
       "\\item 'S'\n",
       "\\end{enumerate*}\n",
       "\n",
       "\\item[\\$children] \\begin{enumerate*}\n",
       "\\item 'R'\n",
       "\\item 'O'\n",
       "\\end{enumerate*}\n",
       "\n",
       "\\end{description}\n",
       "\n",
       "\\item[\\$O] \\begin{description}\n",
       "\\item[\\$mb] \\begin{enumerate*}\n",
       "\\item 'R'\n",
       "\\item 'E'\n",
       "\\item 'T'\n",
       "\\end{enumerate*}\n",
       "\n",
       "\\item[\\$nbr] \\begin{enumerate*}\n",
       "\\item 'E'\n",
       "\\item 'T'\n",
       "\\end{enumerate*}\n",
       "\n",
       "\\item[\\$parents] 'E'\n",
       "\\item[\\$children] 'T'\n",
       "\\end{description}\n",
       "\n",
       "\\item[\\$S] \\begin{description}\n",
       "\\item[\\$mb] \\begin{enumerate*}\n",
       "\\item 'A'\n",
       "\\item 'E'\n",
       "\\end{enumerate*}\n",
       "\n",
       "\\item[\\$nbr] 'E'\n",
       "\\item[\\$parents] \n",
       "\\item[\\$children] 'E'\n",
       "\\end{description}\n",
       "\n",
       "\\item[\\$T] \\begin{description}\n",
       "\\item[\\$mb] \\begin{enumerate*}\n",
       "\\item 'R'\n",
       "\\item 'O'\n",
       "\\end{enumerate*}\n",
       "\n",
       "\\item[\\$nbr] \\begin{enumerate*}\n",
       "\\item 'R'\n",
       "\\item 'O'\n",
       "\\end{enumerate*}\n",
       "\n",
       "\\item[\\$parents] \\begin{enumerate*}\n",
       "\\item 'R'\n",
       "\\item 'O'\n",
       "\\end{enumerate*}\n",
       "\n",
       "\\item[\\$children] \n",
       "\\end{description}\n",
       "\n",
       "\\end{description}\n"
      ],
      "text/markdown": [
       "$A\n",
       ":   $mb\n",
       ":   1. 'E'\n",
       "2. 'S'\n",
       "\n",
       "\n",
       "\n",
       "$nbr\n",
       ":   'E'\n",
       "$parents\n",
       ":   \n",
       "$children\n",
       ":   'E'\n",
       "\n",
       "\n",
       "\n",
       "$R\n",
       ":   $mb\n",
       ":   1. 'E'\n",
       "2. 'O'\n",
       "3. 'T'\n",
       "\n",
       "\n",
       "\n",
       "$nbr\n",
       ":   1. 'E'\n",
       "2. 'T'\n",
       "\n",
       "\n",
       "\n",
       "$parents\n",
       ":   'E'\n",
       "$children\n",
       ":   'T'\n",
       "\n",
       "\n",
       "\n",
       "$E\n",
       ":   $mb\n",
       ":   1. 'A'\n",
       "2. 'R'\n",
       "3. 'O'\n",
       "4. 'S'\n",
       "\n",
       "\n",
       "\n",
       "$nbr\n",
       ":   1. 'A'\n",
       "2. 'R'\n",
       "3. 'O'\n",
       "4. 'S'\n",
       "\n",
       "\n",
       "\n",
       "$parents\n",
       ":   1. 'A'\n",
       "2. 'S'\n",
       "\n",
       "\n",
       "\n",
       "$children\n",
       ":   1. 'R'\n",
       "2. 'O'\n",
       "\n",
       "\n",
       "\n",
       "\n",
       "\n",
       "\n",
       "$O\n",
       ":   $mb\n",
       ":   1. 'R'\n",
       "2. 'E'\n",
       "3. 'T'\n",
       "\n",
       "\n",
       "\n",
       "$nbr\n",
       ":   1. 'E'\n",
       "2. 'T'\n",
       "\n",
       "\n",
       "\n",
       "$parents\n",
       ":   'E'\n",
       "$children\n",
       ":   'T'\n",
       "\n",
       "\n",
       "\n",
       "$S\n",
       ":   $mb\n",
       ":   1. 'A'\n",
       "2. 'E'\n",
       "\n",
       "\n",
       "\n",
       "$nbr\n",
       ":   'E'\n",
       "$parents\n",
       ":   \n",
       "$children\n",
       ":   'E'\n",
       "\n",
       "\n",
       "\n",
       "$T\n",
       ":   $mb\n",
       ":   1. 'R'\n",
       "2. 'O'\n",
       "\n",
       "\n",
       "\n",
       "$nbr\n",
       ":   1. 'R'\n",
       "2. 'O'\n",
       "\n",
       "\n",
       "\n",
       "$parents\n",
       ":   1. 'R'\n",
       "2. 'O'\n",
       "\n",
       "\n",
       "\n",
       "$children\n",
       ":   \n",
       "\n",
       "\n",
       "\n",
       "\n",
       "\n"
      ],
      "text/plain": [
       "$A\n",
       "$A$mb\n",
       "[1] \"E\" \"S\"\n",
       "\n",
       "$A$nbr\n",
       "[1] \"E\"\n",
       "\n",
       "$A$parents\n",
       "character(0)\n",
       "\n",
       "$A$children\n",
       "[1] \"E\"\n",
       "\n",
       "\n",
       "$R\n",
       "$R$mb\n",
       "[1] \"E\" \"O\" \"T\"\n",
       "\n",
       "$R$nbr\n",
       "[1] \"E\" \"T\"\n",
       "\n",
       "$R$parents\n",
       "[1] \"E\"\n",
       "\n",
       "$R$children\n",
       "[1] \"T\"\n",
       "\n",
       "\n",
       "$E\n",
       "$E$mb\n",
       "[1] \"A\" \"R\" \"O\" \"S\"\n",
       "\n",
       "$E$nbr\n",
       "[1] \"A\" \"R\" \"O\" \"S\"\n",
       "\n",
       "$E$parents\n",
       "[1] \"A\" \"S\"\n",
       "\n",
       "$E$children\n",
       "[1] \"R\" \"O\"\n",
       "\n",
       "\n",
       "$O\n",
       "$O$mb\n",
       "[1] \"R\" \"E\" \"T\"\n",
       "\n",
       "$O$nbr\n",
       "[1] \"E\" \"T\"\n",
       "\n",
       "$O$parents\n",
       "[1] \"E\"\n",
       "\n",
       "$O$children\n",
       "[1] \"T\"\n",
       "\n",
       "\n",
       "$S\n",
       "$S$mb\n",
       "[1] \"A\" \"E\"\n",
       "\n",
       "$S$nbr\n",
       "[1] \"E\"\n",
       "\n",
       "$S$parents\n",
       "character(0)\n",
       "\n",
       "$S$children\n",
       "[1] \"E\"\n",
       "\n",
       "\n",
       "$T\n",
       "$T$mb\n",
       "[1] \"R\" \"O\"\n",
       "\n",
       "$T$nbr\n",
       "[1] \"R\" \"O\"\n",
       "\n",
       "$T$parents\n",
       "[1] \"R\" \"O\"\n",
       "\n",
       "$T$children\n",
       "character(0)\n",
       "\n"
      ]
     },
     "metadata": {},
     "output_type": "display_data"
    }
   ],
   "source": [
    "#::GMG::Y los nodos\n",
    "dag$nodes"
   ]
  },
  {
   "cell_type": "markdown",
   "metadata": {},
   "source": [
    "Esta es la definición simbólica del grafo:"
   ]
  },
  {
   "cell_type": "code",
   "execution_count": 18,
   "metadata": {},
   "outputs": [
    {
     "data": {
      "text/html": [
       "'[A][S][E|A:S][R|E][O|E][T|R:O]'"
      ],
      "text/latex": [
       "'{[}A{]}{[}S{]}{[}E\\textbar{}A:S{]}{[}R\\textbar{}E{]}{[}O\\textbar{}E{]}{[}T\\textbar{}R:O{]}'"
      ],
      "text/markdown": [
       "'[A][S][E|A:S][R|E][O|E][T|R:O]'"
      ],
      "text/plain": [
       "[1] \"[A][S][E|A:S][R|E][O|E][T|R:O]\""
      ]
     },
     "metadata": {},
     "output_type": "display_data"
    }
   ],
   "source": [
    "modelstring(dag)"
   ]
  },
  {
   "cell_type": "markdown",
   "metadata": {},
   "source": [
    "De este modo, las dependencias de cada variable quedan definidas por la barra vertical (`|`) que usamos habitualmente para la fórmula de probabilidad condicionada y separadas por dos puntos `:`. Por ejemplo, `[E|A:S]` significa que se dan los arcos $A→E$ y $S→E$ (sexo y edad son *padres* de empleo). Esta notación se asemeja por tanto a un producto de probabilidades condicionadas, del tipo $P(E | A,S)$, lo que concuerda con el hecho de que cada una de ellas es un *factor de la descomposición* en la *distribución global* hecha por nuestro grafo `dag`:\n",
    "\n",
    "$P_{dag}\\left(A,S,E,O,R,T\\right) = P(A)P(S)P(E | A,S)P(O | E)P(R | E)P(T | O,R)$\n",
    "\n",
    "Otras funciones útiles para explorar objetos de la clase bn son por ejemplo nodesy arcs:"
   ]
  },
  {
   "cell_type": "code",
   "execution_count": 19,
   "metadata": {},
   "outputs": [
    {
     "data": {
      "text/html": [
       "<ol class=list-inline>\n",
       "\t<li>'A'</li>\n",
       "\t<li>'R'</li>\n",
       "\t<li>'E'</li>\n",
       "\t<li>'O'</li>\n",
       "\t<li>'S'</li>\n",
       "\t<li>'T'</li>\n",
       "</ol>\n"
      ],
      "text/latex": [
       "\\begin{enumerate*}\n",
       "\\item 'A'\n",
       "\\item 'R'\n",
       "\\item 'E'\n",
       "\\item 'O'\n",
       "\\item 'S'\n",
       "\\item 'T'\n",
       "\\end{enumerate*}\n"
      ],
      "text/markdown": [
       "1. 'A'\n",
       "2. 'R'\n",
       "3. 'E'\n",
       "4. 'O'\n",
       "5. 'S'\n",
       "6. 'T'\n",
       "\n",
       "\n"
      ],
      "text/plain": [
       "[1] \"A\" \"R\" \"E\" \"O\" \"S\" \"T\""
      ]
     },
     "metadata": {},
     "output_type": "display_data"
    }
   ],
   "source": [
    "#::GMG::muchas de las estructuras de la clase bn se pueden obtener \n",
    "#       de manera funcional con una visión simplificada\n",
    "nodes(dag)"
   ]
  },
  {
   "cell_type": "code",
   "execution_count": 20,
   "metadata": {},
   "outputs": [
    {
     "data": {
      "text/html": [
       "<table>\n",
       "<thead><tr><th scope=col>from</th><th scope=col>to</th></tr></thead>\n",
       "<tbody>\n",
       "\t<tr><td>A</td><td>E</td></tr>\n",
       "\t<tr><td>S</td><td>E</td></tr>\n",
       "\t<tr><td>E</td><td>O</td></tr>\n",
       "\t<tr><td>E</td><td>R</td></tr>\n",
       "\t<tr><td>R</td><td>T</td></tr>\n",
       "\t<tr><td>O</td><td>T</td></tr>\n",
       "</tbody>\n",
       "</table>\n"
      ],
      "text/latex": [
       "\\begin{tabular}{ll}\n",
       " from & to\\\\\n",
       "\\hline\n",
       "\t A & E\\\\\n",
       "\t S & E\\\\\n",
       "\t E & O\\\\\n",
       "\t E & R\\\\\n",
       "\t R & T\\\\\n",
       "\t O & T\\\\\n",
       "\\end{tabular}\n"
      ],
      "text/markdown": [
       "\n",
       "from | to | \n",
       "|---|---|---|---|---|---|\n",
       "| A | E | \n",
       "| S | E | \n",
       "| E | O | \n",
       "| E | R | \n",
       "| R | T | \n",
       "| O | T | \n",
       "\n",
       "\n"
      ],
      "text/plain": [
       "     from to\n",
       "[1,] A    E \n",
       "[2,] S    E \n",
       "[3,] E    O \n",
       "[4,] E    R \n",
       "[5,] R    T \n",
       "[6,] O    T "
      ]
     },
     "metadata": {},
     "output_type": "display_data"
    }
   ],
   "source": [
    "arcs(dag)"
   ]
  },
  {
   "cell_type": "markdown",
   "metadata": {},
   "source": [
    "### 2.2 Otra manera de definir el DAG"
   ]
  },
  {
   "cell_type": "markdown",
   "metadata": {},
   "source": [
    "La forma anterior define arcos uno a uno, pero también podemos definir la estructura toda a la vez. La función `arcs()` es especialmente interesante ya que nos permite añadir arcos de manera más rápida. En este caso, se podrían definir las relaciones mediante una matriz de dos columnas similar a la devuelta por `arcs()`:"
   ]
  },
  {
   "cell_type": "code",
   "execution_count": 21,
   "metadata": {},
   "outputs": [],
   "source": [
    "dag2 <- empty.graph(nodes = c(\"A\", \"S\", \"E\", \"O\", \"R\", \"T\"))\n",
    "arc.set <- matrix(c(\"A\", \"E\",\n",
    "                    \"S\", \"E\",\n",
    "                    \"E\", \"R\",\n",
    "                    \"E\", \"O\",\n",
    "                    \"O\", \"T\",\n",
    "                    \"R\", \"T\"),\n",
    "                  byrow = TRUE, ncol = 2,\n",
    "                  dimnames = list(NULL, c(\"from\", \"to\"))\n",
    "                 )\n",
    "arcs(dag2) <- arc.set"
   ]
  },
  {
   "cell_type": "markdown",
   "metadata": {},
   "source": [
    "El grafo resultante es idéntico al que se generó anteriormente:"
   ]
  },
  {
   "cell_type": "code",
   "execution_count": 22,
   "metadata": {},
   "outputs": [
    {
     "data": {
      "text/html": [
       "TRUE"
      ],
      "text/latex": [
       "TRUE"
      ],
      "text/markdown": [
       "TRUE"
      ],
      "text/plain": [
       "[1] TRUE"
      ]
     },
     "metadata": {},
     "output_type": "display_data"
    }
   ],
   "source": [
    "all.equal(dag, dag2)"
   ]
  },
  {
   "cell_type": "markdown",
   "metadata": {},
   "source": [
    "Ambas formas de definir el grafo garantizan que éste sea acíclico, ya que si se intenta introducir un ciclo en el mismo se producirá un error. Por ejemplo, si intentamos crear una relación directa entre `T` y `E`, lo que daría lugar a un ciclo, se produce un error:"
   ]
  },
  {
   "cell_type": "code",
   "execution_count": 23,
   "metadata": {},
   "outputs": [
    {
     "ename": "ERROR",
     "evalue": "Error in arc.operations(x = x, from = from, to = to, op = \"set\", check.cycles = check.cycles, : the resulting graph contains cycles.\n",
     "output_type": "error",
     "traceback": [
      "Error in arc.operations(x = x, from = from, to = to, op = \"set\", check.cycles = check.cycles, : the resulting graph contains cycles.\nTraceback:\n",
      "1. set.arc(dag, from = \"T\", to = \"E\")",
      "2. arc.operations(x = x, from = from, to = to, op = \"set\", check.cycles = check.cycles, \n .     check.illegal = check.illegal, debug = debug)",
      "3. stop(\"the resulting graph contains cycles.\")"
     ]
    }
   ],
   "source": [
    "set.arc(dag, from = \"T\", to = \"E\")"
   ]
  },
  {
   "cell_type": "markdown",
   "metadata": {},
   "source": [
    "### Ejercicio 1.1\n",
    "\n",
    "Construye un grafo razonable que modelice el conjunto de datos almacenados en coronary, que contiene las causas probables de factores de riesgo en trombosis coronaria, con las variables:\n",
    "\n",
    " - Smoking: Fumador. Factores: no/yes .\n",
    " - M. Work: Trabajo mental estresante. Factores: no/yes .\n",
    " - P. Work: Trabajo físico estresante. Factores: no/yes\n",
    " - Pressure: Tensión sistólica. Factores: <140/>140\n",
    " - Proteins: Ratio de lipoproteinas alfa y beta. Factores: <3/>3.\n",
    " - Family: Familiar con enfermedad coronaria: Factores: neg/pos\n",
    " \n",
    "**::GMG::** La [solución](http://www.bnlearn.com/documentation/man/coronary.html) parcial (grafo no dirigido) está en la documentación de referencia de `bnlearn` que incluye el dataset `coronary` en el que se tienen las características que se indican en el ejercicio."
   ]
  },
  {
   "cell_type": "code",
   "execution_count": 24,
   "metadata": {},
   "outputs": [
    {
     "name": "stdout",
     "output_type": "stream",
     "text": [
      "'data.frame':\t1841 obs. of  6 variables:\n",
      " $ Smoking : Factor w/ 2 levels \"no\",\"yes\": 1 1 1 1 1 1 1 1 1 1 ...\n",
      " $ M. Work : Factor w/ 2 levels \"no\",\"yes\": 1 1 1 1 1 1 1 1 1 1 ...\n",
      " $ P. Work : Factor w/ 2 levels \"no\",\"yes\": 1 1 1 1 1 1 1 1 1 1 ...\n",
      " $ Pressure: Factor w/ 2 levels \"<140\",\">140\": 1 1 1 1 1 1 1 1 1 1 ...\n",
      " $ Proteins: Factor w/ 2 levels \"<3\",\">3\": 1 1 1 1 1 1 1 1 1 1 ...\n",
      " $ Family  : Factor w/ 2 levels \"neg\",\"pos\": 1 1 1 1 1 1 1 1 1 1 ...\n"
     ]
    }
   ],
   "source": [
    "#::GMG::El dataset coronary\n",
    "str(coronary)"
   ]
  },
  {
   "cell_type": "code",
   "execution_count": 25,
   "metadata": {},
   "outputs": [],
   "source": [
    "#::GMG::Ejemplo (solución) de la documentación\n",
    "# http://www.bnlearn.com/documentation/man/coronary.html\n",
    "# This is the undirected graphical model from Whittaker (1990).\n",
    "#data(coronary)\n",
    "#::nota::es interesante la manera de sacar el nombre de los nodos\n",
    "#        del dataset\n",
    "ug <- empty.graph(names(coronary))"
   ]
  },
  {
   "cell_type": "code",
   "execution_count": 26,
   "metadata": {},
   "outputs": [
    {
     "data": {
      "text/html": [
       "<ol class=list-inline>\n",
       "\t<li>'Smoking'</li>\n",
       "\t<li>'M. Work'</li>\n",
       "\t<li>'P. Work'</li>\n",
       "\t<li>'Pressure'</li>\n",
       "\t<li>'Proteins'</li>\n",
       "\t<li>'Family'</li>\n",
       "</ol>\n"
      ],
      "text/latex": [
       "\\begin{enumerate*}\n",
       "\\item 'Smoking'\n",
       "\\item 'M. Work'\n",
       "\\item 'P. Work'\n",
       "\\item 'Pressure'\n",
       "\\item 'Proteins'\n",
       "\\item 'Family'\n",
       "\\end{enumerate*}\n"
      ],
      "text/markdown": [
       "1. 'Smoking'\n",
       "2. 'M. Work'\n",
       "3. 'P. Work'\n",
       "4. 'Pressure'\n",
       "5. 'Proteins'\n",
       "6. 'Family'\n",
       "\n",
       "\n"
      ],
      "text/plain": [
       "[1] \"Smoking\"  \"M. Work\"  \"P. Work\"  \"Pressure\" \"Proteins\" \"Family\"  "
      ]
     },
     "metadata": {},
     "output_type": "display_data"
    }
   ],
   "source": [
    "#::GMG::En clase nos han indicado que no es una buena idea poner\n",
    "#       nodos con nombres con espacios y la extracción no names()\n",
    "#       los elimina (!!)\n",
    "nodes(ug)"
   ]
  },
  {
   "cell_type": "code",
   "execution_count": 27,
   "metadata": {},
   "outputs": [],
   "source": [
    "#::GMG::La función arcs() también se puede usar para crear\n",
    "#       los arcos (!!)\n",
    "#::nota::al poner las dos direcciones de un arco se le hace\n",
    "#        no dirigido\n",
    "#::PTE::con asunciones (razonamientos) parecidos a los usados con\n",
    "#       el dag de survey \n",
    "arcs(x = ug, check.cycles = FALSE) = matrix(\n",
    "  c(\"Family\", \"M. Work\", \"M. Work\", \"Family\",\n",
    "    \"M. Work\", \"P. Work\", \"P. Work\", \"M. Work\",\n",
    "    \"M. Work\", \"Proteins\", \"Proteins\", \"M. Work\",\n",
    "    \"M. Work\", \"Smoking\", \"Smoking\", \"M. Work\",\n",
    "    \"P. Work\", \"Smoking\", \"Smoking\", \"P. Work\",\n",
    "    \"P. Work\", \"Proteins\", \"Proteins\", \"P. Work\",\n",
    "    \"Smoking\", \"Proteins\", \"Proteins\", \"Smoking\",\n",
    "    \"Smoking\", \"Pressure\", \"Pressure\", \"Smoking\",\n",
    "    \"Pressure\", \"Proteins\", \"Proteins\", \"Pressure\"),\n",
    "  ncol = 2, byrow = TRUE,\n",
    "  dimnames = list(c(), c(\"from\", \"to\")))"
   ]
  },
  {
   "cell_type": "code",
   "execution_count": 28,
   "metadata": {},
   "outputs": [],
   "source": [
    "#::GMG::Aquí se hace uso de graphviz para \"embellecer\" el resultado :)\n",
    "#library('Rgraphviz')"
   ]
  },
  {
   "cell_type": "code",
   "execution_count": 29,
   "metadata": {},
   "outputs": [],
   "source": [
    "#graphviz.plot(ug, shape = \"ellipse\")"
   ]
  },
  {
   "cell_type": "markdown",
   "metadata": {},
   "source": [
    "### Ejercicio 1.2\n",
    "\n",
    "Hemos utilizado la función `arcs()`, pero se puede acceder a la estructura de arcos mediante `dag$arcs`. Añade un arco al grafo del *Ejercicio 1* modificando manualmente esta estructura y observa lo que ocurre para las funciones `parents()`, etc…\n",
    "\n",
    "**::GMG::** En cierta manera esto ya lo he hecho con `dag` ... ;)"
   ]
  },
  {
   "cell_type": "markdown",
   "metadata": {},
   "source": [
    "### 2.3 Construcción de las tablas de probabilidad condicionada"
   ]
  },
  {
   "cell_type": "markdown",
   "metadata": {},
   "source": [
    "#### 2.3.1 Definición de los estados de las variables"
   ]
  },
  {
   "cell_type": "markdown",
   "metadata": {},
   "source": [
    "Una vez representadas las interacciones entre variables mediante el grafo, es necesario especificar una distribución de probabilidad conjunta sobre todas las variables para obtener el modelo bayesiano de los datos de la encuesta. Todas ellas, como se dijo al principio, son variables discretas y definidas para una serie de estados ordenados (categorías, o levels en R), que se definen a continuación:"
   ]
  },
  {
   "cell_type": "code",
   "execution_count": 30,
   "metadata": {},
   "outputs": [
    {
     "data": {
      "text/html": [
       "<table>\n",
       "<thead><tr><th scope=col>A</th><th scope=col>R</th><th scope=col>E</th><th scope=col>O</th><th scope=col>S</th><th scope=col>T</th></tr></thead>\n",
       "<tbody>\n",
       "\t<tr><td>adult</td><td>big  </td><td>high </td><td>emp  </td><td>F    </td><td>car  </td></tr>\n",
       "\t<tr><td>adult</td><td>small</td><td>uni  </td><td>emp  </td><td>M    </td><td>car  </td></tr>\n",
       "\t<tr><td>adult</td><td>big  </td><td>uni  </td><td>emp  </td><td>F    </td><td>train</td></tr>\n",
       "\t<tr><td>adult</td><td>big  </td><td>high </td><td>emp  </td><td>M    </td><td>car  </td></tr>\n",
       "\t<tr><td>adult</td><td>big  </td><td>high </td><td>emp  </td><td>M    </td><td>car  </td></tr>\n",
       "\t<tr><td>adult</td><td>small</td><td>high </td><td>emp  </td><td>F    </td><td>train</td></tr>\n",
       "</tbody>\n",
       "</table>\n"
      ],
      "text/latex": [
       "\\begin{tabular}{r|llllll}\n",
       " A & R & E & O & S & T\\\\\n",
       "\\hline\n",
       "\t adult & big   & high  & emp   & F     & car  \\\\\n",
       "\t adult & small & uni   & emp   & M     & car  \\\\\n",
       "\t adult & big   & uni   & emp   & F     & train\\\\\n",
       "\t adult & big   & high  & emp   & M     & car  \\\\\n",
       "\t adult & big   & high  & emp   & M     & car  \\\\\n",
       "\t adult & small & high  & emp   & F     & train\\\\\n",
       "\\end{tabular}\n"
      ],
      "text/markdown": [
       "\n",
       "A | R | E | O | S | T | \n",
       "|---|---|---|---|---|---|\n",
       "| adult | big   | high  | emp   | F     | car   | \n",
       "| adult | small | uni   | emp   | M     | car   | \n",
       "| adult | big   | uni   | emp   | F     | train | \n",
       "| adult | big   | high  | emp   | M     | car   | \n",
       "| adult | big   | high  | emp   | M     | car   | \n",
       "| adult | small | high  | emp   | F     | train | \n",
       "\n",
       "\n"
      ],
      "text/plain": [
       "  A     R     E    O   S T    \n",
       "1 adult big   high emp F car  \n",
       "2 adult small uni  emp M car  \n",
       "3 adult big   uni  emp F train\n",
       "4 adult big   high emp M car  \n",
       "5 adult big   high emp M car  \n",
       "6 adult small high emp F train"
      ]
     },
     "metadata": {},
     "output_type": "display_data"
    }
   ],
   "source": [
    "#::GMG::Recuerdo como es el dataset\n",
    "# Age (A), Residence (R), Education (E), Ocupation (O), Sex (S), Transportation (T)\n",
    "survey <- read.table('../data/survey.txt', header = TRUE)\n",
    "head(survey)"
   ]
  },
  {
   "cell_type": "code",
   "execution_count": 31,
   "metadata": {},
   "outputs": [
    {
     "name": "stdout",
     "output_type": "stream",
     "text": [
      "'data.frame':\t500 obs. of  6 variables:\n",
      " $ A: Factor w/ 3 levels \"adult\",\"old\",..: 1 1 1 1 1 1 1 3 3 2 ...\n",
      " $ R: Factor w/ 2 levels \"big\",\"small\": 1 2 1 1 1 2 1 1 1 1 ...\n",
      " $ E: Factor w/ 2 levels \"high\",\"uni\": 1 2 2 1 1 1 1 2 1 2 ...\n",
      " $ O: Factor w/ 2 levels \"emp\",\"self\": 1 1 1 1 1 1 1 1 1 1 ...\n",
      " $ S: Factor w/ 2 levels \"F\",\"M\": 1 2 1 2 2 1 1 1 2 1 ...\n",
      " $ T: Factor w/ 3 levels \"car\",\"other\",..: 1 1 3 1 1 3 1 3 1 1 ...\n"
     ]
    }
   ],
   "source": [
    "str(survey)"
   ]
  },
  {
   "cell_type": "code",
   "execution_count": 32,
   "metadata": {},
   "outputs": [
    {
     "data": {
      "text/html": [
       "<ol class=list-inline>\n",
       "\t<li>'car'</li>\n",
       "\t<li>'other'</li>\n",
       "\t<li>'train'</li>\n",
       "</ol>\n"
      ],
      "text/latex": [
       "\\begin{enumerate*}\n",
       "\\item 'car'\n",
       "\\item 'other'\n",
       "\\item 'train'\n",
       "\\end{enumerate*}\n"
      ],
      "text/markdown": [
       "1. 'car'\n",
       "2. 'other'\n",
       "3. 'train'\n",
       "\n",
       "\n"
      ],
      "text/plain": [
       "[1] \"car\"   \"other\" \"train\""
      ]
     },
     "metadata": {},
     "output_type": "display_data"
    }
   ],
   "source": [
    "levels(survey$T)"
   ]
  },
  {
   "cell_type": "code",
   "execution_count": 33,
   "metadata": {},
   "outputs": [
    {
     "data": {
      "text/html": [
       "<ol class=list-inline>\n",
       "\t<li>'adult'</li>\n",
       "\t<li>'old'</li>\n",
       "\t<li>'young'</li>\n",
       "</ol>\n"
      ],
      "text/latex": [
       "\\begin{enumerate*}\n",
       "\\item 'adult'\n",
       "\\item 'old'\n",
       "\\item 'young'\n",
       "\\end{enumerate*}\n"
      ],
      "text/markdown": [
       "1. 'adult'\n",
       "2. 'old'\n",
       "3. 'young'\n",
       "\n",
       "\n"
      ],
      "text/plain": [
       "[1] \"adult\" \"old\"   \"young\""
      ]
     },
     "metadata": {},
     "output_type": "display_data"
    }
   ],
   "source": [
    "levels(survey$A)"
   ]
  },
  {
   "cell_type": "code",
   "execution_count": 34,
   "metadata": {},
   "outputs": [],
   "source": [
    "#::GMG:: estado de los nodos para las tablas de probabilidad (CPT)\n",
    "estados.A <- c(\"young\", \"adult\", \"old\")\n",
    "estados.S <- c(\"M\", \"F\")\n",
    "estados.E <- c(\"high\", \"uni\")\n",
    "estados.O <- c(\"emp\",\"self\")\n",
    "estados.R <- c(\"small\",\"big\")\n",
    "estados.T <- c(\"car\",\"train\",\"other\")"
   ]
  },
  {
   "cell_type": "code",
   "execution_count": 35,
   "metadata": {},
   "outputs": [
    {
     "data": {
      "text/html": [
       "<ol class=list-inline>\n",
       "\t<li>'young'</li>\n",
       "\t<li>'adult'</li>\n",
       "\t<li>'old'</li>\n",
       "</ol>\n"
      ],
      "text/latex": [
       "\\begin{enumerate*}\n",
       "\\item 'young'\n",
       "\\item 'adult'\n",
       "\\item 'old'\n",
       "\\end{enumerate*}\n"
      ],
      "text/markdown": [
       "1. 'young'\n",
       "2. 'adult'\n",
       "3. 'old'\n",
       "\n",
       "\n"
      ],
      "text/plain": [
       "[1] \"young\" \"adult\" \"old\"  "
      ]
     },
     "metadata": {},
     "output_type": "display_data"
    }
   ],
   "source": [
    "estados.A"
   ]
  },
  {
   "cell_type": "markdown",
   "metadata": {},
   "source": [
    "En este caso, la distribución de probabilidad conjunta o global (**JPD, Joint Probability Distribution**), que denotamos con $P(X)$, tiene **3∗2∗2∗2∗2∗3** = 144 estados, y por tanto **3∗2∗2∗2∗2∗3−1** = 143 *parámetros*, que son las combinaciones resultantes, y esto tan solo con un modelo de 6 variables, varias de las cuales son binarias.\n",
    "\n",
    "**::GMG::** la fórmula para los parámetros tiene in \"-1\" porque el último estado está fijo una vez contados los anteriores"
   ]
  },
  {
   "cell_type": "markdown",
   "metadata": {},
   "source": [
    "En su lugar, y aprovechándonos de nuestro conocimiento sobre el conjunto de datos (conocimiento experto, a priori) hemos utilizado un modelo mucho menos complejo a nivel de parámetros, descartando muchas relaciones entre variables que sabemos a priori que no tienen sentido (e.g. la relación entre la edad A y el sexo S del encuestado).\n",
    "\n",
    "Las variables que no se encuentran unidas por ningún arco se dice que son *condicionalmente independientes*. Por lo tanto, la factorización representada por la ecuación anterior es un *submodelo* de la distribución global que contiene muchos menos parámetros."
   ]
  },
  {
   "cell_type": "code",
   "execution_count": 36,
   "metadata": {},
   "outputs": [
    {
     "data": {
      "text/html": [
       "'[A][S][E|A:S][R|E][O|E][T|R:O]'"
      ],
      "text/latex": [
       "'{[}A{]}{[}S{]}{[}E\\textbar{}A:S{]}{[}R\\textbar{}E{]}{[}O\\textbar{}E{]}{[}T\\textbar{}R:O{]}'"
      ],
      "text/markdown": [
       "'[A][S][E|A:S][R|E][O|E][T|R:O]'"
      ],
      "text/plain": [
       "[1] \"[A][S][E|A:S][R|E][O|E][T|R:O]\""
      ]
     },
     "metadata": {},
     "output_type": "display_data"
    }
   ],
   "source": [
    "#::GMG::Recordar que la factorización que representa el grafo la podemos\n",
    "#       obtener con\n",
    "modelstring(dag)"
   ]
  },
  {
   "cell_type": "markdown",
   "metadata": {},
   "source": [
    "Llevado a nuestro ejemplo, el número de parámetros necesarios para definir la JPD en nuestro ejemplo es, gracias al DAG y denotando $\\mathcal B$ la red bayesiana definida por `dag`,\n",
    "\n",
    "$P_{\\mathcal B}(A,S,E,O,R,T) = P(A)_2P(S)_1P(E|A,S)_{1⋅(3⋅2)}P(O|E)_{1⋅2}P(R|E)_{1⋅2}P(T|O,R)_{2⋅(2⋅2)}$,\n",
    "\n",
    "**2+1+6+2+2+8** = 21 parámetros (Obsérvese como el número de parámetros crece exponencialmente con el número de padres), con la idea de que $P_B$ se ajuste suficientemente bien a la JPD, i.e. $P_{\\mathcal B} \\approx P$, y lo que sigue por tanto es definir esos parámetros.\n",
    "\n",
    "**::GMG::** Para la notación matemática me está resultando útil [este enlace](https://en.wikibooks.org/wiki/LaTeX/Mathematics)."
   ]
  },
  {
   "cell_type": "markdown",
   "metadata": {},
   "source": [
    "### 2.3.2 Definición de las Tablas de Probabilidad Condicionada"
   ]
  },
  {
   "cell_type": "markdown",
   "metadata": {},
   "source": [
    "Las *Tablas de Probabilidad Condicionada* (**CPT**) de cada variable viene dada por una función de probabilidad *para cada combinación de estados de los padres*, i.e. para un nodo $X$\n",
    "necesitamos definir las tablas de probabilidad $P(X | Π(X))$, quedando definida la función de probabilidad conjunta como \n",
    "\n",
    "$P_{dag}(\\mathcal X) = ∏_{pi = 1}^P (X_i | Π(X_i))$, \n",
    "\n",
    "donde $Π(X)$ son los padres de $X$."
   ]
  },
  {
   "cell_type": "markdown",
   "metadata": {},
   "source": [
    "Dado que las probabilidades condicionales pueden ser unidimensionales o venir en forma de tablas de varias dimensiones dependiendo del número de padres de cada nodo, utilizaremos para crear dichas probabilidades la función `array()`, que permite utilizar una interfaz común en todos los casos (`matrix()` es simplemente un elemento de tipo `array()` de dos dimensiones).\n",
    "\n",
    "En la encuesta, la *edad* y el *sexo* vienen dadas por probabilidades unidimensionales, ya que son variables que no tienen padres en el grafo. Sólo tenemos por tanto que especificar sus marginales:\n",
    "\n",
    "**::GMG::** Esto no se tiene por qué hacer a mano y se puede [deducir del dataset](http://www.bnlearn.com/examples/custom/) (!)"
   ]
  },
  {
   "cell_type": "code",
   "execution_count": 41,
   "metadata": {},
   "outputs": [
    {
     "name": "stdout",
     "output_type": "stream",
     "text": [
      "A\n",
      "young adult   old \n",
      "  0.3   0.5   0.2 \n"
     ]
    }
   ],
   "source": [
    "#::nota::Esta celda da un error con el comando comentado\n",
    "# ERROR while rich displaying an object: Error in dn[[2L]]: subscript out of bounds\n",
    "# https://github.com/IRkernel/IRkernel/issues/590\n",
    "# the object is an 1D-array with dimnames. repr_latex fails on it \n",
    "# which is why you see an error and output.\n",
    "# A.prob <- array(data = c(.3, .5, .2), \n",
    "#                dim = 3, \n",
    "#                dimnames = list(A = estados.A)\n",
    "#               )\n",
    "# A.prob\n",
    "#::nota::lo hago como lo hacen bnlearn\n",
    "# http://www.bnlearn.com/examples/custom/\n",
    "# A.prob <- matrix(c(.3, .5, .2), ncol = 3, dimnames = list(NULL, estados.A))\n",
    "# \n",
    "A.prob <- array(data = c(.3, .5, .2), \n",
    "                dim = 3, \n",
    "                dimnames = list(A = estados.A)\n",
    "               )\n",
    "print(A.prob)"
   ]
  },
  {
   "cell_type": "code",
   "execution_count": 39,
   "metadata": {},
   "outputs": [
    {
     "name": "stdout",
     "output_type": "stream",
     "text": [
      "S\n",
      "  M   F \n",
      "0.6 0.4 \n"
     ]
    }
   ],
   "source": [
    "#::GMG::El resultado es el mismo pero el problema es si se intenta\n",
    "#       imprimir en una celda sin el print() (!)\n",
    "S.prob <- array(c(.6, .4), \n",
    "                dim = 2, \n",
    "                dimnames = list(S = estados.S))\n",
    "print(S.prob)"
   ]
  },
  {
   "cell_type": "markdown",
   "metadata": {},
   "source": [
    "*ocupación* y *residencia*, al depender de educación, se representan mediante una tabla de probabilidades condicionadas de dos dimensiones, i.e. necesitamos definir una probabilidad para cada estado del padre. Cada columna por tanto en este caso representa cada uno de los niveles del padre, manteniendo la distribución de la variable condicionada cada nivel particular, por lo que las probabilidades de cada columna siempre suman 1 (i.e. son una probabilidad):"
   ]
  },
  {
   "cell_type": "code",
   "execution_count": 42,
   "metadata": {},
   "outputs": [
    {
     "name": "stdout",
     "output_type": "stream",
     "text": [
      "      E\n",
      "O      high  uni\n",
      "  emp  0.96 0.92\n",
      "  self 0.04 0.08\n"
     ]
    }
   ],
   "source": [
    "O.prob <- array(c(.96,.04,.92,.08), \n",
    "                dim = c(2,2), \n",
    "                dimnames = list(O = estados.O, E = estados.E))\n",
    "print(O.prob)"
   ]
  },
  {
   "cell_type": "code",
   "execution_count": 43,
   "metadata": {},
   "outputs": [
    {
     "name": "stdout",
     "output_type": "stream",
     "text": [
      "       E\n",
      "R       high uni\n",
      "  small 0.25 0.2\n",
      "  big   0.75 0.8\n"
     ]
    }
   ],
   "source": [
    "R.prob <- array(c(.25,.75,.2,.8), \n",
    "                dim = c(2,2), \n",
    "                dimnames = list(R = estados.R, E = estados.E))\n",
    "print(R.prob)"
   ]
  },
  {
   "cell_type": "markdown",
   "metadata": {},
   "source": [
    "Por último, *educación* y *transporte* se modelizan en forma de tablas 3-dimensionales, dado que tienen 2 padres cada una y se debe especificar por tanto una probabilidad para cada estado de, en este caso, los 2 padres.\n",
    "\n",
    "La primera dimensión debe ser el nodo en sí, y a continuación se listan los padres. De manera que cada selección de las demás dimensiones (2,...) corresponde a un estado de los padres, y por tanto produce una probabilidad."
   ]
  },
  {
   "cell_type": "code",
   "execution_count": 44,
   "metadata": {},
   "outputs": [
    {
     "name": "stdout",
     "output_type": "stream",
     "text": [
      ", , S = M\n",
      "\n",
      "      A\n",
      "E      young adult  old\n",
      "  high  0.75  0.72 0.88\n",
      "  uni   0.25  0.28 0.12\n",
      "\n",
      ", , S = F\n",
      "\n",
      "      A\n",
      "E      young adult old\n",
      "  high  0.64   0.7 0.9\n",
      "  uni   0.36   0.3 0.1\n",
      "\n"
     ]
    }
   ],
   "source": [
    "E.prob <- array(c(.75, .25, .72, .28, .88, .12, .64, .36, .70, .30, .90, .10),\n",
    "                dim = c(2, 3, 2),\n",
    "                dimnames = list(E = estados.E,\n",
    "                                A = estados.A,\n",
    "                                S = estados.S))\n",
    "print(E.prob)"
   ]
  },
  {
   "cell_type": "code",
   "execution_count": 45,
   "metadata": {},
   "outputs": [
    {
     "name": "stdout",
     "output_type": "stream",
     "text": [
      ", , R = small\n",
      "\n",
      "       O\n",
      "T        emp self\n",
      "  car   0.48 0.56\n",
      "  train 0.42 0.36\n",
      "  other 0.10 0.08\n",
      "\n",
      ", , R = big\n",
      "\n",
      "       O\n",
      "T        emp self\n",
      "  car   0.58 0.70\n",
      "  train 0.24 0.21\n",
      "  other 0.18 0.09\n",
      "\n"
     ]
    }
   ],
   "source": [
    "T.prob <- array(c(.48, .42, .1, .56, .36, .08, .58, .24, .18, .7, .21, .09),\n",
    "                dim = c(3,2,2),\n",
    "                dimnames = list(T = estados.T, \n",
    "                                O = estados.O,\n",
    "                                R = estados.R))\n",
    "print(T.prob)"
   ]
  },
  {
   "cell_type": "markdown",
   "metadata": {},
   "source": [
    "Recuérdese que en `R` podemos seleccionar utilizando directamente el nombre, e.g. si queremos conocer la distribución de empleo para las “mujeres” de edad “adulta”,"
   ]
  },
  {
   "cell_type": "code",
   "execution_count": 46,
   "metadata": {},
   "outputs": [
    {
     "data": {
      "text/html": [
       "<dl class=dl-horizontal>\n",
       "\t<dt>high</dt>\n",
       "\t\t<dd>0.7</dd>\n",
       "\t<dt>uni</dt>\n",
       "\t\t<dd>0.3</dd>\n",
       "</dl>\n"
      ],
      "text/latex": [
       "\\begin{description*}\n",
       "\\item[high] 0.7\n",
       "\\item[uni] 0.3\n",
       "\\end{description*}\n"
      ],
      "text/markdown": [
       "high\n",
       ":   0.7uni\n",
       ":   0.3\n",
       "\n"
      ],
      "text/plain": [
       "high  uni \n",
       " 0.7  0.3 "
      ]
     },
     "metadata": {},
     "output_type": "display_data"
    }
   ],
   "source": [
    "#::GMG::Tengo que aprender a sacar consultas de ese tipo porque seguro que salen\n",
    "#       en el examen\n",
    "E.prob[,\"adult\",\"F\"]"
   ]
  },
  {
   "cell_type": "markdown",
   "metadata": {},
   "source": [
    "O tal vez queramos determinar cómo cambia la distribución entre gente con tamaño de población de residencia “pequeña” y “grande”:"
   ]
  },
  {
   "cell_type": "code",
   "execution_count": 47,
   "metadata": {},
   "outputs": [
    {
     "data": {
      "text/html": [
       "<table>\n",
       "<thead><tr><th></th><th scope=col>emp</th><th scope=col>self</th></tr></thead>\n",
       "<tbody>\n",
       "\t<tr><th scope=row>car</th><td>-0.10</td><td>-0.14</td></tr>\n",
       "\t<tr><th scope=row>train</th><td> 0.18</td><td> 0.15</td></tr>\n",
       "\t<tr><th scope=row>other</th><td>-0.08</td><td>-0.01</td></tr>\n",
       "</tbody>\n",
       "</table>\n"
      ],
      "text/latex": [
       "\\begin{tabular}{r|ll}\n",
       "  & emp & self\\\\\n",
       "\\hline\n",
       "\tcar & -0.10 & -0.14\\\\\n",
       "\ttrain &  0.18 &  0.15\\\\\n",
       "\tother & -0.08 & -0.01\\\\\n",
       "\\end{tabular}\n"
      ],
      "text/markdown": [
       "\n",
       "| <!--/--> | emp | self | \n",
       "|---|---|---|\n",
       "| car | -0.10 | -0.14 | \n",
       "| train |  0.18 |  0.15 | \n",
       "| other | -0.08 | -0.01 | \n",
       "\n",
       "\n"
      ],
      "text/plain": [
       "       O\n",
       "T       emp   self \n",
       "  car   -0.10 -0.14\n",
       "  train  0.18  0.15\n",
       "  other -0.08 -0.01"
      ]
     },
     "metadata": {},
     "output_type": "display_data"
    }
   ],
   "source": [
    "T.prob[,,\"small\"] - T.prob[,,\"big\"]"
   ]
  },
  {
   "cell_type": "markdown",
   "metadata": {},
   "source": [
    "Una vez definidos el grafo y la distribución de las probabilidades locales de cada variable, se combinan para crear la red bayesiana propiamente dicha. Como estamos creando las tablas manualmente (más tarde veremos cómo hacerlo de manera automática), utilizaremos la función `custom.fit()`, que requiere el DAG (clase bn) y una lista en la que se almacenan las diferentes tablas de probabilidades condicionadas, en la que cada elemento lleva el nombre de la variable correspondiente (la llamamos **cpt**, de *Conditional Probability Tables*):"
   ]
  },
  {
   "cell_type": "code",
   "execution_count": 48,
   "metadata": {},
   "outputs": [],
   "source": [
    "cpt <- list(A = A.prob, S = S.prob, E = E.prob, O = O.prob, R = R.prob, T = T.prob)"
   ]
  },
  {
   "cell_type": "markdown",
   "metadata": {},
   "source": [
    "El [objeto bn](http://www.bnlearn.com/documentation/man/bn.fit.class.html) es la red bayesiana propiamente dicha, contiene el grafo y las tablas de probabilidad asociadas a cada nodo. Para bnlearn es un objeto de las clases `bn.fit` y `bn.fit.dnet`, es decir, es una “*red bayesiana ajustada a unos datos*”."
   ]
  },
  {
   "cell_type": "code",
   "execution_count": 49,
   "metadata": {},
   "outputs": [],
   "source": [
    "bn <- custom.fit(x = dag, dist = cpt)"
   ]
  },
  {
   "cell_type": "code",
   "execution_count": 50,
   "metadata": {},
   "outputs": [
    {
     "data": {
      "text/html": [
       "<ol class=list-inline>\n",
       "\t<li>'bn.fit'</li>\n",
       "\t<li>'bn.fit.dnet'</li>\n",
       "</ol>\n"
      ],
      "text/latex": [
       "\\begin{enumerate*}\n",
       "\\item 'bn.fit'\n",
       "\\item 'bn.fit.dnet'\n",
       "\\end{enumerate*}\n"
      ],
      "text/markdown": [
       "1. 'bn.fit'\n",
       "2. 'bn.fit.dnet'\n",
       "\n",
       "\n"
      ],
      "text/plain": [
       "[1] \"bn.fit\"      \"bn.fit.dnet\""
      ]
     },
     "metadata": {},
     "output_type": "display_data"
    }
   ],
   "source": [
    "# http://www.bnlearn.com/documentation/man/bn.class.html\n",
    "# http://www.bnlearn.com/documentation/man/bn.fit.class.html\n",
    "class(bn)"
   ]
  },
  {
   "cell_type": "code",
   "execution_count": null,
   "metadata": {},
   "outputs": [],
   "source": [
    "# consultas al grafo (no de inferencia)\n",
    "# x -> y -> z => P(x)p(y/x)p(z/y); x <- y -> z => P(y) p(x/y) P(z/y)\n",
    "# d-separation => independence becasuse it's an I-graph \n",
    "# en el ejercicio "
   ]
  },
  {
   "cell_type": "code",
   "execution_count": null,
   "metadata": {},
   "outputs": [],
   "source": [
    "nbr(dag, \"O\")"
   ]
  },
  {
   "cell_type": "code",
   "execution_count": null,
   "metadata": {},
   "outputs": [],
   "source": [
    "mb(dag, \"O\")"
   ]
  },
  {
   "cell_type": "code",
   "execution_count": null,
   "metadata": {},
   "outputs": [],
   "source": [
    "#ejercicio 2: añadir un arco de A a T\n",
    "dag <- set.arc(dag,from = 'A', to = 'T')"
   ]
  },
  {
   "cell_type": "code",
   "execution_count": null,
   "metadata": {},
   "outputs": [],
   "source": [
    "mb(dag, \"O\")"
   ]
  },
  {
   "cell_type": "code",
   "execution_count": null,
   "metadata": {},
   "outputs": [],
   "source": [
    "plot(dag)"
   ]
  },
  {
   "cell_type": "code",
   "execution_count": null,
   "metadata": {},
   "outputs": [],
   "source": [
    "# ¿se ha creado una nueva independencia?\n",
    "# dsep (A, O) dado E; dsep(A, O) dado E,T (E=e, T = t); al añadir A -> T NO se cumple los dsep\n",
    "#::nota:: iq -> nota <- dif => iq not dsep | nota"
   ]
  },
  {
   "cell_type": "code",
   "execution_count": null,
   "metadata": {},
   "outputs": [],
   "source": [
    "dsep(bn = dag, x = 'A' , y = 'O', z = c('E', 'T'))"
   ]
  },
  {
   "cell_type": "code",
   "execution_count": null,
   "metadata": {},
   "outputs": [],
   "source": [
    "dag <- drop.arc(dag,from = 'A', to = 'T')"
   ]
  },
  {
   "cell_type": "code",
   "execution_count": null,
   "metadata": {},
   "outputs": [],
   "source": [
    "dsep(bn = dag, x = 'A' , y = 'O', z = c('E', 'T'))"
   ]
  },
  {
   "cell_type": "code",
   "execution_count": null,
   "metadata": {},
   "outputs": [],
   "source": [
    "# en el apartado 3 hay que poner la factorización nueva com p(A/T) como factor\n",
    "# Z ind U NO\n",
    "# Z dependiente U no es seguro\n",
    "# T ind U NO\n",
    "# T ind U|R SI\n",
    "# Z ind U |T SI\n",
    "# Z ind U | T, E SI\n",
    "# Z ind U | X NO\n",
    "# ...\n",
    "# K ind T SI v-structura y no evidenciado (R)\n",
    "# K ind Z SI\n"
   ]
  }
 ],
 "metadata": {
  "kernelspec": {
   "display_name": "R",
   "language": "R",
   "name": "ir"
  },
  "language_info": {
   "codemirror_mode": "r",
   "file_extension": ".r",
   "mimetype": "text/x-r-source",
   "name": "R",
   "pygments_lexer": "r",
   "version": "3.4.4"
  }
 },
 "nbformat": 4,
 "nbformat_minor": 2
}
