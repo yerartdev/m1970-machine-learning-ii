{
 "cells": [
  {
   "cell_type": "markdown",
   "metadata": {},
   "source": [
    "## Bibliotecas"
   ]
  },
  {
   "cell_type": "code",
   "execution_count": 1,
   "metadata": {},
   "outputs": [
    {
     "name": "stderr",
     "output_type": "stream",
     "text": [
      "\n",
      "Attaching package: ‘bnlearn’\n",
      "\n",
      "The following object is masked from ‘package:stats’:\n",
      "\n",
      "    sigma\n",
      "\n"
     ]
    }
   ],
   "source": [
    "library('bnlearn')"
   ]
  },
  {
   "cell_type": "code",
   "execution_count": 2,
   "metadata": {},
   "outputs": [],
   "source": [
    "#library('Rgraphviz')"
   ]
  },
  {
   "cell_type": "markdown",
   "metadata": {},
   "source": [
    "## Ejemplos"
   ]
  },
  {
   "cell_type": "markdown",
   "metadata": {},
   "source": [
    "### dataset learning.test (bnlearn)"
   ]
  },
  {
   "cell_type": "markdown",
   "metadata": {},
   "source": [
    "#### Learning the network structure"
   ]
  },
  {
   "cell_type": "code",
   "execution_count": 3,
   "metadata": {},
   "outputs": [
    {
     "name": "stdout",
     "output_type": "stream",
     "text": [
      "'data.frame':\t5000 obs. of  6 variables:\n",
      " $ A: Factor w/ 3 levels \"a\",\"b\",\"c\": 2 2 1 1 1 3 3 2 2 2 ...\n",
      " $ B: Factor w/ 3 levels \"a\",\"b\",\"c\": 3 1 1 1 1 3 3 2 2 1 ...\n",
      " $ C: Factor w/ 3 levels \"a\",\"b\",\"c\": 2 3 1 1 2 1 2 1 2 2 ...\n",
      " $ D: Factor w/ 3 levels \"a\",\"b\",\"c\": 1 1 1 1 3 3 3 2 1 1 ...\n",
      " $ E: Factor w/ 3 levels \"a\",\"b\",\"c\": 2 2 1 2 1 3 3 2 3 1 ...\n",
      " $ F: Factor w/ 2 levels \"a\",\"b\": 2 2 1 2 1 1 1 2 1 1 ...\n"
     ]
    }
   ],
   "source": [
    "# Creating custom fitted Bayesian networks\n",
    "# http://www.bnlearn.com/examples/\n",
    "# http://www.bnlearn.com/examples/fit/\n",
    "# http://www.bnlearn.com/documentation/man/learning-test.html\n",
    "str(learning.test)"
   ]
  },
  {
   "cell_type": "code",
   "execution_count": 4,
   "metadata": {},
   "outputs": [
    {
     "data": {
      "text/html": [
       "<table>\n",
       "<thead><tr><th scope=col>A</th><th scope=col>B</th><th scope=col>C</th><th scope=col>D</th><th scope=col>E</th><th scope=col>F</th></tr></thead>\n",
       "<tbody>\n",
       "\t<tr><td>b</td><td>c</td><td>b</td><td>a</td><td>b</td><td>b</td></tr>\n",
       "\t<tr><td>b</td><td>a</td><td>c</td><td>a</td><td>b</td><td>b</td></tr>\n",
       "\t<tr><td>a</td><td>a</td><td>a</td><td>a</td><td>a</td><td>a</td></tr>\n",
       "\t<tr><td>a</td><td>a</td><td>a</td><td>a</td><td>b</td><td>b</td></tr>\n",
       "\t<tr><td>a</td><td>a</td><td>b</td><td>c</td><td>a</td><td>a</td></tr>\n",
       "\t<tr><td>c</td><td>c</td><td>a</td><td>c</td><td>c</td><td>a</td></tr>\n",
       "</tbody>\n",
       "</table>\n"
      ],
      "text/latex": [
       "\\begin{tabular}{r|llllll}\n",
       " A & B & C & D & E & F\\\\\n",
       "\\hline\n",
       "\t b & c & b & a & b & b\\\\\n",
       "\t b & a & c & a & b & b\\\\\n",
       "\t a & a & a & a & a & a\\\\\n",
       "\t a & a & a & a & b & b\\\\\n",
       "\t a & a & b & c & a & a\\\\\n",
       "\t c & c & a & c & c & a\\\\\n",
       "\\end{tabular}\n"
      ],
      "text/markdown": [
       "\n",
       "A | B | C | D | E | F | \n",
       "|---|---|---|---|---|---|\n",
       "| b | c | b | a | b | b | \n",
       "| b | a | c | a | b | b | \n",
       "| a | a | a | a | a | a | \n",
       "| a | a | a | a | b | b | \n",
       "| a | a | b | c | a | a | \n",
       "| c | c | a | c | c | a | \n",
       "\n",
       "\n"
      ],
      "text/plain": [
       "  A B C D E F\n",
       "1 b c b a b b\n",
       "2 b a c a b b\n",
       "3 a a a a a a\n",
       "4 a a a a b b\n",
       "5 a a b c a a\n",
       "6 c c a c c a"
      ]
     },
     "metadata": {},
     "output_type": "display_data"
    }
   ],
   "source": [
    "head(learning.test)"
   ]
  },
  {
   "cell_type": "code",
   "execution_count": 5,
   "metadata": {},
   "outputs": [],
   "source": [
    "# learn structure score-based\n",
    "# http://www.bnlearn.com/documentation/networks/index.html#learning\n",
    "pdag <- bnlearn::iamb(learning.test)"
   ]
  },
  {
   "cell_type": "code",
   "execution_count": 6,
   "metadata": {},
   "outputs": [
    {
     "data": {
      "text/plain": [
       "\n",
       "  Bayesian network learned via Constraint-based methods\n",
       "\n",
       "  model:\n",
       "    [partially directed graph]\n",
       "  nodes:                                 6 \n",
       "  arcs:                                  5 \n",
       "    undirected arcs:                     1 \n",
       "    directed arcs:                       4 \n",
       "  average markov blanket size:           2.33 \n",
       "  average neighbourhood size:            1.67 \n",
       "  average branching factor:              0.67 \n",
       "\n",
       "  learning algorithm:                    IAMB \n",
       "  conditional independence test:         Mutual Information (disc.) \n",
       "  alpha threshold:                       0.05 \n",
       "  tests used in the learning procedure:  140 \n",
       "  optimized:                             FALSE \n"
      ]
     },
     "metadata": {},
     "output_type": "display_data"
    }
   ],
   "source": [
    "# [partially directed graph]\n",
    "# there is a single undirected arc in pdag; \n",
    "pdag"
   ]
  },
  {
   "cell_type": "code",
   "execution_count": 7,
   "metadata": {},
   "outputs": [
    {
     "data": {
      "image/png": "[encoded data removed]",
      "text/plain": [
       "plot without title"
      ]
     },
     "metadata": {},
     "output_type": "display_data"
    }
   ],
   "source": [
    "plot(pdag)"
   ]
  },
  {
   "cell_type": "code",
   "execution_count": 8,
   "metadata": {},
   "outputs": [
    {
     "data": {
      "text/html": [
       "-24006.7342324982"
      ],
      "text/latex": [
       "-24006.7342324982"
      ],
      "text/markdown": [
       "-24006.7342324982"
      ],
      "text/plain": [
       "[1] -24006.73"
      ]
     },
     "metadata": {},
     "output_type": "display_data"
    }
   ],
   "source": [
    "# IAMB was not able to set its orientation ...\n",
    "# ... because its two possible direction are score equivalent.\n",
    "bnlearn::score(set.arc(pdag, from = \"A\", to = \"B\"), learning.test)"
   ]
  },
  {
   "cell_type": "code",
   "execution_count": 9,
   "metadata": {},
   "outputs": [
    {
     "data": {
      "text/html": [
       "-24006.7342324982"
      ],
      "text/latex": [
       "-24006.7342324982"
      ],
      "text/markdown": [
       "-24006.7342324982"
      ],
      "text/plain": [
       "[1] -24006.73"
      ]
     },
     "metadata": {},
     "output_type": "display_data"
    }
   ],
   "source": [
    "bnlearn::score(set.arc(pdag, from = \"B\", to = \"A\"), learning.test)"
   ]
  },
  {
   "cell_type": "code",
   "execution_count": 10,
   "metadata": {},
   "outputs": [],
   "source": [
    "# with the set.arc() function, if the direction of the arc is known \n",
    "# or can be guessed from the experimental setting of the data\n",
    "dag = set.arc(pdag, from = \"B\", to = \"A\")"
   ]
  },
  {
   "cell_type": "code",
   "execution_count": 11,
   "metadata": {},
   "outputs": [
    {
     "data": {
      "image/png": "[encoded data removed]",
      "text/plain": [
       "plot without title"
      ]
     },
     "metadata": {},
     "output_type": "display_data"
    }
   ],
   "source": [
    "plot(dag)"
   ]
  },
  {
   "cell_type": "code",
   "execution_count": 12,
   "metadata": {},
   "outputs": [
    {
     "data": {
      "text/html": [
       "'[B][C][F][A|B][E|B:F][D|A:C]'"
      ],
      "text/latex": [
       "'{[}B{]}{[}C{]}{[}F{]}{[}A\\textbar{}B{]}{[}E\\textbar{}B:F{]}{[}D\\textbar{}A:C{]}'"
      ],
      "text/markdown": [
       "'[B][C][F][A|B][E|B:F][D|A:C]'"
      ],
      "text/plain": [
       "[1] \"[B][C][F][A|B][E|B:F][D|A:C]\""
      ]
     },
     "metadata": {},
     "output_type": "display_data"
    }
   ],
   "source": [
    "# Factorización de la probabilidad conjunta del dag\n",
    "modelstring(dag)"
   ]
  },
  {
   "cell_type": "code",
   "execution_count": 13,
   "metadata": {},
   "outputs": [
    {
     "name": "stdout",
     "output_type": "stream",
     "text": [
      "* scanning the graph (step 1).\n",
      "  > node D is the center of a v-structure.\n",
      "  > node E is the center of a v-structure.\n",
      "* marking v-structures (step 2).\n",
      "  > fixing arc A -> D, it's part of a v-structure.\n",
      "  > fixing arc C -> D, it's part of a v-structure.\n",
      "  > fixing arc B -> E, it's part of a v-structure.\n",
      "  > fixing arc F -> E, it's part of a v-structure.\n",
      "* removing moral v-structures aka shielded colliders.\n",
      "  > considering arc A -> D.\n",
      "    > considering v-structure A -> D <- C.\n",
      "  @ arc A -> D is part of a v-structure.\n",
      "  > considering arc C -> D.\n",
      "    > considering v-structure C -> D <- A.\n",
      "  @ arc C -> D is part of a v-structure.\n",
      "  > considering arc B -> E.\n",
      "    > considering v-structure B -> E <- F.\n",
      "  @ arc B -> E is part of a v-structure.\n",
      "  > considering arc F -> E.\n",
      "    > considering v-structure F -> E <- B.\n",
      "  @ arc F -> E is part of a v-structure.\n"
     ]
    },
    {
     "data": {
      "text/html": [
       "<table>\n",
       "<thead><tr><th scope=col>X</th><th scope=col>Z</th><th scope=col>Y</th></tr></thead>\n",
       "<tbody>\n",
       "\t<tr><td>A</td><td>D</td><td>C</td></tr>\n",
       "\t<tr><td>B</td><td>E</td><td>F</td></tr>\n",
       "</tbody>\n",
       "</table>\n"
      ],
      "text/latex": [
       "\\begin{tabular}{lll}\n",
       " X & Z & Y\\\\\n",
       "\\hline\n",
       "\t A & D & C\\\\\n",
       "\t B & E & F\\\\\n",
       "\\end{tabular}\n"
      ],
      "text/markdown": [
       "\n",
       "X | Z | Y | \n",
       "|---|---|\n",
       "| A | D | C | \n",
       "| B | E | F | \n",
       "\n",
       "\n"
      ],
      "text/plain": [
       "     X Z Y\n",
       "[1,] A D C\n",
       "[2,] B E F"
      ]
     },
     "metadata": {},
     "output_type": "display_data"
    }
   ],
   "source": [
    "# v-structs del dag (inmorales) con detalle de su extracción (debug)\n",
    "bnlearn::vstructs(dag, debug = T)\n",
    "# bnlearn::vstructs(dag, moral = T, debug = T)"
   ]
  },
  {
   "cell_type": "code",
   "execution_count": 14,
   "metadata": {},
   "outputs": [
    {
     "data": {
      "text/html": [
       "'bn'"
      ],
      "text/latex": [
       "'bn'"
      ],
      "text/markdown": [
       "'bn'"
      ],
      "text/plain": [
       "[1] \"bn\""
      ]
     },
     "metadata": {},
     "output_type": "display_data"
    }
   ],
   "source": [
    "# clase que representa la red bayesiana (dag + cpt)(?)\n",
    "class(dag)"
   ]
  },
  {
   "cell_type": "code",
   "execution_count": 15,
   "metadata": {},
   "outputs": [
    {
     "data": {
      "text/html": [
       "<table>\n",
       "<thead><tr><th></th><th scope=col>A</th><th scope=col>B</th><th scope=col>C</th><th scope=col>D</th><th scope=col>E</th><th scope=col>F</th></tr></thead>\n",
       "<tbody>\n",
       "\t<tr><th scope=row>A</th><td>0</td><td>0</td><td>0</td><td>1</td><td>0</td><td>0</td></tr>\n",
       "\t<tr><th scope=row>B</th><td>1</td><td>0</td><td>0</td><td>0</td><td>1</td><td>0</td></tr>\n",
       "\t<tr><th scope=row>C</th><td>0</td><td>0</td><td>0</td><td>1</td><td>0</td><td>0</td></tr>\n",
       "\t<tr><th scope=row>D</th><td>0</td><td>0</td><td>0</td><td>0</td><td>0</td><td>0</td></tr>\n",
       "\t<tr><th scope=row>E</th><td>0</td><td>0</td><td>0</td><td>0</td><td>0</td><td>0</td></tr>\n",
       "\t<tr><th scope=row>F</th><td>0</td><td>0</td><td>0</td><td>0</td><td>1</td><td>0</td></tr>\n",
       "</tbody>\n",
       "</table>\n"
      ],
      "text/latex": [
       "\\begin{tabular}{r|llllll}\n",
       "  & A & B & C & D & E & F\\\\\n",
       "\\hline\n",
       "\tA & 0 & 0 & 0 & 1 & 0 & 0\\\\\n",
       "\tB & 1 & 0 & 0 & 0 & 1 & 0\\\\\n",
       "\tC & 0 & 0 & 0 & 1 & 0 & 0\\\\\n",
       "\tD & 0 & 0 & 0 & 0 & 0 & 0\\\\\n",
       "\tE & 0 & 0 & 0 & 0 & 0 & 0\\\\\n",
       "\tF & 0 & 0 & 0 & 0 & 1 & 0\\\\\n",
       "\\end{tabular}\n"
      ],
      "text/markdown": [
       "\n",
       "| <!--/--> | A | B | C | D | E | F | \n",
       "|---|---|---|---|---|---|\n",
       "| A | 0 | 0 | 0 | 1 | 0 | 0 | \n",
       "| B | 1 | 0 | 0 | 0 | 1 | 0 | \n",
       "| C | 0 | 0 | 0 | 1 | 0 | 0 | \n",
       "| D | 0 | 0 | 0 | 0 | 0 | 0 | \n",
       "| E | 0 | 0 | 0 | 0 | 0 | 0 | \n",
       "| F | 0 | 0 | 0 | 0 | 1 | 0 | \n",
       "\n",
       "\n"
      ],
      "text/plain": [
       "  A B C D E F\n",
       "A 0 0 0 1 0 0\n",
       "B 1 0 0 0 1 0\n",
       "C 0 0 0 1 0 0\n",
       "D 0 0 0 0 0 0\n",
       "E 0 0 0 0 0 0\n",
       "F 0 0 0 0 1 0"
      ]
     },
     "metadata": {},
     "output_type": "display_data"
    }
   ],
   "source": [
    "# Matriz de adyacencia (otra representación del dag)\n",
    "bnlearn::amat(dag)"
   ]
  },
  {
   "cell_type": "markdown",
   "metadata": {},
   "source": [
    "#### Fitting the parameters (Bayesian Posterior estimates)"
   ]
  },
  {
   "cell_type": "code",
   "execution_count": 16,
   "metadata": {},
   "outputs": [],
   "source": [
    "# aprendo las cpt del dag (parámetros) con los datos\n",
    "#::nota::por defecto es mle\n",
    "# http://www.bnlearn.com/documentation/man/bn.fit.html\n",
    "fit <- bn.fit(x = dag, data = learning.test)"
   ]
  },
  {
   "cell_type": "code",
   "execution_count": 17,
   "metadata": {},
   "outputs": [
    {
     "data": {
      "text/html": [
       "<ol class=list-inline>\n",
       "\t<li>'bn.fit'</li>\n",
       "\t<li>'bn.fit.dnet'</li>\n",
       "</ol>\n"
      ],
      "text/latex": [
       "\\begin{enumerate*}\n",
       "\\item 'bn.fit'\n",
       "\\item 'bn.fit.dnet'\n",
       "\\end{enumerate*}\n"
      ],
      "text/markdown": [
       "1. 'bn.fit'\n",
       "2. 'bn.fit.dnet'\n",
       "\n",
       "\n"
      ],
      "text/plain": [
       "[1] \"bn.fit\"      \"bn.fit.dnet\""
      ]
     },
     "metadata": {},
     "output_type": "display_data"
    }
   ],
   "source": [
    "# http://www.bnlearn.com/documentation/man/bn.fit.class.html\n",
    "class(fit)"
   ]
  },
  {
   "cell_type": "code",
   "execution_count": 18,
   "metadata": {},
   "outputs": [],
   "source": [
    "# se puede unificar en uno la red completa (dag + cpt)\n",
    "# http://www.bnlearn.com/documentation/man/bn.class.html\n",
    "bn <- bn.net(x = fit)"
   ]
  },
  {
   "cell_type": "code",
   "execution_count": 19,
   "metadata": {},
   "outputs": [
    {
     "data": {
      "text/html": [
       "'bn'"
      ],
      "text/latex": [
       "'bn'"
      ],
      "text/markdown": [
       "'bn'"
      ],
      "text/plain": [
       "[1] \"bn\""
      ]
     },
     "metadata": {},
     "output_type": "display_data"
    }
   ],
   "source": [
    "class(bn)"
   ]
  },
  {
   "cell_type": "code",
   "execution_count": 20,
   "metadata": {},
   "outputs": [
    {
     "data": {
      "text/html": [
       "<dl>\n",
       "\t<dt>$mb</dt>\n",
       "\t\t<dd><ol class=list-inline>\n",
       "\t<li>'A'</li>\n",
       "\t<li>'C'</li>\n",
       "</ol>\n",
       "</dd>\n",
       "\t<dt>$nbr</dt>\n",
       "\t\t<dd><ol class=list-inline>\n",
       "\t<li>'A'</li>\n",
       "\t<li>'C'</li>\n",
       "</ol>\n",
       "</dd>\n",
       "\t<dt>$parents</dt>\n",
       "\t\t<dd><ol class=list-inline>\n",
       "\t<li>'A'</li>\n",
       "\t<li>'C'</li>\n",
       "</ol>\n",
       "</dd>\n",
       "\t<dt>$children</dt>\n",
       "\t\t<dd></dd>\n",
       "</dl>\n"
      ],
      "text/latex": [
       "\\begin{description}\n",
       "\\item[\\$mb] \\begin{enumerate*}\n",
       "\\item 'A'\n",
       "\\item 'C'\n",
       "\\end{enumerate*}\n",
       "\n",
       "\\item[\\$nbr] \\begin{enumerate*}\n",
       "\\item 'A'\n",
       "\\item 'C'\n",
       "\\end{enumerate*}\n",
       "\n",
       "\\item[\\$parents] \\begin{enumerate*}\n",
       "\\item 'A'\n",
       "\\item 'C'\n",
       "\\end{enumerate*}\n",
       "\n",
       "\\item[\\$children] \n",
       "\\end{description}\n"
      ],
      "text/markdown": [
       "$mb\n",
       ":   1. 'A'\n",
       "2. 'C'\n",
       "\n",
       "\n",
       "\n",
       "$nbr\n",
       ":   1. 'A'\n",
       "2. 'C'\n",
       "\n",
       "\n",
       "\n",
       "$parents\n",
       ":   1. 'A'\n",
       "2. 'C'\n",
       "\n",
       "\n",
       "\n",
       "$children\n",
       ":   \n",
       "\n",
       "\n"
      ],
      "text/plain": [
       "$mb\n",
       "[1] \"A\" \"C\"\n",
       "\n",
       "$nbr\n",
       "[1] \"A\" \"C\"\n",
       "\n",
       "$parents\n",
       "[1] \"A\" \"C\"\n",
       "\n",
       "$children\n",
       "character(0)\n"
      ]
     },
     "metadata": {},
     "output_type": "display_data"
    }
   ],
   "source": [
    "bn$nodes$D"
   ]
  },
  {
   "cell_type": "code",
   "execution_count": 21,
   "metadata": {},
   "outputs": [
    {
     "data": {
      "text/html": [
       "'empty'"
      ],
      "text/latex": [
       "'empty'"
      ],
      "text/markdown": [
       "'empty'"
      ],
      "text/plain": [
       "[1] \"empty\""
      ]
     },
     "metadata": {},
     "output_type": "display_data"
    }
   ],
   "source": [
    "bn$learning$algo"
   ]
  },
  {
   "cell_type": "code",
   "execution_count": 22,
   "metadata": {},
   "outputs": [
    {
     "data": {
      "text/plain": [
       "\n",
       "  Bayesian network parameters\n",
       "\n",
       "  Parameters of node A (multinomial distribution)\n",
       "\n",
       "Conditional probability table:\n",
       " \n",
       "   B\n",
       "A            a          b          c\n",
       "  a 0.60457240 0.07394366 0.09565217\n",
       "  b 0.31456393 0.64964789 0.26956522\n",
       "  c 0.08086367 0.27640845 0.63478261\n",
       "\n",
       "  Parameters of node B (multinomial distribution)\n",
       "\n",
       "Conditional probability table:\n",
       "      a      b      c \n",
       "0.4724 0.1136 0.4140 \n",
       "\n",
       "  Parameters of node C (multinomial distribution)\n",
       "\n",
       "Conditional probability table:\n",
       "      a      b      c \n",
       "0.7434 0.2048 0.0518 \n",
       "\n",
       "  Parameters of node D (multinomial distribution)\n",
       "\n",
       "Conditional probability table:\n",
       " \n",
       ", , C = a\n",
       "\n",
       "   A\n",
       "D            a          b          c\n",
       "  a 0.80081301 0.09251810 0.10530547\n",
       "  b 0.09024390 0.80209171 0.11173633\n",
       "  c 0.10894309 0.10539019 0.78295820\n",
       "\n",
       ", , C = b\n",
       "\n",
       "   A\n",
       "D            a          b          c\n",
       "  a 0.18079096 0.88304094 0.24695122\n",
       "  b 0.13276836 0.07017544 0.49390244\n",
       "  c 0.68644068 0.04678363 0.25914634\n",
       "\n",
       ", , C = c\n",
       "\n",
       "   A\n",
       "D            a          b          c\n",
       "  a 0.42857143 0.34117647 0.13333333\n",
       "  b 0.20238095 0.38823529 0.44444444\n",
       "  c 0.36904762 0.27058824 0.42222222\n",
       "\n",
       "\n",
       "  Parameters of node E (multinomial distribution)\n",
       "\n",
       "Conditional probability table:\n",
       " \n",
       ", , F = a\n",
       "\n",
       "   B\n",
       "E            a          b          c\n",
       "  a 0.80524979 0.20588235 0.11937378\n",
       "  b 0.09737511 0.17973856 0.11448141\n",
       "  c 0.09737511 0.61437908 0.76614481\n",
       "\n",
       ", , F = b\n",
       "\n",
       "   B\n",
       "E            a          b          c\n",
       "  a 0.40050804 0.31679389 0.23759542\n",
       "  b 0.49026249 0.36641221 0.50667939\n",
       "  c 0.10922947 0.31679389 0.25572519\n",
       "\n",
       "\n",
       "  Parameters of node F (multinomial distribution)\n",
       "\n",
       "Conditional probability table:\n",
       "      a      b \n",
       "0.5018 0.4982 \n"
      ]
     },
     "metadata": {},
     "output_type": "display_data"
    }
   ],
   "source": [
    "fit"
   ]
  },
  {
   "cell_type": "code",
   "execution_count": 23,
   "metadata": {},
   "outputs": [
    {
     "data": {
      "text/plain": [
       "\n",
       "  Parameters of node D (multinomial distribution)\n",
       "\n",
       "Conditional probability table:\n",
       " \n",
       ", , C = a\n",
       "\n",
       "   A\n",
       "D            a          b          c\n",
       "  a 0.80081301 0.09251810 0.10530547\n",
       "  b 0.09024390 0.80209171 0.11173633\n",
       "  c 0.10894309 0.10539019 0.78295820\n",
       "\n",
       ", , C = b\n",
       "\n",
       "   A\n",
       "D            a          b          c\n",
       "  a 0.18079096 0.88304094 0.24695122\n",
       "  b 0.13276836 0.07017544 0.49390244\n",
       "  c 0.68644068 0.04678363 0.25914634\n",
       "\n",
       ", , C = c\n",
       "\n",
       "   A\n",
       "D            a          b          c\n",
       "  a 0.42857143 0.34117647 0.13333333\n",
       "  b 0.20238095 0.38823529 0.44444444\n",
       "  c 0.36904762 0.27058824 0.42222222\n"
      ]
     },
     "metadata": {},
     "output_type": "display_data"
    }
   ],
   "source": [
    "fit$D"
   ]
  },
  {
   "cell_type": "code",
   "execution_count": 24,
   "metadata": {},
   "outputs": [
    {
     "name": "stdout",
     "output_type": "stream",
     "text": [
      "\n",
      "  Parameters of node D (multinomial distribution)\n",
      "\n",
      "Conditional probability table:\n",
      " \n",
      ", , A = a\n",
      "\n",
      "   C\n",
      "D            a          b          c\n",
      "  a 0.80081301 0.18079096 0.42857143\n",
      "  b 0.09024390 0.13276836 0.20238095\n",
      "  c 0.10894309 0.68644068 0.36904762\n",
      "\n",
      ", , A = b\n",
      "\n",
      "   C\n",
      "D            a          b          c\n",
      "  a 0.09251810 0.88304094 0.34117647\n",
      "  b 0.80209171 0.07017544 0.38823529\n",
      "  c 0.10539019 0.04678363 0.27058824\n",
      "\n",
      ", , A = c\n",
      "\n",
      "   C\n",
      "D            a          b          c\n",
      "  a 0.10530547 0.24695122 0.13333333\n",
      "  b 0.11173633 0.49390244 0.44444444\n",
      "  c 0.78295820 0.25914634 0.42222222\n",
      "\n"
     ]
    }
   ],
   "source": [
    "print(fit$D, perm = c(\"D\", \"C\", \"A\"))"
   ]
  },
  {
   "cell_type": "code",
   "execution_count": 25,
   "metadata": {},
   "outputs": [
    {
     "data": {
      "text/html": [
       "'D'"
      ],
      "text/latex": [
       "'D'"
      ],
      "text/markdown": [
       "'D'"
      ],
      "text/plain": [
       "[1] \"D\""
      ]
     },
     "metadata": {},
     "output_type": "display_data"
    }
   ],
   "source": [
    "fit$D$node"
   ]
  },
  {
   "cell_type": "code",
   "execution_count": 26,
   "metadata": {},
   "outputs": [
    {
     "data": {
      "text/html": [
       "<ol class=list-inline>\n",
       "\t<li>'A'</li>\n",
       "\t<li>'C'</li>\n",
       "</ol>\n"
      ],
      "text/latex": [
       "\\begin{enumerate*}\n",
       "\\item 'A'\n",
       "\\item 'C'\n",
       "\\end{enumerate*}\n"
      ],
      "text/markdown": [
       "1. 'A'\n",
       "2. 'C'\n",
       "\n",
       "\n"
      ],
      "text/plain": [
       "[1] \"A\" \"C\""
      ]
     },
     "metadata": {},
     "output_type": "display_data"
    }
   ],
   "source": [
    "fit$D$parents"
   ]
  },
  {
   "cell_type": "code",
   "execution_count": 27,
   "metadata": {},
   "outputs": [
    {
     "data": {
      "text/html": [],
      "text/latex": [],
      "text/markdown": [],
      "text/plain": [
       "character(0)"
      ]
     },
     "metadata": {},
     "output_type": "display_data"
    }
   ],
   "source": [
    "fit$D$children"
   ]
  },
  {
   "cell_type": "code",
   "execution_count": 28,
   "metadata": {},
   "outputs": [
    {
     "data": {
      "text/plain": [
       ", , C = a\n",
       "\n",
       "   A\n",
       "D            a          b          c\n",
       "  a 0.80081301 0.09251810 0.10530547\n",
       "  b 0.09024390 0.80209171 0.11173633\n",
       "  c 0.10894309 0.10539019 0.78295820\n",
       "\n",
       ", , C = b\n",
       "\n",
       "   A\n",
       "D            a          b          c\n",
       "  a 0.18079096 0.88304094 0.24695122\n",
       "  b 0.13276836 0.07017544 0.49390244\n",
       "  c 0.68644068 0.04678363 0.25914634\n",
       "\n",
       ", , C = c\n",
       "\n",
       "   A\n",
       "D            a          b          c\n",
       "  a 0.42857143 0.34117647 0.13333333\n",
       "  b 0.20238095 0.38823529 0.44444444\n",
       "  c 0.36904762 0.27058824 0.42222222\n"
      ]
     },
     "metadata": {},
     "output_type": "display_data"
    }
   ],
   "source": [
    "fit$D$prob"
   ]
  },
  {
   "cell_type": "code",
   "execution_count": 29,
   "metadata": {},
   "outputs": [
    {
     "data": {
      "text/html": [
       "<ol class=list-inline>\n",
       "\t<li>'A'</li>\n",
       "\t<li>'C'</li>\n",
       "</ol>\n"
      ],
      "text/latex": [
       "\\begin{enumerate*}\n",
       "\\item 'A'\n",
       "\\item 'C'\n",
       "\\end{enumerate*}\n"
      ],
      "text/markdown": [
       "1. 'A'\n",
       "2. 'C'\n",
       "\n",
       "\n"
      ],
      "text/plain": [
       "[1] \"A\" \"C\""
      ]
     },
     "metadata": {},
     "output_type": "display_data"
    }
   ],
   "source": [
    "bnlearn::parents(x = fit, node = 'D')"
   ]
  },
  {
   "cell_type": "code",
   "execution_count": 30,
   "metadata": {},
   "outputs": [
    {
     "data": {
      "text/html": [
       "<ol class=list-inline>\n",
       "\t<li>'A'</li>\n",
       "\t<li>'C'</li>\n",
       "</ol>\n"
      ],
      "text/latex": [
       "\\begin{enumerate*}\n",
       "\\item 'A'\n",
       "\\item 'C'\n",
       "\\end{enumerate*}\n"
      ],
      "text/markdown": [
       "1. 'A'\n",
       "2. 'C'\n",
       "\n",
       "\n"
      ],
      "text/plain": [
       "[1] \"A\" \"C\""
      ]
     },
     "metadata": {},
     "output_type": "display_data"
    }
   ],
   "source": [
    "bnlearn::nbr(x = fit, node = 'D')"
   ]
  },
  {
   "cell_type": "code",
   "execution_count": 31,
   "metadata": {},
   "outputs": [
    {
     "data": {
      "text/html": [
       "<ol class=list-inline>\n",
       "\t<li>'A'</li>\n",
       "\t<li>'C'</li>\n",
       "</ol>\n"
      ],
      "text/latex": [
       "\\begin{enumerate*}\n",
       "\\item 'A'\n",
       "\\item 'C'\n",
       "\\end{enumerate*}\n"
      ],
      "text/markdown": [
       "1. 'A'\n",
       "2. 'C'\n",
       "\n",
       "\n"
      ],
      "text/plain": [
       "[1] \"A\" \"C\""
      ]
     },
     "metadata": {},
     "output_type": "display_data"
    }
   ],
   "source": [
    "bnlearn::mb(x = fit, node = 'D')"
   ]
  },
  {
   "cell_type": "code",
   "execution_count": 32,
   "metadata": {},
   "outputs": [
    {
     "name": "stderr",
     "output_type": "stream",
     "text": [
      "Loading required namespace: lattice\n"
     ]
    },
    {
     "data": {
      "image/png": "[encoded data removed]",
      "text/plain": [
       "plot without title"
      ]
     },
     "metadata": {},
     "output_type": "display_data"
    }
   ],
   "source": [
    "bn.fit.barchart(fit$D)"
   ]
  },
  {
   "cell_type": "code",
   "execution_count": 33,
   "metadata": {},
   "outputs": [],
   "source": [
    "# aquí uso explícitamente bayes\n",
    "fit_b = bn.fit(dag, learning.test, method = \"bayes\")"
   ]
  },
  {
   "cell_type": "code",
   "execution_count": 34,
   "metadata": {},
   "outputs": [
    {
     "data": {
      "text/plain": [
       "\n",
       "  Parameters of node D (multinomial distribution)\n",
       "\n",
       "Conditional probability table:\n",
       " \n",
       ", , C = a\n",
       "\n",
       "   A\n",
       "D            a          b          c\n",
       "  a 0.80077078 0.09253963 0.10532583\n",
       "  b 0.09026586 0.80204982 0.11175613\n",
       "  c 0.10896336 0.10541056 0.78291804\n",
       "\n",
       ", , C = b\n",
       "\n",
       "   A\n",
       "D            a          b          c\n",
       "  a 0.18083882 0.88286240 0.24698047\n",
       "  b 0.13283129 0.07026091 0.49384806\n",
       "  c 0.68632988 0.04687669 0.25917146\n",
       "\n",
       ", , C = c\n",
       "\n",
       "   A\n",
       "D            a          b          c\n",
       "  a 0.42844562 0.34116623 0.13357994\n",
       "  b 0.20255394 0.38816362 0.44430744\n",
       "  c 0.36900044 0.27067015 0.42211262\n"
      ]
     },
     "metadata": {},
     "output_type": "display_data"
    }
   ],
   "source": [
    "# compruebo la diferencia mle vs bayes en D\n",
    "fit_b$D"
   ]
  },
  {
   "cell_type": "code",
   "execution_count": 35,
   "metadata": {},
   "outputs": [
    {
     "data": {
      "text/plain": [
       "\n",
       "  Parameters of node D (multinomial distribution)\n",
       "\n",
       "Conditional probability table:\n",
       " \n",
       ", , C = a\n",
       "\n",
       "   A\n",
       "D            a          b          c\n",
       "  a 0.80081301 0.09251810 0.10530547\n",
       "  b 0.09024390 0.80209171 0.11173633\n",
       "  c 0.10894309 0.10539019 0.78295820\n",
       "\n",
       ", , C = b\n",
       "\n",
       "   A\n",
       "D            a          b          c\n",
       "  a 0.18079096 0.88304094 0.24695122\n",
       "  b 0.13276836 0.07017544 0.49390244\n",
       "  c 0.68644068 0.04678363 0.25914634\n",
       "\n",
       ", , C = c\n",
       "\n",
       "   A\n",
       "D            a          b          c\n",
       "  a 0.42857143 0.34117647 0.13333333\n",
       "  b 0.20238095 0.38823529 0.44444444\n",
       "  c 0.36904762 0.27058824 0.42222222\n"
      ]
     },
     "metadata": {},
     "output_type": "display_data"
    }
   ],
   "source": [
    "fit$D"
   ]
  },
  {
   "cell_type": "markdown",
   "metadata": {},
   "source": [
    "### dataset survey (clase)"
   ]
  },
  {
   "cell_type": "markdown",
   "metadata": {},
   "source": [
    "#### Learning the network structure"
   ]
  },
  {
   "cell_type": "code",
   "execution_count": 36,
   "metadata": {},
   "outputs": [
    {
     "data": {
      "text/html": [
       "<table>\n",
       "<thead><tr><th scope=col>A</th><th scope=col>R</th><th scope=col>E</th><th scope=col>O</th><th scope=col>S</th><th scope=col>T</th></tr></thead>\n",
       "<tbody>\n",
       "\t<tr><td>adult</td><td>big  </td><td>high </td><td>emp  </td><td>F    </td><td>car  </td></tr>\n",
       "\t<tr><td>adult</td><td>small</td><td>uni  </td><td>emp  </td><td>M    </td><td>car  </td></tr>\n",
       "\t<tr><td>adult</td><td>big  </td><td>uni  </td><td>emp  </td><td>F    </td><td>train</td></tr>\n",
       "\t<tr><td>adult</td><td>big  </td><td>high </td><td>emp  </td><td>M    </td><td>car  </td></tr>\n",
       "\t<tr><td>adult</td><td>big  </td><td>high </td><td>emp  </td><td>M    </td><td>car  </td></tr>\n",
       "\t<tr><td>adult</td><td>small</td><td>high </td><td>emp  </td><td>F    </td><td>train</td></tr>\n",
       "</tbody>\n",
       "</table>\n"
      ],
      "text/latex": [
       "\\begin{tabular}{r|llllll}\n",
       " A & R & E & O & S & T\\\\\n",
       "\\hline\n",
       "\t adult & big   & high  & emp   & F     & car  \\\\\n",
       "\t adult & small & uni   & emp   & M     & car  \\\\\n",
       "\t adult & big   & uni   & emp   & F     & train\\\\\n",
       "\t adult & big   & high  & emp   & M     & car  \\\\\n",
       "\t adult & big   & high  & emp   & M     & car  \\\\\n",
       "\t adult & small & high  & emp   & F     & train\\\\\n",
       "\\end{tabular}\n"
      ],
      "text/markdown": [
       "\n",
       "A | R | E | O | S | T | \n",
       "|---|---|---|---|---|---|\n",
       "| adult | big   | high  | emp   | F     | car   | \n",
       "| adult | small | uni   | emp   | M     | car   | \n",
       "| adult | big   | uni   | emp   | F     | train | \n",
       "| adult | big   | high  | emp   | M     | car   | \n",
       "| adult | big   | high  | emp   | M     | car   | \n",
       "| adult | small | high  | emp   | F     | train | \n",
       "\n",
       "\n"
      ],
      "text/plain": [
       "  A     R     E    O   S T    \n",
       "1 adult big   high emp F car  \n",
       "2 adult small uni  emp M car  \n",
       "3 adult big   uni  emp F train\n",
       "4 adult big   high emp M car  \n",
       "5 adult big   high emp M car  \n",
       "6 adult small high emp F train"
      ]
     },
     "metadata": {},
     "output_type": "display_data"
    }
   ],
   "source": [
    "# Age (A), Residence (R), Education (E), Ocupation (O), Sex (S), Transportation (T)\n",
    "#::nota::echar un vistazo a la presentación de Marco Scutari (s23-32)\n",
    "# http://www.bnlearn.com/about/teaching/slides-bnshort.pdf\n",
    "survey <- read.table('../data/survey.txt', header = TRUE)\n",
    "head(survey)"
   ]
  },
  {
   "cell_type": "code",
   "execution_count": 37,
   "metadata": {},
   "outputs": [],
   "source": [
    "# pruebo el aprendizaje de estructura como en learning.test de bnlearn\n",
    "s_dag <- bnlearn::iamb(x = survey)"
   ]
  },
  {
   "cell_type": "code",
   "execution_count": 38,
   "metadata": {},
   "outputs": [
    {
     "data": {
      "text/plain": [
       "\n",
       "  Bayesian network learned via Constraint-based methods\n",
       "\n",
       "  model:\n",
       "    [undirected graph]\n",
       "  nodes:                                 6 \n",
       "  arcs:                                  4 \n",
       "    undirected arcs:                     4 \n",
       "    directed arcs:                       0 \n",
       "  average markov blanket size:           1.33 \n",
       "  average neighbourhood size:            1.33 \n",
       "  average branching factor:              0.00 \n",
       "\n",
       "  learning algorithm:                    IAMB \n",
       "  conditional independence test:         Mutual Information (disc.) \n",
       "  alpha threshold:                       0.05 \n",
       "  tests used in the learning procedure:  91 \n",
       "  optimized:                             FALSE \n"
      ]
     },
     "metadata": {},
     "output_type": "display_data"
    }
   ],
   "source": [
    "s_dag"
   ]
  },
  {
   "cell_type": "code",
   "execution_count": 39,
   "metadata": {},
   "outputs": [
    {
     "data": {
      "image/png": "[encoded data removed]",
      "text/plain": [
       "plot without title"
      ]
     },
     "metadata": {},
     "output_type": "display_data"
    }
   ],
   "source": [
    "# Age (A), Residence (R), Education (E), Ocupation (O), Sex (S), Transportation (T)\n",
    "plot(s_dag)"
   ]
  },
  {
   "cell_type": "code",
   "execution_count": 40,
   "metadata": {},
   "outputs": [],
   "source": [
    "# utilizo hill climbing (con los hiperparámetros por defecto)\n",
    "s_dag_hc <- hc(x = survey)"
   ]
  },
  {
   "cell_type": "code",
   "execution_count": 41,
   "metadata": {},
   "outputs": [
    {
     "data": {
      "image/png": "[encoded data removed]",
      "text/plain": [
       "plot without title"
      ]
     },
     "metadata": {},
     "output_type": "display_data"
    }
   ],
   "source": [
    "plot(s_dag_hc)"
   ]
  },
  {
   "cell_type": "code",
   "execution_count": 42,
   "metadata": {},
   "outputs": [
    {
     "data": {
      "text/html": [
       "-1998.4324786367"
      ],
      "text/latex": [
       "-1998.4324786367"
      ],
      "text/markdown": [
       "-1998.4324786367"
      ],
      "text/plain": [
       "[1] -1998.432"
      ]
     },
     "metadata": {},
     "output_type": "display_data"
    }
   ],
   "source": [
    "bnlearn::score(s_dag_hc, data = survey, type = \"bic\")"
   ]
  },
  {
   "cell_type": "code",
   "execution_count": 43,
   "metadata": {},
   "outputs": [],
   "source": [
    "# por conocimiento experto digo las dependencias que tienen que estar\n",
    "# en el modelo final (whitelist) y las que NO pueden estar (blacklist)\n",
    "whitelist <- matrix(c(\"O\", \"T\", \"E\", \"O\", \"R\", \"T\"), \n",
    "                    ncol = 2, \n",
    "                    byrow = TRUE,\n",
    "                    dimnames = list(NULL, c(\"from\", \"to\"))\n",
    "                   )\n",
    "blacklist <- matrix(c(\"A\", \"S\", \"S\", \"A\"), \n",
    "                    ncol = 2, \n",
    "                    byrow = TRUE,\n",
    "                    dimnames = list(NULL, c(\"from\", \"to\"))\n",
    "                   )"
   ]
  },
  {
   "cell_type": "code",
   "execution_count": 44,
   "metadata": {},
   "outputs": [],
   "source": [
    "s_dag_hc_r <- hc(survey, \n",
    "                 whitelist = whitelist, \n",
    "                 blacklist = blacklist)"
   ]
  },
  {
   "cell_type": "code",
   "execution_count": 45,
   "metadata": {},
   "outputs": [
    {
     "data": {
      "text/html": [
       "-2008.47826600753"
      ],
      "text/latex": [
       "-2008.47826600753"
      ],
      "text/markdown": [
       "-2008.47826600753"
      ],
      "text/plain": [
       "[1] -2008.478"
      ]
     },
     "metadata": {},
     "output_type": "display_data"
    }
   ],
   "source": [
    "bnlearn::score(s_dag_hc_r, data = survey, type = \"bic\")"
   ]
  },
  {
   "cell_type": "code",
   "execution_count": 46,
   "metadata": {},
   "outputs": [
    {
     "data": {
      "image/png": "[encoded data removed]",
      "text/plain": [
       "plot without title"
      ]
     },
     "metadata": {},
     "output_type": "display_data"
    }
   ],
   "source": [
    "plot(s_dag_hc_r)"
   ]
  },
  {
   "cell_type": "markdown",
   "metadata": {},
   "source": [
    "#### número de parámetros"
   ]
  },
  {
   "cell_type": "code",
   "execution_count": 47,
   "metadata": {},
   "outputs": [
    {
     "name": "stdout",
     "output_type": "stream",
     "text": [
      "'data.frame':\t500 obs. of  6 variables:\n",
      " $ A: Factor w/ 3 levels \"adult\",\"old\",..: 1 1 1 1 1 1 1 3 3 2 ...\n",
      " $ R: Factor w/ 2 levels \"big\",\"small\": 1 2 1 1 1 2 1 1 1 1 ...\n",
      " $ E: Factor w/ 2 levels \"high\",\"uni\": 1 2 2 1 1 1 1 2 1 2 ...\n",
      " $ O: Factor w/ 2 levels \"emp\",\"self\": 1 1 1 1 1 1 1 1 1 1 ...\n",
      " $ S: Factor w/ 2 levels \"F\",\"M\": 1 2 1 2 2 1 1 1 2 1 ...\n",
      " $ T: Factor w/ 3 levels \"car\",\"other\",..: 1 1 3 1 1 3 1 3 1 1 ...\n"
     ]
    }
   ],
   "source": [
    "str(survey)"
   ]
  },
  {
   "cell_type": "code",
   "execution_count": 48,
   "metadata": {},
   "outputs": [
    {
     "data": {
      "text/html": [
       "'[R][E|R][T|R][A|E][O|E][S|E]'"
      ],
      "text/latex": [
       "'{[}R{]}{[}E\\textbar{}R{]}{[}T\\textbar{}R{]}{[}A\\textbar{}E{]}{[}O\\textbar{}E{]}{[}S\\textbar{}E{]}'"
      ],
      "text/markdown": [
       "'[R][E|R][T|R][A|E][O|E][S|E]'"
      ],
      "text/plain": [
       "[1] \"[R][E|R][T|R][A|E][O|E][S|E]\""
      ]
     },
     "metadata": {},
     "output_type": "display_data"
    }
   ],
   "source": [
    "modelstring(s_dag_hc)"
   ]
  },
  {
   "cell_type": "code",
   "execution_count": 49,
   "metadata": {},
   "outputs": [
    {
     "name": "stdout",
     "output_type": "stream",
     "text": [
      "* node A has 4 parameter(s).\n",
      "* node R has 1 parameter(s).\n",
      "* node E has 2 parameter(s).\n",
      "* node O has 2 parameter(s).\n",
      "* node S has 2 parameter(s).\n",
      "* node T has 4 parameter(s).\n"
     ]
    },
    {
     "data": {
      "text/html": [
       "15"
      ],
      "text/latex": [
       "15"
      ],
      "text/markdown": [
       "15"
      ],
      "text/plain": [
       "[1] 15"
      ]
     },
     "metadata": {},
     "output_type": "display_data"
    }
   ],
   "source": [
    "# se puede calcular el número de parámetros con el dag y el dataset\n",
    "nparams(x = s_dag_hc, data = survey, effective = FALSE, debug = TRUE)"
   ]
  },
  {
   "cell_type": "code",
   "execution_count": 50,
   "metadata": {},
   "outputs": [
    {
     "name": "stdout",
     "output_type": "stream",
     "text": [
      "* node A has 4 parameter(s).\n",
      "* node R has 1 parameter(s).\n",
      "* node E has 2 parameter(s).\n",
      "* node O has 2 parameter(s).\n",
      "* node S has 2 parameter(s).\n",
      "* node T has 4 parameter(s).\n"
     ]
    },
    {
     "data": {
      "text/html": [
       "15"
      ],
      "text/latex": [
       "15"
      ],
      "text/markdown": [
       "15"
      ],
      "text/plain": [
       "[1] 15"
      ]
     },
     "metadata": {},
     "output_type": "display_data"
    }
   ],
   "source": [
    "nparams(x = s_dag_hc, data = survey, effective = TRUE, debug = TRUE)"
   ]
  },
  {
   "cell_type": "code",
   "execution_count": 51,
   "metadata": {},
   "outputs": [
    {
     "data": {
      "text/html": [
       "'[R][E|R][A|E][O|E][S|E][T|R:O]'"
      ],
      "text/latex": [
       "'{[}R{]}{[}E\\textbar{}R{]}{[}A\\textbar{}E{]}{[}O\\textbar{}E{]}{[}S\\textbar{}E{]}{[}T\\textbar{}R:O{]}'"
      ],
      "text/markdown": [
       "'[R][E|R][A|E][O|E][S|E][T|R:O]'"
      ],
      "text/plain": [
       "[1] \"[R][E|R][A|E][O|E][S|E][T|R:O]\""
      ]
     },
     "metadata": {},
     "output_type": "display_data"
    }
   ],
   "source": [
    "modelstring(s_dag_hc_r)"
   ]
  },
  {
   "cell_type": "code",
   "execution_count": 52,
   "metadata": {},
   "outputs": [
    {
     "name": "stdout",
     "output_type": "stream",
     "text": [
      "* node A has 4 parameter(s).\n",
      "* node R has 1 parameter(s).\n",
      "* node E has 2 parameter(s).\n",
      "* node O has 2 parameter(s).\n",
      "* node S has 2 parameter(s).\n",
      "* node T has 8 parameter(s).\n"
     ]
    },
    {
     "data": {
      "text/html": [
       "19"
      ],
      "text/latex": [
       "19"
      ],
      "text/markdown": [
       "19"
      ],
      "text/plain": [
       "[1] 19"
      ]
     },
     "metadata": {},
     "output_type": "display_data"
    }
   ],
   "source": [
    "nparams(x = s_dag_hc_r, data = survey, effective = FALSE, debug = TRUE)"
   ]
  },
  {
   "cell_type": "code",
   "execution_count": 53,
   "metadata": {},
   "outputs": [
    {
     "name": "stdout",
     "output_type": "stream",
     "text": [
      "* node A has 4 parameter(s).\n",
      "* node R has 1 parameter(s).\n",
      "* node E has 2 parameter(s).\n",
      "* node O has 2 parameter(s).\n",
      "* node S has 2 parameter(s).\n",
      "* node T has 7 parameter(s).\n"
     ]
    },
    {
     "data": {
      "text/html": [
       "18"
      ],
      "text/latex": [
       "18"
      ],
      "text/markdown": [
       "18"
      ],
      "text/plain": [
       "[1] 18"
      ]
     },
     "metadata": {},
     "output_type": "display_data"
    }
   ],
   "source": [
    "# http://www.bnlearn.com/documentation/man/mb.html\n",
    "# effective a boolean value. \n",
    "# If TRUE the number of non-zero free parameters is returned, that is, \n",
    "# the effective degrees of freedom of the network; otherwise the theoretical \n",
    "# number of parameters is returned.\n",
    "nparams(x = s_dag_hc_r, data = survey, effective = TRUE, debug = TRUE)"
   ]
  },
  {
   "cell_type": "markdown",
   "metadata": {},
   "source": [
    "#### Learning parameters"
   ]
  },
  {
   "cell_type": "code",
   "execution_count": 54,
   "metadata": {},
   "outputs": [
    {
     "name": "stdout",
     "output_type": "stream",
     "text": [
      "* fitting parameters of node A (discrete).\n",
      "  > found parents: E \n",
      "  > fitted 6 conditional probabilities.\n",
      "* fitting parameters of node R (discrete).\n",
      "  > fitted 2 marginal probabilities.\n",
      "* fitting parameters of node E (discrete).\n",
      "  > found parents: R \n",
      "  > fitted 4 conditional probabilities.\n",
      "* fitting parameters of node O (discrete).\n",
      "  > found parents: E \n",
      "  > fitted 4 conditional probabilities.\n",
      "* fitting parameters of node S (discrete).\n",
      "  > found parents: E \n",
      "  > fitted 4 conditional probabilities.\n",
      "* fitting parameters of node T (discrete).\n",
      "  > found parents: R O \n",
      "  > fitted 12 conditional probabilities.\n"
     ]
    }
   ],
   "source": [
    "# aquí uso explícitamente bayes\n",
    "s_param_b = bn.fit(x = s_dag_hc_r, \n",
    "                   data = survey, \n",
    "                   method = \"bayes\", debug = TRUE)"
   ]
  },
  {
   "cell_type": "code",
   "execution_count": 55,
   "metadata": {},
   "outputs": [
    {
     "data": {
      "text/plain": [
       "\n",
       "  Parameters of node R (multinomial distribution)\n",
       "\n",
       "Conditional probability table:\n",
       "      big    small \n",
       "0.757485 0.242515 "
      ]
     },
     "metadata": {},
     "output_type": "display_data"
    }
   ],
   "source": [
    "s_param_b$R"
   ]
  },
  {
   "cell_type": "code",
   "execution_count": 56,
   "metadata": {},
   "outputs": [
    {
     "data": {
      "text/plain": [
       "\n",
       "  Parameters of node T (multinomial distribution)\n",
       "\n",
       "Conditional probability table:\n",
       " \n",
       ", , O = emp\n",
       "\n",
       "       R\n",
       "T              big      small\n",
       "  car   0.58452787 0.54655295\n",
       "  other 0.19954494 0.07746979\n",
       "  train 0.21592719 0.37597726\n",
       "\n",
       ", , O = self\n",
       "\n",
       "       R\n",
       "T              big      small\n",
       "  car   0.68553459 0.72549020\n",
       "  other 0.15723270 0.25490196\n",
       "  train 0.15723270 0.01960784\n"
      ]
     },
     "metadata": {},
     "output_type": "display_data"
    }
   ],
   "source": [
    "s_param_b$T"
   ]
  },
  {
   "cell_type": "code",
   "execution_count": null,
   "metadata": {},
   "outputs": [],
   "source": [
    "# S63 en S01_BayesianNetwoks\n",
    "# S and R d­separated?\n",
    "dsep(dag, x = \"S\", y = \"R\")"
   ]
  },
  {
   "cell_type": "code",
   "execution_count": null,
   "metadata": {},
   "outputs": [],
   "source": [
    "# Is there a path between S and R?\n",
    "path(dag, from = \"S\", to = \"R\")"
   ]
  },
  {
   "cell_type": "markdown",
   "metadata": {},
   "source": [
    "## Clase"
   ]
  },
  {
   "cell_type": "markdown",
   "metadata": {},
   "source": [
    "### S01_Bayesian_Networks"
   ]
  },
  {
   "cell_type": "markdown",
   "metadata": {},
   "source": [
    "![ejemplo lluvia santander](m1970-ejemplo-meteo-santander.png)"
   ]
  },
  {
   "cell_type": "code",
   "execution_count": 3,
   "metadata": {},
   "outputs": [],
   "source": [
    "## (S23) States of the variables:\n",
    "estados.Wind <- c(\"NE\",\"SE\",\"SW\",\"NW\")\n",
    "estados.Season <- c(\"Anual\",\"Invierno\",\"Primavera\",\"Verano\",\"Otono\")\n",
    "estados.Precip <- c(\"Seco\",\"Lluvioso\")"
   ]
  },
  {
   "cell_type": "code",
   "execution_count": 4,
   "metadata": {},
   "outputs": [],
   "source": [
    "## Table of Absolute frequencies:\n",
    "table.freq <- array(c(1014, 64, 225, 288, 190, 24, 98, 49, 287, 6, 18, 95, 360, 1, 15, 108, 177, 33, 94, 36, 516, 57, 661, 825, 99, 18, 223, 150, 166, 4, 119, 277, 162, 9, 71, 251, 89, 26, 248, 147), \n",
    "                    dim = c(4,5,2),\n",
    "                    dimnames = list(W=estados.Wind, S=estados.Season, P = estados.Precip))"
   ]
  },
  {
   "cell_type": "code",
   "execution_count": 5,
   "metadata": {},
   "outputs": [
    {
     "data": {
      "text/html": [
       "<ol class=list-inline>\n",
       "\t<li>4</li>\n",
       "\t<li>5</li>\n",
       "\t<li>2</li>\n",
       "</ol>\n"
      ],
      "text/latex": [
       "\\begin{enumerate*}\n",
       "\\item 4\n",
       "\\item 5\n",
       "\\item 2\n",
       "\\end{enumerate*}\n"
      ],
      "text/markdown": [
       "1. 4\n",
       "2. 5\n",
       "3. 2\n",
       "\n",
       "\n"
      ],
      "text/plain": [
       "[1] 4 5 2"
      ]
     },
     "metadata": {},
     "output_type": "display_data"
    }
   ],
   "source": [
    "dim(table.freq)"
   ]
  },
  {
   "cell_type": "code",
   "execution_count": 8,
   "metadata": {},
   "outputs": [
    {
     "name": "stdout",
     "output_type": "stream",
     "text": [
      ", , P = Seco\n",
      "\n",
      "    S\n",
      "W    Anual Invierno Primavera Verano Otono\n",
      "  NE  1014      190       287    360   177\n",
      "  SE    64       24         6      1    33\n",
      "  SW   225       98        18     15    94\n",
      "  NW   288       49        95    108    36\n",
      "\n",
      ", , P = Lluvioso\n",
      "\n",
      "    S\n",
      "W    Anual Invierno Primavera Verano Otono\n",
      "  NE   516       99       166    162    89\n",
      "  SE    57       18         4      9    26\n",
      "  SW   661      223       119     71   248\n",
      "  NW   825      150       277    251   147\n",
      "\n"
     ]
    }
   ],
   "source": [
    "print(table.freq)"
   ]
  },
  {
   "cell_type": "code",
   "execution_count": 6,
   "metadata": {},
   "outputs": [
    {
     "data": {
      "text/html": [
       "0.0410958904109589"
      ],
      "text/latex": [
       "0.0410958904109589"
      ],
      "text/markdown": [
       "0.0410958904109589"
      ],
      "text/plain": [
       "[1] 0.04109589"
      ]
     },
     "metadata": {},
     "output_type": "display_data"
    }
   ],
   "source": [
    "## Obtain the probability:\n",
    "#P(Invierno, Lluuioso, NW) = freq (Invierno, Lluvioso, NW)/N\n",
    "table.freq[\"NW\",\"Invierno\",\"Lluvioso\"]/sum(table.freq[,\"Anual\",])"
   ]
  },
  {
   "cell_type": "code",
   "execution_count": 7,
   "metadata": {},
   "outputs": [
    {
     "data": {
      "text/html": [
       "0.233150684931507"
      ],
      "text/latex": [
       "0.233150684931507"
      ],
      "text/markdown": [
       "0.233150684931507"
      ],
      "text/plain": [
       "[1] 0.2331507"
      ]
     },
     "metadata": {},
     "output_type": "display_data"
    }
   ],
   "source": [
    "## Obtain the probability:\n",
    "# P(Invierno) = freq(Invierno)/N\n",
    "sum(table.freq[,\"Invierno\",])/sum(table.freq[,\"Anual\",])"
   ]
  },
  {
   "cell_type": "code",
   "execution_count": 9,
   "metadata": {},
   "outputs": [
    {
     "data": {
      "text/html": [
       "851"
      ],
      "text/latex": [
       "851"
      ],
      "text/markdown": [
       "851"
      ],
      "text/plain": [
       "[1] 851"
      ]
     },
     "metadata": {},
     "output_type": "display_data"
    }
   ],
   "source": [
    "#::nota:: freq(Invierno) = suma de la suma de las columnas Lluvioso (490) y Seco (391)\n",
    "#         para todos los vientos\n",
    "#::nota::esto es \"marginalizar\"\n",
    "sum(table.freq[,\"Invierno\",])"
   ]
  },
  {
   "cell_type": "code",
   "execution_count": 10,
   "metadata": {},
   "outputs": [
    {
     "name": "stdout",
     "output_type": "stream",
     "text": [
      "           P\n",
      "S           Seco Lluvioso\n",
      "  Anual      288      825\n",
      "  Invierno    49      150\n",
      "  Primavera   95      277\n",
      "  Verano     108      251\n",
      "  Otono       36      147\n"
     ]
    }
   ],
   "source": [
    "## P(Invierno|NW) = freq (Invierno, NW)/freq(NW) \n",
    "#                 = freq (Seco, Lluvioso|Invierno, NW)/freq (Seco, Lluvioso|Anual, NW)\n",
    "#                 = 199/1113\n",
    "## P(Y|X) = P(Y,X)/P(X) = P(X|Y)P(Y)/P(X)\n",
    "## New probability-space:\n",
    "cond.table.freq <- table.freq[\"NW\",,]\n",
    "print(cond.table.freq)"
   ]
  },
  {
   "cell_type": "code",
   "execution_count": 11,
   "metadata": {},
   "outputs": [
    {
     "data": {
      "text/html": [
       "0.178796046720575"
      ],
      "text/latex": [
       "0.178796046720575"
      ],
      "text/markdown": [
       "0.178796046720575"
      ],
      "text/plain": [
       "[1] 0.178796"
      ]
     },
     "metadata": {},
     "output_type": "display_data"
    }
   ],
   "source": [
    "## Obtain the probability:\n",
    "sum(cond.table.freq[\"Invierno\",])/sum(cond.table.freq[\"Anual\",])"
   ]
  },
  {
   "cell_type": "markdown",
   "metadata": {},
   "source": [
    "(S33-S40) Viene con un ejemplo gráfico de adenocarcinoma pero sin código\n",
    "\n",
    "**PTE**: ¿Puedo ponerlo con código?\n",
    "\n",
    "No aparece en los [ejemplos de bnlearn](http://www.bnlearn.com/bnrepository/)."
   ]
  },
  {
   "cell_type": "markdown",
   "metadata": {},
   "source": [
    "![ejemplo adenocarcinoma gástrico](m1970-ejemplo-adenocarcinoma-gastrico.png)"
   ]
  },
  {
   "cell_type": "markdown",
   "metadata": {},
   "source": [
    "## Otros"
   ]
  },
  {
   "cell_type": "markdown",
   "metadata": {},
   "source": [
    "Replicar el Notebook de un ejemplo con Cancer:\n",
    "\n",
    "  - [Bayesian Networks](http://www.di.fc.ul.pt/~jpn/r/bayesnets/bayesnets.html) de [João Neto](http://www.di.fc.ul.pt/~jpn/) December 2013\n",
    "  \n",
    "**::NOTA::** Tiene [tutoriales](http://www.di.fc.ul.pt/~jpn/r/index.htm) y [Github](https://github.com/jpneto/Markdowns).\n"
   ]
  },
  {
   "cell_type": "markdown",
   "metadata": {},
   "source": [
    "Intentar hacer el *Student Example* en (s7-)\n",
    "\n",
    " - Readings: K&F 3.1, 3.2, 3.3, 3.4.1 Bayesian Network Representation [Lecture 2](https://courses.cs.washington.edu/courses/cse515/11sp/class2-bayesnet-annot.pdf) – Mar 30, 2011CSE 515, Statistical Methods, Spring 2011Instructor: Su-In LeeUniversity of Washington, Seattle"
   ]
  },
  {
   "cell_type": "markdown",
   "metadata": {},
   "source": [
    "The Naive Bayesian Classifier is included in the R-package e1071 (see\n",
    "function naiveBayes).\n",
    "An example with the Breast Cancer data set could be found here:\n",
    "\n",
    "https://sw23993.wordpress.com/2017/02/17/naive-bayes-classification-in-r-part-\n",
    "2/\n",
    "\n",
    "The data set could be download from the UCI repository:\n",
    "https://archive.ics.uci.edu/ml/datasets/Breast+Cancer\n",
    "\n",
    "**::NOTA::** Ejercicio propuesto"
   ]
  },
  {
   "cell_type": "markdown",
   "metadata": {},
   "source": [
    "## Tarea entregable"
   ]
  },
  {
   "cell_type": "code",
   "execution_count": 55,
   "metadata": {},
   "outputs": [],
   "source": [
    "suppressMessages(library('bnlearn'))"
   ]
  },
  {
   "cell_type": "markdown",
   "metadata": {},
   "source": [
    "Pide la cadena de factorización que define al *grafo experto* pero sin construir el grafo previamente, deduciendolo del dibujo del grafo."
   ]
  },
  {
   "cell_type": "markdown",
   "metadata": {},
   "source": [
    "![grafo experto meteoro aeropuerto santander](../../deliverable/tarea-04/dag-meteo-modelo-experto.png)"
   ]
  },
  {
   "cell_type": "markdown",
   "metadata": {},
   "source": [
    "Yo primero creo el grafo para obtener la cadena ... :)"
   ]
  },
  {
   "cell_type": "code",
   "execution_count": 56,
   "metadata": {},
   "outputs": [],
   "source": [
    "nodos <- c(\"lluvia\", \"nieve\", \"granizo\", \"tormenta\", \"niebla\", \n",
    "           \"rocio\", \"escarcha\", \"nieveSuelo\", \"neblina\", \"viento\")"
   ]
  },
  {
   "cell_type": "code",
   "execution_count": 57,
   "metadata": {},
   "outputs": [],
   "source": [
    "meteoro_dag <- empty.graph(nodes = nodos)"
   ]
  },
  {
   "cell_type": "code",
   "execution_count": 58,
   "metadata": {},
   "outputs": [],
   "source": [
    "arcos <- matrix(c(\"viento\", \"lluvia\",\n",
    "                  \"lluvia\", \"tormenta\",\n",
    "                  \"tormenta\", \"nieve\",\n",
    "                  \"nieve\", \"nieveSuelo\",\n",
    "                  \"tormenta\", \"granizo\",\n",
    "                  \"viento\", \"niebla\",\n",
    "                  \"viento\", \"rocio\",\n",
    "                  \"rocio\", \"niebla\",\n",
    "                  \"rocio\", \"escarcha\",\n",
    "                  \"niebla\", \"neblina\"),\n",
    "                  byrow = TRUE, ncol = 2,\n",
    "                  dimnames = list(NULL, c(\"from\", \"to\"))\n",
    "                 )"
   ]
  },
  {
   "cell_type": "code",
   "execution_count": 59,
   "metadata": {},
   "outputs": [],
   "source": [
    "arcs(x = meteoro_dag) <- arcos"
   ]
  },
  {
   "cell_type": "code",
   "execution_count": 60,
   "metadata": {},
   "outputs": [
    {
     "data": {
      "image/png": "[encoded data removed]",
      "text/plain": [
       "Plot with title “I-DAG Experto Meteoro Aeropuerto Santander”"
      ]
     },
     "metadata": {},
     "output_type": "display_data"
    }
   ],
   "source": [
    "plot(meteoro_dag, main = 'I-DAG Experto Meteoro Aeropuerto Santander')"
   ]
  },
  {
   "cell_type": "code",
   "execution_count": 61,
   "metadata": {},
   "outputs": [
    {
     "data": {
      "text/html": [
       "TRUE"
      ],
      "text/latex": [
       "TRUE"
      ],
      "text/markdown": [
       "TRUE"
      ],
      "text/plain": [
       "[1] TRUE"
      ]
     },
     "metadata": {},
     "output_type": "display_data"
    }
   ],
   "source": [
    "# divergente\n",
    "dsep(bn = meteoro_dag, x = 'lluvia', y = 'rocio', z = 'viento')"
   ]
  },
  {
   "cell_type": "code",
   "execution_count": 62,
   "metadata": {},
   "outputs": [
    {
     "data": {
      "text/html": [
       "FALSE"
      ],
      "text/latex": [
       "FALSE"
      ],
      "text/markdown": [
       "FALSE"
      ],
      "text/plain": [
       "[1] FALSE"
      ]
     },
     "metadata": {},
     "output_type": "display_data"
    }
   ],
   "source": [
    "dsep(bn = meteoro_dag, x = 'lluvia', y = 'rocio')"
   ]
  },
  {
   "cell_type": "code",
   "execution_count": 63,
   "metadata": {},
   "outputs": [
    {
     "data": {
      "text/html": [
       "TRUE"
      ],
      "text/latex": [
       "TRUE"
      ],
      "text/markdown": [
       "TRUE"
      ],
      "text/plain": [
       "[1] TRUE"
      ]
     },
     "metadata": {},
     "output_type": "display_data"
    }
   ],
   "source": [
    "# cadena\n",
    "dsep(bn = meteoro_dag, x = 'viento', y = 'tormenta', z = 'lluvia')"
   ]
  },
  {
   "cell_type": "code",
   "execution_count": 64,
   "metadata": {},
   "outputs": [
    {
     "data": {
      "text/html": [
       "FALSE"
      ],
      "text/latex": [
       "FALSE"
      ],
      "text/markdown": [
       "FALSE"
      ],
      "text/plain": [
       "[1] FALSE"
      ]
     },
     "metadata": {},
     "output_type": "display_data"
    }
   ],
   "source": [
    "dsep(bn = meteoro_dag, x = 'viento', y = 'tormenta')"
   ]
  },
  {
   "cell_type": "code",
   "execution_count": 65,
   "metadata": {},
   "outputs": [
    {
     "data": {
      "text/html": [
       "TRUE"
      ],
      "text/latex": [
       "TRUE"
      ],
      "text/markdown": [
       "TRUE"
      ],
      "text/plain": [
       "[1] TRUE"
      ]
     },
     "metadata": {},
     "output_type": "display_data"
    }
   ],
   "source": [
    "# divergente\n",
    "dsep(bn = meteoro_dag, x = 'granizo', y = 'nieve', z = 'tormenta')"
   ]
  },
  {
   "cell_type": "code",
   "execution_count": 66,
   "metadata": {},
   "outputs": [
    {
     "data": {
      "text/html": [
       "FALSE"
      ],
      "text/latex": [
       "FALSE"
      ],
      "text/markdown": [
       "FALSE"
      ],
      "text/plain": [
       "[1] FALSE"
      ]
     },
     "metadata": {},
     "output_type": "display_data"
    }
   ],
   "source": [
    "dsep(bn = meteoro_dag, x = 'granizo', y = 'nieve')"
   ]
  },
  {
   "cell_type": "code",
   "execution_count": 67,
   "metadata": {},
   "outputs": [
    {
     "data": {
      "text/html": [
       "TRUE"
      ],
      "text/latex": [
       "TRUE"
      ],
      "text/markdown": [
       "TRUE"
      ],
      "text/plain": [
       "[1] TRUE"
      ]
     },
     "metadata": {},
     "output_type": "display_data"
    }
   ],
   "source": [
    "# cadena\n",
    "dsep(bn = meteoro_dag, x = 'tormenta', y = 'nieveSuelo', z = 'nieve')"
   ]
  },
  {
   "cell_type": "code",
   "execution_count": 68,
   "metadata": {},
   "outputs": [
    {
     "data": {
      "text/html": [
       "FALSE"
      ],
      "text/latex": [
       "FALSE"
      ],
      "text/markdown": [
       "FALSE"
      ],
      "text/plain": [
       "[1] FALSE"
      ]
     },
     "metadata": {},
     "output_type": "display_data"
    }
   ],
   "source": [
    "dsep(bn = meteoro_dag, x = 'tormenta', y = 'nieveSuelo')"
   ]
  },
  {
   "cell_type": "code",
   "execution_count": 69,
   "metadata": {},
   "outputs": [
    {
     "data": {
      "text/html": [
       "FALSE"
      ],
      "text/latex": [
       "FALSE"
      ],
      "text/markdown": [
       "FALSE"
      ],
      "text/plain": [
       "[1] FALSE"
      ]
     },
     "metadata": {},
     "output_type": "display_data"
    }
   ],
   "source": [
    "# v-structure moral\n",
    "dsep(bn = meteoro_dag, x = 'viento', y = 'rocio', z = 'niebla')"
   ]
  },
  {
   "cell_type": "code",
   "execution_count": 70,
   "metadata": {},
   "outputs": [
    {
     "data": {
      "text/html": [
       "FALSE"
      ],
      "text/latex": [
       "FALSE"
      ],
      "text/markdown": [
       "FALSE"
      ],
      "text/plain": [
       "[1] FALSE"
      ]
     },
     "metadata": {},
     "output_type": "display_data"
    }
   ],
   "source": [
    "dsep(bn = meteoro_dag, x = 'viento', y = 'rocio')"
   ]
  },
  {
   "cell_type": "code",
   "execution_count": 71,
   "metadata": {},
   "outputs": [
    {
     "data": {
      "text/html": [
       "FALSE"
      ],
      "text/latex": [
       "FALSE"
      ],
      "text/markdown": [
       "FALSE"
      ],
      "text/plain": [
       "[1] FALSE"
      ]
     },
     "metadata": {},
     "output_type": "display_data"
    }
   ],
   "source": [
    "dsep(bn = meteoro_dag, x = 'viento', y = 'neblina')"
   ]
  },
  {
   "cell_type": "code",
   "execution_count": 72,
   "metadata": {},
   "outputs": [
    {
     "data": {
      "text/html": [
       "TRUE"
      ],
      "text/latex": [
       "TRUE"
      ],
      "text/markdown": [
       "TRUE"
      ],
      "text/plain": [
       "[1] TRUE"
      ]
     },
     "metadata": {},
     "output_type": "display_data"
    }
   ],
   "source": [
    "dsep(bn = meteoro_dag, x = 'viento', y = 'neblina', z = c('rocio', 'niebla'))"
   ]
  },
  {
   "cell_type": "code",
   "execution_count": 73,
   "metadata": {},
   "outputs": [
    {
     "data": {
      "text/html": [
       "FALSE"
      ],
      "text/latex": [
       "FALSE"
      ],
      "text/markdown": [
       "FALSE"
      ],
      "text/plain": [
       "[1] FALSE"
      ]
     },
     "metadata": {},
     "output_type": "display_data"
    }
   ],
   "source": [
    "dsep(bn = meteoro_dag, x = 'viento', y = 'escarcha')"
   ]
  },
  {
   "cell_type": "code",
   "execution_count": 74,
   "metadata": {},
   "outputs": [
    {
     "data": {
      "text/html": [
       "TRUE"
      ],
      "text/latex": [
       "TRUE"
      ],
      "text/markdown": [
       "TRUE"
      ],
      "text/plain": [
       "[1] TRUE"
      ]
     },
     "metadata": {},
     "output_type": "display_data"
    }
   ],
   "source": [
    "dsep(bn = meteoro_dag, x = 'viento', y = 'escarcha', z = 'rocio')"
   ]
  },
  {
   "cell_type": "code",
   "execution_count": 75,
   "metadata": {},
   "outputs": [
    {
     "data": {
      "text/html": [
       "'[viento][lluvia|viento][rocio|viento][tormenta|lluvia][niebla|rocio:viento][escarcha|rocio][nieve|tormenta][granizo|tormenta][neblina|niebla][nieveSuelo|nieve]'"
      ],
      "text/latex": [
       "'{[}viento{]}{[}lluvia\\textbar{}viento{]}{[}rocio\\textbar{}viento{]}{[}tormenta\\textbar{}lluvia{]}{[}niebla\\textbar{}rocio:viento{]}{[}escarcha\\textbar{}rocio{]}{[}nieve\\textbar{}tormenta{]}{[}granizo\\textbar{}tormenta{]}{[}neblina\\textbar{}niebla{]}{[}nieveSuelo\\textbar{}nieve{]}'"
      ],
      "text/markdown": [
       "'[viento][lluvia|viento][rocio|viento][tormenta|lluvia][niebla|rocio:viento][escarcha|rocio][nieve|tormenta][granizo|tormenta][neblina|niebla][nieveSuelo|nieve]'"
      ],
      "text/plain": [
       "[1] \"[viento][lluvia|viento][rocio|viento][tormenta|lluvia][niebla|rocio:viento][escarcha|rocio][nieve|tormenta][granizo|tormenta][neblina|niebla][nieveSuelo|nieve]\""
      ]
     },
     "metadata": {},
     "output_type": "display_data"
    }
   ],
   "source": [
    "modelstring(x = meteoro_dag)"
   ]
  },
  {
   "cell_type": "code",
   "execution_count": 76,
   "metadata": {},
   "outputs": [
    {
     "data": {
      "text/html": [
       "'bn'"
      ],
      "text/latex": [
       "'bn'"
      ],
      "text/markdown": [
       "'bn'"
      ],
      "text/plain": [
       "[1] \"bn\""
      ]
     },
     "metadata": {},
     "output_type": "display_data"
    }
   ],
   "source": [
    "class(meteoro_dag)"
   ]
  },
  {
   "cell_type": "code",
   "execution_count": 78,
   "metadata": {
    "scrolled": true
   },
   "outputs": [
    {
     "data": {
      "text/html": [
       "'lluvia'"
      ],
      "text/latex": [
       "'lluvia'"
      ],
      "text/markdown": [
       "'lluvia'"
      ],
      "text/plain": [
       "[1] \"lluvia\""
      ]
     },
     "metadata": {},
     "output_type": "display_data"
    }
   ],
   "source": [
    "meteoro_dag$nodes$tormenta$parents"
   ]
  },
  {
   "cell_type": "code",
   "execution_count": 79,
   "metadata": {},
   "outputs": [
    {
     "data": {
      "text/html": [
       "<ol class=list-inline>\n",
       "\t<li>'lluvia'</li>\n",
       "\t<li>'nieve'</li>\n",
       "\t<li>'granizo'</li>\n",
       "\t<li>'tormenta'</li>\n",
       "\t<li>'niebla'</li>\n",
       "\t<li>'rocio'</li>\n",
       "\t<li>'escarcha'</li>\n",
       "\t<li>'nieveSuelo'</li>\n",
       "\t<li>'neblina'</li>\n",
       "\t<li>'viento'</li>\n",
       "</ol>\n"
      ],
      "text/latex": [
       "\\begin{enumerate*}\n",
       "\\item 'lluvia'\n",
       "\\item 'nieve'\n",
       "\\item 'granizo'\n",
       "\\item 'tormenta'\n",
       "\\item 'niebla'\n",
       "\\item 'rocio'\n",
       "\\item 'escarcha'\n",
       "\\item 'nieveSuelo'\n",
       "\\item 'neblina'\n",
       "\\item 'viento'\n",
       "\\end{enumerate*}\n"
      ],
      "text/markdown": [
       "1. 'lluvia'\n",
       "2. 'nieve'\n",
       "3. 'granizo'\n",
       "4. 'tormenta'\n",
       "5. 'niebla'\n",
       "6. 'rocio'\n",
       "7. 'escarcha'\n",
       "8. 'nieveSuelo'\n",
       "9. 'neblina'\n",
       "10. 'viento'\n",
       "\n",
       "\n"
      ],
      "text/plain": [
       " [1] \"lluvia\"     \"nieve\"      \"granizo\"    \"tormenta\"   \"niebla\"    \n",
       " [6] \"rocio\"      \"escarcha\"   \"nieveSuelo\" \"neblina\"    \"viento\"    "
      ]
     },
     "metadata": {},
     "output_type": "display_data"
    }
   ],
   "source": [
    "nodes(meteoro_dag)"
   ]
  },
  {
   "cell_type": "code",
   "execution_count": 80,
   "metadata": {},
   "outputs": [
    {
     "data": {
      "text/html": [
       "'character'"
      ],
      "text/latex": [
       "'character'"
      ],
      "text/markdown": [
       "'character'"
      ],
      "text/plain": [
       "[1] \"character\""
      ]
     },
     "metadata": {},
     "output_type": "display_data"
    }
   ],
   "source": [
    "class(nodes(meteoro_dag))"
   ]
  },
  {
   "cell_type": "code",
   "execution_count": 81,
   "metadata": {},
   "outputs": [
    {
     "data": {
      "text/html": [
       "10"
      ],
      "text/latex": [
       "10"
      ],
      "text/markdown": [
       "10"
      ],
      "text/plain": [
       "[1] 10"
      ]
     },
     "metadata": {},
     "output_type": "display_data"
    }
   ],
   "source": [
    "length(nodes(meteoro_dag))"
   ]
  },
  {
   "cell_type": "code",
   "execution_count": 82,
   "metadata": {},
   "outputs": [
    {
     "name": "stdout",
     "output_type": "stream",
     "text": [
      "Node:  lluvia -> Parent:  viento \n",
      "Node:  nieve -> Parent:  tormenta \n",
      "Node:  granizo -> Parent:  tormenta \n",
      "Node:  tormenta -> Parent:  lluvia \n",
      "Node:  niebla -> Parent:  rocio viento \n",
      "Node:  rocio -> Parent:  viento \n",
      "Node:  escarcha -> Parent:  rocio \n",
      "Node:  nieveSuelo -> Parent:  nieve \n",
      "Node:  neblina -> Parent:  niebla \n",
      "Node:  viento -> Parent:   \n"
     ]
    }
   ],
   "source": [
    "for (n in bnlearn::nodes(meteoro_dag)) {\n",
    "  cat(\"Node: \", n,\n",
    "      \"-> Parent: \",\n",
    "      bnlearn::parents(x = meteoro_dag, node = n),\n",
    "      '\\n'\n",
    "     ) \n",
    "}"
   ]
  },
  {
   "cell_type": "code",
   "execution_count": 83,
   "metadata": {},
   "outputs": [
    {
     "name": "stdout",
     "output_type": "stream",
     "text": [
      "Node:  lluvia -> Children:  tormenta \n",
      "Node:  nieve -> Children:  nieveSuelo \n",
      "Node:  granizo -> Children:   \n",
      "Node:  tormenta -> Children:  nieve granizo \n",
      "Node:  niebla -> Children:  neblina \n",
      "Node:  rocio -> Children:  niebla escarcha \n",
      "Node:  escarcha -> Children:   \n",
      "Node:  nieveSuelo -> Children:   \n",
      "Node:  neblina -> Children:   \n",
      "Node:  viento -> Children:  lluvia niebla rocio \n"
     ]
    }
   ],
   "source": [
    "for (n in bnlearn::nodes(meteoro_dag)) {\n",
    "  cat(\"Node: \", n,\n",
    "      \"-> Children: \",\n",
    "      children(x = meteoro_dag, node = n),\n",
    "      '\\n'\n",
    "     ) \n",
    "}"
   ]
  },
  {
   "cell_type": "code",
   "execution_count": 84,
   "metadata": {},
   "outputs": [
    {
     "data": {
      "text/html": [
       "<ol class=list-inline>\n",
       "\t<li>'tormenta'</li>\n",
       "\t<li>'viento'</li>\n",
       "</ol>\n"
      ],
      "text/latex": [
       "\\begin{enumerate*}\n",
       "\\item 'tormenta'\n",
       "\\item 'viento'\n",
       "\\end{enumerate*}\n"
      ],
      "text/markdown": [
       "1. 'tormenta'\n",
       "2. 'viento'\n",
       "\n",
       "\n"
      ],
      "text/plain": [
       "[1] \"tormenta\" \"viento\"  "
      ]
     },
     "metadata": {},
     "output_type": "display_data"
    }
   ],
   "source": [
    "bnlearn::nbr(x = meteoro_dag, node = 'lluvia')"
   ]
  },
  {
   "cell_type": "code",
   "execution_count": 85,
   "metadata": {},
   "outputs": [
    {
     "data": {
      "text/html": [
       "'character'"
      ],
      "text/latex": [
       "'character'"
      ],
      "text/markdown": [
       "'character'"
      ],
      "text/plain": [
       "[1] \"character\""
      ]
     },
     "metadata": {},
     "output_type": "display_data"
    }
   ],
   "source": [
    "class(children(x = meteoro_dag, node = 'granizo'))"
   ]
  },
  {
   "cell_type": "code",
   "execution_count": 86,
   "metadata": {},
   "outputs": [
    {
     "data": {
      "text/html": [
       "TRUE"
      ],
      "text/latex": [
       "TRUE"
      ],
      "text/markdown": [
       "TRUE"
      ],
      "text/plain": [
       "[1] TRUE"
      ]
     },
     "metadata": {},
     "output_type": "display_data"
    }
   ],
   "source": [
    "identical(children(x = meteoro_dag, node = 'granizo'), character(0))"
   ]
  },
  {
   "cell_type": "code",
   "execution_count": 87,
   "metadata": {},
   "outputs": [
    {
     "data": {
      "text/html": [
       "FALSE"
      ],
      "text/latex": [
       "FALSE"
      ],
      "text/markdown": [
       "FALSE"
      ],
      "text/plain": [
       "[1] FALSE"
      ]
     },
     "metadata": {},
     "output_type": "display_data"
    }
   ],
   "source": [
    "identical(children(x = meteoro_dag, node = 'lluvia'), character(0))"
   ]
  },
  {
   "cell_type": "code",
   "execution_count": 88,
   "metadata": {},
   "outputs": [
    {
     "data": {
      "text/html": [
       "'viento'"
      ],
      "text/latex": [
       "'viento'"
      ],
      "text/markdown": [
       "'viento'"
      ],
      "text/plain": [
       "[1] \"viento\""
      ]
     },
     "metadata": {},
     "output_type": "display_data"
    }
   ],
   "source": [
    "root.nodes(x = meteoro_dag)"
   ]
  },
  {
   "cell_type": "code",
   "execution_count": 89,
   "metadata": {},
   "outputs": [
    {
     "data": {
      "text/html": [
       "<ol class=list-inline>\n",
       "\t<li>'granizo'</li>\n",
       "\t<li>'escarcha'</li>\n",
       "\t<li>'nieveSuelo'</li>\n",
       "\t<li>'neblina'</li>\n",
       "</ol>\n"
      ],
      "text/latex": [
       "\\begin{enumerate*}\n",
       "\\item 'granizo'\n",
       "\\item 'escarcha'\n",
       "\\item 'nieveSuelo'\n",
       "\\item 'neblina'\n",
       "\\end{enumerate*}\n"
      ],
      "text/markdown": [
       "1. 'granizo'\n",
       "2. 'escarcha'\n",
       "3. 'nieveSuelo'\n",
       "4. 'neblina'\n",
       "\n",
       "\n"
      ],
      "text/plain": [
       "[1] \"granizo\"    \"escarcha\"   \"nieveSuelo\" \"neblina\"   "
      ]
     },
     "metadata": {},
     "output_type": "display_data"
    }
   ],
   "source": [
    "leaf.nodes(x = meteoro_dag)"
   ]
  },
  {
   "cell_type": "code",
   "execution_count": 90,
   "metadata": {},
   "outputs": [
    {
     "data": {
      "text/html": [
       "<ol class=list-inline>\n",
       "\t<li>'tormenta'</li>\n",
       "\t<li>'lluvia'</li>\n",
       "\t<li>'viento'</li>\n",
       "</ol>\n"
      ],
      "text/latex": [
       "\\begin{enumerate*}\n",
       "\\item 'tormenta'\n",
       "\\item 'lluvia'\n",
       "\\item 'viento'\n",
       "\\end{enumerate*}\n"
      ],
      "text/markdown": [
       "1. 'tormenta'\n",
       "2. 'lluvia'\n",
       "3. 'viento'\n",
       "\n",
       "\n"
      ],
      "text/plain": [
       "[1] \"tormenta\" \"lluvia\"   \"viento\"  "
      ]
     },
     "metadata": {},
     "output_type": "display_data"
    }
   ],
   "source": [
    "ancestors(x = meteoro_dag, node = 'granizo')"
   ]
  },
  {
   "cell_type": "code",
   "execution_count": 91,
   "metadata": {},
   "outputs": [
    {
     "data": {
      "text/html": [
       "<ol class=list-inline>\n",
       "\t<li>'lluvia'</li>\n",
       "\t<li>'rocio'</li>\n",
       "\t<li>'tormenta'</li>\n",
       "\t<li>'niebla'</li>\n",
       "\t<li>'escarcha'</li>\n",
       "\t<li>'nieve'</li>\n",
       "\t<li>'granizo'</li>\n",
       "\t<li>'neblina'</li>\n",
       "\t<li>'nieveSuelo'</li>\n",
       "</ol>\n"
      ],
      "text/latex": [
       "\\begin{enumerate*}\n",
       "\\item 'lluvia'\n",
       "\\item 'rocio'\n",
       "\\item 'tormenta'\n",
       "\\item 'niebla'\n",
       "\\item 'escarcha'\n",
       "\\item 'nieve'\n",
       "\\item 'granizo'\n",
       "\\item 'neblina'\n",
       "\\item 'nieveSuelo'\n",
       "\\end{enumerate*}\n"
      ],
      "text/markdown": [
       "1. 'lluvia'\n",
       "2. 'rocio'\n",
       "3. 'tormenta'\n",
       "4. 'niebla'\n",
       "5. 'escarcha'\n",
       "6. 'nieve'\n",
       "7. 'granizo'\n",
       "8. 'neblina'\n",
       "9. 'nieveSuelo'\n",
       "\n",
       "\n"
      ],
      "text/plain": [
       "[1] \"lluvia\"     \"rocio\"      \"tormenta\"   \"niebla\"     \"escarcha\"  \n",
       "[6] \"nieve\"      \"granizo\"    \"neblina\"    \"nieveSuelo\""
      ]
     },
     "metadata": {},
     "output_type": "display_data"
    }
   ],
   "source": [
    "descendants(x = meteoro_dag, node = 'viento')"
   ]
  },
  {
   "cell_type": "markdown",
   "metadata": {},
   "source": [
    "## dsep"
   ]
  },
  {
   "cell_type": "code",
   "execution_count": 92,
   "metadata": {},
   "outputs": [],
   "source": [
    "bn = model2network(\"[A][C|A][B|C]\")"
   ]
  },
  {
   "cell_type": "code",
   "execution_count": 93,
   "metadata": {},
   "outputs": [
    {
     "data": {
      "image/png": "[encoded data removed]",
      "text/plain": [
       "plot without title"
      ]
     },
     "metadata": {},
     "output_type": "display_data"
    }
   ],
   "source": [
    "plot(bn)"
   ]
  },
  {
   "cell_type": "code",
   "execution_count": 94,
   "metadata": {},
   "outputs": [
    {
     "data": {
      "text/html": [
       "FALSE"
      ],
      "text/latex": [
       "FALSE"
      ],
      "text/markdown": [
       "FALSE"
      ],
      "text/plain": [
       "[1] FALSE"
      ]
     },
     "metadata": {},
     "output_type": "display_data"
    }
   ],
   "source": [
    "dsep(bn, \"A\", \"B\")"
   ]
  },
  {
   "cell_type": "code",
   "execution_count": 95,
   "metadata": {},
   "outputs": [
    {
     "data": {
      "text/html": [
       "TRUE"
      ],
      "text/latex": [
       "TRUE"
      ],
      "text/markdown": [
       "TRUE"
      ],
      "text/plain": [
       "[1] TRUE"
      ]
     },
     "metadata": {},
     "output_type": "display_data"
    }
   ],
   "source": [
    "dsep(bn, \"A\", \"B\", \"C\")"
   ]
  },
  {
   "cell_type": "code",
   "execution_count": 96,
   "metadata": {},
   "outputs": [],
   "source": [
    "bn_2 = model2network(\"[A][C][B|A:C]\")"
   ]
  },
  {
   "cell_type": "code",
   "execution_count": 97,
   "metadata": {},
   "outputs": [
    {
     "data": {
      "image/png": "[encoded data removed]",
      "text/plain": [
       "plot without title"
      ]
     },
     "metadata": {},
     "output_type": "display_data"
    }
   ],
   "source": [
    "plot(bn_2)"
   ]
  },
  {
   "cell_type": "code",
   "execution_count": 98,
   "metadata": {},
   "outputs": [
    {
     "data": {
      "text/html": [
       "TRUE"
      ],
      "text/latex": [
       "TRUE"
      ],
      "text/markdown": [
       "TRUE"
      ],
      "text/plain": [
       "[1] TRUE"
      ]
     },
     "metadata": {},
     "output_type": "display_data"
    }
   ],
   "source": [
    "dsep(bn_2, \"A\", \"C\")"
   ]
  },
  {
   "cell_type": "code",
   "execution_count": 99,
   "metadata": {},
   "outputs": [
    {
     "data": {
      "text/html": [
       "FALSE"
      ],
      "text/latex": [
       "FALSE"
      ],
      "text/markdown": [
       "FALSE"
      ],
      "text/plain": [
       "[1] FALSE"
      ]
     },
     "metadata": {},
     "output_type": "display_data"
    }
   ],
   "source": [
    "dsep(bn_2, \"A\", \"C\", \"B\")"
   ]
  },
  {
   "cell_type": "code",
   "execution_count": 100,
   "metadata": {},
   "outputs": [],
   "source": [
    "# Ejemplo S02_Bayesian_Networks (S13-S14)\n",
    "dag2 <- empty.graph(nodes=c(\"E\",\"V\",\"W\",\"H\",\"C\",\"P\"))\n",
    "dag2 <- set.arc(dag2,from=\"E\",to=\"W\")\n",
    "dag2 <- set.arc(dag2,from=\"V\",to=\"W\")\n",
    "dag2 <- set.arc(dag2,from=\"W\",to=\"C\")\n",
    "dag2 <- set.arc(dag2,from=\"W\",to=\"P\")\n",
    "dag2 <- set.arc(dag2,from=\"H\",to=\"P\")"
   ]
  },
  {
   "cell_type": "markdown",
   "metadata": {},
   "source": [
    "![Ejemplo Clase dsep](01-ejemplo-clase-s02.png)"
   ]
  },
  {
   "cell_type": "code",
   "execution_count": 101,
   "metadata": {},
   "outputs": [
    {
     "data": {
      "image/png": "[encoded data removed]",
      "text/plain": [
       "plot without title"
      ]
     },
     "metadata": {},
     "output_type": "display_data"
    }
   ],
   "source": [
    "plot(dag2)"
   ]
  },
  {
   "cell_type": "markdown",
   "metadata": {},
   "source": [
    "![Independece test E, V](02-ejemplo-clase-s02.png)"
   ]
  },
  {
   "cell_type": "code",
   "execution_count": 102,
   "metadata": {},
   "outputs": [
    {
     "data": {
      "text/html": [
       "TRUE"
      ],
      "text/latex": [
       "TRUE"
      ],
      "text/markdown": [
       "TRUE"
      ],
      "text/plain": [
       "[1] TRUE"
      ]
     },
     "metadata": {},
     "output_type": "display_data"
    }
   ],
   "source": [
    "# I(E,V,0)\n",
    "dsep(bn = dag2, x = 'E', y = 'V')"
   ]
  },
  {
   "cell_type": "code",
   "execution_count": 103,
   "metadata": {},
   "outputs": [
    {
     "name": "stdout",
     "output_type": "stream",
     "text": [
      "* currently at 'E'.\n",
      "  > current path is:\n",
      "'E' \n",
      "  > jumping to 'W'.\n",
      "* currently at 'W'.\n",
      "  > current path is:\n",
      "'E' 'W' \n",
      "  > jumping to 'C'.\n",
      "* currently at 'C'.\n",
      "  > current path is:\n",
      "'E' 'W' 'C' \n",
      "  > node 'C' has no more children, going back to 'W'.\n",
      "  > jumping to 'P'.\n",
      "* currently at 'P'.\n",
      "  > current path is:\n",
      "'E' 'W' 'P' \n",
      "  > node 'P' has no more children, going back to 'W'.\n",
      "  > node 'W' has no more children, going back to 'E'.\n"
     ]
    },
    {
     "data": {
      "text/html": [
       "FALSE"
      ],
      "text/latex": [
       "FALSE"
      ],
      "text/markdown": [
       "FALSE"
      ],
      "text/plain": [
       "[1] FALSE"
      ]
     },
     "metadata": {},
     "output_type": "display_data"
    }
   ],
   "source": [
    "#::nota::se habla de ver tb si hay un camino(path)\n",
    "# http://www.bnlearn.com/documentation/man/graph.html\n",
    "# check whether there is a path between two nodes.\n",
    "#path(x, from, to, direct = TRUE, underlying.graph = FALSE, debug = FALSE)\n",
    "path(x = dag2, from = 'E', to = 'V', debug = TRUE)"
   ]
  },
  {
   "cell_type": "markdown",
   "metadata": {},
   "source": [
    "![Dependece E,H dado P](03-ejemplo-clase-s02.png)"
   ]
  },
  {
   "cell_type": "code",
   "execution_count": 104,
   "metadata": {},
   "outputs": [
    {
     "data": {
      "text/html": [
       "FALSE"
      ],
      "text/latex": [
       "FALSE"
      ],
      "text/markdown": [
       "FALSE"
      ],
      "text/plain": [
       "[1] FALSE"
      ]
     },
     "metadata": {},
     "output_type": "display_data"
    }
   ],
   "source": [
    "# D(E,H,P)\n",
    "dsep(bn = dag2, x = 'E', y = 'H', z = 'P')"
   ]
  },
  {
   "cell_type": "code",
   "execution_count": 105,
   "metadata": {},
   "outputs": [
    {
     "name": "stdout",
     "output_type": "stream",
     "text": [
      "* currently at 'E'.\n",
      "  > current path is:\n",
      "'E' \n",
      "  > jumping to 'W'.\n",
      "* currently at 'W'.\n",
      "  > current path is:\n",
      "'E' 'W' \n",
      "  > jumping to 'C'.\n",
      "* currently at 'C'.\n",
      "  > current path is:\n",
      "'E' 'W' 'C' \n",
      "  > node 'C' has no more children, going back to 'W'.\n",
      "  > jumping to 'P'.\n",
      "* currently at 'P'.\n",
      "  > current path is:\n",
      "'E' 'W' 'P' \n",
      "  > node 'P' has no more children, going back to 'W'.\n",
      "  > node 'W' has no more children, going back to 'E'.\n"
     ]
    },
    {
     "data": {
      "text/html": [
       "FALSE"
      ],
      "text/latex": [
       "FALSE"
      ],
      "text/markdown": [
       "FALSE"
      ],
      "text/plain": [
       "[1] FALSE"
      ]
     },
     "metadata": {},
     "output_type": "display_data"
    }
   ],
   "source": [
    "path(x = dag2, from = 'E', to = 'H', debug = TRUE)"
   ]
  },
  {
   "cell_type": "code",
   "execution_count": 106,
   "metadata": {},
   "outputs": [
    {
     "name": "stdout",
     "output_type": "stream",
     "text": [
      "* currently at 'E'.\n",
      "  > current path is:\n",
      "'E' \n",
      "  > jumping to 'W'.\n",
      "* currently at 'W'.\n",
      "  > current path is:\n",
      "'E' 'W' \n",
      "  @ node 'E' already visited, skipping.\n",
      "  > jumping to 'V'.\n",
      "* currently at 'V'.\n",
      "  > current path is:\n",
      "'E' 'W' 'V' \n",
      "  @ node 'W' already visited, skipping.\n",
      "  > node 'V' has no more children, going back to 'W'.\n",
      "  > jumping to 'C'.\n",
      "* currently at 'C'.\n",
      "  > current path is:\n",
      "'E' 'W' 'C' \n",
      "  @ node 'W' already visited, skipping.\n",
      "  > node 'C' has no more children, going back to 'W'.\n",
      "  > jumping to 'P'.\n",
      "* currently at 'P'.\n",
      "  > current path is:\n",
      "'E' 'W' 'P' \n",
      "  @ node 'W' already visited, skipping.\n",
      "  > jumping to 'H'.\n"
     ]
    },
    {
     "data": {
      "text/html": [
       "TRUE"
      ],
      "text/latex": [
       "TRUE"
      ],
      "text/markdown": [
       "TRUE"
      ],
      "text/plain": [
       "[1] TRUE"
      ]
     },
     "metadata": {},
     "output_type": "display_data"
    }
   ],
   "source": [
    "path(x = dag2, from = 'E', to = 'H', underlying.graph = TRUE, debug = TRUE)"
   ]
  },
  {
   "cell_type": "markdown",
   "metadata": {},
   "source": [
    "![Independence C,P dado E,W](04-ejemplo-clase-s02.png)"
   ]
  },
  {
   "cell_type": "code",
   "execution_count": 107,
   "metadata": {},
   "outputs": [
    {
     "data": {
      "text/html": [
       "TRUE"
      ],
      "text/latex": [
       "TRUE"
      ],
      "text/markdown": [
       "TRUE"
      ],
      "text/plain": [
       "[1] TRUE"
      ]
     },
     "metadata": {},
     "output_type": "display_data"
    }
   ],
   "source": [
    "# I(C,P|{E,W})\n",
    "dsep(bn = dag2, x = 'C', y = 'P',z = c('E', 'W'))"
   ]
  },
  {
   "cell_type": "code",
   "execution_count": 108,
   "metadata": {},
   "outputs": [
    {
     "data": {
      "text/html": [
       "FALSE"
      ],
      "text/latex": [
       "FALSE"
      ],
      "text/markdown": [
       "FALSE"
      ],
      "text/plain": [
       "[1] FALSE"
      ]
     },
     "metadata": {},
     "output_type": "display_data"
    }
   ],
   "source": [
    "path(x = dag2, from = 'C', to = 'P', direct = TRUE)"
   ]
  },
  {
   "cell_type": "code",
   "execution_count": 109,
   "metadata": {},
   "outputs": [
    {
     "data": {
      "text/html": [
       "TRUE"
      ],
      "text/latex": [
       "TRUE"
      ],
      "text/markdown": [
       "TRUE"
      ],
      "text/plain": [
       "[1] TRUE"
      ]
     },
     "metadata": {},
     "output_type": "display_data"
    }
   ],
   "source": [
    "path(x = dag2, from = 'C', to = 'P', underlying.graph = TRUE)"
   ]
  },
  {
   "cell_type": "markdown",
   "metadata": {},
   "source": [
    "![Dependence C, {H,P} dado E](05-ejemplo-clase-s02.png)"
   ]
  },
  {
   "cell_type": "code",
   "execution_count": 110,
   "metadata": {},
   "outputs": [
    {
     "ename": "ERROR",
     "evalue": "Error in check.nodes(y, graph = bn, max.nodes = 1): at most 1 node(s) needed.\n",
     "output_type": "error",
     "traceback": [
      "Error in check.nodes(y, graph = bn, max.nodes = 1): at most 1 node(s) needed.\nTraceback:\n",
      "1. dsep(bn = dag2, x = \"C\", y = c(\"H\", \"P\"), z = \"E\")",
      "2. check.nodes(y, graph = bn, max.nodes = 1)",
      "3. stop(\"at most \", max.nodes, \" node(s) needed.\")"
     ]
    }
   ],
   "source": [
    "# D(C, {H,P}|E)\n",
    "#::nota:da error pq soalamente se puede calcular dsep entre DOS nodos individuales\n",
    "# http://www.bnlearn.com/documentation/man/dsep.html\n",
    "dsep(bn = dag2, x = 'C', y = c('H', 'P'), z = 'E')"
   ]
  },
  {
   "cell_type": "code",
   "execution_count": null,
   "metadata": {},
   "outputs": [],
   "source": []
  }
 ],
 "metadata": {
  "kernelspec": {
   "display_name": "R",
   "language": "R",
   "name": "ir"
  },
  "language_info": {
   "codemirror_mode": "r",
   "file_extension": ".r",
   "mimetype": "text/x-r-source",
   "name": "R",
   "pygments_lexer": "r",
   "version": "3.4.4"
  }
 },
 "nbformat": 4,
 "nbformat_minor": 2
}
