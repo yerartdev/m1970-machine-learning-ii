<<<<<<< HEAD
{
  "cells": [
    {
      "metadata": {},
      "cell_type": "markdown",
      "source": "# Kernel methods for regression\n\nKernel-based regression combine linear regression techniques with the kernel trick.\nThey learn a function in the space induced by the respective kernel and the data.\nFor non-linear kernels, this corresponds to a non-linear function in the original space.\n\nIn this notebook, we will explore the capabilities of three of them: Suppert Vector Regression (SVR), Kernel Ridge Regression (KRR), and Gaussian Processes (GP)."
    },
    {
      "metadata": {
        "trusted": true
      },
      "cell_type": "code",
      "source": "import numpy as np\nimport pandas as pd\nimport matplotlib.pyplot as plt\nfrom sklearn import datasets, svm\n\n# inline plots\n%matplotlib inline",
      "execution_count": 5,
      "outputs": [
        {
          "output_type": "stream",
          "text": "/home/nbuser/anaconda3_420/lib/python3.5/site-packages/matplotlib/font_manager.py:281: UserWarning: Matplotlib is building the font cache using fc-list. This may take a moment.\n  'Matplotlib is building the font cache using fc-list. '\n",
          "name": "stderr"
        }
      ]
    },
    {
      "metadata": {},
      "cell_type": "markdown",
      "source": "# Part 1. Kernel expansion and basis functions: Intuition\n\nA linear regressor fits the following model to the observed data:\n\n$$f(x) = w^\\top x$$\n\nThis is the underlying function that is assumed to have generated the data, and the true data typically contains additive noise, $w^\\top x + \\epsilon$.\n\n## Kernel-based function\n\nThe data model adopted by kernel-based regression techniques assumes the data fits a linear model in the feature space.\nBy exploiting the representer theorem kernel trick, this model can be cast back into the input space as the following \"kernel expansion\":\n\n$$f(x) = \\sum_{i=1}^n \\alpha_i \\kappa(x, x_i)$$\n\nHere, $\\kappa(\\cdot,\\cdot)$ is the \"kernel function\", $\\{x_i\\}$, for $i=1,2,\\dots,n$, represent the data that were used for training the model, and the coefficients $\\alpha_i$ are called \"expansion coefficients\".\n\nFirst, we will explore the the type of functions that can be modeled in this way\nWe will start with the Gaussian (or \"[RBF](https://scikit-learn.org/stable/modules/generated/sklearn.metrics.pairwise.rbf_kernel.html)\") kernel:\n\n$$\\kappa(x, x_i) = \\exp\\left(-\\gamma \\Vert x - x_i \\Vert^2\\right)$$\n\nThe parameter $gamma$ indicates the \"spikiness\" of the kernel and hence allows to control the smoothness of the resulting function.\n\nLet us plot a single basis function $\\kappa(x, x_i)$ with $x_i$ fixed at the origin:"
    },
    {
      "metadata": {
        "trusted": true
      },
      "cell_type": "code",
      "source": "from sklearn.metrics.pairwise import rbf_kernel\n\nx_i = np.array(0).reshape(-1,1)\nx = np.linspace(-5,5,1000).reshape(-1,1)\ngamma = 1\n\nK = rbf_kernel(x,x_i,gamma=gamma)\n\nplt.figure(figsize=(12,4))\nplt.plot(x,K)\nplt.xlabel('x')\nplt.ylabel('f(x)')\nplt.grid(True)\nplt.show()",
      "execution_count": null,
      "outputs": []
    },
    {
      "metadata": {},
      "cell_type": "markdown",
      "source": "We now choose a different $x_i$, for instance located at $x=2$ and plot the corresponding basis function:"
    },
    {
      "metadata": {
        "trusted": true
      },
      "cell_type": "code",
      "source": "x_i = np.array(2).reshape(-1,1)\n\nK = rbf_kernel(x,x_i,gamma=gamma)\n\nplt.figure(figsize=(12,4))\nplt.plot(x,K)\nplt.xlabel('x')\nplt.ylabel('f(x)')\nplt.grid(True)\nplt.show()",
      "execution_count": null,
      "outputs": []
    },
    {
      "metadata": {},
      "cell_type": "markdown",
      "source": "### Kernel expansion\n\nThe complete kernel expansion $f(x) = \\sum_{i=1}^n \\alpha_i \\kappa(x, x_i)$ is obtained by weighing the individual basis functions with coefficients $\\alpha_i$ and summing the result.\nA kernel expansion with 4 \"bases\" $x_i$ is constructed as follows:"
    },
    {
      "metadata": {
        "trusted": true
      },
      "cell_type": "code",
      "source": "x_i = np.array([-2, 0, 1, 2]).reshape(-1,1)\nalpha_i = np.array([1, 4, 2, 2]).reshape(-1,1)\n\nK = rbf_kernel(x,x_i,gamma=gamma)\n\nprint(\"Dimensions of K:\"+str(K.shape))\nprint(\"Dimensions of alpha_i:\"+str(alpha_i.shape))\n\nf = np.dot(K,alpha_i)\n\nplt.figure(figsize=(12,6))\nplt.plot(x,alpha_i[0]*K[:,0],color='b')\nplt.plot(x,alpha_i[1]*K[:,1],color='r')\nplt.plot(x,alpha_i[2]*K[:,2],color='g')\nplt.plot(x,alpha_i[3]*K[:,3],color='y')\nplt.plot(x,f,color='k',linestyle='--',linewidth=3)\nplt.xlabel('x')\nplt.ylabel('f(x)')\nplt.grid(True)\nplt.title('Kernel expansion')\nplt.show()",
      "execution_count": null,
      "outputs": []
    },
    {
      "metadata": {},
      "cell_type": "markdown",
      "source": "By modifying the `gamma` parameter we obtain functions with different smoothness."
    },
    {
      "metadata": {
        "trusted": true
      },
      "cell_type": "code",
      "source": "gamma = 10\n\nK = rbf_kernel(x,x_i,gamma=gamma)\n\nf = np.dot(K,alpha_i)\n\nplt.figure(figsize=(12,6))\nplt.plot(x,alpha_i[0]*K[:,0],color='b')\nplt.plot(x,alpha_i[1]*K[:,1],color='r')\nplt.plot(x,alpha_i[2]*K[:,2],color='g')\nplt.plot(x,alpha_i[3]*K[:,3],color='y')\nplt.plot(x,f,color='k',linestyle='--',linewidth=3)\nplt.xlabel('x')\nplt.ylabel('f(x)')\nplt.grid(True)\nplt.title('Kernel expansion')\nplt.show()",
      "execution_count": null,
      "outputs": []
    },
    {
      "metadata": {},
      "cell_type": "markdown",
      "source": "### Different kernels\n\nIn practice, kernel functions reperesent dissimilarity measures.\nApart from the standard RBF kernel many more kernels are used, such as the polynomial kernel, linear kernel, etc.\nAn overview of the kernels included in the `metrics` section of scikit learn can be found at https://scikit-learn.org/stable/modules/classes.html#module-sklearn.metrics.pairwise"
    },
    {
      "metadata": {},
      "cell_type": "markdown",
      "source": "The Gaussian process module of scikit learn includes some advanced kernels, such as the [rational quadratic kernel](http://scikit-learn.org/stable/modules/generated/sklearn.gaussian_process.kernels.RationalQuadratic.html), the [\"white noise\" kernel](http://scikit-learn.org/stable/modules/generated/sklearn.gaussian_process.kernels.WhiteKernel.html), etc.\n\nAn overview can be found at https://scikit-learn.org/stable/modules/gaussian_process.html#gp-kernels\n\nIn the following code block we visualize one basis function of [the periodic \"ExpSineSquared\" kernel](http://scikit-learn.org/stable/modules/generated/sklearn.gaussian_process.kernels.ExpSineSquared.html), which is defined as\n\n$$\\kappa(x, x_i) = \\exp\\left(-2 \\left(\\frac{\\sin\\left(\\frac{\\pi}{p} d(x, x_i)\\right)}{l}\\right) ^ 2\\right)$$\n\nwhere $l$ is the length scale ($l=1/\\gamma$), $p$ is a periodicity parameter, and $d(\\cdot,\\cdot)$ is a distance measure (the Euclidean distance by default)."
    },
    {
      "metadata": {
        "trusted": true
      },
      "cell_type": "code",
      "source": "from sklearn.gaussian_process.kernels import WhiteKernel, ExpSineSquared\n\nx_i = np.array(0).reshape(-1,1)\nx = np.linspace(-5,5,1000).reshape(-1,1)\n\nlength_scale = .5\nperiodicity = np.pi\nkernel = ExpSineSquared(length_scale=length_scale,periodicity=periodicity )\n\nK = kernel.__call__(x,x_i)\n\nplt.figure(figsize=(12,4))\nplt.plot(x,K)\nplt.xlabel('x')\nplt.ylabel('f(x)')\nplt.grid(True)\nplt.show()",
      "execution_count": null,
      "outputs": []
    },
    {
      "metadata": {},
      "cell_type": "markdown",
      "source": "### Combinations of kernels\n\nKernel functions can be combined in several ways to produce more complex basis functions.\nFor instance, the summation or multiplication of two kernel functions produces a new kernel function."
    },
    {
      "metadata": {},
      "cell_type": "markdown",
      "source": "Exercise 1: Combinations of kernels\n---\n\nKernel functions can be combined in several ways to produce new kernel functions.\nFor instance, the summation or multiplication of two kernel functions produces a new kernel function.\n\n1. Write a function to calculate a kernel that is the multiplication of the `ExpSineSquared` kernel and a kernel of your choice (RBF, linear, poly, etc.).\n2. Calculate and plot the kernel expansion $f(x) = \\sum_{i=1}^n \\alpha_i \\kappa(x, x_i)$:\n    1. Choose 4 or 5 one-dimensional \"bases\" $x_i$.\n    2. Generate the corresponding coefficients $\\alpha_i$ randomly (with a fixed random seed).\n    3. Calculate and plot the kernel expansion $f(x) = \\sum_{i=1}^n \\alpha_i \\kappa(x, x_i)$ for a range of x values that includes at least the bases.\n    4. [Optional] Plot the individual basis functions corresponding to each base.\n"
    },
    {
      "metadata": {
        "trusted": true
      },
      "cell_type": "code",
      "source": "# 1. Kernel function\ndef my_kernel(X1, X2):\n    \"\"\"\n    Computes the linear kernel between two sets of vectors.\n    Args:\n        X1 - an n1xd matrix with vectors x1_1,...,x1_n1 in the rows\n        X2 - an n2xd matrix with vectors x2_1,...,x2_n2 in the rows\n    Returns:\n        matrix of size n1xn2, K(x1_i,x2_j) in position i,j\n    \"\"\"\n    \n    # to be completed\n    K = rbf_kernel(x,x_i,gamma=gamma) * \n    \n    return K",
      "execution_count": null,
      "outputs": []
    },
    {
      "metadata": {
        "trusted": true
      },
      "cell_type": "code",
      "source": "# 2. Kernel expansion",
      "execution_count": null,
      "outputs": []
    },
    {
      "metadata": {},
      "cell_type": "markdown",
      "source": "# Part 2. Regression with SVR and KRR\n\nKernel methods for regression apply linear regression techniques in the feature space. We will first run a simple linear regression experiment on 1D data generated from a linear model.\n\n## Data generation, linear model"
    },
    {
      "metadata": {
        "trusted": true
      },
      "cell_type": "code",
      "source": "# fix random seed\nnp.random.seed(seed=0)\n\n# generate toy data\nn_data = 100\nw = 0.2\nb = 2\nX = np.random.normal(0,2,n_data)\nnoise = np.random.normal(0,0.1,n_data)\ny = w*X + b + noise\n\nplt.figure(figsize=(12,8))\nplt.scatter(X,y,s=20)\nplt.title('Linear toy data')\nplt.xlabel('x')\nplt.ylabel('y')\nplt.grid(True)\nplt.show()",
      "execution_count": 6,
      "outputs": [
        {
          "output_type": "display_data",
          "data": {
            "image/png": "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\n",
            "text/plain": "<matplotlib.figure.Figure at 0x7f7c38290588>"
          },
          "metadata": {}
        }
      ]
    },
    {
      "metadata": {
        "trusted": true
      },
      "cell_type": "code",
      "source": "# Save data for later use\nlinear_data = {'X': X.reshape(-1, 1), 'y': y.reshape(-1, 1)}",
      "execution_count": 7,
      "outputs": []
    },
    {
      "metadata": {},
      "cell_type": "markdown",
      "source": "## Linear estimator\n\nWe now run the linear least squares estimator with l2-norm regularization, from the [`linear_model.LinearRegression`](http://scikit-learn.org/stable/modules/generated/sklearn.linear_model.LinearRegression.html) module, and we plot the data and the regression solution."
    },
    {
      "metadata": {
        "trusted": true
      },
      "cell_type": "code",
      "source": "from sklearn import linear_model\nfrom sklearn.metrics import mean_squared_error, r2_score\n\n# Create linear regression object\nregr = linear_model.LinearRegression()\n\n# Train the model using the training sets\nregr.fit(linear_data['X'], linear_data['y'])\n\n# Test the regressor\nX_test = np.linspace(-5,5,100).reshape(-1,1)\ny_pred = regr.predict(X_test)\n\nplt.figure(figsize=(12,8))\nh_data = plt.scatter(linear_data['X'],linear_data['y'],s=20,label='Data')\nh_line, = plt.plot(X_test,y_pred,color='r',label='Linear regression')\nplt.title('Linear regression')\nplt.xlabel('x')\nplt.ylabel('y')\nplt.grid(True)\nplt.legend(handles=[h_data, h_line])\nplt.show()",
      "execution_count": 8,
      "outputs": [
        {
          "output_type": "display_data",
          "data": {
            "image/png": "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\n",
            "text/plain": "<matplotlib.figure.Figure at 0x7f7c38290208>"
          },
          "metadata": {}
        }
      ]
    },
    {
      "metadata": {},
      "cell_type": "markdown",
      "source": "Clearly, in this case we obtain an excellent fit. The (hyper)plane learned by the estimator corresponds to the linear model $f(x) = w^\\top x + b$."
    },
    {
      "metadata": {},
      "cell_type": "markdown",
      "source": "## Nonlinear model (toy data)\n\nNext, we generate some data according to a nonlinear 1D model, in this case the `sinc` function."
    },
    {
      "metadata": {
        "trusted": true
      },
      "cell_type": "code",
      "source": "# fix random seed\nnp.random.seed(seed=0)\n\nn_data = 200\nX = np.random.normal(0,2,n_data)\nnoise = np.random.normal(0,0.05,n_data)\ny = np.sinc(X) + noise\n\nplt.figure(figsize=(12,6))\nplt.scatter(X,y,s=20)\nplt.title('Noisy sinc')\nplt.xlabel('x')\nplt.ylabel('y')\nplt.grid(True)\nplt.show()",
      "execution_count": 9,
      "outputs": [
        {
          "output_type": "display_data",
          "data": {
            "image/png": "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\n",
            "text/plain": "<matplotlib.figure.Figure at 0x7f7c382ac828>"
          },
          "metadata": {}
        }
      ]
    },
    {
      "metadata": {
        "trusted": true
      },
      "cell_type": "code",
      "source": "# Save data for later use\nsinc_data = {'X': X.reshape(-1, 1), 'y': y.reshape(-1, 1)}",
      "execution_count": 10,
      "outputs": []
    },
    {
      "metadata": {},
      "cell_type": "markdown",
      "source": "Let us try to fit the linear model $f(x) = w^\\top x + b$ to these data."
    },
    {
      "metadata": {
        "trusted": true
      },
      "cell_type": "code",
      "source": "from sklearn import linear_model\n\n# Create linear regression object\nregr = linear_model.LinearRegression()\n\n# Train the model using the training sets\nregr.fit(sinc_data['X'], sinc_data['y'])\n\n# Test the regressor\nX_test = np.linspace(-5,5,100).reshape(-1,1)\ny_pred = regr.predict(X_test)\n\nplt.figure(figsize=(12,6))\nh_data = plt.scatter(sinc_data['X'],sinc_data['y'],s=20,label='Data')\nh_line, = plt.plot(X_test,y_pred,color='r',label='Linear regression')\nplt.title('Linear regression')\nplt.xlabel('x')\nplt.ylabel('y')\nplt.grid(True)\nplt.legend(handles=[h_data, h_line])\nplt.show()",
      "execution_count": 11,
      "outputs": [
        {
          "output_type": "display_data",
          "data": {
            "image/png": "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\n",
            "text/plain": "<matplotlib.figure.Figure at 0x7f7c37f8dc18>"
          },
          "metadata": {}
        }
      ]
    },
    {
      "metadata": {},
      "cell_type": "markdown",
      "source": "As expected, the solution of the linear regression does not capture any of the structure in the data apart from, most probably, the data mean."
    },
    {
      "metadata": {},
      "cell_type": "markdown",
      "source": "## Linear regression on a local subset\n\nWe could, however, estimate a linear model on a local subset of the data. The next code snippet selects the data that lie in $x \\in[0,1]$ and performs linear regression on these data."
    },
    {
      "metadata": {
        "scrolled": false,
        "trusted": true
      },
      "cell_type": "code",
      "source": "# select data between x=0 and x=1\n\nidx = np.logical_and(sinc_data['X'] >= 0, sinc_data['X'] <= 1)\n\nX = sinc_data['X'][idx].reshape(-1,1)\ny = sinc_data['y'][idx].reshape(-1,1)\n\n# Create linear regression object\nregr = linear_model.LinearRegression()\n\n# Train the model using the training sets\nregr.fit(X,y)\n\n# Test the regressor\nX_test = np.linspace(0,1,100).reshape(-1,1)\ny_pred = regr.predict(X_test)\n\nplt.figure(figsize=(12,6))\nh_data = plt.scatter(sinc_data['X'],sinc_data['y'],s=20,label='Data')\nh_line, = plt.plot(X_test,y_pred,color='r',label='Linear regression')\nplt.title('Linear regression')\nplt.xlabel('x')\nplt.ylabel('y')\nplt.grid(True)\nplt.legend(handles=[h_data, h_line])\nplt.show()",
      "execution_count": 12,
      "outputs": [
        {
          "output_type": "display_data",
          "data": {
            "image/png": "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\n",
            "text/plain": "<matplotlib.figure.Figure at 0x7f7c37f8db00>"
          },
          "metadata": {}
        }
      ]
    },
    {
      "metadata": {},
      "cell_type": "markdown",
      "source": "If the data shows nonlinear structure, a linear regressor may be useful at most to model the data at a local level. Instead of exploring this idea (which could be exploited to construct \"piecewise linear\" regression), we will focus on introducing kernel functions in the data model."
    },
    {
      "metadata": {},
      "cell_type": "markdown",
      "source": "## Nonlinear regression with SVR and KRR\n\nWe will now perform nonlinear regression using the [SVR](http://scikit-learn.org/stable/modules/generated/sklearn.svm.SVR.html) and [KRR](http://scikit-learn.org/stable/modules/generated/sklearn.kernel_ridge.KernelRidge.html) algorithms.\nAs we've seen, these algorithms aim to find suitable coefficients $\\alpha_i$ for the model $f(x) = \\sum_{i=1}^n \\alpha_i \\kappa(x, x_i)$ by minimizing the prediction error according to a given criterion (L2-norm, L1-norm, $\\epsilon$-insensitive,...).\n\nFirst, we apply both algorithms on the noisy sinc data, using some fixed choice for the hyperparameters."
    },
    {
      "metadata": {
        "trusted": true
      },
      "cell_type": "code",
      "source": "from sklearn.svm import SVR\nfrom sklearn.kernel_ridge import KernelRidge\n\n# train the SVR. gamma ~ 1/lengthscale\nclf_svr = SVR(kernel='rbf', C=.1, gamma=1)\nclf_svr.fit(sinc_data['X'], sinc_data['y'].ravel())\n\n# train the KRR\nclf_krr = KernelRidge(kernel='rbf', alpha=5, gamma=1)\nclf_krr.fit(sinc_data['X'], sinc_data['y'])\n\n# Test the regressors\nX_test = np.linspace(-5,5,100).reshape(-1,1)\ny_pred_svr = clf_svr.predict(X_test)\ny_pred_krr = clf_krr.predict(X_test)\n\nplt.figure(figsize=(12,6))\nplt.scatter(sinc_data['X'],sinc_data['y'],s=20,label='Data')\nplt.plot(X_test,y_pred_svr,color='r',label='SVR')\nplt.plot(X_test,y_pred_krr,color='g',label='KRR')\nplt.title('Linear regression')\nplt.grid(True)\nplt.legend()\nplt.show()",
      "execution_count": 18,
      "outputs": [
        {
          "output_type": "display_data",
          "data": {
            "image/png": "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\n",
            "text/plain": "<matplotlib.figure.Figure at 0x7f7c37e45ef0>"
          },
          "metadata": {}
        }
      ]
    },
    {
      "metadata": {},
      "cell_type": "markdown",
      "source": "Let us have a look at the support vectors found and their coefficients:"
    },
    {
      "metadata": {
        "trusted": true
      },
      "cell_type": "code",
      "source": "print(\"Indices of support vectors:\")\nprint(clf_svr.support_)\nprint(clf_svr.support_.shape)",
      "execution_count": 14,
      "outputs": [
        {
          "output_type": "stream",
          "text": "Indices of support vectors:\n[  8  10  14  18  20  21  26  28  35  36  46  48  54  58  60  72  79  82\n  87  92  96 100 101 124 128 131 134 136 137 139 143 151 163 177 179 182\n 185 198]\n(38,)\n",
          "name": "stdout"
        }
      ]
    },
    {
      "metadata": {
        "trusted": true
      },
      "cell_type": "code",
      "source": "print(\"Coefficients:\")\nprint(clf_svr.dual_coef_)",
      "execution_count": 15,
      "outputs": [
        {
          "output_type": "stream",
          "text": "Coefficients:\n[[ 0.1         0.1        -0.1         0.1        -0.06595214 -0.03146126\n   0.1        -0.00422967  0.04438896  0.06066107  0.1        -0.1\n   0.1        -0.1        -0.1         0.1         0.1        -0.08245623\n   0.1         0.1         0.1        -0.07793937  0.02982496 -0.0066417\n  -0.1        -0.1        -0.1        -0.1         0.00137131  0.1\n  -0.1        -0.1         0.1        -0.1         0.1        -0.1\n  -0.1         0.03243408]]\n",
          "name": "stdout"
        }
      ]
    },
    {
      "metadata": {
        "trusted": true
      },
      "cell_type": "code",
      "source": "# plot of the support vectors\n#::note::there are many support vectors, we can reduce them by changing a hyperparameter\n#        C in SVR i.e .1 --> 1\nplt.figure(figsize=(12,6)) \nplt.scatter(sinc_data['X'],sinc_data['y'],s=20,label='Data')\nplt.scatter(sinc_data['X'][clf_svr.support_],sinc_data['y'][clf_svr.support_],\\\n            s=110,marker='x',label='Support Vectors')\nplt.title('Support vectors')\nplt.grid(True)\nplt.legend()\nplt.show()",
      "execution_count": 19,
      "outputs": [
        {
          "output_type": "display_data",
          "data": {
            "image/png": "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\n",
            "text/plain": "<matplotlib.figure.Figure at 0x7f7c37e985f8>"
          },
          "metadata": {}
        }
      ]
    },
    {
      "metadata": {},
      "cell_type": "markdown",
      "source": "## Parameter optimization by Grid Search and Cross-validation\n\nInstead of fixing the parameters, we can apply the [GridSearchCV](http://scikit-learn.org/stable/modules/generated/sklearn.model_selection.GridSearchCV.html) function to perform a grid search of candidate parameters and select the best set using cross-validation."
    },
    {
      "metadata": {
        "trusted": true
      },
      "cell_type": "code",
      "source": "from sklearn.model_selection import GridSearchCV\n\nclf_svr = GridSearchCV(SVR(kernel='rbf', gamma=0.5), cv=5,\n                   param_grid={\"C\": [1e-1, 1e0, 1e1, 1e2],\n                               \"epsilon\": [0.05, 0.1, 0.5],\n                               \"gamma\": np.logspace(-2, 2, 5)})\n\nclf_krr = GridSearchCV(KernelRidge(kernel='rbf', gamma=0.5), cv=5,\n                  param_grid={\"alpha\": [1e-1, 1e0, 0.1, 1e-2, 1e-3],\n                              \"gamma\": np.logspace(-2, 2, 5)})\n\n# train classifiers\nclf_svr.fit(sinc_data['X'], sinc_data['y'].ravel())\nclf_krr.fit(sinc_data['X'], sinc_data['y'])\n\n# Test the regressors\nX_test = np.linspace(-5,5,500).reshape(-1,1)\ny_pred_svr = clf_svr.predict(X_test)\ny_pred_krr = clf_krr.predict(X_test)\n\nplt.figure(figsize=(12,6))\nplt.scatter(sinc_data['X'],sinc_data['y'],s=20,label='Data')\nplt.plot(X_test,y_pred_svr,color='r',label='SVR')\nplt.plot(X_test,y_pred_krr,color='g',label='KRR')\nplt.title('Linear regression')\nplt.xlabel('$x$')\nplt.ylabel('$f(x)$')\nplt.grid(True)\nplt.legend()\nplt.show()",
      "execution_count": 22,
      "outputs": [
        {
          "output_type": "display_data",
          "data": {
            "image/png": "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\n",
            "text/plain": "<matplotlib.figure.Figure at 0x7f7c36e89f28>"
          },
          "metadata": {}
        }
      ]
    },
    {
      "metadata": {
        "trusted": true
      },
      "cell_type": "code",
      "source": "print('Best parameters for SVR: '+ str(clf_svr.best_params_))\nprint('Best parameters for KRR: '+ str(clf_krr.best_params_))",
      "execution_count": 23,
      "outputs": [
        {
          "output_type": "stream",
          "text": "Best parameters for SVR: {'gamma': 1.0, 'C': 1.0, 'epsilon': 0.05}\nBest parameters for KRR: {'gamma': 1.0, 'alpha': 0.01}\n",
          "name": "stdout"
        }
      ]
    },
    {
      "metadata": {
        "trusted": true
      },
      "cell_type": "code",
      "source": "print(clf_svr.best_estimator_)",
      "execution_count": 24,
      "outputs": [
        {
          "output_type": "stream",
          "text": "SVR(C=1.0, cache_size=200, coef0=0.0, degree=3, epsilon=0.05, gamma=1.0,\n  kernel='rbf', max_iter=-1, shrinking=True, tol=0.001, verbose=False)\n",
          "name": "stdout"
        }
      ]
    },
    {
      "metadata": {},
      "cell_type": "markdown",
      "source": "Exercise 2: Motorcycle Data\n---"
    },
    {
      "metadata": {
        "trusted": true
      },
      "cell_type": "code",
      "source": "#::GMG::Estimar la función de times/accel\n#       con SVR y KRR con greadSearchCV\n#       \ndf = pd.read_csv('data/motor.csv',delimiter=';')\n\nprint(df.head())\n\nplt.figure(figsize=(12,8))\nplt.scatter(df.times,df.accel,s=20)\nplt.title('Motorcycle Data')\nplt.xlabel('Time')\nplt.ylabel('Acceleration')\nplt.show()",
      "execution_count": 20,
      "outputs": [
        {
          "output_type": "stream",
          "text": "   times  accel  strata    v\n0    2.4    0.0       1  3.7\n1    2.6   -1.3       1  3.7\n2    3.2   -2.7       1  3.7\n3    3.6    0.0       1  3.7\n4    4.0   -2.7       1  3.7\n",
          "name": "stdout"
        },
        {
          "output_type": "display_data",
          "data": {
            "image/png": "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\n",
            "text/plain": "<matplotlib.figure.Figure at 0x7f7c37b45b38>"
          },
          "metadata": {}
        }
      ]
    },
    {
      "metadata": {},
      "cell_type": "markdown",
      "source": "Exercise: Train both regression techniques (SVR and KRR) on the motorcycle data set. Determine the best hyperparameters by running the GridSearchCV optimization technique.\n\n1. Learn the optimal hyperparameters.\n2. Produce predictions and plot."
    },
    {
      "metadata": {
        "trusted": true
      },
      "cell_type": "code",
      "source": "#::CLASE::\n# 1. Learn the optimal hyperparameters\n# 2. Plot",
      "execution_count": 25,
      "outputs": []
    },
    {
      "metadata": {},
      "cell_type": "markdown",
      "source": "# Part 3. Gaussian Process Regression\n\nGaussian Process Regression (GPR) is a Bayesian kernel-based technique that allows to perform nonlinear regression and thus to characterize nonlinear relationships between variables.\nWhen producing predictions for a new input, GPR outputs the complete probability distribution of the estimated output, which is a Gaussian centered around the \"prediction mean\".\nInterestingly, the prediction mean of KRR and GPR are identical. The \"prediction variance\" calculated by GPR yields an uncertainty interval for each prediction.\n\nA Gaussian process is an immediate generalization of the multivariate normal to infinite dimensions.\nIt is defined as an infinite collection of random variables, with any marginal subset having a Gaussian distribution.\nThus, the marginalization property is explicit in its definition.\nAnother way of thinking about an infinite vector is as a function. When we write a function that takes continuous values as inputs, we are essentially implying an infinite vector that only returns values (indexed by the inputs) when the function is called upon to do so.\nBy the same token, this notion of an infinite-dimensional Gaussian represented as a function allows us to work with them computationally: we are never required to store all the elements of the Gaussian process, only to calculate them on demand.\n\nGaussian processes are Bayesian techniques: After specifying a model for the data, a prior on the functional form is chosen. Then, the data is observed.\nFinally, the posterior distribution of the function to estimate is calculated using Bayes' rule.\n\n### Selecting a prior\n\nThe prior of a Gaussian process is encoded in the kernel function, which represents the covariance between any two output points. Below we select a Gaussian (RBF) prior with length scale 1, and we draw several functions that correspond to this covariance."
    },
    {
      "metadata": {
        "trusted": true
      },
      "cell_type": "code",
      "source": "from sklearn.gaussian_process.kernels import RBF\n\n# draw samples from the unconstrained covariance\nnp.random.seed(1)\nx = np.linspace(0, 10, 100)\n\nmu = np.zeros(len(x))\n\nlength_scale = 1\nkernel = RBF(length_scale)\nK = kernel.__call__(x.reshape(-1,1),x.reshape(-1,1))\n\ndraws = np.random.multivariate_normal(mu, K, 5)\n\n# plot a selection of unconstrained functions\nfig = plt.figure(figsize=(8, 4))\nplt.plot(x, draws.T, '-k')\nplt.xlabel('$x$')\nplt.ylabel('$f(x)$')\nplt.show()",
      "execution_count": null,
      "outputs": []
    },
    {
      "metadata": {
        "trusted": true
      },
      "cell_type": "code",
      "source": "from sklearn.gaussian_process import GaussianProcessRegressor\nfrom sklearn.gaussian_process.kernels import ConstantKernel as C\n\n# Constrain the mean and covariance with two points\nx1 = np.array([2.5, 7])\ny1 = np.cos(x1)\n\ngp_kernel = C(0.1) * RBF(1)\n\n# switch off the optimizer option for this example\ngp1 = GaussianProcessRegressor(kernel=gp_kernel,optimizer=None)\ngp1.fit(x1[:, None], y1)\nf1, sigma1 = gp1.predict(x[:, None], return_std=True)\n\n# Constrain the mean and covariance with more points\nx2 = np.linspace(0,10,5).T\ny2 = np.cos(x2)\n\ngp2 = GaussianProcessRegressor(kernel=gp_kernel,optimizer=None)\ngp2.fit(x2[:, None], y2)\nf2, sigma2 = gp2.predict(x[:, None], return_std=True)\n\n# plot\nfig = plt.figure(figsize=(14, 5))\n\n# plot a constrained function\n# Las bandas grises contienen el 95% de las funciones más probable que xplican los dos puntos\n# con el prior que hemos elegido y en negro de la más probable del conjunto\nax = fig.add_subplot(121)\nax.plot(x, f1, '-', color='gray')\nax.fill_between(x, f1 - 2 * sigma1, f1 + 2 * sigma1, color='gray', alpha=0.3)\nax.plot(x1, y1, '.k', ms=6)\n\n# plot another constrained function\n# ahora nos llegan dos puntos más  y ahora las bandas de incertidumbre son más estrechas\n# lo cual quiere decir que se han restringido las posibles funciones \n#::nota::se empieza con un conjunto infinito de funciones que se van restringiendo a medida\n#        que se aportan datos\n# resulta que KRR (Kernel Ridge Regression) coincide con la más probable que nos da GPR\nax = fig.add_subplot(122)\nax.plot(x, f2, '-', color='gray')\nax.fill_between(x, f2 - 2 * sigma2, f2 + 2 * sigma2, color='gray', alpha=0.3)\nax.plot(x2, y2, '.k', ms=6)\n\nfor ax in fig.axes:\n    ax.set_xlim(0, 10)\n\nplt.show()",
      "execution_count": null,
      "outputs": []
    },
    {
      "metadata": {},
      "cell_type": "markdown",
      "source": "## GPR on noisy sinc data\n\nAt this point it is interesting to note that we have not considered any noise in the model.\nIn the implementation of GPR in scikit-learn, Gaussian noise is added by adding a Gaussian component to the kernel: `kernel = RBF() + WhiteKernel()`.\n\nIn the following example we will apply GPR to the noisy sinc data.\nWe could search for the optimal hyperparameters by running the `GridSearchCV` utility, but GPR includes a more powerful tool.\nIn particular, the hyperparameters of the kernel are optimized during fitting of `GaussianProcessRegressor` by maximizing the log-marginal-likelihood (LML) based on the passed optimizer.\nAs the LML may have multiple local optima, the optimizer can be started repeatedly by specifying n_restarts_optimizer.\nThe first run is always conducted starting from the initial hyperparameter values of the kernel; subsequent runs are conducted from hyperparameter values that have been chosen randomly from the range of allowed values. If the initial hyperparameters should be kept fixed, `None` can be passed as optimizer."
    },
    {
      "metadata": {
        "trusted": true
      },
      "cell_type": "code",
      "source": "from sklearn.gaussian_process import GaussianProcessRegressor\nfrom sklearn.gaussian_process.kernels import RBF, ConstantKernel as C, WhiteKernel\n\n# Instanciate a Gaussian Process model\n# whitekernel es ruido blanco (Ppara modelarlo)\n# n_restarts_optimizer para buscar los hiperparámetros internos del GBR\n# la constante es un kernel constante (es una forma de darle amplitud al kernel gaussiano)\n# C(empieza en, rango de búsqueda), RBF (empeza en, rango), whitekernel (empieza en, rango)\n# aquí no se usa gamma, sino 10 que es la \"suavidad\"\ngp_kernel = C(1.0, (1e-2, 1e+2)) * RBF(10, (1e-2, 1e2)) + WhiteKernel(0.1,(1e-2,1e2))\ngp = GaussianProcessRegressor(kernel=gp_kernel,\n                              n_restarts_optimizer=10)\n\n# Fit to data using (Log)(Marginal) Maximum Likelihood Estimation of the parameters\ngp.fit(sinc_data['X'], sinc_data['y'])\n\nprint(\"GPML kernel: %s\" % gp.kernel_)\n# esto es un máximo, si encontramos otro mejor, más grande es\nprint(\"Log-marginal-likelihood: %.3f\"\n      % gp.log_marginal_likelihood(gp.kernel_.theta))",
      "execution_count": null,
      "outputs": []
    },
    {
      "metadata": {
        "trusted": true
      },
      "cell_type": "code",
      "source": "# Make the prediction on the meshed x-axis\n# ahora tenemos zonas uncertidumbre y el coste computacional es similar que KRR\n# fuera del rango de los datos la banda es la del prior\n# solo donde hay datos reducimos las incertidumbre\nX_test = np.linspace(-5,5,1000).reshape(-1,1)\n#X_test = np.linspace(-10,10,1000).reshape(-1,1)\n\ny_pred, sigma = gp.predict(X_test, return_std=True)\n\nplt.figure(figsize=(12,6))\nplt.scatter(sinc_data['X'],sinc_data['y'],s=20,label='Data')\nplt.plot(X_test,y_pred,color='r',label='GP')\nplt.fill_between(X_test.ravel(), y_pred.ravel() - 2 * sigma, y_pred.ravel() + 2 * sigma,\n                 color='gray', alpha=0.3,label='95% confidence')\nplt.title('GPR regression')\nplt.xlabel('$x$')\nplt.ylabel('$f(x)$')\nplt.grid(True)\nplt.legend()\nplt.show()",
      "execution_count": null,
      "outputs": []
    },
    {
      "metadata": {},
      "cell_type": "markdown",
      "source": "## GP regression on the linear data"
    },
    {
      "metadata": {
        "trusted": true
      },
      "cell_type": "code",
      "source": "# Instanciate a Gaussian Process model\ngp_kernel = C(1.0, (1e-2, 1e+2)) * RBF(10, (1e-2, 1e2)) + WhiteKernel(0.1,(1e-2,1e2))\ngp = GaussianProcessRegressor(kernel=gp_kernel,\n                              n_restarts_optimizer=10)\n\n# Fit to data using Maximum Likelihood Estimation of the parameters\ngp.fit(linear_data['X'], linear_data['y'])\n\nprint(\"GPML kernel: %s\" % gp.kernel_)\nprint(\"Log-marginal-likelihood: %.3f\"\n      % gp.log_marginal_likelihood(gp.kernel_.theta))",
      "execution_count": null,
      "outputs": []
    },
    {
      "metadata": {
        "trusted": true
      },
      "cell_type": "code",
      "source": "#lengh-scale es la \"suavidad\"\nX_test = np.linspace(-5,5,1000).reshape(-1,1)\n#X_test = np.linspace(-10,10,1000).reshape(-1,1)\n\n# Make the prediction on the meshed x-axis\ny_pred, sigma = gp.predict(X_test, return_std=True)\n\nplt.figure(figsize=(12,6))\nplt.scatter(linear_data['X'],linear_data['y'],s=20,label='Data')\nplt.plot(X_test,y_pred,color='r',label='GP')\nplt.fill_between(X_test.ravel(), y_pred.ravel() - 2 * sigma, y_pred.ravel() + 2 * sigma,\n                 color='gray', alpha=0.3,label='95% confidence')\nplt.title('GPR regression')\nplt.xlabel('$x$')\nplt.ylabel('$f(x)$')\nplt.grid(True)\nplt.legend()\nplt.show()",
      "execution_count": null,
      "outputs": []
    },
    {
      "metadata": {},
      "cell_type": "markdown",
      "source": "## Time series prediction with Gaussian Process regression"
    },
    {
      "metadata": {},
      "cell_type": "markdown",
      "source": "This example is based on Section 5.4.3 of “Gaussian Processes for Machine Learning” [RW2006].\nIt illustrates an example of complex kernel engineering and hyperparameter optimization using gradient ascent on the log-marginal-likelihood.\nThe data consists of the monthly average atmospheric CO2 concentrations (in parts per million by volume (ppmv)) collected at the Mauna Loa Observatory in Hawaii, between 1958 and 1997.\nThe objective is to model the CO2 concentration as a function of the time t.\n\nThe kernel is composed of several terms that are responsible for explaining\ndifferent properties of the signal:\n\n- a long term, smooth rising trend is to be explained by an RBF kernel. The\n  RBF kernel with a large length-scale enforces this component to be smooth;\n  it is not enforced that the trend is rising which leaves this choice to the\n  GP. The specific length-scale and the amplitude are free hyperparameters.\n\n- a seasonal component, which is to be explained by the periodic\n  ExpSineSquared kernel with a fixed periodicity of 1 year. The length-scale\n  of this periodic component, controlling its smoothness, is a free parameter.\n  In order to allow decaying away from exact periodicity, the product with an\n  RBF kernel is taken. The length-scale of this RBF component controls the\n  decay time and is a further free parameter.\n\n- smaller, medium term irregularities are to be explained by a\n  RationalQuadratic kernel component, whose length-scale and alpha parameter,\n  which determines the diffuseness of the length-scales, are to be determined.\n  According to [RW2006], these irregularities can better be explained by\n  a RationalQuadratic than an RBF kernel component, probably because it can\n  accommodate several length-scales.\n\n- a \"noise\" term, consisting of an RBF kernel contribution, which shall\n  explain the correlated noise components such as local weather phenomena,\n  and a WhiteKernel contribution for the white noise. The relative amplitudes\n  and the RBF's length scale are further free parameters.\n\nMaximizing the log-marginal-likelihood after subtracting the target's mean\nyields the following kernel with an LML of -83.214::\n\n````\n    34.4**2 * RBF(length_scale=41.8)\n    + 3.27**2 * RBF(length_scale=180) * ExpSineSquared(length_scale=1.44,periodicity=1)\n    + 0.446**2 * RationalQuadratic(alpha=17.7, length_scale=0.957)\n    + 0.197**2 * RBF(length_scale=0.138) + WhiteKernel(noise_level=0.0336)\n````\n\n**::GMG::** cada término tiene su justificación\n\nThus, most of the target signal (34.4ppm) is explained by a long-term rising\ntrend (length-scale 41.8 years). The periodic component has an amplitude of\n3.27ppm, a decay time of 180 years and a length-scale of 1.44. The long decay\ntime indicates that we have a locally very close to periodic seasonal\ncomponent. The correlated noise has an amplitude of 0.197ppm with a length\nscale of 0.138 years and a white-noise contribution of 0.197ppm. Thus, the\noverall noise level is very small, indicating that the data can be very well\nexplained by the model. The figure shows also that the model makes very\nconfident predictions until around 2015."
    },
    {
      "metadata": {},
      "cell_type": "markdown",
      "source": "First, we will visualize the data:"
    },
    {
      "metadata": {
        "trusted": true
      },
      "cell_type": "code",
      "source": "#from sklearn.datasets import fetch_openml\nfrom sklearn.datasets import fetch_mldata\n\ndef load_mauna_loa_atmospheric_co2():\n    #ml_data = fetch_openml(data_id=41187, cache=False)\n    ml_data = fetch_mldata('mauna-loa-atmospheric-co2').data\n    months = []\n    ppmv_sums = []\n    counts = []\n\n    y = ml_data.data[:, 0]\n    m = ml_data.data[:, 1]\n    month_float = y + (m - 1) / 12\n    ppmvs = ml_data.target\n\n    for month, ppmv in zip(month_float, ppmvs):\n        if not months or month != months[-1]:\n            months.append(month)\n            ppmv_sums.append(ppmv)\n            counts.append(1)\n        else:\n            # aggregate monthly sum to produce average\n            ppmv_sums[-1] += ppmv\n            counts[-1] += 1\n\n    #months = np.asarray(months).reshape(-1, 1)\n    #avg_ppmvs = np.asarray(ppmv_sums) / counts\n    return months, avg_ppmvs\n\nX, y = load_mauna_loa_atmospheric_co2()\n\n# Illustration\nfig = plt.figure(figsize=(15,8))\nplt.scatter(X, y, c='k')\nplt.grid(True)\nplt.xlabel(\"Year\")\nplt.ylabel(r\"CO$_2$ in ppm\")\nplt.title(r\"Atmospheric CO$_2$ concentration at Mauna Loa\")\nplt.tight_layout()\nplt.show()",
      "execution_count": 32,
      "outputs": [
        {
          "output_type": "error",
          "ename": "HTTPError",
          "evalue": "HTTP Error 502: Bad Gateway",
          "traceback": [
            "\u001b[0;31m---------------------------------------------------------------------------\u001b[0m",
            "\u001b[0;31mHTTPError\u001b[0m                                 Traceback (most recent call last)",
            "\u001b[0;32m<ipython-input-32-e86b766a5c88>\u001b[0m in \u001b[0;36m<module>\u001b[0;34m()\u001b[0m\n\u001b[1;32m     28\u001b[0m     \u001b[0;32mreturn\u001b[0m \u001b[0mmonths\u001b[0m\u001b[0;34m,\u001b[0m \u001b[0mavg_ppmvs\u001b[0m\u001b[0;34m\u001b[0m\u001b[0m\n\u001b[1;32m     29\u001b[0m \u001b[0;34m\u001b[0m\u001b[0m\n\u001b[0;32m---> 30\u001b[0;31m \u001b[0mX\u001b[0m\u001b[0;34m,\u001b[0m \u001b[0my\u001b[0m \u001b[0;34m=\u001b[0m \u001b[0mload_mauna_loa_atmospheric_co2\u001b[0m\u001b[0;34m(\u001b[0m\u001b[0;34m)\u001b[0m\u001b[0;34m\u001b[0m\u001b[0m\n\u001b[0m\u001b[1;32m     31\u001b[0m \u001b[0;34m\u001b[0m\u001b[0m\n\u001b[1;32m     32\u001b[0m \u001b[0;31m# Illustration\u001b[0m\u001b[0;34m\u001b[0m\u001b[0;34m\u001b[0m\u001b[0m\n",
            "\u001b[0;32m<ipython-input-32-e86b766a5c88>\u001b[0m in \u001b[0;36mload_mauna_loa_atmospheric_co2\u001b[0;34m()\u001b[0m\n\u001b[1;32m      4\u001b[0m \u001b[0;32mdef\u001b[0m \u001b[0mload_mauna_loa_atmospheric_co2\u001b[0m\u001b[0;34m(\u001b[0m\u001b[0;34m)\u001b[0m\u001b[0;34m:\u001b[0m\u001b[0;34m\u001b[0m\u001b[0m\n\u001b[1;32m      5\u001b[0m     \u001b[0;31m#ml_data = fetch_openml(data_id=41187, cache=False)\u001b[0m\u001b[0;34m\u001b[0m\u001b[0;34m\u001b[0m\u001b[0m\n\u001b[0;32m----> 6\u001b[0;31m     \u001b[0mml_data\u001b[0m \u001b[0;34m=\u001b[0m \u001b[0mfetch_mldata\u001b[0m\u001b[0;34m(\u001b[0m\u001b[0;34m'mauna-loa-atmospheric-co2'\u001b[0m\u001b[0;34m)\u001b[0m\u001b[0;34m.\u001b[0m\u001b[0mdata\u001b[0m\u001b[0;34m\u001b[0m\u001b[0m\n\u001b[0m\u001b[1;32m      7\u001b[0m     \u001b[0mmonths\u001b[0m \u001b[0;34m=\u001b[0m \u001b[0;34m[\u001b[0m\u001b[0;34m]\u001b[0m\u001b[0;34m\u001b[0m\u001b[0m\n\u001b[1;32m      8\u001b[0m     \u001b[0mppmv_sums\u001b[0m \u001b[0;34m=\u001b[0m \u001b[0;34m[\u001b[0m\u001b[0;34m]\u001b[0m\u001b[0;34m\u001b[0m\u001b[0m\n",
            "\u001b[0;32m~/anaconda3_420/lib/python3.5/site-packages/sklearn/datasets/mldata.py\u001b[0m in \u001b[0;36mfetch_mldata\u001b[0;34m(dataname, target_name, data_name, transpose_data, data_home)\u001b[0m\n\u001b[1;32m    152\u001b[0m         \u001b[0murlname\u001b[0m \u001b[0;34m=\u001b[0m \u001b[0mMLDATA_BASE_URL\u001b[0m \u001b[0;34m%\u001b[0m \u001b[0mquote\u001b[0m\u001b[0;34m(\u001b[0m\u001b[0mdataname\u001b[0m\u001b[0;34m)\u001b[0m\u001b[0;34m\u001b[0m\u001b[0m\n\u001b[1;32m    153\u001b[0m         \u001b[0;32mtry\u001b[0m\u001b[0;34m:\u001b[0m\u001b[0;34m\u001b[0m\u001b[0m\n\u001b[0;32m--> 154\u001b[0;31m             \u001b[0mmldata_url\u001b[0m \u001b[0;34m=\u001b[0m \u001b[0murlopen\u001b[0m\u001b[0;34m(\u001b[0m\u001b[0murlname\u001b[0m\u001b[0;34m)\u001b[0m\u001b[0;34m\u001b[0m\u001b[0m\n\u001b[0m\u001b[1;32m    155\u001b[0m         \u001b[0;32mexcept\u001b[0m \u001b[0mHTTPError\u001b[0m \u001b[0;32mas\u001b[0m \u001b[0me\u001b[0m\u001b[0;34m:\u001b[0m\u001b[0;34m\u001b[0m\u001b[0m\n\u001b[1;32m    156\u001b[0m             \u001b[0;32mif\u001b[0m \u001b[0me\u001b[0m\u001b[0;34m.\u001b[0m\u001b[0mcode\u001b[0m \u001b[0;34m==\u001b[0m \u001b[0;36m404\u001b[0m\u001b[0;34m:\u001b[0m\u001b[0;34m\u001b[0m\u001b[0m\n",
            "\u001b[0;32m~/anaconda3_420/lib/python3.5/urllib/request.py\u001b[0m in \u001b[0;36murlopen\u001b[0;34m(url, data, timeout, cafile, capath, cadefault, context)\u001b[0m\n\u001b[1;32m    161\u001b[0m     \u001b[0;32melse\u001b[0m\u001b[0;34m:\u001b[0m\u001b[0;34m\u001b[0m\u001b[0m\n\u001b[1;32m    162\u001b[0m         \u001b[0mopener\u001b[0m \u001b[0;34m=\u001b[0m \u001b[0m_opener\u001b[0m\u001b[0;34m\u001b[0m\u001b[0m\n\u001b[0;32m--> 163\u001b[0;31m     \u001b[0;32mreturn\u001b[0m \u001b[0mopener\u001b[0m\u001b[0;34m.\u001b[0m\u001b[0mopen\u001b[0m\u001b[0;34m(\u001b[0m\u001b[0murl\u001b[0m\u001b[0;34m,\u001b[0m \u001b[0mdata\u001b[0m\u001b[0;34m,\u001b[0m \u001b[0mtimeout\u001b[0m\u001b[0;34m)\u001b[0m\u001b[0;34m\u001b[0m\u001b[0m\n\u001b[0m\u001b[1;32m    164\u001b[0m \u001b[0;34m\u001b[0m\u001b[0m\n\u001b[1;32m    165\u001b[0m \u001b[0;32mdef\u001b[0m \u001b[0minstall_opener\u001b[0m\u001b[0;34m(\u001b[0m\u001b[0mopener\u001b[0m\u001b[0;34m)\u001b[0m\u001b[0;34m:\u001b[0m\u001b[0;34m\u001b[0m\u001b[0m\n",
            "\u001b[0;32m~/anaconda3_420/lib/python3.5/urllib/request.py\u001b[0m in \u001b[0;36mopen\u001b[0;34m(self, fullurl, data, timeout)\u001b[0m\n\u001b[1;32m    470\u001b[0m         \u001b[0;32mfor\u001b[0m \u001b[0mprocessor\u001b[0m \u001b[0;32min\u001b[0m \u001b[0mself\u001b[0m\u001b[0;34m.\u001b[0m\u001b[0mprocess_response\u001b[0m\u001b[0;34m.\u001b[0m\u001b[0mget\u001b[0m\u001b[0;34m(\u001b[0m\u001b[0mprotocol\u001b[0m\u001b[0;34m,\u001b[0m \u001b[0;34m[\u001b[0m\u001b[0;34m]\u001b[0m\u001b[0;34m)\u001b[0m\u001b[0;34m:\u001b[0m\u001b[0;34m\u001b[0m\u001b[0m\n\u001b[1;32m    471\u001b[0m             \u001b[0mmeth\u001b[0m \u001b[0;34m=\u001b[0m \u001b[0mgetattr\u001b[0m\u001b[0;34m(\u001b[0m\u001b[0mprocessor\u001b[0m\u001b[0;34m,\u001b[0m \u001b[0mmeth_name\u001b[0m\u001b[0;34m)\u001b[0m\u001b[0;34m\u001b[0m\u001b[0m\n\u001b[0;32m--> 472\u001b[0;31m             \u001b[0mresponse\u001b[0m \u001b[0;34m=\u001b[0m \u001b[0mmeth\u001b[0m\u001b[0;34m(\u001b[0m\u001b[0mreq\u001b[0m\u001b[0;34m,\u001b[0m \u001b[0mresponse\u001b[0m\u001b[0;34m)\u001b[0m\u001b[0;34m\u001b[0m\u001b[0m\n\u001b[0m\u001b[1;32m    473\u001b[0m \u001b[0;34m\u001b[0m\u001b[0m\n\u001b[1;32m    474\u001b[0m         \u001b[0;32mreturn\u001b[0m \u001b[0mresponse\u001b[0m\u001b[0;34m\u001b[0m\u001b[0m\n",
            "\u001b[0;32m~/anaconda3_420/lib/python3.5/urllib/request.py\u001b[0m in \u001b[0;36mhttp_response\u001b[0;34m(self, request, response)\u001b[0m\n\u001b[1;32m    580\u001b[0m         \u001b[0;32mif\u001b[0m \u001b[0;32mnot\u001b[0m \u001b[0;34m(\u001b[0m\u001b[0;36m200\u001b[0m \u001b[0;34m<=\u001b[0m \u001b[0mcode\u001b[0m \u001b[0;34m<\u001b[0m \u001b[0;36m300\u001b[0m\u001b[0;34m)\u001b[0m\u001b[0;34m:\u001b[0m\u001b[0;34m\u001b[0m\u001b[0m\n\u001b[1;32m    581\u001b[0m             response = self.parent.error(\n\u001b[0;32m--> 582\u001b[0;31m                 'http', request, response, code, msg, hdrs)\n\u001b[0m\u001b[1;32m    583\u001b[0m \u001b[0;34m\u001b[0m\u001b[0m\n\u001b[1;32m    584\u001b[0m         \u001b[0;32mreturn\u001b[0m \u001b[0mresponse\u001b[0m\u001b[0;34m\u001b[0m\u001b[0m\n",
            "\u001b[0;32m~/anaconda3_420/lib/python3.5/urllib/request.py\u001b[0m in \u001b[0;36merror\u001b[0;34m(self, proto, *args)\u001b[0m\n\u001b[1;32m    508\u001b[0m         \u001b[0;32mif\u001b[0m \u001b[0mhttp_err\u001b[0m\u001b[0;34m:\u001b[0m\u001b[0;34m\u001b[0m\u001b[0m\n\u001b[1;32m    509\u001b[0m             \u001b[0margs\u001b[0m \u001b[0;34m=\u001b[0m \u001b[0;34m(\u001b[0m\u001b[0mdict\u001b[0m\u001b[0;34m,\u001b[0m \u001b[0;34m'default'\u001b[0m\u001b[0;34m,\u001b[0m \u001b[0;34m'http_error_default'\u001b[0m\u001b[0;34m)\u001b[0m \u001b[0;34m+\u001b[0m \u001b[0morig_args\u001b[0m\u001b[0;34m\u001b[0m\u001b[0m\n\u001b[0;32m--> 510\u001b[0;31m             \u001b[0;32mreturn\u001b[0m \u001b[0mself\u001b[0m\u001b[0;34m.\u001b[0m\u001b[0m_call_chain\u001b[0m\u001b[0;34m(\u001b[0m\u001b[0;34m*\u001b[0m\u001b[0margs\u001b[0m\u001b[0;34m)\u001b[0m\u001b[0;34m\u001b[0m\u001b[0m\n\u001b[0m\u001b[1;32m    511\u001b[0m \u001b[0;34m\u001b[0m\u001b[0m\n\u001b[1;32m    512\u001b[0m \u001b[0;31m# XXX probably also want an abstract factory that knows when it makes\u001b[0m\u001b[0;34m\u001b[0m\u001b[0;34m\u001b[0m\u001b[0m\n",
            "\u001b[0;32m~/anaconda3_420/lib/python3.5/urllib/request.py\u001b[0m in \u001b[0;36m_call_chain\u001b[0;34m(self, chain, kind, meth_name, *args)\u001b[0m\n\u001b[1;32m    442\u001b[0m         \u001b[0;32mfor\u001b[0m \u001b[0mhandler\u001b[0m \u001b[0;32min\u001b[0m \u001b[0mhandlers\u001b[0m\u001b[0;34m:\u001b[0m\u001b[0;34m\u001b[0m\u001b[0m\n\u001b[1;32m    443\u001b[0m             \u001b[0mfunc\u001b[0m \u001b[0;34m=\u001b[0m \u001b[0mgetattr\u001b[0m\u001b[0;34m(\u001b[0m\u001b[0mhandler\u001b[0m\u001b[0;34m,\u001b[0m \u001b[0mmeth_name\u001b[0m\u001b[0;34m)\u001b[0m\u001b[0;34m\u001b[0m\u001b[0m\n\u001b[0;32m--> 444\u001b[0;31m             \u001b[0mresult\u001b[0m \u001b[0;34m=\u001b[0m \u001b[0mfunc\u001b[0m\u001b[0;34m(\u001b[0m\u001b[0;34m*\u001b[0m\u001b[0margs\u001b[0m\u001b[0;34m)\u001b[0m\u001b[0;34m\u001b[0m\u001b[0m\n\u001b[0m\u001b[1;32m    445\u001b[0m             \u001b[0;32mif\u001b[0m \u001b[0mresult\u001b[0m \u001b[0;32mis\u001b[0m \u001b[0;32mnot\u001b[0m \u001b[0;32mNone\u001b[0m\u001b[0;34m:\u001b[0m\u001b[0;34m\u001b[0m\u001b[0m\n\u001b[1;32m    446\u001b[0m                 \u001b[0;32mreturn\u001b[0m \u001b[0mresult\u001b[0m\u001b[0;34m\u001b[0m\u001b[0m\n",
            "\u001b[0;32m~/anaconda3_420/lib/python3.5/urllib/request.py\u001b[0m in \u001b[0;36mhttp_error_default\u001b[0;34m(self, req, fp, code, msg, hdrs)\u001b[0m\n\u001b[1;32m    588\u001b[0m \u001b[0;32mclass\u001b[0m \u001b[0mHTTPDefaultErrorHandler\u001b[0m\u001b[0;34m(\u001b[0m\u001b[0mBaseHandler\u001b[0m\u001b[0;34m)\u001b[0m\u001b[0;34m:\u001b[0m\u001b[0;34m\u001b[0m\u001b[0m\n\u001b[1;32m    589\u001b[0m     \u001b[0;32mdef\u001b[0m \u001b[0mhttp_error_default\u001b[0m\u001b[0;34m(\u001b[0m\u001b[0mself\u001b[0m\u001b[0;34m,\u001b[0m \u001b[0mreq\u001b[0m\u001b[0;34m,\u001b[0m \u001b[0mfp\u001b[0m\u001b[0;34m,\u001b[0m \u001b[0mcode\u001b[0m\u001b[0;34m,\u001b[0m \u001b[0mmsg\u001b[0m\u001b[0;34m,\u001b[0m \u001b[0mhdrs\u001b[0m\u001b[0;34m)\u001b[0m\u001b[0;34m:\u001b[0m\u001b[0;34m\u001b[0m\u001b[0m\n\u001b[0;32m--> 590\u001b[0;31m         \u001b[0;32mraise\u001b[0m \u001b[0mHTTPError\u001b[0m\u001b[0;34m(\u001b[0m\u001b[0mreq\u001b[0m\u001b[0;34m.\u001b[0m\u001b[0mfull_url\u001b[0m\u001b[0;34m,\u001b[0m \u001b[0mcode\u001b[0m\u001b[0;34m,\u001b[0m \u001b[0mmsg\u001b[0m\u001b[0;34m,\u001b[0m \u001b[0mhdrs\u001b[0m\u001b[0;34m,\u001b[0m \u001b[0mfp\u001b[0m\u001b[0;34m)\u001b[0m\u001b[0;34m\u001b[0m\u001b[0m\n\u001b[0m\u001b[1;32m    591\u001b[0m \u001b[0;34m\u001b[0m\u001b[0m\n\u001b[1;32m    592\u001b[0m \u001b[0;32mclass\u001b[0m \u001b[0mHTTPRedirectHandler\u001b[0m\u001b[0;34m(\u001b[0m\u001b[0mBaseHandler\u001b[0m\u001b[0;34m)\u001b[0m\u001b[0;34m:\u001b[0m\u001b[0;34m\u001b[0m\u001b[0m\n",
            "\u001b[0;31mHTTPError\u001b[0m: HTTP Error 502: Bad Gateway"
          ]
        }
      ]
    },
    {
      "metadata": {},
      "cell_type": "markdown",
      "source": "We will now apply Gaussian Process regression using the kernel given in the GPML book:"
    },
    {
      "metadata": {
        "trusted": true
      },
      "cell_type": "code",
      "source": "from sklearn.gaussian_process.kernels import RationalQuadratic\n\n# Kernel with parameters given in GPML book\nk1 = 66.0**2 * RBF(length_scale=67.0)  # long term smooth rising trend\nk2 = 2.4**2 * RBF(length_scale=90.0) \\\n    * ExpSineSquared(length_scale=1.3, periodicity=1.0)  # seasonal component\n# medium term irregularity\nk3 = 0.66**2 \\\n    * RationalQuadratic(length_scale=1.2, alpha=0.78)\nk4 = 0.18**2 * RBF(length_scale=0.134) \\\n    + WhiteKernel(noise_level=0.19**2)  # noise terms\nkernel_gpml = k1 + k2 + k3 + k4\n\ngp = GaussianProcessRegressor(kernel=kernel_gpml, alpha=0,\n                              optimizer=None, normalize_y=True)\ngp.fit(X, y)\n\nprint(\"GPML kernel: %s\" % gp.kernel_)\nprint(\"Log-marginal-likelihood: %.3f\"\n      % gp.log_marginal_likelihood(gp.kernel_.theta))",
      "execution_count": null,
      "outputs": []
    },
    {
      "metadata": {},
      "cell_type": "markdown",
      "source": "The GP regressor obtains a log-marginal-likelihood of $-117.023$ on these data, with the predefined kernel function.\n\nLet us have a look at the predictions made using this regressor:"
    },
    {
      "metadata": {
        "trusted": true
      },
      "cell_type": "code",
      "source": "X_ = np.linspace(X.min(), X.max() + 30, 1000)[:, np.newaxis]\ny_pred, y_std = gp.predict(X_, return_std=True)\n\n# plot the prediction\nfig = plt.figure(figsize=(15,8))\nplt.scatter(X, y, c='k')\nplt.plot(X_, y_pred)\nplt.fill_between(X_[:, 0], y_pred - y_std, y_pred + y_std,\n                 alpha=0.5, color='k')\nplt.xlim(X_.min(), X_.max())\nplt.xlabel(\"Year\")\nplt.ylabel(r\"CO$_2$ in ppm\")\nplt.title(r\"Atmospheric CO$_2$ concentration at Mauna Loa\")\nplt.tight_layout()\nplt.show()",
      "execution_count": null,
      "outputs": []
    },
    {
      "metadata": {},
      "cell_type": "markdown",
      "source": "In the final part of this example, we will let the optimizer finetune the hyperparameters of the kernel function:"
    },
    {
      "metadata": {
        "trusted": true
      },
      "cell_type": "code",
      "source": "# Kernel with generic parameters\nk1 = 50.0**2 * RBF(length_scale=50.0)  # long term smooth rising trend\nk2 = 2.0**2 * RBF(length_scale=100.0) \\\n    * ExpSineSquared(length_scale=1.0, periodicity=1.0,\n                     periodicity_bounds=\"fixed\")  # seasonal component\n# medium term irregularities\nk3 = 0.5**2 * RationalQuadratic(length_scale=1.0, alpha=1.0)\nk4 = 0.1**2 * RBF(length_scale=0.1) \\\n    + WhiteKernel(noise_level=0.1**2,\n                  noise_level_bounds=(1e-3, np.inf))  # noise terms\nkernel = k1 + k2 + k3 + k4\n\n# Fit the Gaussian Process regressor, and optimize the hyperparameters\ngp = GaussianProcessRegressor(kernel=kernel, alpha=0,\n                              normalize_y=True)\ngp.fit(X, y)\n\nprint(\"\\nLearned kernel: %s\" % gp.kernel_)\nprint(\"Log-marginal-likelihood: %.3f\"\n      % gp.log_marginal_likelihood(gp.kernel_.theta))\n\nX_ = np.linspace(X.min(), X.max() + 30, 1000)[:, np.newaxis]\ny_pred, y_std = gp.predict(X_, return_std=True)",
      "execution_count": null,
      "outputs": []
    },
    {
      "metadata": {},
      "cell_type": "markdown",
      "source": "If all went correctly, we should obtain a higher log-marginal-likelihood on these data after optimizing the kernel function hyperparameters.\nThis solution should fit slightly better to the data, as the optimizer aims to maximize the LML.\n\nLet us have a look at the predictions made using this regressor:"
    },
    {
      "metadata": {
        "trusted": true
      },
      "cell_type": "code",
      "source": "# plot the prediction\nfig = plt.figure(figsize=(15,8))\nplt.scatter(X, y, c='k')\nplt.plot(X_, y_pred)\nplt.fill_between(X_[:, 0], y_pred - y_std, y_pred + y_std,\n                 alpha=0.5, color='k')\nplt.xlim(X_.min(), X_.max())\nplt.grid(True)\nplt.xlabel(\"Year\")\nplt.ylabel(r\"CO$_2$ in ppm\")\nplt.title(r\"Atmospheric CO$_2$ concentration at Mauna Loa\")\nplt.tight_layout()\nplt.show()",
      "execution_count": null,
      "outputs": []
    },
    {
      "metadata": {
        "trusted": true
      },
      "cell_type": "code",
      "source": "",
      "execution_count": null,
      "outputs": []
    }
  ],
  "metadata": {
    "kernelspec": {
      "name": "python3",
      "display_name": "Python 3",
      "language": "python"
    },
    "language_info": {
      "mimetype": "text/x-python",
      "nbconvert_exporter": "python",
      "name": "python",
      "file_extension": ".py",
      "version": "3.5.4",
      "pygments_lexer": "ipython3",
      "codemirror_mode": {
        "version": 3,
        "name": "ipython"
      }
    }
  },
  "nbformat": 4,
  "nbformat_minor": 2
}
=======
{
 "cells": [
  {
   "cell_type": "markdown",
   "metadata": {},
   "source": [
    "# Kernel methods for regression\n",
    "\n",
    "Kernel-based regression combine linear regression techniques with the kernel trick.\n",
    "They learn a function in the space induced by the respective kernel and the data.\n",
    "For non-linear kernels, this corresponds to a non-linear function in the original space.\n",
    "\n",
    "In this notebook, we will explore the capabilities of three of them: Suppert Vector Regression (SVR), Kernel Ridge Regression (KRR), and Gaussian Processes (GP)."
   ]
  },
  {
   "cell_type": "code",
   "execution_count": null,
   "metadata": {},
   "outputs": [],
   "source": [
    "import numpy as np\n",
    "import pandas as pd\n",
    "import matplotlib.pyplot as plt\n",
    "from sklearn import datasets, svm\n",
    "\n",
    "# inline plots\n",
    "%matplotlib inline"
   ]
  },
  {
   "cell_type": "markdown",
   "metadata": {},
   "source": [
    "# Part 1. Kernel expansion and basis functions: Intuition\n",
    "\n",
    "A linear regressor fits the following model to the observed data:\n",
    "\n",
    "$$f(x) = w^\\top x$$\n",
    "\n",
    "This is the underlying function that is assumed to have generated the data, and the true data typically contains additive noise, $w^\\top x + \\epsilon$.\n",
    "\n",
    "## Kernel-based function\n",
    "\n",
    "The data model adopted by kernel-based regression techniques assumes the data fits a linear model in the feature space.\n",
    "By exploiting the representer theorem kernel trick, this model can be cast back into the input space as the following \"kernel expansion\":\n",
    "\n",
    "$$f(x) = \\sum_{i=1}^n \\alpha_i \\kappa(x, x_i)$$\n",
    "\n",
    "Here, $\\kappa(\\cdot,\\cdot)$ is the \"kernel function\", $\\{x_i\\}$, for $i=1,2,\\dots,n$, represent the data that were used for training the model, and the coefficients $\\alpha_i$ are called \"expansion coefficients\".\n",
    "\n",
    "First, we will explore the the type of functions that can be modeled in this way\n",
    "We will start with the Gaussian (or \"[RBF](https://scikit-learn.org/stable/modules/generated/sklearn.metrics.pairwise.rbf_kernel.html)\") kernel:\n",
    "\n",
    "$$\\kappa(x, x_i) = \\exp\\left(-\\gamma \\Vert x - x_i \\Vert^2\\right)$$\n",
    "\n",
    "The parameter $gamma$ indicates the \"spikiness\" of the kernel and hence allows to control the smoothness of the resulting function.\n",
    "\n",
    "Let us plot a single basis function $\\kappa(x, x_i)$ with $x_i$ fixed at the origin:"
   ]
  },
  {
   "cell_type": "code",
   "execution_count": null,
   "metadata": {},
   "outputs": [],
   "source": [
    "from sklearn.metrics.pairwise import rbf_kernel\n",
    "\n",
    "x_i = np.array(0).reshape(-1,1)\n",
    "x = np.linspace(-5,5,1000).reshape(-1,1)\n",
    "gamma = 1\n",
    "\n",
    "K = rbf_kernel(x,x_i,gamma=gamma)\n",
    "\n",
    "plt.figure(figsize=(12,4))\n",
    "plt.plot(x,K)\n",
    "plt.xlabel('x')\n",
    "plt.ylabel('f(x)')\n",
    "plt.grid(True)\n",
    "plt.show()"
   ]
  },
  {
   "cell_type": "markdown",
   "metadata": {},
   "source": [
    "We now choose a different $x_i$, for instance located at $x=2$ and plot the corresponding basis function:"
   ]
  },
  {
   "cell_type": "code",
   "execution_count": null,
   "metadata": {},
   "outputs": [],
   "source": [
    "x_i = np.array(2).reshape(-1,1)\n",
    "\n",
    "K = rbf_kernel(x,x_i,gamma=gamma)\n",
    "\n",
    "plt.figure(figsize=(12,4))\n",
    "plt.plot(x,K)\n",
    "plt.xlabel('x')\n",
    "plt.ylabel('f(x)')\n",
    "plt.grid(True)\n",
    "plt.show()"
   ]
  },
  {
   "cell_type": "markdown",
   "metadata": {},
   "source": [
    "### Kernel expansion\n",
    "\n",
    "The complete kernel expansion $f(x) = \\sum_{i=1}^n \\alpha_i \\kappa(x, x_i)$ is obtained by weighing the individual basis functions with coefficients $\\alpha_i$ and summing the result.\n",
    "A kernel expansion with 4 \"bases\" $x_i$ is constructed as follows:"
   ]
  },
  {
   "cell_type": "code",
   "execution_count": null,
   "metadata": {},
   "outputs": [],
   "source": [
    "x_i = np.array([-2, 0, 1, 2]).reshape(-1,1)\n",
    "alpha_i = np.array([1, 4, 2, 2]).reshape(-1,1)\n",
    "\n",
    "K = rbf_kernel(x,x_i,gamma=gamma)\n",
    "\n",
    "print(\"Dimensions of K:\"+str(K.shape))\n",
    "print(\"Dimensions of alpha_i:\"+str(alpha_i.shape))\n",
    "\n",
    "f = np.dot(K,alpha_i)\n",
    "\n",
    "plt.figure(figsize=(12,6))\n",
    "plt.plot(x,alpha_i[0]*K[:,0],color='b')\n",
    "plt.plot(x,alpha_i[1]*K[:,1],color='r')\n",
    "plt.plot(x,alpha_i[2]*K[:,2],color='g')\n",
    "plt.plot(x,alpha_i[3]*K[:,3],color='y')\n",
    "plt.plot(x,f,color='k',linestyle='--',linewidth=3)\n",
    "plt.xlabel('x')\n",
    "plt.ylabel('f(x)')\n",
    "plt.grid(True)\n",
    "plt.title('Kernel expansion')\n",
    "plt.show()"
   ]
  },
  {
   "cell_type": "markdown",
   "metadata": {},
   "source": [
    "By modifying the `gamma` parameter we obtain functions with different smoothness."
   ]
  },
  {
   "cell_type": "code",
   "execution_count": null,
   "metadata": {},
   "outputs": [],
   "source": [
    "gamma = 10\n",
    "\n",
    "K = rbf_kernel(x,x_i,gamma=gamma)\n",
    "\n",
    "f = np.dot(K,alpha_i)\n",
    "\n",
    "plt.figure(figsize=(12,6))\n",
    "plt.plot(x,alpha_i[0]*K[:,0],color='b')\n",
    "plt.plot(x,alpha_i[1]*K[:,1],color='r')\n",
    "plt.plot(x,alpha_i[2]*K[:,2],color='g')\n",
    "plt.plot(x,alpha_i[3]*K[:,3],color='y')\n",
    "plt.plot(x,f,color='k',linestyle='--',linewidth=3)\n",
    "plt.xlabel('x')\n",
    "plt.ylabel('f(x)')\n",
    "plt.grid(True)\n",
    "plt.title('Kernel expansion')\n",
    "plt.show()"
   ]
  },
  {
   "cell_type": "markdown",
   "metadata": {},
   "source": [
    "### Different kernels\n",
    "\n",
    "In practice, kernel functions reperesent dissimilarity measures.\n",
    "Apart from the standard RBF kernel many more kernels are used, such as the polynomial kernel, linear kernel, etc.\n",
    "An overview of the kernels included in the `metrics` section of scikit learn can be found at https://scikit-learn.org/stable/modules/classes.html#module-sklearn.metrics.pairwise"
   ]
  },
  {
   "cell_type": "markdown",
   "metadata": {},
   "source": [
    "The Gaussian process module of scikit learn includes some advanced kernels, such as the [rational quadratic kernel](http://scikit-learn.org/stable/modules/generated/sklearn.gaussian_process.kernels.RationalQuadratic.html), the [\"white noise\" kernel](http://scikit-learn.org/stable/modules/generated/sklearn.gaussian_process.kernels.WhiteKernel.html), etc.\n",
    "\n",
    "An overview can be found at https://scikit-learn.org/stable/modules/gaussian_process.html#gp-kernels\n",
    "\n",
    "In the following code block we visualize one basis function of [the periodic \"ExpSineSquared\" kernel](http://scikit-learn.org/stable/modules/generated/sklearn.gaussian_process.kernels.ExpSineSquared.html), which is defined as\n",
    "\n",
    "$$\\kappa(x, x_i) = \\exp\\left(-2 \\left(\\frac{\\sin\\left(\\frac{\\pi}{p} d(x, x_i)\\right)}{l}\\right) ^ 2\\right)$$\n",
    "\n",
    "where $l$ is the length scale ($l=1/\\gamma$), $p$ is a periodicity parameter, and $d(\\cdot,\\cdot)$ is a distance measure (the Euclidean distance by default)."
   ]
  },
  {
   "cell_type": "code",
   "execution_count": null,
   "metadata": {},
   "outputs": [],
   "source": [
    "from sklearn.gaussian_process.kernels import WhiteKernel, ExpSineSquared\n",
    "\n",
    "x_i = np.array(0).reshape(-1,1)\n",
    "x = np.linspace(-5,5,1000).reshape(-1,1)\n",
    "\n",
    "length_scale = .5\n",
    "periodicity = np.pi\n",
    "kernel = ExpSineSquared(length_scale=length_scale,periodicity=periodicity )\n",
    "\n",
    "K = kernel.__call__(x,x_i)\n",
    "\n",
    "plt.figure(figsize=(12,4))\n",
    "plt.plot(x,K)\n",
    "plt.xlabel('x')\n",
    "plt.ylabel('f(x)')\n",
    "plt.grid(True)\n",
    "plt.show()"
   ]
  },
  {
   "cell_type": "markdown",
   "metadata": {},
   "source": [
    "### Combinations of kernels\n",
    "\n",
    "Kernel functions can be combined in several ways to produce more complex basis functions.\n",
    "For instance, the summation or multiplication of two kernel functions produces a new kernel function."
   ]
  },
  {
   "cell_type": "markdown",
   "metadata": {},
   "source": [
    "Exercise 1: Combinations of kernels\n",
    "---\n",
    "\n",
    "Kernel functions can be combined in several ways to produce new kernel functions.\n",
    "For instance, the summation or multiplication of two kernel functions produces a new kernel function.\n",
    "\n",
    "1. Write a function to calculate a kernel that is the multiplication of the `ExpSineSquared` kernel and a kernel of your choice (RBF, linear, poly, etc.).\n",
    "2. Calculate and plot the kernel expansion $f(x) = \\sum_{i=1}^n \\alpha_i \\kappa(x, x_i)$:\n",
    "    1. Choose 4 or 5 one-dimensional \"bases\" $x_i$.\n",
    "    2. Generate the corresponding coefficients $\\alpha_i$ randomly (with a fixed random seed).\n",
    "    3. Calculate and plot the kernel expansion $f(x) = \\sum_{i=1}^n \\alpha_i \\kappa(x, x_i)$ for a range of x values that includes at least the bases.\n",
    "    4. [Optional] Plot the individual basis functions corresponding to each base."
   ]
  },
  {
   "cell_type": "code",
   "execution_count": null,
   "metadata": {},
   "outputs": [],
   "source": [
    "# 1. Kernel function\n",
    "def my_kernel(X1, X2):\n",
    "    \"\"\"\n",
    "    Computes the linear kernel between two sets of vectors.\n",
    "    Args:\n",
    "        X1 - an n1xd matrix with vectors x1_1,...,x1_n1 in the rows\n",
    "        X2 - an n2xd matrix with vectors x2_1,...,x2_n2 in the rows\n",
    "    Returns:\n",
    "        matrix of size n1xn2, K(x1_i,x2_j) in position i,j\n",
    "    \"\"\"\n",
    "    \n",
    "    # to be completed\n",
    "    K = \n",
    "    \n",
    "    return K"
   ]
  },
  {
   "cell_type": "code",
   "execution_count": null,
   "metadata": {},
   "outputs": [],
   "source": [
    "# 2. Kernel expansion"
   ]
  },
  {
   "cell_type": "markdown",
   "metadata": {},
   "source": [
    "# Part 2. Regression with SVR and KRR\n",
    "\n",
    "Kernel methods for regression apply linear regression techniques in the feature space. We will first run a simple linear regression experiment on 1D data generated from a linear model.\n",
    "\n",
    "## Data generation, linear model"
   ]
  },
  {
   "cell_type": "code",
   "execution_count": null,
   "metadata": {},
   "outputs": [],
   "source": [
    "# fix random seed\n",
    "np.random.seed(seed=0)\n",
    "\n",
    "# generate toy data\n",
    "n_data = 100\n",
    "w = 0.2\n",
    "b = 2\n",
    "X = np.random.normal(0,2,n_data)\n",
    "noise = np.random.normal(0,0.1,n_data)\n",
    "y = w*X + b + noise\n",
    "\n",
    "plt.figure(figsize=(12,8))\n",
    "plt.scatter(X,y,s=20)\n",
    "plt.title('Linear toy data')\n",
    "plt.xlabel('x')\n",
    "plt.ylabel('y')\n",
    "plt.grid(True)\n",
    "plt.show()"
   ]
  },
  {
   "cell_type": "code",
   "execution_count": null,
   "metadata": {},
   "outputs": [],
   "source": [
    "# Save data for later use\n",
    "linear_data = {'X': X.reshape(-1, 1), 'y': y.reshape(-1, 1)}"
   ]
  },
  {
   "cell_type": "markdown",
   "metadata": {},
   "source": [
    "## Linear estimator\n",
    "\n",
    "We now run the linear least squares estimator with l2-norm regularization, from the [`linear_model.LinearRegression`](http://scikit-learn.org/stable/modules/generated/sklearn.linear_model.LinearRegression.html) module, and we plot the data and the regression solution."
   ]
  },
  {
   "cell_type": "code",
   "execution_count": null,
   "metadata": {},
   "outputs": [],
   "source": [
    "from sklearn import linear_model\n",
    "from sklearn.metrics import mean_squared_error, r2_score\n",
    "\n",
    "# Create linear regression object\n",
    "regr = linear_model.LinearRegression()\n",
    "\n",
    "# Train the model using the training sets\n",
    "regr.fit(linear_data['X'], linear_data['y'])\n",
    "\n",
    "# Test the regressor\n",
    "X_test = np.linspace(-5,5,100).reshape(-1,1)\n",
    "y_pred = regr.predict(X_test)\n",
    "\n",
    "plt.figure(figsize=(12,8))\n",
    "h_data = plt.scatter(linear_data['X'],linear_data['y'],s=20,label='Data')\n",
    "h_line, = plt.plot(X_test,y_pred,color='r',label='Linear regression')\n",
    "plt.title('Linear regression')\n",
    "plt.xlabel('x')\n",
    "plt.ylabel('y')\n",
    "plt.grid(True)\n",
    "plt.legend(handles=[h_data, h_line])\n",
    "plt.show()"
   ]
  },
  {
   "cell_type": "markdown",
   "metadata": {},
   "source": [
    "Clearly, in this case we obtain an excellent fit. The (hyper)plane learned by the estimator corresponds to the linear model $f(x) = w^\\top x + b$."
   ]
  },
  {
   "cell_type": "markdown",
   "metadata": {},
   "source": [
    "## Nonlinear model (toy data)\n",
    "\n",
    "Next, we generate some data according to a nonlinear 1D model, in this case the `sinc` function."
   ]
  },
  {
   "cell_type": "code",
   "execution_count": null,
   "metadata": {},
   "outputs": [],
   "source": [
    "# fix random seed\n",
    "np.random.seed(seed=0)\n",
    "\n",
    "n_data = 200\n",
    "X = np.random.normal(0,2,n_data)\n",
    "noise = np.random.normal(0,0.05,n_data)\n",
    "y = np.sinc(X) + noise\n",
    "\n",
    "plt.figure(figsize=(12,6))\n",
    "plt.scatter(X,y,s=20)\n",
    "plt.title('Noisy sinc')\n",
    "plt.xlabel('x')\n",
    "plt.ylabel('y')\n",
    "plt.grid(True)\n",
    "plt.show()"
   ]
  },
  {
   "cell_type": "code",
   "execution_count": null,
   "metadata": {},
   "outputs": [],
   "source": [
    "# Save data for later use\n",
    "sinc_data = {'X': X.reshape(-1, 1), 'y': y.reshape(-1, 1)}"
   ]
  },
  {
   "cell_type": "markdown",
   "metadata": {},
   "source": [
    "Let us try to fit the linear model $f(x) = w^\\top x + b$ to these data."
   ]
  },
  {
   "cell_type": "code",
   "execution_count": null,
   "metadata": {},
   "outputs": [],
   "source": [
    "from sklearn import linear_model\n",
    "\n",
    "# Create linear regression object\n",
    "regr = linear_model.LinearRegression()\n",
    "\n",
    "# Train the model using the training sets\n",
    "regr.fit(sinc_data['X'], sinc_data['y'])\n",
    "\n",
    "# Test the regressor\n",
    "X_test = np.linspace(-5,5,100).reshape(-1,1)\n",
    "y_pred = regr.predict(X_test)\n",
    "\n",
    "plt.figure(figsize=(12,6))\n",
    "h_data = plt.scatter(sinc_data['X'],sinc_data['y'],s=20,label='Data')\n",
    "h_line, = plt.plot(X_test,y_pred,color='r',label='Linear regression')\n",
    "plt.title('Linear regression')\n",
    "plt.xlabel('x')\n",
    "plt.ylabel('y')\n",
    "plt.grid(True)\n",
    "plt.legend(handles=[h_data, h_line])\n",
    "plt.show()"
   ]
  },
  {
   "cell_type": "markdown",
   "metadata": {},
   "source": [
    "As expected, the solution of the linear regression does not capture any of the structure in the data apart from, most probably, the data mean."
   ]
  },
  {
   "cell_type": "markdown",
   "metadata": {},
   "source": [
    "## Linear regression on a local subset\n",
    "\n",
    "We could, however, estimate a linear model on a local subset of the data. The next code snippet selects the data that lie in $x \\in[0,1]$ and performs linear regression on these data."
   ]
  },
  {
   "cell_type": "code",
   "execution_count": null,
   "metadata": {
    "scrolled": false
   },
   "outputs": [],
   "source": [
    "# select data between x=0 and x=1\n",
    "\n",
    "idx = np.logical_and(sinc_data['X'] >= 0, sinc_data['X'] <= 1)\n",
    "\n",
    "X = sinc_data['X'][idx].reshape(-1,1)\n",
    "y = sinc_data['y'][idx].reshape(-1,1)\n",
    "\n",
    "# Create linear regression object\n",
    "regr = linear_model.LinearRegression()\n",
    "\n",
    "# Train the model using the training sets\n",
    "regr.fit(X,y)\n",
    "\n",
    "# Test the regressor\n",
    "X_test = np.linspace(0,1,100).reshape(-1,1)\n",
    "y_pred = regr.predict(X_test)\n",
    "\n",
    "plt.figure(figsize=(12,6))\n",
    "h_data = plt.scatter(sinc_data['X'],sinc_data['y'],s=20,label='Data')\n",
    "h_line, = plt.plot(X_test,y_pred,color='r',label='Linear regression')\n",
    "plt.title('Linear regression')\n",
    "plt.xlabel('x')\n",
    "plt.ylabel('y')\n",
    "plt.grid(True)\n",
    "plt.legend(handles=[h_data, h_line])\n",
    "plt.show()"
   ]
  },
  {
   "cell_type": "markdown",
   "metadata": {},
   "source": [
    "If the data shows nonlinear structure, a linear regressor may be useful at most to model the data at a local level. Instead of exploring this idea (which could be exploited to construct \"piecewise linear\" regression), we will focus on introducing kernel functions in the data model."
   ]
  },
  {
   "cell_type": "markdown",
   "metadata": {},
   "source": [
    "## Nonlinear regression with SVR and KRR\n",
    "\n",
    "We will now perform nonlinear regression using the [SVR](http://scikit-learn.org/stable/modules/generated/sklearn.svm.SVR.html) and [KRR](http://scikit-learn.org/stable/modules/generated/sklearn.kernel_ridge.KernelRidge.html) algorithms.\n",
    "As we've seen, these algorithms aim to find suitable coefficients $\\alpha_i$ for the model $f(x) = \\sum_{i=1}^n \\alpha_i \\kappa(x, x_i)$ by minimizing the prediction error according to a given criterion (L2-norm, L1-norm, $\\epsilon$-insensitive,...).\n",
    "\n",
    "First, we apply both algorithms on the noisy sinc data, using some fixed choice for the hyperparameters."
   ]
  },
  {
   "cell_type": "code",
   "execution_count": null,
   "metadata": {},
   "outputs": [],
   "source": [
    "from sklearn.svm import SVR\n",
    "from sklearn.kernel_ridge import KernelRidge\n",
    "\n",
    "# train the SVR. gamma ~ 1/lengthscale\n",
    "clf_svr = SVR(kernel='rbf', C=.1, gamma=1)\n",
    "clf_svr.fit(sinc_data['X'], sinc_data['y'].ravel())\n",
    "\n",
    "# train the KRR\n",
    "clf_krr = KernelRidge(kernel='rbf', alpha=5, gamma=1)\n",
    "clf_krr.fit(sinc_data['X'], sinc_data['y'])\n",
    "\n",
    "# Test the regressors\n",
    "X_test = np.linspace(-5,5,100).reshape(-1,1)\n",
    "y_pred_svr = clf_svr.predict(X_test)\n",
    "y_pred_krr = clf_krr.predict(X_test)\n",
    "\n",
    "plt.figure(figsize=(12,6))\n",
    "plt.scatter(sinc_data['X'],sinc_data['y'],s=20,label='Data')\n",
    "plt.plot(X_test,y_pred_svr,color='r',label='SVR')\n",
    "plt.plot(X_test,y_pred_krr,color='g',label='KRR')\n",
    "plt.title('Linear regression')\n",
    "plt.grid(True)\n",
    "plt.legend()\n",
    "plt.show()"
   ]
  },
  {
   "cell_type": "markdown",
   "metadata": {},
   "source": [
    "Let us have a look at the support vectors found and their coefficients:"
   ]
  },
  {
   "cell_type": "code",
   "execution_count": null,
   "metadata": {},
   "outputs": [],
   "source": [
    "print(\"Indices of support vectors:\")\n",
    "print(clf_svr.support_)"
   ]
  },
  {
   "cell_type": "code",
   "execution_count": null,
   "metadata": {},
   "outputs": [],
   "source": [
    "print(\"Coefficients:\")\n",
    "print(clf_svr.dual_coef_)"
   ]
  },
  {
   "cell_type": "code",
   "execution_count": null,
   "metadata": {},
   "outputs": [],
   "source": [
    "# plot of the support vectors\n",
    "\n",
    "plt.figure(figsize=(12,6))\n",
    "plt.scatter(sinc_data['X'],sinc_data['y'],s=20,label='Data')\n",
    "plt.scatter(sinc_data['X'][clf_svr.support_],sinc_data['y'][clf_svr.support_],\\\n",
    "            s=60,marker='x',label='Support Vectors')\n",
    "plt.title('Support vectors')\n",
    "plt.grid(True)\n",
    "plt.legend()\n",
    "plt.show()"
   ]
  },
  {
   "cell_type": "markdown",
   "metadata": {},
   "source": [
    "## Parameter optimization by Grid Search and Cross-validation\n",
    "\n",
    "Instead of fixing the parameters, we can apply the [GridSearchCV](http://scikit-learn.org/stable/modules/generated/sklearn.model_selection.GridSearchCV.html) function to perform a grid search of candidate parameters and select the best set using cross-validation."
   ]
  },
  {
   "cell_type": "code",
   "execution_count": null,
   "metadata": {},
   "outputs": [],
   "source": [
    "from sklearn.model_selection import GridSearchCV\n",
    "\n",
    "clf_svr = GridSearchCV(SVR(kernel='rbf', gamma=0.5), cv=5,\n",
    "                   param_grid={\"C\": [1e-1, 1e0, 1e1, 1e2],\n",
    "                               \"epsilon\": [0.05, 0.1, 0.5],\n",
    "                               \"gamma\": np.logspace(-2, 2, 5)})\n",
    "\n",
    "clf_krr = GridSearchCV(KernelRidge(kernel='rbf', gamma=0.5), cv=5,\n",
    "                  param_grid={\"alpha\": [1e-1, 1e0, 0.1, 1e-2, 1e-3],\n",
    "                              \"gamma\": np.logspace(-2, 2, 5)})\n",
    "\n",
    "# train classifiers\n",
    "clf_svr.fit(sinc_data['X'], sinc_data['y'].ravel())\n",
    "clf_krr.fit(sinc_data['X'], sinc_data['y'])\n",
    "\n",
    "# Test the regressors\n",
    "X_test = np.linspace(-5,5,500).reshape(-1,1)\n",
    "y_pred_svr = clf_svr.predict(X_test)\n",
    "y_pred_krr = clf_krr.predict(X_test)\n",
    "\n",
    "plt.figure(figsize=(12,6))\n",
    "plt.scatter(sinc_data['X'],sinc_data['y'],s=20,label='Data')\n",
    "plt.plot(X_test,y_pred_svr,color='r',label='SVR')\n",
    "plt.plot(X_test,y_pred_krr,color='g',label='KRR')\n",
    "plt.title('Linear regression')\n",
    "plt.xlabel('$x$')\n",
    "plt.ylabel('$f(x)$')\n",
    "plt.grid(True)\n",
    "plt.legend()\n",
    "plt.show()"
   ]
  },
  {
   "cell_type": "code",
   "execution_count": null,
   "metadata": {},
   "outputs": [],
   "source": [
    "print('Best parameters for SVR: '+ str(clf_svr.best_params_))\n",
    "print('Best parameters for KRR: '+ str(clf_krr.best_params_))"
   ]
  },
  {
   "cell_type": "code",
   "execution_count": null,
   "metadata": {},
   "outputs": [],
   "source": [
    "print(clf_svr.best_estimator_)"
   ]
  },
  {
   "cell_type": "markdown",
   "metadata": {},
   "source": [
    "Exercise 2: Motorcycle Data\n",
    "---"
   ]
  },
  {
   "cell_type": "code",
   "execution_count": null,
   "metadata": {},
   "outputs": [],
   "source": [
    "df = pd.read_csv('data/motor.csv',delimiter=';')\n",
    "\n",
    "print(df.head())\n",
    "\n",
    "plt.figure(figsize=(12,8))\n",
    "plt.scatter(df.times,df.accel,s=20)\n",
    "plt.title('Motorcycle Data')\n",
    "plt.xlabel('Time')\n",
    "plt.ylabel('Acceleration')\n",
    "plt.show()"
   ]
  },
  {
   "cell_type": "markdown",
   "metadata": {},
   "source": [
    "Exercise: Train both regression techniques (SVR and KRR) on the motorcycle data set. Determine the best hyperparameters by running the GridSearchCV optimization technique.\n",
    "\n",
    "1. Learn the optimal hyperparameters.\n",
    "2. Produce predictions and plot."
   ]
  },
  {
   "cell_type": "code",
   "execution_count": null,
   "metadata": {},
   "outputs": [],
   "source": [
    "# 1. Learn the optimal hyperparameters"
   ]
  },
  {
   "cell_type": "code",
   "execution_count": null,
   "metadata": {},
   "outputs": [],
   "source": [
    "# 2. Produce predictions and plot"
   ]
  },
  {
   "cell_type": "markdown",
   "metadata": {},
   "source": [
    "# Part 3. Gaussian Process Regression\n",
    "\n",
    "Gaussian Process Regression (GPR) is a Bayesian kernel-based technique that allows to perform nonlinear regression and thus to characterize nonlinear relationships between variables.\n",
    "When producing predictions for a new input, GPR outputs the complete probability distribution of the estimated output, which is a Gaussian centered around the \"prediction mean\".\n",
    "Interestingly, the prediction mean of KRR and GPR are identical. The \"prediction variance\" calculated by GPR yields an uncertainty interval for each prediction.\n",
    "\n",
    "A Gaussian process is an immediate generalization of the multivariate normal to infinite dimensions.\n",
    "It is defined as an infinite collection of random variables, with any marginal subset having a Gaussian distribution.\n",
    "Thus, the marginalization property is explicit in its definition.\n",
    "Another way of thinking about an infinite vector is as a function. When we write a function that takes continuous values as inputs, we are essentially implying an infinite vector that only returns values (indexed by the inputs) when the function is called upon to do so.\n",
    "By the same token, this notion of an infinite-dimensional Gaussian represented as a function allows us to work with them computationally: we are never required to store all the elements of the Gaussian process, only to calculate them on demand.\n",
    "\n",
    "Gaussian processes are Bayesian techniques: After specifying a model for the data, a prior on the functional form is chosen. Then, the data is observed.\n",
    "Finally, the posterior distribution of the function to estimate is calculated using Bayes' rule.\n",
    "\n",
    "### Selecting a prior\n",
    "\n",
    "The prior of a Gaussian process is encoded in the kernel function, which represents the covariance between any two output points. Below we select a Gaussian (RBF) prior with length scale 1, and we draw several functions that correspond to this covariance."
   ]
  },
  {
   "cell_type": "code",
   "execution_count": null,
   "metadata": {},
   "outputs": [],
   "source": [
    "from sklearn.gaussian_process.kernels import RBF\n",
    "\n",
    "# draw samples from the unconstrained covariance\n",
    "np.random.seed(1)\n",
    "x = np.linspace(0, 10, 100)\n",
    "\n",
    "mu = np.zeros(len(x))\n",
    "\n",
    "length_scale = 1\n",
    "kernel = RBF(length_scale)\n",
    "K = kernel.__call__(x.reshape(-1,1),x.reshape(-1,1))\n",
    "\n",
    "draws = np.random.multivariate_normal(mu, K, 5)\n",
    "\n",
    "# plot a selection of unconstrained functions\n",
    "fig = plt.figure(figsize=(8, 4))\n",
    "plt.plot(x, draws.T, '-k')\n",
    "plt.xlabel('$x$')\n",
    "plt.ylabel('$f(x)$')\n",
    "plt.show()"
   ]
  },
  {
   "cell_type": "code",
   "execution_count": null,
   "metadata": {},
   "outputs": [],
   "source": [
    "from sklearn.gaussian_process import GaussianProcessRegressor\n",
    "from sklearn.gaussian_process.kernels import ConstantKernel as C\n",
    "\n",
    "# Constrain the mean and covariance with two points\n",
    "x1 = np.array([2.5, 7])\n",
    "y1 = np.cos(x1)\n",
    "\n",
    "gp_kernel = C(0.1) * RBF(1)\n",
    "\n",
    "# switch off the optimizer option for this example\n",
    "gp1 = GaussianProcessRegressor(kernel=gp_kernel,optimizer=None)\n",
    "gp1.fit(x1[:, None], y1)\n",
    "f1, sigma1 = gp1.predict(x[:, None], return_std=True)\n",
    "\n",
    "# Constrain the mean and covariance with more points\n",
    "x2 = np.linspace(0,10,5).T\n",
    "y2 = np.cos(x2)\n",
    "\n",
    "gp2 = GaussianProcessRegressor(kernel=gp_kernel,optimizer=None)\n",
    "gp2.fit(x2[:, None], y2)\n",
    "f2, sigma2 = gp2.predict(x[:, None], return_std=True)\n",
    "\n",
    "# plot\n",
    "fig = plt.figure(figsize=(14, 5))\n",
    "\n",
    "# plot a constrained function\n",
    "ax = fig.add_subplot(121)\n",
    "ax.plot(x, f1, '-', color='gray')\n",
    "ax.fill_between(x, f1 - 2 * sigma1, f1 + 2 * sigma1, color='gray', alpha=0.3)\n",
    "ax.plot(x1, y1, '.k', ms=6)\n",
    "\n",
    "# plot another constrained function\n",
    "ax = fig.add_subplot(122)\n",
    "ax.plot(x, f2, '-', color='gray')\n",
    "ax.fill_between(x, f2 - 2 * sigma2, f2 + 2 * sigma2, color='gray', alpha=0.3)\n",
    "ax.plot(x2, y2, '.k', ms=6)\n",
    "\n",
    "for ax in fig.axes:\n",
    "    ax.set_xlim(0, 10)\n",
    "\n",
    "plt.show()"
   ]
  },
  {
   "cell_type": "markdown",
   "metadata": {},
   "source": [
    "## GPR on noisy sinc data\n",
    "\n",
    "At this point it is interesting to note that we have not considered any noise in the model.\n",
    "In the implementation of GPR in scikit-learn, Gaussian noise is added by adding a Gaussian component to the kernel: `kernel = RBF() + WhiteKernel()`.\n",
    "\n",
    "In the following example we will apply GPR to the noisy sinc data.\n",
    "We could search for the optimal hyperparameters by running the `GridSearchCV` utility, but GPR includes a more powerful tool.\n",
    "In particular, the hyperparameters of the kernel are optimized during fitting of `GaussianProcessRegressor` by maximizing the log-marginal-likelihood (LML) based on the passed optimizer.\n",
    "As the LML may have multiple local optima, the optimizer can be started repeatedly by specifying n_restarts_optimizer.\n",
    "The first run is always conducted starting from the initial hyperparameter values of the kernel; subsequent runs are conducted from hyperparameter values that have been chosen randomly from the range of allowed values. If the initial hyperparameters should be kept fixed, `None` can be passed as optimizer."
   ]
  },
  {
   "cell_type": "code",
   "execution_count": null,
   "metadata": {},
   "outputs": [],
   "source": [
    "from sklearn.gaussian_process import GaussianProcessRegressor\n",
    "from sklearn.gaussian_process.kernels import RBF, ConstantKernel as C, WhiteKernel\n",
    "\n",
    "# Instanciate a Gaussian Process model\n",
    "gp_kernel = C(1.0, (1e-2, 1e+2)) * RBF(10, (1e-2, 1e2)) + WhiteKernel(0.1,(1e-2,1e2))\n",
    "gp = GaussianProcessRegressor(kernel=gp_kernel,\n",
    "                              n_restarts_optimizer=10)\n",
    "\n",
    "# Fit to data using Maximum Likelihood Estimation of the parameters\n",
    "gp.fit(sinc_data['X'], sinc_data['y'])\n",
    "\n",
    "print(\"GPML kernel: %s\" % gp.kernel_)\n",
    "print(\"Log-marginal-likelihood: %.3f\"\n",
    "      % gp.log_marginal_likelihood(gp.kernel_.theta))"
   ]
  },
  {
   "cell_type": "code",
   "execution_count": null,
   "metadata": {},
   "outputs": [],
   "source": [
    "# Make the prediction on the meshed x-axis\n",
    "X_test = np.linspace(-5,5,1000).reshape(-1,1)\n",
    "#X_test = np.linspace(-10,10,1000).reshape(-1,1)\n",
    "\n",
    "y_pred, sigma = gp.predict(X_test, return_std=True)\n",
    "\n",
    "plt.figure(figsize=(12,6))\n",
    "plt.scatter(sinc_data['X'],sinc_data['y'],s=20,label='Data')\n",
    "plt.plot(X_test,y_pred,color='r',label='GP')\n",
    "plt.fill_between(X_test.ravel(), y_pred.ravel() - 2 * sigma, y_pred.ravel() + 2 * sigma,\n",
    "                 color='gray', alpha=0.3,label='95% confidence')\n",
    "plt.title('GPR regression')\n",
    "plt.xlabel('$x$')\n",
    "plt.ylabel('$f(x)$')\n",
    "plt.grid(True)\n",
    "plt.legend()\n",
    "plt.show()"
   ]
  },
  {
   "cell_type": "markdown",
   "metadata": {},
   "source": [
    "## GP regression on the linear data"
   ]
  },
  {
   "cell_type": "code",
   "execution_count": null,
   "metadata": {},
   "outputs": [],
   "source": [
    "# Instanciate a Gaussian Process model\n",
    "gp_kernel = C(1.0, (1e-2, 1e+2)) * RBF(10, (1e-2, 1e2)) + WhiteKernel(0.1,(1e-2,1e2))\n",
    "gp = GaussianProcessRegressor(kernel=gp_kernel,\n",
    "                              n_restarts_optimizer=10)\n",
    "\n",
    "# Fit to data using Maximum Likelihood Estimation of the parameters\n",
    "gp.fit(linear_data['X'], linear_data['y'])\n",
    "\n",
    "print(\"GPML kernel: %s\" % gp.kernel_)\n",
    "print(\"Log-marginal-likelihood: %.3f\"\n",
    "      % gp.log_marginal_likelihood(gp.kernel_.theta))"
   ]
  },
  {
   "cell_type": "code",
   "execution_count": null,
   "metadata": {},
   "outputs": [],
   "source": [
    "X_test = np.linspace(-5,5,1000).reshape(-1,1)\n",
    "#X_test = np.linspace(-10,10,1000).reshape(-1,1)\n",
    "\n",
    "# Make the prediction on the meshed x-axis\n",
    "y_pred, sigma = gp.predict(X_test, return_std=True)\n",
    "\n",
    "plt.figure(figsize=(12,6))\n",
    "plt.scatter(linear_data['X'],linear_data['y'],s=20,label='Data')\n",
    "plt.plot(X_test,y_pred,color='r',label='GP')\n",
    "plt.fill_between(X_test.ravel(), y_pred.ravel() - 2 * sigma, y_pred.ravel() + 2 * sigma,\n",
    "                 color='gray', alpha=0.3,label='95% confidence')\n",
    "plt.title('GPR regression')\n",
    "plt.xlabel('$x$')\n",
    "plt.ylabel('$f(x)$')\n",
    "plt.grid(True)\n",
    "plt.legend()\n",
    "plt.show()"
   ]
  },
  {
   "cell_type": "markdown",
   "metadata": {},
   "source": [
    "## Time series prediction with Gaussian Process regression"
   ]
  },
  {
   "cell_type": "markdown",
   "metadata": {},
   "source": [
    "This example is based on Section 5.4.3 of “Gaussian Processes for Machine Learning” [RW2006].\n",
    "It illustrates an example of complex kernel engineering and hyperparameter optimization using gradient ascent on the log-marginal-likelihood.\n",
    "The data consists of the monthly average atmospheric CO2 concentrations (in parts per million by volume (ppmv)) collected at the Mauna Loa Observatory in Hawaii, between 1958 and 1997.\n",
    "The objective is to model the CO2 concentration as a function of the time t.\n",
    "\n",
    "The kernel is composed of several terms that are responsible for explaining\n",
    "different properties of the signal:\n",
    "\n",
    "- a long term, smooth rising trend is to be explained by an RBF kernel. The\n",
    "  RBF kernel with a large length-scale enforces this component to be smooth;\n",
    "  it is not enforced that the trend is rising which leaves this choice to the\n",
    "  GP. The specific length-scale and the amplitude are free hyperparameters.\n",
    "\n",
    "- a seasonal component, which is to be explained by the periodic\n",
    "  ExpSineSquared kernel with a fixed periodicity of 1 year. The length-scale\n",
    "  of this periodic component, controlling its smoothness, is a free parameter.\n",
    "  In order to allow decaying away from exact periodicity, the product with an\n",
    "  RBF kernel is taken. The length-scale of this RBF component controls the\n",
    "  decay time and is a further free parameter.\n",
    "\n",
    "- smaller, medium term irregularities are to be explained by a\n",
    "  RationalQuadratic kernel component, whose length-scale and alpha parameter,\n",
    "  which determines the diffuseness of the length-scales, are to be determined.\n",
    "  According to [RW2006], these irregularities can better be explained by\n",
    "  a RationalQuadratic than an RBF kernel component, probably because it can\n",
    "  accommodate several length-scales.\n",
    "\n",
    "- a \"noise\" term, consisting of an RBF kernel contribution, which shall\n",
    "  explain the correlated noise components such as local weather phenomena,\n",
    "  and a WhiteKernel contribution for the white noise. The relative amplitudes\n",
    "  and the RBF's length scale are further free parameters.\n",
    "\n",
    "Maximizing the log-marginal-likelihood after subtracting the target's mean\n",
    "yields the following kernel with an LML of -83.214::\n",
    "\n",
    "````\n",
    "    34.4**2 * RBF(length_scale=41.8)\n",
    "    + 3.27**2 * RBF(length_scale=180) * ExpSineSquared(length_scale=1.44,periodicity=1)\n",
    "    + 0.446**2 * RationalQuadratic(alpha=17.7, length_scale=0.957)\n",
    "    + 0.197**2 * RBF(length_scale=0.138) + WhiteKernel(noise_level=0.0336)\n",
    "````\n",
    "\n",
    "Thus, most of the target signal (34.4ppm) is explained by a long-term rising\n",
    "trend (length-scale 41.8 years). The periodic component has an amplitude of\n",
    "3.27ppm, a decay time of 180 years and a length-scale of 1.44. The long decay\n",
    "time indicates that we have a locally very close to periodic seasonal\n",
    "component. The correlated noise has an amplitude of 0.197ppm with a length\n",
    "scale of 0.138 years and a white-noise contribution of 0.197ppm. Thus, the\n",
    "overall noise level is very small, indicating that the data can be very well\n",
    "explained by the model. The figure shows also that the model makes very\n",
    "confident predictions until around 2015."
   ]
  },
  {
   "cell_type": "markdown",
   "metadata": {},
   "source": [
    "First, we will visualize the data:"
   ]
  },
  {
   "cell_type": "code",
   "execution_count": null,
   "metadata": {},
   "outputs": [],
   "source": [
    "from sklearn.datasets import fetch_openml\n",
    "\n",
    "def load_mauna_loa_atmospheric_co2():\n",
    "    ml_data = fetch_openml(data_id=41187, cache=False)\n",
    "    months = []\n",
    "    ppmv_sums = []\n",
    "    counts = []\n",
    "\n",
    "    y = ml_data.data[:, 0]\n",
    "    m = ml_data.data[:, 1]\n",
    "    month_float = y + (m - 1) / 12\n",
    "    ppmvs = ml_data.target\n",
    "\n",
    "    for month, ppmv in zip(month_float, ppmvs):\n",
    "        if not months or month != months[-1]:\n",
    "            months.append(month)\n",
    "            ppmv_sums.append(ppmv)\n",
    "            counts.append(1)\n",
    "        else:\n",
    "            # aggregate monthly sum to produce average\n",
    "            ppmv_sums[-1] += ppmv\n",
    "            counts[-1] += 1\n",
    "\n",
    "    months = np.asarray(months).reshape(-1, 1)\n",
    "    avg_ppmvs = np.asarray(ppmv_sums) / counts\n",
    "    return months, avg_ppmvs\n",
    "\n",
    "X, y = load_mauna_loa_atmospheric_co2()\n",
    "\n",
    "# Illustration\n",
    "fig = plt.figure(figsize=(15,8))\n",
    "plt.scatter(X, y, c='k')\n",
    "plt.grid(True)\n",
    "plt.xlabel(\"Year\")\n",
    "plt.ylabel(r\"CO$_2$ in ppm\")\n",
    "plt.title(r\"Atmospheric CO$_2$ concentration at Mauna Loa\")\n",
    "plt.tight_layout()\n",
    "plt.show()"
   ]
  },
  {
   "cell_type": "markdown",
   "metadata": {},
   "source": [
    "We will now apply Gaussian Process regression using the kernel given in the GPML book:"
   ]
  },
  {
   "cell_type": "code",
   "execution_count": null,
   "metadata": {},
   "outputs": [],
   "source": [
    "from sklearn.gaussian_process.kernels import RationalQuadratic\n",
    "\n",
    "# Kernel with parameters given in GPML book\n",
    "k1 = 66.0**2 * RBF(length_scale=67.0)  # long term smooth rising trend\n",
    "k2 = 2.4**2 * RBF(length_scale=90.0) \\\n",
    "    * ExpSineSquared(length_scale=1.3, periodicity=1.0)  # seasonal component\n",
    "# medium term irregularity\n",
    "k3 = 0.66**2 \\\n",
    "    * RationalQuadratic(length_scale=1.2, alpha=0.78)\n",
    "k4 = 0.18**2 * RBF(length_scale=0.134) \\\n",
    "    + WhiteKernel(noise_level=0.19**2)  # noise terms\n",
    "kernel_gpml = k1 + k2 + k3 + k4\n",
    "\n",
    "gp = GaussianProcessRegressor(kernel=kernel_gpml, alpha=0,\n",
    "                              optimizer=None, normalize_y=True)\n",
    "gp.fit(X, y)\n",
    "\n",
    "print(\"GPML kernel: %s\" % gp.kernel_)\n",
    "print(\"Log-marginal-likelihood: %.3f\"\n",
    "      % gp.log_marginal_likelihood(gp.kernel_.theta))"
   ]
  },
  {
   "cell_type": "markdown",
   "metadata": {},
   "source": [
    "The GP regressor obtains a log-marginal-likelihood of $-117.023$ on these data, with the predefined kernel function.\n",
    "\n",
    "Let us have a look at the predictions made using this regressor:"
   ]
  },
  {
   "cell_type": "code",
   "execution_count": null,
   "metadata": {},
   "outputs": [],
   "source": [
    "X_ = np.linspace(X.min(), X.max() + 30, 1000)[:, np.newaxis]\n",
    "y_pred, y_std = gp.predict(X_, return_std=True)\n",
    "\n",
    "# plot the prediction\n",
    "fig = plt.figure(figsize=(15,8))\n",
    "plt.scatter(X, y, c='k')\n",
    "plt.plot(X_, y_pred)\n",
    "plt.fill_between(X_[:, 0], y_pred - y_std, y_pred + y_std,\n",
    "                 alpha=0.5, color='k')\n",
    "plt.xlim(X_.min(), X_.max())\n",
    "plt.xlabel(\"Year\")\n",
    "plt.ylabel(r\"CO$_2$ in ppm\")\n",
    "plt.title(r\"Atmospheric CO$_2$ concentration at Mauna Loa\")\n",
    "plt.tight_layout()\n",
    "plt.show()"
   ]
  },
  {
   "cell_type": "markdown",
   "metadata": {},
   "source": [
    "In the final part of this example, we will let the optimizer finetune the hyperparameters of the kernel function:"
   ]
  },
  {
   "cell_type": "code",
   "execution_count": null,
   "metadata": {},
   "outputs": [],
   "source": [
    "# Kernel with generic parameters\n",
    "k1 = 50.0**2 * RBF(length_scale=50.0)  # long term smooth rising trend\n",
    "k2 = 2.0**2 * RBF(length_scale=100.0) \\\n",
    "    * ExpSineSquared(length_scale=1.0, periodicity=1.0,\n",
    "                     periodicity_bounds=\"fixed\")  # seasonal component\n",
    "# medium term irregularities\n",
    "k3 = 0.5**2 * RationalQuadratic(length_scale=1.0, alpha=1.0)\n",
    "k4 = 0.1**2 * RBF(length_scale=0.1) \\\n",
    "    + WhiteKernel(noise_level=0.1**2,\n",
    "                  noise_level_bounds=(1e-3, np.inf))  # noise terms\n",
    "kernel = k1 + k2 + k3 + k4\n",
    "\n",
    "# Fit the Gaussian Process regressor, and optimize the hyperparameters\n",
    "gp = GaussianProcessRegressor(kernel=kernel, alpha=0,\n",
    "                              normalize_y=True)\n",
    "gp.fit(X, y)\n",
    "\n",
    "print(\"\\nLearned kernel: %s\" % gp.kernel_)\n",
    "print(\"Log-marginal-likelihood: %.3f\"\n",
    "      % gp.log_marginal_likelihood(gp.kernel_.theta))\n",
    "\n",
    "X_ = np.linspace(X.min(), X.max() + 30, 1000)[:, np.newaxis]\n",
    "y_pred, y_std = gp.predict(X_, return_std=True)"
   ]
  },
  {
   "cell_type": "markdown",
   "metadata": {},
   "source": [
    "If all went correctly, we should obtain a higher log-marginal-likelihood on these data after optimizing the kernel function hyperparameters.\n",
    "This solution should fit slightly better to the data, as the optimizer aims to maximize the LML.\n",
    "\n",
    "Let us have a look at the predictions made using this regressor:"
   ]
  },
  {
   "cell_type": "code",
   "execution_count": null,
   "metadata": {},
   "outputs": [],
   "source": [
    "# plot the prediction\n",
    "fig = plt.figure(figsize=(15,8))\n",
    "plt.scatter(X, y, c='k')\n",
    "plt.plot(X_, y_pred)\n",
    "plt.fill_between(X_[:, 0], y_pred - y_std, y_pred + y_std,\n",
    "                 alpha=0.5, color='k')\n",
    "plt.xlim(X_.min(), X_.max())\n",
    "plt.grid(True)\n",
    "plt.xlabel(\"Year\")\n",
    "plt.ylabel(r\"CO$_2$ in ppm\")\n",
    "plt.title(r\"Atmospheric CO$_2$ concentration at Mauna Loa\")\n",
    "plt.tight_layout()\n",
    "plt.show()"
   ]
  },
  {
   "cell_type": "code",
   "execution_count": null,
   "metadata": {},
   "outputs": [],
   "source": []
  }
 ],
 "metadata": {
  "kernelspec": {
   "display_name": "Python 3",
   "language": "python",
   "name": "python3"
  },
  "language_info": {
   "codemirror_mode": {
    "name": "ipython",
    "version": 3
   },
   "file_extension": ".py",
   "mimetype": "text/x-python",
   "name": "python",
   "nbconvert_exporter": "python",
   "pygments_lexer": "ipython3",
   "version": "3.6.5"
  }
 },
 "nbformat": 4,
 "nbformat_minor": 2
}
>>>>>>> f3c08cb596308cefa9560fc907dae8dd395098e8
