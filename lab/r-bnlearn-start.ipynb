{
 "cells": [
  {
   "cell_type": "code",
   "execution_count": 1,
   "metadata": {},
   "outputs": [
    {
     "name": "stderr",
     "output_type": "stream",
     "text": [
      "Loading required package: RBGL\n",
      "Warning message in library(package, lib.loc = lib.loc, character.only = TRUE, logical.return = TRUE, :\n",
      "“there is no package called ‘RBGL’”Installing package into ‘/home/jovyan/R/x86_64-pc-linux-gnu-library/3.4’\n",
      "(as ‘lib’ is unspecified)\n",
      "Bioconductor version 3.6 (BiocInstaller 1.28.0), ?biocLite for help\n",
      "A new version of Bioconductor is available after installing the most recent\n",
      "  version of R; see http://bioconductor.org/install\n",
      "BioC_mirror: https://bioconductor.org\n",
      "Using Bioconductor 3.6 (BiocInstaller 1.28.0), R 3.4.4 (2018-03-15).\n",
      "Installing package(s) ‘RBGL’\n",
      "also installing the dependencies ‘BiocGenerics’, ‘graph’\n",
      "\n",
      "Old packages: 'arules', 'arulesViz', 'backports', 'BH', 'broom', 'callr',\n",
      "  'class', 'clipr', 'codetools', 'colorspace', 'crul', 'curl', 'data.table',\n",
      "  'dbplyr', 'dplyr', 'e1071', 'evaluate', 'flexmix', 'FNN', 'forcats', 'gclus',\n",
      "  'generics', 'geonames', 'git2r', 'gplots', 'haven', 'httpuv', 'httr',\n",
      "  'igraph', 'IRdisplay', 'IRkernel', 'knitr', 'later', 'lattice', 'lava',\n",
      "  'libcoin', 'markdown', 'Matrix', 'mclust', 'mgcv', 'modelr', 'openssl',\n",
      "  'partykit', 'prabclus', 'processx', 'ps', 'psych', 'purrr', 'R6', 'RCurl',\n",
      "  'readr', 'readxl', 'repr', 'reticulate', 'rgdal', 'rlang', 'rmarkdown',\n",
      "  'rnoaa', 'rstudioapi', 'stringi', 'stringr', 'survival', 'tibble', 'tidyr',\n",
      "  'tinytex', 'urltools', 'visNetwork', 'xfun', 'XML'\n"
     ]
    }
   ],
   "source": [
    "# Paquete RBGL (disponible en bioconductor)\n",
    "# http://bioconductor.org/packages/release/bioc/html/RBGL.html\n",
    "# https://cran.r-project.org/web/packages/RBGL/index.html (REMOVED)\n",
    "# https://bioconda.github.io/recipes/bioconductor-rbgl/README.html\n",
    "# https://stackoverflow.com/questions/31252102/bayesian-network-with-r\n",
    "# https://www.rdocumentation.org/packages/RBGL/versions/1.48.1\n",
    "if (!require(RBGL)) {\n",
    "      source(\"http://bioconductor.org/biocLite.R\")\n",
    "      biocLite(\"RBGL\")\n",
    "}"
   ]
  },
  {
   "cell_type": "code",
   "execution_count": 2,
   "metadata": {},
   "outputs": [
    {
     "name": "stderr",
     "output_type": "stream",
     "text": [
      "Loading required package: gRain\n",
      "Warning message in library(package, lib.loc = lib.loc, character.only = TRUE, logical.return = TRUE, :\n",
      "“there is no package called ‘gRain’”Installing package into ‘/home/jovyan/R/x86_64-pc-linux-gnu-library/3.4’\n",
      "(as ‘lib’ is unspecified)\n",
      "also installing the dependencies ‘gRbase’, ‘functional’, ‘RcppEigen’\n",
      "\n"
     ]
    }
   ],
   "source": [
    "# Paquete gRain\n",
    "# https://cran.r-project.org/web/packages/gRain/index.html\n",
    "if (!require(gRain)) install.packages(\"gRain\")"
   ]
  },
  {
   "cell_type": "code",
   "execution_count": 3,
   "metadata": {},
   "outputs": [
    {
     "name": "stderr",
     "output_type": "stream",
     "text": [
      "Loading required package: Rgraphviz\n",
      "Warning message in library(package, lib.loc = lib.loc, character.only = TRUE, logical.return = TRUE, :\n",
      "“there is no package called ‘Rgraphviz’”Bioconductor version 3.6 (BiocInstaller 1.28.0), ?biocLite for help\n",
      "A new version of Bioconductor is available after installing the most recent\n",
      "  version of R; see http://bioconductor.org/install\n",
      "BioC_mirror: https://bioconductor.org\n",
      "Using Bioconductor 3.6 (BiocInstaller 1.28.0), R 3.4.4 (2018-03-15).\n",
      "Installing package(s) ‘Rgraphviz’\n",
      "Old packages: 'arules', 'arulesViz', 'backports', 'BH', 'broom', 'callr',\n",
      "  'class', 'clipr', 'codetools', 'colorspace', 'crul', 'curl', 'data.table',\n",
      "  'dbplyr', 'dplyr', 'e1071', 'evaluate', 'flexmix', 'FNN', 'forcats', 'gclus',\n",
      "  'generics', 'geonames', 'git2r', 'gplots', 'haven', 'httpuv', 'httr',\n",
      "  'igraph', 'IRdisplay', 'IRkernel', 'knitr', 'later', 'lattice', 'lava',\n",
      "  'libcoin', 'markdown', 'Matrix', 'mclust', 'mgcv', 'modelr', 'openssl',\n",
      "  'partykit', 'prabclus', 'processx', 'ps', 'psych', 'purrr', 'R6', 'RCurl',\n",
      "  'readr', 'readxl', 'repr', 'reticulate', 'rgdal', 'rlang', 'rmarkdown',\n",
      "  'rnoaa', 'rstudioapi', 'stringi', 'stringr', 'survival', 'tibble', 'tidyr',\n",
      "  'tinytex', 'urltools', 'visNetwork', 'xfun', 'XML'\n"
     ]
    }
   ],
   "source": [
    "# Paquete Rgraphviz (bioconductor)\n",
    "# https://www.bioconductor.org/packages/release/bioc/html/Rgraphviz.html\n",
    "# https://www.rdocumentation.org/packages/Rgraphviz/versions/2.16.0\n",
    "# https://cran.r-project.org/web/packages/Rgraphviz/index.html (REMOVED)\n",
    "# https://stackoverflow.com/questions/18023300/is-rgraphviz-no-longer-available-for-r\n",
    "# https://rdrr.io/bioc/Rgraphviz/\n",
    "# https://github.com/cran/Rgraphviz\n",
    "# https://github.com/kasperdanielhansen/Rgraphviz\n",
    "if (!require(Rgraphviz)) {\n",
    "    source(\"http://bioconductor.org/biocLite.R\")\n",
    "    biocLite(\"Rgraphviz\")\n",
    "}"
   ]
  },
  {
   "cell_type": "code",
   "execution_count": null,
   "metadata": {},
   "outputs": [],
   "source": []
  }
 ],
 "metadata": {
  "kernelspec": {
   "display_name": "R",
   "language": "R",
   "name": "ir"
  },
  "language_info": {
   "codemirror_mode": "r",
   "file_extension": ".r",
   "mimetype": "text/x-r-source",
   "name": "R",
   "pygments_lexer": "r",
   "version": "3.4.4"
  }
 },
 "nbformat": 4,
 "nbformat_minor": 2
}
