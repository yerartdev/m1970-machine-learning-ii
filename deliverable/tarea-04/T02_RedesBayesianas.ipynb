{
 "cells": [
  {
   "cell_type": "markdown",
   "metadata": {},
   "source": [
    "# Alumno: Gerardo de Miguel González"
   ]
  },
  {
   "cell_type": "markdown",
   "metadata": {
    "button": false,
    "new_sheet": false,
    "run_control": {
     "read_only": false
    }
   },
   "source": [
    "# Machine Learning II (Master en Data Science, UIMP-UC) \n",
    "\n",
    "# Tarea: Redes Bayesianas\n",
    "\n",
    "### Fecha de entrega: 7 Abril 2019\n",
    "\n",
    "Responde a las preguntas planteadas y aporta el código en R utilizado para responderlas. Se debe enviar un único documento con texto y código entrelazado, bien sea en formato pdf o html."
   ]
  },
  {
   "cell_type": "markdown",
   "metadata": {
    "button": false,
    "new_sheet": false,
    "run_control": {
     "read_only": false
    }
   },
   "source": [
    "## Introducción a la práctica\n",
    "\n",
    "Utilizaremos un conjunto de datos diarios de ocurrencia de meteoros en el aeropuerto de Parayas (Santander), considerando una serie de variables meteorológicas registradas diariamente durante un periodo aproximado de 10 años (3286 registros), en concreto: precipitación, nieve, granizo, tormenta, niebla, rocío, escarcha, nieve en el suelo, neblina y racha máxima de viento superior a 50 km/h. Los datos se encuentran guardados en el fichero de texto `meteoro.txt`. Las variables se encuentran discretizadas de forma binaria (ocurrencia/ausencia).\n",
    "\n",
    "En este caso, y a través del asesoramiento de un meteorólogo, se ha elaborado el siguiente diagrama acíclico dirigido (DAG), que recoge las relaciones de dependencia entre las variables:"
   ]
  },
  {
   "cell_type": "markdown",
   "metadata": {},
   "source": [
    "![modelo experto](dag-meteo-modelo-experto.png)"
   ]
  },
  {
   "cell_type": "markdown",
   "metadata": {
    "button": false,
    "new_sheet": false,
    "run_control": {
     "read_only": false
    }
   },
   "source": [
    "## Ejercicio 1 (2.5 Puntos)"
   ]
  },
  {
   "cell_type": "code",
   "execution_count": 1,
   "metadata": {},
   "outputs": [],
   "source": [
    "suppressMessages(library('bnlearn'))"
   ]
  },
  {
   "cell_type": "code",
   "execution_count": 2,
   "metadata": {
    "button": false,
    "new_sheet": false,
    "run_control": {
     "read_only": false
    }
   },
   "outputs": [],
   "source": [
    "meteoro <- read.table('meteoro.txt', header = TRUE)"
   ]
  },
  {
   "cell_type": "code",
   "execution_count": 3,
   "metadata": {},
   "outputs": [
    {
     "name": "stdout",
     "output_type": "stream",
     "text": [
      "'data.frame':\t3286 obs. of  10 variables:\n",
      " $ lluvia    : Factor w/ 2 levels \"n\",\"s\": 2 2 2 2 2 2 2 2 2 1 ...\n",
      " $ nieve     : Factor w/ 2 levels \"n\",\"s\": 1 1 1 1 1 1 1 1 1 1 ...\n",
      " $ granizo   : Factor w/ 2 levels \"n\",\"s\": 1 1 1 1 2 2 1 1 1 1 ...\n",
      " $ tormenta  : Factor w/ 2 levels \"n\",\"s\": 1 1 2 1 2 2 2 1 1 1 ...\n",
      " $ niebla    : Factor w/ 2 levels \"n\",\"s\": 1 1 1 1 1 1 1 1 1 1 ...\n",
      " $ rocio     : Factor w/ 2 levels \"n\",\"s\": 1 1 1 1 1 1 1 1 1 2 ...\n",
      " $ escarcha  : Factor w/ 2 levels \"n\",\"s\": 1 1 1 1 1 1 1 1 1 1 ...\n",
      " $ nieveSuelo: Factor w/ 2 levels \"n\",\"s\": 1 1 1 1 1 1 1 1 1 1 ...\n",
      " $ neblina   : Factor w/ 2 levels \"n\",\"s\": 1 1 1 1 1 1 1 1 2 2 ...\n",
      " $ viento    : Factor w/ 2 levels \"n\",\"s\": 2 2 2 2 2 2 2 2 1 1 ...\n"
     ]
    }
   ],
   "source": [
    "str(meteoro)"
   ]
  },
  {
   "cell_type": "code",
   "execution_count": 4,
   "metadata": {
    "button": false,
    "new_sheet": false,
    "run_control": {
     "read_only": false
    }
   },
   "outputs": [
    {
     "data": {
      "text/html": [
       "<table>\n",
       "<thead><tr><th scope=col>lluvia</th><th scope=col>nieve</th><th scope=col>granizo</th><th scope=col>tormenta</th><th scope=col>niebla</th><th scope=col>rocio</th><th scope=col>escarcha</th><th scope=col>nieveSuelo</th><th scope=col>neblina</th><th scope=col>viento</th></tr></thead>\n",
       "<tbody>\n",
       "\t<tr><td>s</td><td>n</td><td>n</td><td>n</td><td>n</td><td>n</td><td>n</td><td>n</td><td>n</td><td>s</td></tr>\n",
       "\t<tr><td>s</td><td>n</td><td>n</td><td>n</td><td>n</td><td>n</td><td>n</td><td>n</td><td>n</td><td>s</td></tr>\n",
       "\t<tr><td>s</td><td>n</td><td>n</td><td>s</td><td>n</td><td>n</td><td>n</td><td>n</td><td>n</td><td>s</td></tr>\n",
       "\t<tr><td>s</td><td>n</td><td>n</td><td>n</td><td>n</td><td>n</td><td>n</td><td>n</td><td>n</td><td>s</td></tr>\n",
       "\t<tr><td>s</td><td>n</td><td>s</td><td>s</td><td>n</td><td>n</td><td>n</td><td>n</td><td>n</td><td>s</td></tr>\n",
       "\t<tr><td>s</td><td>n</td><td>s</td><td>s</td><td>n</td><td>n</td><td>n</td><td>n</td><td>n</td><td>s</td></tr>\n",
       "</tbody>\n",
       "</table>\n"
      ],
      "text/latex": [
       "\\begin{tabular}{r|llllllllll}\n",
       " lluvia & nieve & granizo & tormenta & niebla & rocio & escarcha & nieveSuelo & neblina & viento\\\\\n",
       "\\hline\n",
       "\t s & n & n & n & n & n & n & n & n & s\\\\\n",
       "\t s & n & n & n & n & n & n & n & n & s\\\\\n",
       "\t s & n & n & s & n & n & n & n & n & s\\\\\n",
       "\t s & n & n & n & n & n & n & n & n & s\\\\\n",
       "\t s & n & s & s & n & n & n & n & n & s\\\\\n",
       "\t s & n & s & s & n & n & n & n & n & s\\\\\n",
       "\\end{tabular}\n"
      ],
      "text/markdown": [
       "\n",
       "lluvia | nieve | granizo | tormenta | niebla | rocio | escarcha | nieveSuelo | neblina | viento | \n",
       "|---|---|---|---|---|---|\n",
       "| s | n | n | n | n | n | n | n | n | s | \n",
       "| s | n | n | n | n | n | n | n | n | s | \n",
       "| s | n | n | s | n | n | n | n | n | s | \n",
       "| s | n | n | n | n | n | n | n | n | s | \n",
       "| s | n | s | s | n | n | n | n | n | s | \n",
       "| s | n | s | s | n | n | n | n | n | s | \n",
       "\n",
       "\n"
      ],
      "text/plain": [
       "  lluvia nieve granizo tormenta niebla rocio escarcha nieveSuelo neblina viento\n",
       "1 s      n     n       n        n      n     n        n          n       s     \n",
       "2 s      n     n       n        n      n     n        n          n       s     \n",
       "3 s      n     n       s        n      n     n        n          n       s     \n",
       "4 s      n     n       n        n      n     n        n          n       s     \n",
       "5 s      n     s       s        n      n     n        n          n       s     \n",
       "6 s      n     s       s        n      n     n        n          n       s     "
      ]
     },
     "metadata": {},
     "output_type": "display_data"
    }
   ],
   "source": [
    "head(meteoro)"
   ]
  },
  {
   "cell_type": "code",
   "execution_count": 6,
   "metadata": {},
   "outputs": [
    {
     "name": "stdout",
     "output_type": "stream",
     "text": [
      " [1] \"lluvia\"     \"nieve\"      \"granizo\"    \"tormenta\"   \"niebla\"    \n",
      " [6] \"rocio\"      \"escarcha\"   \"nieveSuelo\" \"neblina\"    \"viento\"    \n"
     ]
    }
   ],
   "source": [
    "nodos <- colnames(meteoro)\n",
    "print(nodos)"
   ]
  },
  {
   "cell_type": "markdown",
   "metadata": {
    "button": false,
    "new_sheet": false,
    "run_control": {
     "read_only": false
    }
   },
   "source": [
    "* A partir del grafo dado por el experto, determina la expresión que refleja la factorización de la distribución global, y escríbela como una secuencia de caracteres del tipo generado por la función `modelstring` del paquete de R `bnlearn`. "
   ]
  },
  {
   "cell_type": "code",
   "execution_count": 38,
   "metadata": {},
   "outputs": [
    {
     "name": "stdout",
     "output_type": "stream",
     "text": [
      "[1] \"[viento][lluvia|viento][rocio|viento][tormenta|lluvia][niebla|rocio:viento][escarcha|rocio][nieve|tormenta][granizo|tormenta][neblina|niebla][nieveSuelo|nieve]\"\n"
     ]
    }
   ],
   "source": [
    "# https://stackoverflow.com/questions/6329962/split-code-over-multiple-lines-in-an-r-script\n",
    "meteoro_pdag <- paste('[viento][lluvia|viento][rocio|viento][tormenta|lluvia][niebla|rocio:viento]',\n",
    "                      '[escarcha|rocio][nieve|tormenta][granizo|tormenta][neblina|niebla][nieveSuelo|nieve]',\n",
    "                      sep=\"\")\n",
    "print(meteoro_pdag)"
   ]
  },
  {
   "cell_type": "markdown",
   "metadata": {
    "button": false,
    "new_sheet": false,
    "run_control": {
     "read_only": false
    }
   },
   "source": [
    "NOTA: Como ya se comentado anteriormente, es importante evitar tildes a la hora de nombrar los nodos. Tampoco son recomendables espacios en blanco ni ningún tipo de carácter especial. "
   ]
  },
  {
   "cell_type": "markdown",
   "metadata": {
    "button": false,
    "new_sheet": false,
    "run_control": {
     "read_only": false
    }
   },
   "source": [
    "* A continuación, introduce el DAG en R utilizando la definicíon del modelo que acabas de crear"
   ]
  },
  {
   "cell_type": "code",
   "execution_count": 41,
   "metadata": {
    "button": false,
    "new_sheet": false,
    "run_control": {
     "read_only": false
    }
   },
   "outputs": [],
   "source": [
    "# http://www.bnlearn.com/documentation/man/modelstring.html\n",
    "pdag <- bnlearn::model2network(string = meteoro_pdag)"
   ]
  },
  {
   "cell_type": "code",
   "execution_count": 42,
   "metadata": {},
   "outputs": [],
   "source": [
    "pdag2 <- bnlearn::as.bn(meteoro_pdag)"
   ]
  },
  {
   "cell_type": "code",
   "execution_count": 45,
   "metadata": {
    "button": false,
    "new_sheet": false,
    "run_control": {
     "read_only": false
    }
   },
   "outputs": [
    {
     "data": {
      "text/html": [
       "TRUE"
      ],
      "text/latex": [
       "TRUE"
      ],
      "text/markdown": [
       "TRUE"
      ],
      "text/plain": [
       "[1] TRUE"
      ]
     },
     "metadata": {},
     "output_type": "display_data"
    }
   ],
   "source": [
    "all.equal(target = pdag, current = pdag2)"
   ]
  },
  {
   "cell_type": "code",
   "execution_count": 46,
   "metadata": {},
   "outputs": [
    {
     "data": {
      "text/html": [
       "'bn'"
      ],
      "text/latex": [
       "'bn'"
      ],
      "text/markdown": [
       "'bn'"
      ],
      "text/plain": [
       "[1] \"bn\""
      ]
     },
     "metadata": {},
     "output_type": "display_data"
    }
   ],
   "source": [
    "class(pdag)"
   ]
  },
  {
   "cell_type": "markdown",
   "metadata": {
    "button": false,
    "new_sheet": false,
    "run_control": {
     "read_only": false
    }
   },
   "source": [
    "* Obten una lista de los padres e hijos de cada uno de los nodos"
   ]
  },
  {
   "cell_type": "code",
   "execution_count": 54,
   "metadata": {},
   "outputs": [
    {
     "name": "stdout",
     "output_type": "stream",
     "text": [
      " [1] \"escarcha\"   \"granizo\"    \"lluvia\"     \"neblina\"    \"niebla\"    \n",
      " [6] \"nieve\"      \"nieveSuelo\" \"rocio\"      \"tormenta\"   \"viento\"    \n"
     ]
    }
   ],
   "source": [
    "print(bnlearn::nodes(object = pdag))"
   ]
  },
  {
   "cell_type": "code",
   "execution_count": 53,
   "metadata": {
    "button": false,
    "new_sheet": false,
    "run_control": {
     "read_only": false
    }
   },
   "outputs": [
    {
     "ename": "ERROR",
     "evalue": "Error in check.nodes(nodes = node, graph = x, max.nodes = 1): at most 1 node(s) needed.\n",
     "output_type": "error",
     "traceback": [
      "Error in check.nodes(nodes = node, graph = x, max.nodes = 1): at most 1 node(s) needed.\nTraceback:\n",
      "1. bnlearn::parents(x = pdag, node = bnlearn::nodes(object = pdag))",
      "2. check.nodes(nodes = node, graph = x, max.nodes = 1)",
      "3. stop(\"at most \", max.nodes, \" node(s) needed.\")"
     ]
    }
   ],
   "source": [
    "bnlearn::parents(x = pdag, node = )"
   ]
  },
  {
   "cell_type": "markdown",
   "metadata": {
    "button": false,
    "new_sheet": false,
    "run_control": {
     "read_only": false
    }
   },
   "source": [
    "* Realiza una lista de todas las conexiones fundamentales presentes en el grafo, y realiza una clasificación de cada una de ellas determinando si es una estructura en serie, divergente o convergente."
   ]
  },
  {
   "cell_type": "code",
   "execution_count": null,
   "metadata": {
    "button": false,
    "new_sheet": false,
    "run_control": {
     "read_only": false
    }
   },
   "outputs": [],
   "source": []
  },
  {
   "cell_type": "markdown",
   "metadata": {
    "button": false,
    "new_sheet": false,
    "run_control": {
     "read_only": false
    }
   },
   "source": [
    "* ¿Se observa alguna *v-estructura* en el grafo?"
   ]
  },
  {
   "cell_type": "code",
   "execution_count": null,
   "metadata": {
    "button": false,
    "new_sheet": false,
    "run_control": {
     "read_only": false
    }
   },
   "outputs": [],
   "source": []
  },
  {
   "cell_type": "markdown",
   "metadata": {
    "button": false,
    "new_sheet": false,
    "run_control": {
     "read_only": false
    }
   },
   "source": [
    "* Intenta introducir un arco que parta del nodo neblina y se dirija hacia escarcha, y otro que vaya de granizo a lluvia. Comenta qué sucede en cada caso, y si el resultado daría lugar a una red bayesiana válida."
   ]
  },
  {
   "cell_type": "code",
   "execution_count": null,
   "metadata": {
    "button": false,
    "new_sheet": false,
    "run_control": {
     "read_only": false
    }
   },
   "outputs": [],
   "source": []
  },
  {
   "cell_type": "markdown",
   "metadata": {
    "button": false,
    "new_sheet": false,
    "run_control": {
     "read_only": false
    }
   },
   "source": [
    "* Determina la manta de Markov del nodo `rocio`"
   ]
  },
  {
   "cell_type": "code",
   "execution_count": null,
   "metadata": {
    "button": false,
    "new_sheet": false,
    "run_control": {
     "read_only": false
    }
   },
   "outputs": [],
   "source": []
  },
  {
   "cell_type": "markdown",
   "metadata": {
    "button": false,
    "new_sheet": false,
    "run_control": {
     "read_only": false
    }
   },
   "source": [
    "* Introduce un arco que parta del nodo Lluvia y se dirija al nodo Niebla, ¿cambia la manta de Markov del nodo `rocio`? En caso afirmativo, ¿cómo lo hace?"
   ]
  },
  {
   "cell_type": "code",
   "execution_count": null,
   "metadata": {
    "button": false,
    "new_sheet": false,
    "run_control": {
     "read_only": false
    }
   },
   "outputs": [],
   "source": []
  },
  {
   "cell_type": "markdown",
   "metadata": {
    "button": false,
    "new_sheet": false,
    "run_control": {
     "read_only": false
    }
   },
   "source": [
    "NOTA: Para continuar, elimina el arco definido anteriormente entre los nodos Lluvia y Niebla, recuperando el DAG original."
   ]
  },
  {
   "cell_type": "markdown",
   "metadata": {
    "button": false,
    "new_sheet": false,
    "run_control": {
     "read_only": false
    }
   },
   "source": [
    "## Ejercicio 2 (2.5 Puntos)"
   ]
  },
  {
   "cell_type": "markdown",
   "metadata": {
    "button": false,
    "new_sheet": false,
    "run_control": {
     "read_only": false
    }
   },
   "source": [
    "* Considerando la información proporcionada por el conjunto de datos `meteor`, construye la red bayesiana utilizando el método bayesiano de estimación paramétrica."
   ]
  },
  {
   "cell_type": "code",
   "execution_count": null,
   "metadata": {
    "button": false,
    "new_sheet": false,
    "run_control": {
     "read_only": false
    }
   },
   "outputs": [],
   "source": []
  },
  {
   "cell_type": "markdown",
   "metadata": {
    "button": false,
    "new_sheet": false,
    "run_control": {
     "read_only": false
    }
   },
   "source": [
    "* ¿Cuál sería el número potencial de parámetros (sin usar la red bayesiana) del modelo para calcular la probabilidad global si no utilizasemos el DAG?"
   ]
  },
  {
   "cell_type": "code",
   "execution_count": null,
   "metadata": {
    "button": false,
    "new_sheet": false,
    "run_control": {
     "read_only": false
    }
   },
   "outputs": [],
   "source": []
  },
  {
   "cell_type": "markdown",
   "metadata": {
    "button": false,
    "new_sheet": false,
    "run_control": {
     "read_only": false
    }
   },
   "source": [
    "* ¿Cuántos parámetros tiene la distribución global dada por la red bayesiana?"
   ]
  },
  {
   "cell_type": "code",
   "execution_count": null,
   "metadata": {
    "button": false,
    "new_sheet": false,
    "run_control": {
     "read_only": false
    }
   },
   "outputs": [],
   "source": []
  },
  {
   "cell_type": "markdown",
   "metadata": {
    "button": false,
    "new_sheet": false,
    "run_control": {
     "read_only": false
    }
   },
   "source": [
    "* Determina el número de parámetros asociado a cada una de las distribuciones locales"
   ]
  },
  {
   "cell_type": "code",
   "execution_count": null,
   "metadata": {
    "button": false,
    "new_sheet": false,
    "run_control": {
     "read_only": false
    }
   },
   "outputs": [],
   "source": []
  },
  {
   "cell_type": "markdown",
   "metadata": {
    "button": false,
    "new_sheet": false,
    "run_control": {
     "read_only": false
    }
   },
   "source": [
    "* Obtén las tablas de probabilidad condicional asociadas los nodos `granizo` y `niebla`. Ahora representa la información de cada tabla en sendos gráficos."
   ]
  },
  {
   "cell_type": "code",
   "execution_count": null,
   "metadata": {
    "button": false,
    "new_sheet": false,
    "run_control": {
     "read_only": false
    }
   },
   "outputs": [],
   "source": []
  },
  {
   "cell_type": "markdown",
   "metadata": {
    "button": false,
    "new_sheet": false,
    "run_control": {
     "read_only": false
    }
   },
   "source": [
    "## Ejercicio 3 (2.5 Puntos)\n",
    "\n",
    "Una vez construída la red hemos establecido la base de conocimiento del sistema inteligente. A continuación se puede calcular la probabilidad de cualquier variable o conjunto de variables condicionadas a cualquier evidencia que se tenga disponible para un problema dado, es decir, realizar la inferencia. "
   ]
  },
  {
   "cell_type": "markdown",
   "metadata": {
    "button": false,
    "new_sheet": false,
    "run_control": {
     "read_only": false
    }
   },
   "source": [
    "Observa la estructura del DAG y repasa la teoría y el concepto de _d-separación_. Responde razonadamente si las siguientes afirmaciones son verdaderas o falsas, utilizando únicamente la estructura del DAG y el concepto de d-separación:"
   ]
  },
  {
   "cell_type": "markdown",
   "metadata": {
    "button": false,
    "new_sheet": false,
    "run_control": {
     "read_only": false
    }
   },
   "source": [
    "+ La nieve y el granizo son fenómenos independientes a priori\n",
    "+ La nieve y el granizo son fenómenos independientes dado que haya habido tormenta\n",
    "+ La nieve en el suelo y la neblina son fenómenos independientes\n",
    "+ La nieve en el suelo y la neblina son fenómenos independientes dado que haya habido tormenta"
   ]
  },
  {
   "cell_type": "markdown",
   "metadata": {},
   "source": [
    "#### Inferencia exacta"
   ]
  },
  {
   "cell_type": "markdown",
   "metadata": {
    "button": false,
    "new_sheet": false,
    "run_control": {
     "read_only": false
    }
   },
   "source": [
    "NOTA: En este apartado se deberá aplicar la inferencia exacta. "
   ]
  },
  {
   "cell_type": "markdown",
   "metadata": {
    "button": false,
    "new_sheet": false,
    "run_control": {
     "read_only": false
    }
   },
   "source": [
    "Conocido que en un día dado se han producido tormentas, calcula cómo afecta este hecho a la probabilidad de que se produzcan los siguientes fenómenos meteorológicos:"
   ]
  },
  {
   "cell_type": "markdown",
   "metadata": {
    "button": false,
    "new_sheet": false,
    "run_control": {
     "read_only": false
    }
   },
   "source": [
    "* Que llueva, $P(lluvia = s | tormenta = s)$\n",
    "* Que haya rachas de viento superiores a 50 Km/h, $P(viento = s | tormenta = s)$\n",
    "* Que llueva y que además las rachas de viento superen los 50 Km/h, $P(lluvia = s, viento = n | tormenta = s)$"
   ]
  },
  {
   "cell_type": "markdown",
   "metadata": {
    "button": false,
    "new_sheet": false,
    "run_control": {
     "read_only": false
    }
   },
   "source": [
    "A partir de la información revelada por la red bayesiana, sabiendo que un día se producen tormentas:       "
   ]
  },
  {
   "cell_type": "markdown",
   "metadata": {
    "button": false,
    "new_sheet": false,
    "run_control": {
     "read_only": false
    }
   },
   "source": [
    "* ¿Hay mayor probabilidad de que llueva cuando se producen tormentas que cualquier otro día?\n",
    "* ¿Aumenta o disminuye la probabilidad de tener rachas de viento mayores de 50 Km/h cuando se produce tormenta? ¿Cuánto?"
   ]
  },
  {
   "cell_type": "markdown",
   "metadata": {},
   "source": [
    "#### Inferencia aproximada"
   ]
  },
  {
   "cell_type": "markdown",
   "metadata": {
    "button": false,
    "new_sheet": false,
    "run_control": {
     "read_only": false
    }
   },
   "source": [
    "Dado el ejercicio anterior, repetir ahora el ejercicio mediante inferencia aproximada, calculando para cada una de las estimaciones 100 realizaciones. Para cada una de las respuestas anteriores, representa un diagrama de cajas que represente la dispersión en la estimación de la probabilidad, marcando además el valor obtenido de manera exacta en el apartado anterior."
   ]
  },
  {
   "cell_type": "code",
   "execution_count": null,
   "metadata": {
    "button": false,
    "new_sheet": false,
    "run_control": {
     "read_only": false
    }
   },
   "outputs": [],
   "source": []
  },
  {
   "cell_type": "markdown",
   "metadata": {
    "button": false,
    "new_sheet": false,
    "run_control": {
     "read_only": false
    }
   },
   "source": [
    "## Ejercicio 4 (2.5 Puntos)"
   ]
  },
  {
   "cell_type": "markdown",
   "metadata": {
    "button": false,
    "new_sheet": false,
    "run_control": {
     "read_only": false
    }
   },
   "source": [
    "Como hemos visto, es posible realizar un aprendizaje automático de la estructura del DAG a partir de los datos, usando algoritmos específicos para ello. Durante las clases hemos visto el ejemplo del algoritmo _hill-climbing_, aunque como vimos, hay otras posibilidades. Tambien hemos visto que podemos combinar nuestra experiencia y el aprendizaje automático definiendo previamente relaciones entre variables que queremos introducir o descartar en el DAG resultante. Además, se ha explicado que existen _scores_ que sirven como criterio para evaluar la fuerza de la dependendencia entre nodos de la red y comparar la bondad de ajuste del modelo."
   ]
  },
  {
   "cell_type": "markdown",
   "metadata": {
    "button": false,
    "new_sheet": false,
    "run_control": {
     "read_only": false
    }
   },
   "source": [
    "* Evalúa la significación de los arcos dibujados por el experto en el actual DAG utilizando el estadístico $\\chi^2$. ¿Hay algún arco no significativo? ¿Cuáles son los tres pares de nodos que presentan un arco de unión más fuerte?"
   ]
  },
  {
   "cell_type": "code",
   "execution_count": null,
   "metadata": {
    "button": false,
    "new_sheet": false,
    "run_control": {
     "read_only": false
    }
   },
   "outputs": [],
   "source": []
  },
  {
   "cell_type": "markdown",
   "metadata": {
    "button": false,
    "new_sheet": false,
    "run_control": {
     "read_only": false
    }
   },
   "source": [
    "Además del algoritmo _hill-climbing_, existe otro algoritmo popular de tipo \"voraz\" denominado _Tabu search_. En `bnlearn` se encuentra implementado a traves de la función `tabu`, y los argumentos de entrada son similares a los vistos para _hill-climbing_. "
   ]
  },
  {
   "cell_type": "markdown",
   "metadata": {
    "button": false,
    "new_sheet": false,
    "run_control": {
     "read_only": false
    }
   },
   "source": [
    "* Compara el score global (BIC) obtenido por el DAG inicial, con los obtenidos por los DAG aprendidos de forma automática con los algoritmos _tabu_ y _hill-climbing_. ¿Cuál obtiene mejor score?"
   ]
  },
  {
   "cell_type": "code",
   "execution_count": null,
   "metadata": {
    "button": false,
    "new_sheet": false,
    "run_control": {
     "read_only": false
    }
   },
   "outputs": [],
   "source": []
  },
  {
   "cell_type": "markdown",
   "metadata": {
    "button": false,
    "new_sheet": false,
    "run_control": {
     "read_only": false
    }
   },
   "source": [
    "   * Ahora, para comparar el DAG original con los dos nuevos DAG tabu y hill-climbing, dibuja los tres utilizando la función `graphviz.plot`. A la luz de los grafos obtenidos en cada caso, ¿cuál te parece que recoge mejor las relaciones causa-efecto entre variables?. Hay que tener en cuenta que los arcos de un grafo __no expresan causalidad__, sino simplemente dependencia entre variables en términos de probabilidad. "
   ]
  },
  {
   "cell_type": "code",
   "execution_count": null,
   "metadata": {
    "button": false,
    "new_sheet": false,
    "run_control": {
     "read_only": false
    }
   },
   "outputs": [],
   "source": []
  },
  {
   "cell_type": "markdown",
   "metadata": {
    "button": false,
    "new_sheet": false,
    "run_control": {
     "read_only": false
    }
   },
   "source": [
    "* Ahora vuelve a aprender de forma automática el DAG usando tabu y hill-climbing, pero imponiendo las siguientes restricciones:\n",
    "     1. Los arcos `viento --> lluvia`, `tormenta --> granizo` y `nieve --> nieveSuelo` deben quedar reflejados en el DAG.\n",
    "     2. Ningún arco debe unir directamente la neblina con el granizo ni la niebla con la tormenta."
   ]
  },
  {
   "cell_type": "code",
   "execution_count": null,
   "metadata": {
    "button": false,
    "new_sheet": false,
    "run_control": {
     "read_only": false
    }
   },
   "outputs": [],
   "source": []
  },
  {
   "cell_type": "markdown",
   "metadata": {
    "button": false,
    "new_sheet": false,
    "run_control": {
     "read_only": false
    }
   },
   "source": [
    "   * Vuelve a dibujar los DAG resultantes, y a partir del BIC obtenido por cada modelo, determina cuál es el mejor de todos poniéndolos en una tabla."
   ]
  },
  {
   "cell_type": "code",
   "execution_count": null,
   "metadata": {
    "button": false,
    "new_sheet": false,
    "run_control": {
     "read_only": false
    }
   },
   "outputs": [],
   "source": []
  },
  {
   "cell_type": "markdown",
   "metadata": {
    "button": false,
    "new_sheet": false,
    "run_control": {
     "read_only": false
    }
   },
   "source": [
    "   * Computa la fuerza de la relación entre nodos de los dos últimos modelos que combinan nuestra experiencia con el aprendizaje automático. "
   ]
  },
  {
   "cell_type": "code",
   "execution_count": null,
   "metadata": {
    "button": false,
    "new_sheet": false,
    "run_control": {
     "read_only": false
    }
   },
   "outputs": [],
   "source": []
  },
  {
   "cell_type": "markdown",
   "metadata": {
    "button": false,
    "new_sheet": false,
    "run_control": {
     "read_only": false
    }
   },
   "source": [
    "   * Comenta brevemente los resultados obtenidos tras combinar nuestro conocimiento con el aprendizaje automático.   "
   ]
  },
  {
   "cell_type": "code",
   "execution_count": null,
   "metadata": {},
   "outputs": [],
   "source": []
  }
 ],
 "metadata": {
  "kernelspec": {
   "display_name": "R",
   "language": "R",
   "name": "ir"
  },
  "language_info": {
   "codemirror_mode": "r",
   "file_extension": ".r",
   "mimetype": "text/x-r-source",
   "name": "R",
   "pygments_lexer": "r",
   "version": "3.4.4"
  }
 },
 "nbformat": 4,
 "nbformat_minor": 2
}
