{
 "cells": [
  {
   "cell_type": "markdown",
   "metadata": {
    "colab_type": "text",
    "id": "pCO3ptuvZn2_"
   },
   "source": [
    "# Tarea01. Métodos kernel para clasificación\n"
   ]
  },
  {
   "cell_type": "markdown",
   "metadata": {
    "colab_type": "text",
    "id": "PqZPG182az1c"
   },
   "source": [
    "## Alumno: Gerardo de Miguel González\n",
    "\n"
   ]
  },
  {
   "cell_type": "markdown",
   "metadata": {
    "colab_type": "text",
    "id": "8c901lqUZtdE"
   },
   "source": [
    "Para esta tarea llevarás a cabo una clasificación binaria sobre un conjunto de datos de tu elección. Es preferible que uses un conjunto de datos de tu propio ámbito (estudios, trabajo, investigación, etc.) sobre el cual defines un problema de clasificación binaria. Alternativamente puedes usar un conjunto de datos público.\n"
   ]
  },
  {
   "cell_type": "markdown",
   "metadata": {
    "colab_type": "text",
    "id": "NwC__2hKZwco"
   },
   "source": [
    "### 1.   Elige un conjunto de datos para clasificación binaria. (Es decir, debe incluir etiquetas binarias.)"
   ]
  },
  {
   "cell_type": "code",
   "execution_count": 0,
   "metadata": {
    "colab": {},
    "colab_type": "code",
    "id": "YBcCsnT4-_4e"
   },
   "outputs": [],
   "source": [
    ""
   ]
  },
  {
   "cell_type": "markdown",
   "metadata": {
    "colab_type": "text",
    "id": "77dZZkDj_AnT"
   },
   "source": [
    "### 2.   Visualiza (algunos de) los datos."
   ]
  },
  {
   "cell_type": "code",
   "execution_count": 0,
   "metadata": {
    "colab": {},
    "colab_type": "code",
    "id": "3IkQ885u_FE9"
   },
   "outputs": [],
   "source": [
    ""
   ]
  },
  {
   "cell_type": "markdown",
   "metadata": {
    "colab_type": "text",
    "id": "FuQDOdBo_Fdq"
   },
   "source": [
    "### 3.   Separa los datos en un conjunto de training y otro de test."
   ]
  },
  {
   "cell_type": "code",
   "execution_count": 0,
   "metadata": {
    "colab": {},
    "colab_type": "code",
    "id": "4vwN__sR_IWf"
   },
   "outputs": [],
   "source": [
    ""
   ]
  },
  {
   "cell_type": "markdown",
   "metadata": {
    "colab_type": "text",
    "id": "_h49R8YV_Izx"
   },
   "source": [
    "### 4.  Entrena una SVM sobre los datos de training. Busca los parámetros óptimos usando GridSearchCV o Pipeline."
   ]
  },
  {
   "cell_type": "code",
   "execution_count": 0,
   "metadata": {
    "colab": {},
    "colab_type": "code",
    "id": "a2gekXaU_L59"
   },
   "outputs": [],
   "source": [
    ""
   ]
  },
  {
   "cell_type": "markdown",
   "metadata": {
    "colab_type": "text",
    "id": "dZHYafVX_MRN"
   },
   "source": [
    "### 5.   Prueba el clasificador sobre los datos de test y reporta el resultado."
   ]
  },
  {
   "cell_type": "code",
   "execution_count": 0,
   "metadata": {
    "colab": {},
    "colab_type": "code",
    "id": "x-Swgs_XZe9L"
   },
   "outputs": [],
   "source": [
    ""
   ]
  },
  {
   "cell_type": "markdown",
   "metadata": {
    "colab_type": "text",
    "id": "5aOOMeqn_Og8"
   },
   "source": [
    "Entrega el notebook en formato ipynb comprimido como zip.\n"
   ]
  }
 ],
 "metadata": {
  "colab": {
   "name": "m1970-tarea-01.ipynb",
   "provenance": [],
   "version": "0.3.2"
  },
  "kernelspec": {
   "display_name": "Python 3",
   "name": "python3"
  }
 },
 "nbformat": 4,
 "nbformat_minor": 0
}
