{
  "nbformat": 4,
  "nbformat_minor": 0,
  "metadata": {
    "colab": {
      "name": "m1970-tarea-03.ipynb",
      "version": "0.3.2",
      "provenance": [],
      "collapsed_sections": []
    },
    "kernelspec": {
      "name": "python3",
      "display_name": "Python 3"
    }
  },
  "cells": [
    {
      "metadata": {
        "id": "jFVpoRVP8OQ9",
        "colab_type": "text"
      },
      "cell_type": "markdown",
      "source": [
        "# Tarea03. Métodos kernel escalables\n"
      ]
    },
    {
      "metadata": {
        "id": "aMX2ufY89Bxu",
        "colab_type": "text"
      },
      "cell_type": "markdown",
      "source": [
        "## Alumno: Gerardo de Miguel González"
      ]
    },
    {
      "metadata": {
        "id": "YlsZBXtN8WuR",
        "colab_type": "text"
      },
      "cell_type": "markdown",
      "source": [
        "\n",
        "Para esta tarea crearás un script que predice los precios de casas usando kernel ridge regression. Los datos para esta tarea se encuentran en https://www.openml.org/d/574"
      ]
    },
    {
      "metadata": {
        "id": "qmi_CGmsbHLo",
        "colab_type": "code",
        "colab": {}
      },
      "cell_type": "code",
      "source": [
        "#::GMG::Bibliotecas necesarias\n",
        "from sklearn import datasets"
      ],
      "execution_count": 0,
      "outputs": []
    },
    {
      "metadata": {
        "id": "aoHvUQWn8aBD",
        "colab_type": "text"
      },
      "cell_type": "markdown",
      "source": [
        "\n",
        " ###  1. Carga los datos usando la función \"fetch_openml\".\n",
        "   "
      ]
    },
    {
      "metadata": {
        "id": "Q4RRwA6y7u_g",
        "colab_type": "code",
        "colab": {}
      },
      "cell_type": "code",
      "source": [
        "#::GMG::Importo los datos de la tarea\n",
        "datos = datasets.fetch_openml(data_id = 574)"
      ],
      "execution_count": 0,
      "outputs": []
    },
    {
      "metadata": {
        "id": "icaRjiGq8ea5",
        "colab_type": "text"
      },
      "cell_type": "markdown",
      "source": [
        "### 2.  Preprocesa los datos y realiza alguna visualización.\n"
      ]
    },
    {
      "metadata": {
        "id": "iqI58st39OZ9",
        "colab_type": "code",
        "colab": {
          "base_uri": "https://localhost:8080/",
          "height": 520
        },
        "outputId": "6d0a0242-6de1-4455-dfff-e3f0009932b7"
      },
      "cell_type": "code",
      "source": [
        "#::GMG::Exploro el conjunto de datos que me he bajado\n",
        "print(datos.DESCR)"
      ],
      "execution_count": 3,
      "outputs": [
        {
          "output_type": "stream",
          "text": [
            "**Author**:   \n",
            "**Source**: Unknown - Date unknown  \n",
            "**Please cite**:   \n",
            "\n",
            "This database was designed on the basis of data provided by US Census\n",
            "Bureau [http://www.census.gov] (under Lookup Access\n",
            "[http://www.census.gov/cdrom/lookup]: Summary Tape File 1). The data\n",
            "were collected as part of the 1990 US census. These are mostly counts\n",
            "cumulated at different survey levels. For the purpose of this data set\n",
            "a level State-Place was used. Data from all states was obtained. Most\n",
            "of the counts were changed into appropriate proportions.  There are 4\n",
            "different data sets obtained from this database: House(8H) House(8L)\n",
            "House(16H) House(16L) These are all concerned with predicting the\n",
            "median price of the house in the region based on demographic\n",
            "composition and a state of housing market in the region. A number in\n",
            "the name signifies the number of attributes of the data set. A\n",
            "following letter denotes a very rough approximation to the difficulty\n",
            "of the task. For Low task difficulty, more correlated attributes were\n",
            "chosen as signified by univariate smooth fit of that input on the\n",
            "target. Tasks with High difficulty have had their attributes chosen to\n",
            "make the modelling more difficult due to higher variance or lower\n",
            "correlation of the inputs to the target.\n",
            "\n",
            "Original source: DELVE repository of data.\n",
            "Source: collection of regression datasets by Luis Torgo (ltorgo@ncc.up.pt) at\n",
            "http://www.ncc.up.pt/~ltorgo/Regression/DataSets.html\n",
            "Characteristics: 22784 cases, 17 continuous attributes.\n",
            "\n",
            "Downloaded from openml.org.\n"
          ],
          "name": "stdout"
        }
      ]
    },
    {
      "metadata": {
        "id": "6Z32CBPoeFr9",
        "colab_type": "code",
        "colab": {
          "base_uri": "https://localhost:8080/",
          "height": 260
        },
        "outputId": "addc46e8-054b-40c8-a0a8-f757577fb972"
      },
      "cell_type": "code",
      "source": [
        "datos.details"
      ],
      "execution_count": 12,
      "outputs": [
        {
          "output_type": "execute_result",
          "data": {
            "text/plain": [
              "{'default_target_attribute': 'price',\n",
              " 'file_id': '52752',\n",
              " 'format': 'ARFF',\n",
              " 'id': '574',\n",
              " 'licence': 'Public',\n",
              " 'md5_checksum': 'f91f984acadd75e0c1400aaadcb94c35',\n",
              " 'name': 'house_16H',\n",
              " 'processing_date': '2018-10-03 21:22:39',\n",
              " 'status': 'active',\n",
              " 'tag': 'study_130',\n",
              " 'upload_date': '2014-10-03T21:53:19',\n",
              " 'url': 'https://www.openml.org/data/v1/download/52752/house_16H.arff',\n",
              " 'version': '1',\n",
              " 'visibility': 'public'}"
            ]
          },
          "metadata": {
            "tags": []
          },
          "execution_count": 12
        }
      ]
    },
    {
      "metadata": {
        "id": "Zpwslj7ub-b6",
        "colab_type": "code",
        "colab": {
          "base_uri": "https://localhost:8080/",
          "height": 295
        },
        "outputId": "363d1dd2-35cf-4568-b2bf-a6bad7e9a26b"
      },
      "cell_type": "code",
      "source": [
        "datos.feature_names"
      ],
      "execution_count": 15,
      "outputs": [
        {
          "output_type": "execute_result",
          "data": {
            "text/plain": [
              "['P1',\n",
              " 'P5p1',\n",
              " 'P6p2',\n",
              " 'P11p4',\n",
              " 'P14p9',\n",
              " 'P15p1',\n",
              " 'P15p3',\n",
              " 'P16p2',\n",
              " 'P18p2',\n",
              " 'P27p4',\n",
              " 'H2p2',\n",
              " 'H8p2',\n",
              " 'H10p1',\n",
              " 'H13p1',\n",
              " 'H18pA',\n",
              " 'H40p4']"
            ]
          },
          "metadata": {
            "tags": []
          },
          "execution_count": 15
        }
      ]
    },
    {
      "metadata": {
        "id": "xdkQOWWLcMUo",
        "colab_type": "code",
        "colab": {
          "base_uri": "https://localhost:8080/",
          "height": 35
        },
        "outputId": "69efe96b-66a1-4087-d637-7844a701eee6"
      },
      "cell_type": "code",
      "source": [
        "datos.target"
      ],
      "execution_count": 16,
      "outputs": [
        {
          "output_type": "execute_result",
          "data": {
            "text/plain": [
              "array([130600.,  40500.,  28700., ...,  51100.,  17200., 117700.])"
            ]
          },
          "metadata": {
            "tags": []
          },
          "execution_count": 16
        }
      ]
    },
    {
      "metadata": {
        "id": "d_YBt9iQggLw",
        "colab_type": "code",
        "colab": {
          "base_uri": "https://localhost:8080/",
          "height": 35
        },
        "outputId": "56685e6d-e743-429a-f3a5-47737fca1a23"
      },
      "cell_type": "code",
      "source": [
        "datos.target.shape"
      ],
      "execution_count": 20,
      "outputs": [
        {
          "output_type": "execute_result",
          "data": {
            "text/plain": [
              "(22784,)"
            ]
          },
          "metadata": {
            "tags": []
          },
          "execution_count": 20
        }
      ]
    },
    {
      "metadata": {
        "id": "mXSyYL-2cTqw",
        "colab_type": "code",
        "colab": {
          "base_uri": "https://localhost:8080/",
          "height": 35
        },
        "outputId": "4e284cb9-3ba5-4021-cbc1-b678e69fb394"
      },
      "cell_type": "code",
      "source": [
        "datos.data.shape"
      ],
      "execution_count": 19,
      "outputs": [
        {
          "output_type": "execute_result",
          "data": {
            "text/plain": [
              "(22784, 16)"
            ]
          },
          "metadata": {
            "tags": []
          },
          "execution_count": 19
        }
      ]
    },
    {
      "metadata": {
        "id": "u2nY3gDEdGvz",
        "colab_type": "code",
        "colab": {
          "base_uri": "https://localhost:8080/",
          "height": 381
        },
        "outputId": "12aa91ef-608c-44d7-eeb1-6d43aa370b32"
      },
      "cell_type": "code",
      "source": [
        "print(\"Top 5 records: \")\n",
        "print(datos.data[0:5])"
      ],
      "execution_count": 14,
      "outputs": [
        {
          "output_type": "stream",
          "text": [
            "Top 5 records: \n",
            "[[1.551200e+04 4.608690e-01 4.925220e-02 2.264698e-01 1.498266e-01\n",
            "  7.528365e-01 1.005670e-02 5.797286e-01 3.251300e-03 7.591180e-02\n",
            "  6.253178e-01 3.661290e-02 9.913769e-01 2.601165e-01 5.224560e-02\n",
            "  7.740586e-01]\n",
            " [1.550000e+03 4.709677e-01 2.580600e-03 1.374194e-01 9.634150e-02\n",
            "  8.625806e-01 0.000000e+00 6.951424e-01 5.025100e-03 4.355110e-02\n",
            "  6.426330e-02 3.350100e-03 9.949749e-01 2.852665e-01 6.060610e-02\n",
            "  1.428571e-01]\n",
            " [4.741000e+03 4.853406e-01 2.109000e-04 1.894115e-01 1.356557e-01\n",
            "  8.569922e-01 0.000000e+00 6.835836e-01 4.142900e-03 2.796480e-02\n",
            "  6.579580e-02 0.000000e+00 9.974107e-01 3.154330e-01 6.511630e-02\n",
            "  6.875000e-01]\n",
            " [4.670000e+02 4.989293e-01 0.000000e+00 1.006424e-01 8.547010e-02\n",
            "  9.079229e-01 0.000000e+00 7.804878e-01 6.097600e-03 1.829270e-02\n",
            "  5.747130e-02 0.000000e+00 1.000000e+00 1.494253e-01 1.395349e-01\n",
            "  1.000000e+00]\n",
            " [3.100000e+02 4.741935e-01 6.806452e-01 2.258065e-01 1.288344e-01\n",
            "  8.967742e-01 0.000000e+00 7.563025e-01 8.403400e-03 1.680670e-02\n",
            "  7.751940e-02 6.722689e-01 9.915966e-01 1.472868e-01 0.000000e+00\n",
            "  0.000000e+00]]\n"
          ],
          "name": "stdout"
        }
      ]
    },
    {
      "metadata": {
        "id": "_43IAUb48hq7",
        "colab_type": "text"
      },
      "cell_type": "markdown",
      "source": [
        "### 3.   Separa los datos en train (2/3) y test (1/3).\n"
      ]
    },
    {
      "metadata": {
        "id": "lHTGnzIm9Q22",
        "colab_type": "code",
        "colab": {}
      },
      "cell_type": "code",
      "source": [
        "#::GMG::Bibliotecas necesarias\n",
        "from sklearn.model_selection import train_test_split"
      ],
      "execution_count": 0,
      "outputs": []
    },
    {
      "metadata": {
        "id": "GSlIKfX8dnKw",
        "colab_type": "code",
        "colab": {}
      },
      "cell_type": "code",
      "source": [
        "X_train, X_test, y_train, y_test = train_test_split(datos.data, \n",
        "                                                    datos.target, \n",
        "                                                    test_size=1/3,\n",
        "                                                    random_state=1)"
      ],
      "execution_count": 0,
      "outputs": []
    },
    {
      "metadata": {
        "id": "kCTrN2T9gsit",
        "colab_type": "code",
        "colab": {
          "base_uri": "https://localhost:8080/",
          "height": 35
        },
        "outputId": "fbd7a77c-26d6-416d-db72-f2e74691f128"
      },
      "cell_type": "code",
      "source": [
        "X_train.shape"
      ],
      "execution_count": 22,
      "outputs": [
        {
          "output_type": "execute_result",
          "data": {
            "text/plain": [
              "(15189, 16)"
            ]
          },
          "metadata": {
            "tags": []
          },
          "execution_count": 22
        }
      ]
    },
    {
      "metadata": {
        "id": "0i-ntkUFg8fX",
        "colab_type": "code",
        "colab": {
          "base_uri": "https://localhost:8080/",
          "height": 35
        },
        "outputId": "c4874260-4727-4dcd-b629-13bab3b55ad9"
      },
      "cell_type": "code",
      "source": [
        "y_train.shape"
      ],
      "execution_count": 23,
      "outputs": [
        {
          "output_type": "execute_result",
          "data": {
            "text/plain": [
              "(15189,)"
            ]
          },
          "metadata": {
            "tags": []
          },
          "execution_count": 23
        }
      ]
    },
    {
      "metadata": {
        "id": "8UcfKkophBCi",
        "colab_type": "code",
        "colab": {
          "base_uri": "https://localhost:8080/",
          "height": 35
        },
        "outputId": "029c3b79-9c66-4e8b-c432-d5787e24e32f"
      },
      "cell_type": "code",
      "source": [
        "X_test.shape"
      ],
      "execution_count": 24,
      "outputs": [
        {
          "output_type": "execute_result",
          "data": {
            "text/plain": [
              "(7595, 16)"
            ]
          },
          "metadata": {
            "tags": []
          },
          "execution_count": 24
        }
      ]
    },
    {
      "metadata": {
        "id": "uU-MD38FhDTN",
        "colab_type": "code",
        "colab": {
          "base_uri": "https://localhost:8080/",
          "height": 35
        },
        "outputId": "33ebd47e-9635-498b-9481-93b9606337bf"
      },
      "cell_type": "code",
      "source": [
        "y_test.shape"
      ],
      "execution_count": 25,
      "outputs": [
        {
          "output_type": "execute_result",
          "data": {
            "text/plain": [
              "(7595,)"
            ]
          },
          "metadata": {
            "tags": []
          },
          "execution_count": 25
        }
      ]
    },
    {
      "metadata": {
        "id": "41xmlvBt8ot6",
        "colab_type": "text"
      },
      "cell_type": "markdown",
      "source": [
        "### 4.    Entrena un regresor lineal para predecir la variable target (el precio) a partir de las 16 características de entrada. Calcula el Mean Absolute Error (MAE) sobre el conjunto de test. Debería ser alrededor de 25000 EUR.\n"
      ]
    },
    {
      "metadata": {
        "id": "hU9KUBUZ9X3w",
        "colab_type": "code",
        "colab": {}
      },
      "cell_type": "code",
      "source": [
        ""
      ],
      "execution_count": 0,
      "outputs": []
    },
    {
      "metadata": {
        "id": "8R6DjUPL8tS7",
        "colab_type": "text"
      },
      "cell_type": "markdown",
      "source": [
        "### 5.   Ahora entrena el método kernel ridge regression usando la aproximación Nyström o RFF y reporta su MAE sobre el conjunto de test. "
      ]
    },
    {
      "metadata": {
        "id": "5CO0LapN9f6w",
        "colab_type": "text"
      },
      "cell_type": "markdown",
      "source": [
        "Ojo: el regresor en este caso consiste en un Pipeline que contiene la aproximación y una regresión Ridge; No contiene el método KernelRidge explícitamente. Para encontrar parámetros adecuados puedes usar el método GridSearchCv"
      ]
    },
    {
      "metadata": {
        "id": "XbMtn_8z9g27",
        "colab_type": "code",
        "colab": {}
      },
      "cell_type": "code",
      "source": [
        ""
      ],
      "execution_count": 0,
      "outputs": []
    },
    {
      "metadata": {
        "id": "u7jvZ8vz9cLo",
        "colab_type": "code",
        "colab": {}
      },
      "cell_type": "code",
      "source": [
        ""
      ],
      "execution_count": 0,
      "outputs": []
    },
    {
      "metadata": {
        "id": "FH6fpMSN84C6",
        "colab_type": "text"
      },
      "cell_type": "markdown",
      "source": [
        "Entrega el notebook en formato ipynb comprimido como zip."
      ]
    }
  ]
}