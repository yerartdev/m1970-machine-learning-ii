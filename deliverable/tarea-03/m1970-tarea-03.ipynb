{
 "cells": [
  {
   "cell_type": "markdown",
   "metadata": {
    "colab_type": "text",
    "id": "jFVpoRVP8OQ9"
   },
   "source": [
    "# Tarea03. Métodos kernel escalables\n"
   ]
  },
  {
   "cell_type": "markdown",
   "metadata": {
    "colab_type": "text",
    "id": "aMX2ufY89Bxu"
   },
   "source": [
    "## Alumno: Gerardo de Miguel González"
   ]
  },
  {
   "cell_type": "markdown",
   "metadata": {
    "colab_type": "text",
    "id": "YlsZBXtN8WuR"
   },
   "source": [
    "\n",
    "Para esta tarea crearás un script que predice los precios de casas usando kernel ridge regression. Los datos para esta tarea se encuentran en https://www.openml.org/d/574"
   ]
  },
  {
   "cell_type": "markdown",
   "metadata": {
    "colab_type": "text",
    "id": "aoHvUQWn8aBD"
   },
   "source": [
    "\n",
    " ###  1. Carga los datos usando la función \"fetch_openml\".\n",
    "   "
   ]
  },
  {
   "cell_type": "code",
   "execution_count": 0,
   "metadata": {
    "colab": {},
    "colab_type": "code",
    "id": "Q4RRwA6y7u_g"
   },
   "outputs": [],
   "source": [
    ""
   ]
  },
  {
   "cell_type": "markdown",
   "metadata": {
    "colab_type": "text",
    "id": "icaRjiGq8ea5"
   },
   "source": [
    "### 2.  Preprocesa los datos y realiza alguna visualización.\n"
   ]
  },
  {
   "cell_type": "code",
   "execution_count": 0,
   "metadata": {
    "colab": {},
    "colab_type": "code",
    "id": "iqI58st39OZ9"
   },
   "outputs": [],
   "source": [
    ""
   ]
  },
  {
   "cell_type": "markdown",
   "metadata": {
    "colab_type": "text",
    "id": "_43IAUb48hq7"
   },
   "source": [
    "### 3.   Separa los datos en train (2/3) y test (1/3).\n"
   ]
  },
  {
   "cell_type": "code",
   "execution_count": 0,
   "metadata": {
    "colab": {},
    "colab_type": "code",
    "id": "lHTGnzIm9Q22"
   },
   "outputs": [],
   "source": [
    ""
   ]
  },
  {
   "cell_type": "markdown",
   "metadata": {
    "colab_type": "text",
    "id": "41xmlvBt8ot6"
   },
   "source": [
    "### 4.    Entrena un regresor lineal para predecir la variable target (el precio) a partir de las 16 características de entrada. Calcula el Mean Absolute Error (MAE) sobre el conjunto de test. Debería ser alrededor de 25000 EUR.\n"
   ]
  },
  {
   "cell_type": "code",
   "execution_count": 0,
   "metadata": {
    "colab": {},
    "colab_type": "code",
    "id": "hU9KUBUZ9X3w"
   },
   "outputs": [],
   "source": [
    ""
   ]
  },
  {
   "cell_type": "markdown",
   "metadata": {
    "colab_type": "text",
    "id": "8R6DjUPL8tS7"
   },
   "source": [
    "### 5.   Ahora entrena el método kernel ridge regression usando la aproximación Nyström o RFF y reporta su MAE sobre el conjunto de test. "
   ]
  },
  {
   "cell_type": "markdown",
   "metadata": {
    "colab_type": "text",
    "id": "5CO0LapN9f6w"
   },
   "source": [
    "Ojo: el regresor en este caso consiste en un Pipeline que contiene la aproximación y una regresión Ridge; No contiene el método KernelRidge explícitamente. Para encontrar parámetros adecuados puedes usar el método GridSearchCv"
   ]
  },
  {
   "cell_type": "code",
   "execution_count": 0,
   "metadata": {
    "colab": {},
    "colab_type": "code",
    "id": "XbMtn_8z9g27"
   },
   "outputs": [],
   "source": [
    ""
   ]
  },
  {
   "cell_type": "code",
   "execution_count": 0,
   "metadata": {
    "colab": {},
    "colab_type": "code",
    "id": "u7jvZ8vz9cLo"
   },
   "outputs": [],
   "source": [
    ""
   ]
  },
  {
   "cell_type": "markdown",
   "metadata": {
    "colab_type": "text",
    "id": "FH6fpMSN84C6"
   },
   "source": [
    "Entrega el notebook en formato ipynb comprimido como zip."
   ]
  }
 ],
 "metadata": {
  "colab": {
   "name": "m1970-tarea-03.ipynb",
   "provenance": [],
   "version": "0.3.2"
  },
  "kernelspec": {
   "display_name": "Python 3",
   "name": "python3"
  }
 },
 "nbformat": 4,
 "nbformat_minor": 0
}
