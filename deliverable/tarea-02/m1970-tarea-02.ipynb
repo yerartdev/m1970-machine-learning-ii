{
 "cells": [
  {
   "cell_type": "markdown",
   "metadata": {
    "colab_type": "text",
    "id": "1aa4EDneaUhq"
   },
   "source": [
    "# Tarea 02. Métodos kernel para regresión\n",
    "\n"
   ]
  },
  {
   "cell_type": "markdown",
   "metadata": {
    "colab_type": "text",
    "id": "JQ3BYM879yTA"
   },
   "source": [
    "## Alumno: Gerardo de Miguel González"
   ]
  },
  {
   "cell_type": "markdown",
   "metadata": {
    "colab_type": "text",
    "id": "7GKbJWzjacbu"
   },
   "source": [
    "Para esta tarea crearás un script que predice la serie temporal del CO2 atmosférico con datos actualizados del repositorio de la National Oceanic and Atmospheric Administration https://www.esrl.noaa.gov/gmd/ccgg/trends/data.html."
   ]
  },
  {
   "cell_type": "markdown",
   "metadata": {
    "colab_type": "text",
    "id": "LVJFiS6fafDW"
   },
   "source": [
    "### 1.    Escribe una función que descargue automáticamente el fichero de datos con medidas mensuales\n"
   ]
  },
  {
   "cell_type": "markdown",
   "metadata": {
    "colab_type": "text",
    "id": "fJpisKUE-VfX"
   },
   "source": [
    "Usar la URL:\n",
    "\n",
    "ftp://aftp.cmdl.noaa.gov/products/trends/co2/co2_mm_mlo.txt \n",
    "\n",
    "y covertirlo a un formato numérico (dataframe, numpy arrays, etc.)."
   ]
  },
  {
   "cell_type": "code",
   "execution_count": 0,
   "metadata": {
    "colab": {},
    "colab_type": "code",
    "id": "hXMRakSD95-x"
   },
   "outputs": [],
   "source": [
    ""
   ]
  },
  {
   "cell_type": "markdown",
   "metadata": {
    "colab_type": "text",
    "id": "YMzKT8QI96bu"
   },
   "source": [
    "### 2.    Reusa código de la función load_mauna_loa_atmospheric_co2() de la práctica para crear las variables months y avg_ppmvs.\n"
   ]
  },
  {
   "cell_type": "code",
   "execution_count": 0,
   "metadata": {
    "colab": {},
    "colab_type": "code",
    "id": "Gobqcqd2-BEW"
   },
   "outputs": [],
   "source": [
    ""
   ]
  },
  {
   "cell_type": "markdown",
   "metadata": {
    "colab_type": "text",
    "id": "DrxJy44P-BpY"
   },
   "source": [
    "### 3.    Comprueba si los datos coinciden con los datos usados en la práctica (devueltos por load_mauna_loa_atmospheric_co2()) para las fechas en que existen datos en ambos conjuntos.\n"
   ]
  },
  {
   "cell_type": "code",
   "execution_count": 0,
   "metadata": {
    "colab": {},
    "colab_type": "code",
    "id": "_E9SGpP_-GTU"
   },
   "outputs": [],
   "source": [
    ""
   ]
  },
  {
   "cell_type": "markdown",
   "metadata": {
    "colab_type": "text",
    "id": "_mdqCaaX-G7Y"
   },
   "source": [
    "### 4.    Busca los mejores hiperparámetros del GP para predecir la serie temporal del CO2 usando datos hasta la fecha más reciente. Compara estos hiperparámetros con los que se encontraron al usar datos hasta diciembre de 2001 (los datos usados en la práctica).\n"
   ]
  },
  {
   "cell_type": "code",
   "execution_count": 0,
   "metadata": {
    "colab": {},
    "colab_type": "code",
    "id": "pV30b3G1-KxT"
   },
   "outputs": [],
   "source": [
    ""
   ]
  },
  {
   "cell_type": "markdown",
   "metadata": {
    "colab_type": "text",
    "id": "jNx3G1dt-Lgm"
   },
   "source": [
    "### 5.    Haz una figura que muestre la serie temporal completa y una predicción de los próximos 20 años, incluso bandas de confianza."
   ]
  },
  {
   "cell_type": "code",
   "execution_count": 0,
   "metadata": {
    "colab": {},
    "colab_type": "code",
    "id": "PUynp4pk-Nny"
   },
   "outputs": [],
   "source": [
    ""
   ]
  },
  {
   "cell_type": "markdown",
   "metadata": {
    "colab_type": "text",
    "id": "xFROdBDrahEe"
   },
   "source": [
    "Entrega el notebook en formato ipynb comprimido como zip."
   ]
  },
  {
   "cell_type": "code",
   "execution_count": 0,
   "metadata": {
    "colab": {},
    "colab_type": "code",
    "id": "Q_7AYL5PaS9P"
   },
   "outputs": [],
   "source": [
    ""
   ]
  }
 ],
 "metadata": {
  "colab": {
   "name": "m1970-tarea-02.ipynb",
   "provenance": [],
   "version": "0.3.2"
  },
  "kernelspec": {
   "display_name": "Python 3",
   "name": "python3"
  }
 },
 "nbformat": 4,
 "nbformat_minor": 0
}
